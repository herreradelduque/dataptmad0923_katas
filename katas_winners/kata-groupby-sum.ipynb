{
 "cells": [
  {
   "cell_type": "markdown",
   "id": "a447b8b5-f16b-451f-b45c-47746f721e1e",
   "metadata": {},
   "source": [
    "# Kata:"
   ]
  },
  {
   "cell_type": "markdown",
   "id": "c7379b61-1f04-4fa2-8865-bf3e2c83b39e",
   "metadata": {},
   "source": [
    "https://www.codewars.com/kata/5ed056c9263d2f001738b791/train/python"
   ]
  },
  {
   "cell_type": "markdown",
   "id": "5e2a4659-1d95-44fb-b92c-4646b4da4e6f",
   "metadata": {},
   "source": [
    "## Your name or team members:"
   ]
  },
  {
   "cell_type": "code",
   "execution_count": null,
   "id": "29ead553-d8b4-41aa-937f-7fd045595855",
   "metadata": {},
   "outputs": [],
   "source": [
    "Elena Luque y Guille Morato"
   ]
  },
  {
   "cell_type": "code",
   "execution_count": 78,
   "id": "565b5715",
   "metadata": {},
   "outputs": [],
   "source": [
    "import numpy as np\n",
    "import pandas as pd"
   ]
  },
  {
   "cell_type": "markdown",
   "id": "f04997cc-966d-4e06-8eb0-64ab376728f8",
   "metadata": {},
   "source": [
    "## Use the following cells to test your solution:"
   ]
  },
  {
   "cell_type": "code",
   "execution_count": 1,
   "id": "4202edc5-f719-4068-96bd-55703a8a6c27",
   "metadata": {},
   "outputs": [
    {
     "data": {
      "text/plain": [
       "list"
      ]
     },
     "execution_count": 1,
     "metadata": {},
     "output_type": "execute_result"
    }
   ],
   "source": [
    "arr = [\n",
    "  [1, 6, 2, 10],\n",
    "  [8, 9, 4, 11],\n",
    "  [9, 8, 7, 12],\n",
    "  [1, 6, 3, 20],\n",
    "]\n",
    "type(arr)"
   ]
  },
  {
   "cell_type": "code",
   "execution_count": 41,
   "id": "6c2bf48b",
   "metadata": {},
   "outputs": [
    {
     "data": {
      "text/plain": [
       "[[1, 6, 2, 10], [8, 9, 4, 11], [9, 8, 7, 12], [1, 6, 3, 20]]"
      ]
     },
     "execution_count": 41,
     "metadata": {},
     "output_type": "execute_result"
    }
   ],
   "source": [
    "arr"
   ]
  },
  {
   "cell_type": "code",
   "execution_count": null,
   "id": "e93a3504",
   "metadata": {},
   "outputs": [],
   "source": [
    "#PASO 1. VALUES"
   ]
  },
  {
   "cell_type": "code",
   "execution_count": 40,
   "id": "f9d3e1f0",
   "metadata": {},
   "outputs": [
    {
     "name": "stdout",
     "output_type": "stream",
     "text": [
      "[2, 10]\n",
      "[4, 11]\n",
      "[7, 12]\n",
      "[3, 20]\n"
     ]
    }
   ],
   "source": [
    "#Sacando los valores del diccionario en una lista, me faltaría sumar cada columna.\n",
    "for lista in arr: \n",
    "     print(lista[len(idx):])"
   ]
  },
  {
   "cell_type": "code",
   "execution_count": 66,
   "id": "71d6d132",
   "metadata": {},
   "outputs": [
    {
     "name": "stdout",
     "output_type": "stream",
     "text": [
      "[[2, 10], [4, 11], [7, 12], [3, 20]]\n"
     ]
    }
   ],
   "source": [
    "values_lista=[]\n",
    "for lista in arr:\n",
    "    suma = list(map(sum, zip(lista[len(idx):])))\n",
    "    values_lista.append(suma)\n",
    "print(values_lista)"
   ]
  },
  {
   "cell_type": "code",
   "execution_count": 61,
   "id": "6fb3e4eb",
   "metadata": {},
   "outputs": [
    {
     "name": "stdout",
     "output_type": "stream",
     "text": [
      "[[2, 10], [4, 11], [7, 12], [3, 20]]\n",
      "<class 'list'>\n"
     ]
    }
   ],
   "source": [
    "values_lista=[]\n",
    "for lista in arr: \n",
    "    values = lista[len(idx):]\n",
    "    values_lista.append(values)\n",
    "print(values_lista)\n",
    "print(type(values_lista))"
   ]
  },
  {
   "cell_type": "code",
   "execution_count": 60,
   "id": "cfe3bc38",
   "metadata": {
    "scrolled": true
   },
   "outputs": [
    {
     "ename": "TypeError",
     "evalue": "unsupported operand type(s) for +: 'int' and 'list'",
     "output_type": "error",
     "traceback": [
      "\u001b[0;31m---------------------------------------------------------------------------\u001b[0m",
      "\u001b[0;31mTypeError\u001b[0m                                 Traceback (most recent call last)",
      "Cell \u001b[0;32mIn[60], line 1\u001b[0m\n\u001b[0;32m----> 1\u001b[0m \u001b[38;5;28;43mlist\u001b[39;49m\u001b[43m(\u001b[49m\u001b[38;5;28;43mmap\u001b[39;49m\u001b[43m(\u001b[49m\u001b[38;5;28;43msum\u001b[39;49m\u001b[43m,\u001b[49m\u001b[43m \u001b[49m\u001b[38;5;28;43mzip\u001b[39;49m\u001b[43m(\u001b[49m\u001b[43mvalues_lista\u001b[49m\u001b[43m)\u001b[49m\u001b[43m)\u001b[49m\u001b[43m)\u001b[49m\n",
      "\u001b[0;31mTypeError\u001b[0m: unsupported operand type(s) for +: 'int' and 'list'"
     ]
    }
   ],
   "source": [
    "list(map(sum, zip(values_lista)))"
   ]
  },
  {
   "cell_type": "code",
   "execution_count": 26,
   "id": "fe6a24a0",
   "metadata": {},
   "outputs": [
    {
     "data": {
      "text/plain": [
       "list"
      ]
     },
     "execution_count": 26,
     "metadata": {},
     "output_type": "execute_result"
    }
   ],
   "source": [
    "idx = [0, 1]\n",
    "type(idx)"
   ]
  },
  {
   "cell_type": "code",
   "execution_count": null,
   "id": "380bcb63",
   "metadata": {},
   "outputs": [],
   "source": [
    "group(arr, idx) == {\n",
    "  (1, 6): [5, 30],      # [2 + 3, 10 + 20]\n",
    "  (8, 9): [4, 11],\n",
    "  (9, 8): [7, 12]\n",
    "}"
   ]
  },
  {
   "cell_type": "code",
   "execution_count": null,
   "id": "4a847181",
   "metadata": {},
   "outputs": [],
   "source": [
    "#PASO 2. KEYS"
   ]
  },
  {
   "cell_type": "code",
   "execution_count": 75,
   "id": "8b430982",
   "metadata": {},
   "outputs": [
    {
     "name": "stdout",
     "output_type": "stream",
     "text": [
      "[(1, 8, 9, 1), (6, 9, 8, 6)]\n"
     ]
    }
   ],
   "source": [
    "#Devuelve las columnas de los índices indicados\n",
    "result = [[row [i] for i in idx] for row in arr]\n",
    "columna_indices = list(zip(*result))\n",
    "print(columna_indices)"
   ]
  },
  {
   "cell_type": "code",
   "execution_count": 77,
   "id": "18b3e5c6",
   "metadata": {},
   "outputs": [
    {
     "name": "stdout",
     "output_type": "stream",
     "text": [
      "[(1, 8, 9, 1), (6, 9, 8, 6)]\n"
     ]
    }
   ],
   "source": [
    "#Quieres devolver los índices únicos\n",
    "unique_idx = []\n",
    "for number in columna_indices:\n",
    "    if number not in unique_idx:\n",
    "        unique_idx.append(number)\n",
    "print(unique_idx)"
   ]
  },
  {
   "cell_type": "code",
   "execution_count": null,
   "id": "5505a8cc",
   "metadata": {},
   "outputs": [],
   "source": [
    "unique_idx = []\n",
    "for [number in lis] for lista in columna_indices:\n",
    "    if number not in unique_idx:\n",
    "        unique_idx.append(number)\n",
    "print(unique_idx)"
   ]
  },
  {
   "cell_type": "code",
   "execution_count": null,
   "id": "28ac2eaf",
   "metadata": {},
   "outputs": [],
   "source": [
    "#PASO 3. HACER DICCIONARIO\n",
    "d1 = dict()"
   ]
  },
  {
   "cell_type": "code",
   "execution_count": null,
   "id": "6f898a20",
   "metadata": {},
   "outputs": [],
   "source": [
    "arr = \n",
    "[\n",
    "[1,1,1],\n",
    "[1,2,1],\n",
    "[1,3,1]\n",
    "],\n",
    "\n",
    "idx = [0,2]\n",
    "\n",
    "Agrupo por las columnas 0 y 2:\n",
    "    \n",
    "    0-2\n",
    "-----------\n",
    "    1-1\n",
    "    1-1\n",
    "    1-1\n",
    "-------> (1,1)\n",
    "    \n",
    "Sumo por las columnas: 1\n",
    "1,2,3\n",
    "\n",
    "----> 1+2+3 = 6\n",
    "\n",
    "sol\n",
    "{(1,1): [6]}"
   ]
  },
  {
   "cell_type": "code",
   "execution_count": null,
   "id": "ba0c7498",
   "metadata": {},
   "outputs": [],
   "source": [
    "#Primera parte de la solución de la kata"
   ]
  },
  {
   "cell_type": "code",
   "execution_count": null,
   "id": "30106fc2",
   "metadata": {},
   "outputs": [],
   "source": [
    "# Las columnas de agregación ya las tengo por definición\n",
    "arr"
   ]
  },
  {
   "cell_type": "code",
   "execution_count": null,
   "id": "cb992b4f",
   "metadata": {},
   "outputs": [],
   "source": [
    "arr[0]"
   ]
  },
  {
   "cell_type": "code",
   "execution_count": null,
   "id": "5b42d486",
   "metadata": {},
   "outputs": [],
   "source": [
    "len(arr[0])"
   ]
  },
  {
   "cell_type": "code",
   "execution_count": null,
   "id": "7e8e7423",
   "metadata": {},
   "outputs": [],
   "source": [
    "range(0,3)"
   ]
  },
  {
   "cell_type": "code",
   "execution_count": null,
   "id": "8e9f483c",
   "metadata": {},
   "outputs": [],
   "source": [
    "# Como selecciono las columnas que no son por las que tengo que agregar. List comprehension o método alternativo.\n",
    "not_idx = []\n",
    "for n in range(len(arr[0])):\n",
    "    print(f\"Entra por el for (n) ---> {n}\")\n",
    "    if n not in idx:\n",
    "        print(f\"  **Entra por el if (n) ---> {n}\")\n",
    "        not_idx.append(n)\n",
    "        "
   ]
  },
  {
   "cell_type": "code",
   "execution_count": null,
   "id": "e4d51e44",
   "metadata": {},
   "outputs": [],
   "source": [
    "# Segunda parte de la solución de la kata"
   ]
  },
  {
   "cell_type": "code",
   "execution_count": null,
   "id": "97bc7d34",
   "metadata": {},
   "outputs": [],
   "source": [
    "#Creo un diccionario vacío, y para cada elemento de array, para cada una de esas listas, voy a hacer una tupla con cada uno de esos valores y lo meto\n",
    "\n",
    "dict_keys = []\n",
    "for i in arr:\n",
    "    dict_keys.append(tupple([i[x] for x in idx]))"
   ]
  },
  {
   "cell_type": "code",
   "execution_count": null,
   "id": "93aad3fd",
   "metadata": {},
   "outputs": [],
   "source": [
    "#3.\n",
    "# Quitar duplicados\n",
    "uniq_keys = list(set(dic_keys))   #si tengo un set es porque no tengo duplicados, y lo vuelvo a transformar a listas"
   ]
  },
  {
   "cell_type": "code",
   "execution_count": null,
   "id": "5632738b",
   "metadata": {},
   "outputs": [],
   "source": [
    "#4.\n",
    "\n",
    "#Crear una lista por los valores que tengo que sumar de cada fila.\n",
    "\n",
    "dict_values = [[i[x] for x in not_idx] for i in arr]\n",
    "\n",
    "#Regla para list comprehension - Hago una lista, hasta el primer for, es el return de abajo. Luego for x in esto for x in esto, esto es un caso anidado\n"
   ]
  },
  {
   "cell_type": "code",
   "execution_count": null,
   "id": "bc876b0b",
   "metadata": {},
   "outputs": [],
   "source": [
    "#"
   ]
  },
  {
   "cell_type": "markdown",
   "id": "5e5948ae-bfb0-4aa7-8cc0-83970accb44a",
   "metadata": {},
   "source": [
    "## Copy your submited solution here:"
   ]
  },
  {
   "cell_type": "code",
   "execution_count": null,
   "id": "de8f88a1-897b-4b92-8c9f-e04d16cec21a",
   "metadata": {},
   "outputs": [],
   "source": []
  }
 ],
 "metadata": {
  "kernelspec": {
   "display_name": "Python (m1_env)",
   "language": "python",
   "name": "m1_env"
  },
  "language_info": {
   "codemirror_mode": {
    "name": "ipython",
    "version": 3
   },
   "file_extension": ".py",
   "mimetype": "text/x-python",
   "name": "python",
   "nbconvert_exporter": "python",
   "pygments_lexer": "ipython3",
   "version": "3.10.13"
  }
 },
 "nbformat": 4,
 "nbformat_minor": 5
}
