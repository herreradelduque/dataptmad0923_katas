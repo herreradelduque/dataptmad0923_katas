{
 "cells": [
  {
   "cell_type": "markdown",
   "id": "a447b8b5-f16b-451f-b45c-47746f721e1e",
   "metadata": {},
   "source": [
    "# Kata:"
   ]
  },
  {
   "cell_type": "markdown",
   "id": "c7379b61-1f04-4fa2-8865-bf3e2c83b39e",
   "metadata": {},
   "source": [
    "https://www.codewars.com/kata/5ed056c9263d2f001738b791/train/python"
   ]
  },
  {
   "cell_type": "markdown",
   "id": "5e2a4659-1d95-44fb-b92c-4646b4da4e6f",
   "metadata": {},
   "source": [
    "## Your name or team members:"
   ]
  },
  {
   "cell_type": "code",
   "execution_count": 2,
   "id": "29ead553-d8b4-41aa-937f-7fd045595855",
   "metadata": {},
   "outputs": [],
   "source": [
    "# Tere and Andrew"
   ]
  },
  {
   "cell_type": "markdown",
   "id": "f04997cc-966d-4e06-8eb0-64ab376728f8",
   "metadata": {},
   "source": [
    "## Use the following cells to test your solution:"
   ]
  },
  {
   "cell_type": "code",
   "execution_count": null,
   "id": "4202edc5-f719-4068-96bd-55703a8a6c27",
   "metadata": {},
   "outputs": [],
   "source": [
    "def group(arr, idx):\n",
    "    return "
   ]
  },
  {
   "cell_type": "code",
   "execution_count": 3,
   "id": "1c1f6098-25a1-4805-a249-b833ca4a66a0",
   "metadata": {},
   "outputs": [
    {
     "data": {
      "text/plain": [
       "'idx = [0, 1]\\n\\ngroup(arr, idx) == {\\n  (1, 6): [5, 30],      # [2 + 3, 10 + 20]\\n  (8, 9): [4, 11],\\n  (9, 8): [7, 12]\\n}\\n'"
      ]
     },
     "execution_count": 3,
     "metadata": {},
     "output_type": "execute_result"
    }
   ],
   "source": [
    "arr = [\n",
    "  [1, 6, 2, 10],\n",
    "  [8, 9, 4, 11],\n",
    "  [9, 8, 7, 12],\n",
    "  [1, 6, 3, 20],\n",
    "]\n",
    "\n",
    "idx = [0, 1]       # Indican que quieren que agregue por la columna 0 y por la columna 1\n",
    "\"\"\"\n",
    "group(arr, idx) == {    # Están pidiendo un diccionario, que sean las keys los valores de agregación y los values los \n",
    "                        # resultados de la agregación\n",
    "  (1, 6): [5, 30],      # [2 + 3, 10 + 20]\n",
    "  (8, 9): [4, 11],\n",
    "  (9, 8): [7, 12]\n",
    "}\n",
    "\"\"\""
   ]
  },
  {
   "cell_type": "code",
   "execution_count": 31,
   "id": "2e24fe5e",
   "metadata": {},
   "outputs": [
    {
     "name": "stdout",
     "output_type": "stream",
     "text": [
      "   0  1  2   3\n",
      "0  1  6  5  30\n",
      "1  8  9  4  11\n",
      "2  9  8  7  12\n"
     ]
    }
   ],
   "source": [
    "arr2 = [\n",
    "  [1, 6, 5, 30],\n",
    "  [8, 9, 4, 11],\n",
    "  [9, 8, 7, 12]]\n",
    "\n",
    "df2 = pd.DataFrame(arr2)\n",
    "print(df2)"
   ]
  },
  {
   "cell_type": "code",
   "execution_count": 1,
   "id": "db659e6d",
   "metadata": {},
   "outputs": [],
   "source": [
    "import pandas as pd"
   ]
  },
  {
   "cell_type": "code",
   "execution_count": 38,
   "id": "37b74ad5",
   "metadata": {},
   "outputs": [
    {
     "name": "stdout",
     "output_type": "stream",
     "text": [
      "   0  1  2   3\n",
      "0  1  6  2  10\n",
      "1  8  9  4  11\n",
      "2  9  8  7  12\n",
      "3  1  6  3  20\n"
     ]
    }
   ],
   "source": [
    "import pandas as pd\n",
    "\n",
    "df = pd.DataFrame(arr)\n",
    "print(df)"
   ]
  },
  {
   "cell_type": "code",
   "execution_count": 5,
   "id": "8b684fae",
   "metadata": {},
   "outputs": [
    {
     "name": "stdout",
     "output_type": "stream",
     "text": [
      "   0  1  2   3\n",
      "0  1  6  2  10\n",
      "1  8  9  4  11\n",
      "2  9  8  7  12\n",
      "3  1  6  3  20\n"
     ]
    }
   ],
   "source": [
    "#df.columns = ['0', '1', '2', '3']\n",
    "print(df)"
   ]
  },
  {
   "cell_type": "code",
   "execution_count": 6,
   "id": "5c30c050",
   "metadata": {},
   "outputs": [],
   "source": [
    "idx = [0, 1]"
   ]
  },
  {
   "cell_type": "code",
   "execution_count": 40,
   "id": "bd735fbb",
   "metadata": {},
   "outputs": [
    {
     "name": "stdout",
     "output_type": "stream",
     "text": [
      "   0  1  2   3\n",
      "0  1  6  5  30\n",
      "1  8  9  4  11\n",
      "2  9  8  7  12\n"
     ]
    }
   ],
   "source": [
    "df1 = df.groupby([0, 1], as_index=False).agg({2: 'sum', 3: 'sum'})\n",
    "#df2 = df.groupby(['01', '02'], as_index=False).agg({'03': 'sum'})\n",
    "print(df1)\n"
   ]
  },
  {
   "cell_type": "code",
   "execution_count": 37,
   "id": "f4c8e2b5",
   "metadata": {},
   "outputs": [
    {
     "name": "stdout",
     "output_type": "stream",
     "text": [
      "{(1, 6): [5, 30], (8, 9): [4, 11], (9, 8): [7, 12]}\n"
     ]
    }
   ],
   "source": [
    "empty_dict = {}\n",
    "\n",
    "for indice, fila in df1.iterrows():      # .iterrows() itera un ciclo a través de cada fila y columna\n",
    "                                        # Más info: https://pythonguia.com/python-pandas-dataframe-iterrows/\n",
    "    key = (fila[0], fila[1])\n",
    "    value = [fila[2], fila[3]]\n",
    "    empty_dict[key] = value\n",
    "    \n",
    "print(empty_dict)"
   ]
  },
  {
   "cell_type": "code",
   "execution_count": null,
   "id": "a1b67545",
   "metadata": {},
   "outputs": [],
   "source": [
    "def group(arr, idx):     # No funciona\n",
    "    df = pd.DataFrame(arr)\n",
    "    df1 = df.groupby(['0', '1'], as_index=False).agg({'2': 'sum', '3': 'sum'})\n",
    "    empty_dict = {}\n",
    "    for indice, fila in df1.iterrows():\n",
    "        key = (fila[0], fila[1])\n",
    "        value = (fila[2], fila[3])\n",
    "        empty_dict[key] = value\n",
    "    return empty_dict"
   ]
  },
  {
   "cell_type": "code",
   "execution_count": null,
   "id": "1097089a",
   "metadata": {},
   "outputs": [],
   "source": []
  },
  {
   "cell_type": "code",
   "execution_count": null,
   "id": "4f66b123",
   "metadata": {},
   "outputs": [],
   "source": []
  },
  {
   "cell_type": "code",
   "execution_count": null,
   "id": "8a0c7e63",
   "metadata": {},
   "outputs": [],
   "source": []
  },
  {
   "cell_type": "code",
   "execution_count": 25,
   "id": "a2dabcb2",
   "metadata": {},
   "outputs": [],
   "source": [
    "dict = {'0, 1': '5, 30',\n",
    "       '1, 8': '4, 11',\n",
    "       '9, 8': '7, 12'}"
   ]
  },
  {
   "cell_type": "code",
   "execution_count": 12,
   "id": "2020e1b5",
   "metadata": {},
   "outputs": [
    {
     "data": {
      "text/plain": [
       "dict_keys(['0, 1', '1, 8', '9, 8'])"
      ]
     },
     "execution_count": 12,
     "metadata": {},
     "output_type": "execute_result"
    }
   ],
   "source": [
    "dict.keys()"
   ]
  },
  {
   "cell_type": "code",
   "execution_count": null,
   "id": "b0456ed3",
   "metadata": {},
   "outputs": [],
   "source": [
    "por cada key, crea una tupla con las keys"
   ]
  },
  {
   "cell_type": "code",
   "execution_count": 16,
   "id": "4a567786",
   "metadata": {},
   "outputs": [
    {
     "data": {
      "text/plain": [
       "dict_values(['5, 30', ' 4, 11', '7, 12'])"
      ]
     },
     "execution_count": 16,
     "metadata": {},
     "output_type": "execute_result"
    }
   ],
   "source": [
    "dict.values()"
   ]
  },
  {
   "cell_type": "code",
   "execution_count": 17,
   "id": "c9af30be",
   "metadata": {},
   "outputs": [
    {
     "ename": "SyntaxError",
     "evalue": "invalid syntax (629949938.py, line 1)",
     "output_type": "error",
     "traceback": [
      "\u001b[1;36m  Cell \u001b[1;32mIn[17], line 1\u001b[1;36m\u001b[0m\n\u001b[1;33m    por cada valor, crea una lista con los valores\u001b[0m\n\u001b[1;37m        ^\u001b[0m\n\u001b[1;31mSyntaxError\u001b[0m\u001b[1;31m:\u001b[0m invalid syntax\n"
     ]
    }
   ],
   "source": [
    "por cada valor, crea una lista con los valores"
   ]
  },
  {
   "cell_type": "code",
   "execution_count": 23,
   "id": "a74cdc34",
   "metadata": {},
   "outputs": [
    {
     "name": "stdout",
     "output_type": "stream",
     "text": [
      "0, 1\n",
      "1, 8\n",
      "9, 8\n"
     ]
    }
   ],
   "source": [
    "for key in dict.keys():\n",
    "    print(key)      \n"
   ]
  },
  {
   "cell_type": "code",
   "execution_count": 28,
   "id": "f854f25b",
   "metadata": {},
   "outputs": [
    {
     "name": "stdout",
     "output_type": "stream",
     "text": [
      "5, 30\n",
      "4, 11\n",
      "7, 12\n"
     ]
    }
   ],
   "source": [
    "for value in dict.values():\n",
    "    print(value)"
   ]
  },
  {
   "cell_type": "code",
   "execution_count": null,
   "id": "39c2bee1",
   "metadata": {},
   "outputs": [],
   "source": [
    "# Construir el diccionario en base a las localizaciones del dataframe"
   ]
  },
  {
   "cell_type": "code",
   "execution_count": 29,
   "id": "6e50c006",
   "metadata": {},
   "outputs": [
    {
     "data": {
      "text/plain": [
       "0    1\n",
       "1    6\n",
       "Name: 0, dtype: int64"
      ]
     },
     "execution_count": 29,
     "metadata": {},
     "output_type": "execute_result"
    }
   ],
   "source": [
    "df1.iloc[0,:2]"
   ]
  },
  {
   "cell_type": "code",
   "execution_count": null,
   "id": "48f0f100",
   "metadata": {},
   "outputs": [],
   "source": [
    "por cada fila en el dataframe, crea "
   ]
  },
  {
   "cell_type": "code",
   "execution_count": 36,
   "id": "dacd1a31",
   "metadata": {},
   "outputs": [
    {
     "name": "stdout",
     "output_type": "stream",
     "text": [
      "{(1, 6): [3, 20], (8, 9): [4, 11], (9, 8): [7, 12]}\n"
     ]
    }
   ],
   "source": [
    "empty_dict = {}\n",
    "\n",
    "for indice, fila in df.iterrows():      # .iterrows() itera un ciclo a través de cada fila y columna\n",
    "                                        # Más info: https://pythonguia.com/python-pandas-dataframe-iterrows/\n",
    "    key = (fila[0], fila[1])\n",
    "    value = [fila[2], fila[3]]\n",
    "    empty_dict[key] = value\n",
    "    \n",
    "print(empty_dict)"
   ]
  },
  {
   "cell_type": "code",
   "execution_count": 34,
   "id": "c5a2a7ec",
   "metadata": {},
   "outputs": [
    {
     "name": "stdout",
     "output_type": "stream",
     "text": [
      "{(1, 6): [3, 20], (8, 9): [4, 11], (9, 8): [7, 12]}\n"
     ]
    }
   ],
   "source": [
    "result_dict = {}\n",
    "for index, row in df.iterrows():\n",
    "    # Usar los dos primeros elementos de cada fila como clave (una tupla)\n",
    "    key = (row[0], row[1])\n",
    "    \n",
    "    # Usar el resto de elementos de cada fila como valor (una lista)\n",
    "    value = [row[2], row[3]]\n",
    "    \n",
    "    # Agregar al diccionario\n",
    "    result_dict[key] = value\n",
    "\n",
    "# Imprimir el diccionario resultante\n",
    "print(result_dict)"
   ]
  },
  {
   "cell_type": "code",
   "execution_count": null,
   "id": "b59c4dcd",
   "metadata": {},
   "outputs": [],
   "source": [
    "def group(arr, idx):\n",
    "    df = pd.DataFrame(arr)\n",
    "    df1 = df.groupby(['0', '1'], as_index=False).agg({'2': 'sum', '3': 'sum'})\n",
    "    return df"
   ]
  },
  {
   "cell_type": "code",
   "execution_count": 30,
   "id": "4c65c94a",
   "metadata": {},
   "outputs": [
    {
     "name": "stdout",
     "output_type": "stream",
     "text": [
      "   0  1  2   3\n",
      "0  1  6  5  30\n",
      "1  8  9  4  11\n",
      "2  9  8  7  12\n"
     ]
    }
   ],
   "source": [
    "df_b = pd.DataFrame(arr)\n",
    "df_b = df.groupby(['0', '1'], as_index=False).agg({'2': 'sum', '3': 'sum'})\n",
    "print(df_b)"
   ]
  },
  {
   "cell_type": "code",
   "execution_count": 43,
   "id": "7308670f",
   "metadata": {},
   "outputs": [
    {
     "name": "stdout",
     "output_type": "stream",
     "text": [
      "(1, 6)\n",
      "(1, 6)\n",
      "(1, 6)\n",
      "(1, 6)\n"
     ]
    }
   ],
   "source": [
    "for i in df1:\n",
    "    print (tuple(df1.iloc[0,:2]))"
   ]
  },
  {
   "cell_type": "code",
   "execution_count": 44,
   "id": "0506fed3",
   "metadata": {},
   "outputs": [
    {
     "name": "stdout",
     "output_type": "stream",
     "text": [
      "   0  1  2   3\n",
      "0  1  6  5  30\n",
      "1  8  9  4  11\n",
      "2  9  8  7  12\n"
     ]
    }
   ],
   "source": [
    "print (df1)"
   ]
  },
  {
   "cell_type": "code",
   "execution_count": null,
   "id": "520a21e2",
   "metadata": {},
   "outputs": [],
   "source": [
    "dict_empty = {}\n",
    "\n",
    "dict_empty[tuple(df1.iloc[0,:2])] = "
   ]
  },
  {
   "cell_type": "code",
   "execution_count": 31,
   "id": "d60ed50c",
   "metadata": {},
   "outputs": [
    {
     "ename": "AttributeError",
     "evalue": "'dict' object attribute 'keys' is read-only",
     "output_type": "error",
     "traceback": [
      "\u001b[1;31m---------------------------------------------------------------------------\u001b[0m",
      "\u001b[1;31mAttributeError\u001b[0m                            Traceback (most recent call last)",
      "Cell \u001b[1;32mIn[31], line 2\u001b[0m\n\u001b[0;32m      1\u001b[0m dict_empty \u001b[38;5;241m=\u001b[39m {}\n\u001b[1;32m----> 2\u001b[0m dict_empty\u001b[38;5;241m.\u001b[39mkeys \u001b[38;5;241m=\u001b[39m df\u001b[38;5;241m.\u001b[39miloc[:,:\u001b[38;5;241m3\u001b[39m]\n\u001b[0;32m      4\u001b[0m \u001b[38;5;28mprint\u001b[39m(dict_empty)\n",
      "\u001b[1;31mAttributeError\u001b[0m: 'dict' object attribute 'keys' is read-only"
     ]
    }
   ],
   "source": [
    "dict_empty = {}\n",
    "dict_empty.keys = df1.iloc[:,:3]\n",
    "\n",
    "# Prueba\n",
    "dictionary = {'A': 1, 'B': 2, 'C': 3}\n",
    "    key, value = 'D', 4\n",
    "\n",
    "print(dict_empty)"
   ]
  },
  {
   "cell_type": "code",
   "execution_count": null,
   "id": "d58f66f9",
   "metadata": {},
   "outputs": [],
   "source": []
  },
  {
   "cell_type": "code",
   "execution_count": null,
   "id": "348a70bf",
   "metadata": {},
   "outputs": [],
   "source": []
  },
  {
   "cell_type": "code",
   "execution_count": null,
   "id": "d992606f",
   "metadata": {},
   "outputs": [],
   "source": []
  },
  {
   "cell_type": "code",
   "execution_count": null,
   "id": "362157d3",
   "metadata": {},
   "outputs": [],
   "source": []
  },
  {
   "cell_type": "code",
   "execution_count": null,
   "id": "4836914a",
   "metadata": {},
   "outputs": [],
   "source": []
  },
  {
   "cell_type": "code",
   "execution_count": null,
   "id": "d26d67c6",
   "metadata": {},
   "outputs": [],
   "source": []
  },
  {
   "cell_type": "markdown",
   "id": "5e5948ae-bfb0-4aa7-8cc0-83970accb44a",
   "metadata": {},
   "source": [
    "## Copy your submited solution here:"
   ]
  },
  {
   "cell_type": "code",
   "execution_count": null,
   "id": "de8f88a1-897b-4b92-8c9f-e04d16cec21a",
   "metadata": {},
   "outputs": [],
   "source": []
  }
 ],
 "metadata": {
  "kernelspec": {
   "display_name": "Python (m1_env)",
   "language": "python",
   "name": "m1_env"
  },
  "language_info": {
   "codemirror_mode": {
    "name": "ipython",
    "version": 3
   },
   "file_extension": ".py",
   "mimetype": "text/x-python",
   "name": "python",
   "nbconvert_exporter": "python",
   "pygments_lexer": "ipython3",
   "version": "3.10.13"
  }
 },
 "nbformat": 4,
 "nbformat_minor": 5
}
