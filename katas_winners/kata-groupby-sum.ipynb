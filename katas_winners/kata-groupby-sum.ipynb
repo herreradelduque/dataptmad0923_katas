{
 "cells": [
  {
   "cell_type": "markdown",
   "id": "a447b8b5-f16b-451f-b45c-47746f721e1e",
   "metadata": {},
   "source": [
    "# Kata:"
   ]
  },
  {
   "cell_type": "markdown",
   "id": "c7379b61-1f04-4fa2-8865-bf3e2c83b39e",
   "metadata": {},
   "source": [
    "https://www.codewars.com/kata/5ed056c9263d2f001738b791/train/python"
   ]
  },
  {
   "cell_type": "markdown",
   "id": "5e2a4659-1d95-44fb-b92c-4646b4da4e6f",
   "metadata": {},
   "source": [
    "## Your name or team members:"
   ]
  },
  {
   "cell_type": "code",
   "execution_count": null,
   "id": "29ead553-d8b4-41aa-937f-7fd045595855",
   "metadata": {},
   "outputs": [],
   "source": [
    "Elena Luque, Guille Morato"
   ]
  },
  {
   "cell_type": "markdown",
   "id": "f04997cc-966d-4e06-8eb0-64ab376728f8",
   "metadata": {},
   "source": [
    "## Use the following cells to test your solution:"
   ]
  },
  {
   "cell_type": "code",
   "execution_count": null,
   "id": "4202edc5-f719-4068-96bd-55703a8a6c27",
   "metadata": {},
   "outputs": [],
   "source": [
    "a = [[1,2,3],[4,5,6],[6,7,8]]\n",
    "l =[ 0,1,2]"
   ]
  },
  {
   "cell_type": "code",
   "execution_count": null,
   "id": "1c1f6098-25a1-4805-a249-b833ca4a66a0",
   "metadata": {},
   "outputs": [],
   "source": [
    "import pandas as pd\n",
    "\n",
    "\n",
    "def group(arr, idx):\n",
    "    arr = pd.DataFrame(arr)\n",
    "    res = {}\n",
    "    sums = []\n",
    "    df = arr.groupby(idx).sum()\n",
    "    for row in df:\n",
    "        res[df.index.get_value(key = row)] = [df.loc[row,col] for col in df.columns]\n",
    "    return res"
   ]
  },
  {
   "cell_type": "code",
   "execution_count": null,
   "id": "16aeb3fb",
   "metadata": {},
   "outputs": [],
   "source": [
    "group(a,l)\n",
    "arr = pd.DataFrame(a)\n",
    "res = {}\n",
    "sums = []\n",
    "df = arr.groupby(l).sum()\n",
    "for row in df:\n",
    "        res[df.index.get_value(key = row)] = [df.loc[row,col] for col in df.columns]\n",
    "list(df.index)"
   ]
  },
  {
   "cell_type": "markdown",
   "id": "5e5948ae-bfb0-4aa7-8cc0-83970accb44a",
   "metadata": {},
   "source": [
    "## Copy your submited solution here:"
   ]
  },
  {
   "cell_type": "code",
   "execution_count": 1,
   "id": "de8f88a1-897b-4b92-8c9f-e04d16cec21a",
   "metadata": {},
   "outputs": [],
   "source": [
    "#Solucion con pandas\n",
    "import pandas as pd\n",
    "\n",
    "\n",
    "def group(arr, idx):\n",
    "    arr = pd.DataFrame(arr) # Transformamos la lista(array) en un DataFrame\n",
    "    res = {} #Creamos un diccionario para contener la respuesta\n",
    "    df = arr.groupby(idx).sum() # agrupamos el Dataframe por las columnas especificadas en index.\n",
    "    #Para cada columna no incluida en idx se suman todos los valores(para las filas valores iguales para las columnas especificadas en idx)\n",
    "    index = list(df.index)# creamos una lista con todos los indices de la tabla agrupada\n",
    "    if len(idx) == 1:# Si solo hay un valor en idx \n",
    "        index = [(x,) for x in index]#creamos una tupla con cada valor de los indices del df agrupado\n",
    "    for i in index:#para cada valor de los indices del df agrupado\n",
    "        res[i] = [df.loc[i,col] for col in df.columns] #creamos una entrada en el diccionario donde el key es cada valor del indice y el value\n",
    "        #una lista con el valor de cada columna agrupada por el indice especificado en la key\n",
    "    return res#el resultado es el diccionario resultante"
   ]
  },
  {
   "cell_type": "code",
   "execution_count": 2,
   "id": "0bdac3c4",
   "metadata": {},
   "outputs": [
    {
     "data": {
      "text/plain": [
       "{(1,): [15, 18]}"
      ]
     },
     "execution_count": 2,
     "metadata": {},
     "output_type": "execute_result"
    }
   ],
   "source": [
    "group([[1,2,3],[1,5,6],[1,8,9]],[0])"
   ]
  },
  {
   "cell_type": "code",
   "execution_count": 3,
   "id": "865a7e79",
   "metadata": {},
   "outputs": [
    {
     "data": {
      "text/plain": [
       "{(1, 1): [6]}"
      ]
     },
     "execution_count": 3,
     "metadata": {},
     "output_type": "execute_result"
    }
   ],
   "source": [
    "group([[1,1,1],[1,2,1],[1,3,1]],[0,2])"
   ]
  },
  {
   "cell_type": "code",
   "execution_count": 4,
   "id": "164fefa9",
   "metadata": {},
   "outputs": [
    {
     "data": {
      "text/plain": [
       "{(1, 2, 3): [], (4, 5, 6): [], (6, 7, 8): []}"
      ]
     },
     "execution_count": 4,
     "metadata": {},
     "output_type": "execute_result"
    }
   ],
   "source": [
    "group([[1,2,3],[4,5,6],[6,7,8]],[0,1,2])"
   ]
  }
 ],
 "metadata": {
  "kernelspec": {
   "display_name": "Python (m1_env)",
   "language": "python",
   "name": "m1_env"
  },
  "language_info": {
   "codemirror_mode": {
    "name": "ipython",
    "version": 3
   },
   "file_extension": ".py",
   "mimetype": "text/x-python",
   "name": "python",
   "nbconvert_exporter": "python",
   "pygments_lexer": "ipython3",
   "version": "3.10.13"
  }
 },
 "nbformat": 4,
 "nbformat_minor": 5
}
