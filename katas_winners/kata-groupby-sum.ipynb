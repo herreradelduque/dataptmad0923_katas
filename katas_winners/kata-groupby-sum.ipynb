{
 "cells": [
  {
   "cell_type": "markdown",
   "id": "a447b8b5-f16b-451f-b45c-47746f721e1e",
   "metadata": {},
   "source": [
    "# Kata:"
   ]
  },
  {
   "cell_type": "markdown",
   "id": "c7379b61-1f04-4fa2-8865-bf3e2c83b39e",
   "metadata": {},
   "source": [
    "https://www.codewars.com/kata/5ed056c9263d2f001738b791/train/python"
   ]
  },
  {
   "cell_type": "markdown",
   "id": "5e2a4659-1d95-44fb-b92c-4646b4da4e6f",
   "metadata": {},
   "source": [
    "## Your name or team members:"
   ]
  },
  {
   "cell_type": "code",
   "execution_count": null,
   "id": "29ead553-d8b4-41aa-937f-7fd045595855",
   "metadata": {},
   "outputs": [],
   "source": [
    "Ana Aguiar"
   ]
  },
  {
   "cell_type": "markdown",
   "id": "f04997cc-966d-4e06-8eb0-64ab376728f8",
   "metadata": {},
   "source": [
    "## Use the following cells to test your solution:"
   ]
  },
  {
   "cell_type": "code",
   "execution_count": 94,
   "id": "4202edc5-f719-4068-96bd-55703a8a6c27",
   "metadata": {},
   "outputs": [],
   "source": [
    "def group(arr, idx):\n",
    "    dict1 = {}\n",
    "    tuplelist = []\n",
    "    for t in range(len(idx)):\n",
    "        if len(idx) == 0:\n",
    "            tuple_list = tuple(tuplelist)\n",
    "        else:\n",
    "            tuplelist.append(t)\n",
    "            tuple_key =tuple(tuplelist) \n",
    "        if tuple_key in dict1:\n",
    "            for x, value in enumerate(t):\n",
    "                if t not in idx:\n",
    "                    dict1[tuple_key][i - len(idx)] += value\n",
    "        else:\n",
    "            dict1[tuple_key] = [t[x] for x in range(len(t)) if t not in idx]\n",
    "    \n",
    "    return dict1\n",
    "           "
   ]
  },
  {
   "cell_type": "code",
   "execution_count": 92,
   "id": "1c1f6098-25a1-4805-a249-b833ca4a66a0",
   "metadata": {
    "scrolled": false
   },
   "outputs": [
    {
     "ename": "IndexError",
     "evalue": "list index out of range",
     "output_type": "error",
     "traceback": [
      "\u001b[0;31m---------------------------------------------------------------------------\u001b[0m",
      "\u001b[0;31mIndexError\u001b[0m                                Traceback (most recent call last)",
      "Input \u001b[0;32mIn [92]\u001b[0m, in \u001b[0;36m<cell line: 10>\u001b[0;34m()\u001b[0m\n\u001b[1;32m      1\u001b[0m hola \u001b[38;5;241m=\u001b[39m [\n\u001b[1;32m      2\u001b[0m   [\u001b[38;5;241m1\u001b[39m, \u001b[38;5;241m6\u001b[39m, \u001b[38;5;241m2\u001b[39m, \u001b[38;5;241m10\u001b[39m],\n\u001b[1;32m      3\u001b[0m   [\u001b[38;5;241m8\u001b[39m, \u001b[38;5;241m9\u001b[39m, \u001b[38;5;241m4\u001b[39m, \u001b[38;5;241m11\u001b[39m],\n\u001b[1;32m      4\u001b[0m   [\u001b[38;5;241m9\u001b[39m, \u001b[38;5;241m8\u001b[39m, \u001b[38;5;241m7\u001b[39m, \u001b[38;5;241m12\u001b[39m],\n\u001b[1;32m      5\u001b[0m   [\u001b[38;5;241m1\u001b[39m, \u001b[38;5;241m6\u001b[39m, \u001b[38;5;241m3\u001b[39m, \u001b[38;5;241m20\u001b[39m],\n\u001b[1;32m      6\u001b[0m ]\n\u001b[1;32m      8\u001b[0m caca \u001b[38;5;241m=\u001b[39m []   \n\u001b[0;32m---> 10\u001b[0m \u001b[43mgroup\u001b[49m\u001b[43m(\u001b[49m\u001b[43mhola\u001b[49m\u001b[43m,\u001b[49m\u001b[43mcaca\u001b[49m\u001b[43m)\u001b[49m\n",
      "Input \u001b[0;32mIn [84]\u001b[0m, in \u001b[0;36mgroup\u001b[0;34m(arr, idx)\u001b[0m\n\u001b[1;32m      2\u001b[0m dict1 \u001b[38;5;241m=\u001b[39m {}\n\u001b[1;32m      3\u001b[0m \u001b[38;5;28;01mfor\u001b[39;00m i \u001b[38;5;129;01min\u001b[39;00m arr:\n\u001b[0;32m----> 4\u001b[0m     tuple_key \u001b[38;5;241m=\u001b[39m (i[\u001b[43midx\u001b[49m\u001b[43m[\u001b[49m\u001b[38;5;241;43m0\u001b[39;49m\u001b[43m]\u001b[49m], i[idx[\u001b[38;5;241m1\u001b[39m]])\n\u001b[1;32m      5\u001b[0m     \u001b[38;5;28;01mif\u001b[39;00m tuple_key \u001b[38;5;129;01min\u001b[39;00m dict1:\n\u001b[1;32m      6\u001b[0m         dict1[tuple_key][\u001b[38;5;241m0\u001b[39m] \u001b[38;5;241m+\u001b[39m\u001b[38;5;241m=\u001b[39m i[\u001b[38;5;241m2\u001b[39m]\n",
      "\u001b[0;31mIndexError\u001b[0m: list index out of range"
     ]
    }
   ],
   "source": [
    "hola = [\n",
    "  [1, 6, 2, 10],\n",
    "  [8, 9, 4, 11],\n",
    "  [9, 8, 7, 12],\n",
    "  [1, 6, 3, 20],\n",
    "]\n",
    "\n",
    "caca = []   \n",
    "\n",
    "group(hola,caca)"
   ]
  },
  {
   "cell_type": "markdown",
   "id": "5e5948ae-bfb0-4aa7-8cc0-83970accb44a",
   "metadata": {},
   "source": [
    "## Copy your submited solution here:"
   ]
  },
  {
   "cell_type": "code",
   "execution_count": null,
   "id": "de8f88a1-897b-4b92-8c9f-e04d16cec21a",
   "metadata": {},
   "outputs": [],
   "source": [
    "def group(arr, idx):\n",
    "    result = {}\n",
    "\n",
    "    for row in arr:\n",
    "        group_key = tuple(row[i] for i in idx)\n",
    "\n",
    "        if group_key not in result:\n",
    "            result[group_key] = [0] * (len(row) - len(idx))\n",
    "\n",
    "        non_grouped_values = [row[i] for i in range(len(row)) if i not in idx]\n",
    "        if group_key in result:\n",
    "            result[group_key] = [sum(x) for x in zip(result[group_key], non_grouped_values)]\n",
    "        else:\n",
    "            result[group_key] = non_grouped_values\n",
    "\n",
    "    return result"
   ]
  }
 ],
 "metadata": {
  "kernelspec": {
   "display_name": "Python 3 (ipykernel)",
   "language": "python",
   "name": "python3"
  },
  "language_info": {
   "codemirror_mode": {
    "name": "ipython",
    "version": 3
   },
   "file_extension": ".py",
   "mimetype": "text/x-python",
   "name": "python",
   "nbconvert_exporter": "python",
   "pygments_lexer": "ipython3",
   "version": "3.10.13"
  }
 },
 "nbformat": 4,
 "nbformat_minor": 5
}
