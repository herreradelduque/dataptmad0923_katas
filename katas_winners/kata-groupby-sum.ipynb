{
 "cells": [
  {
   "cell_type": "markdown",
   "id": "a447b8b5-f16b-451f-b45c-47746f721e1e",
   "metadata": {},
   "source": [
    "# Kata:"
   ]
  },
  {
   "cell_type": "markdown",
   "id": "c7379b61-1f04-4fa2-8865-bf3e2c83b39e",
   "metadata": {},
   "source": [
    "https://www.codewars.com/kata/5ed056c9263d2f001738b791/train/python"
   ]
  },
  {
   "cell_type": "markdown",
   "id": "5e2a4659-1d95-44fb-b92c-4646b4da4e6f",
   "metadata": {},
   "source": [
    "## Your name or team members:"
   ]
  },
  {
   "cell_type": "code",
   "execution_count": null,
   "id": "29ead553-d8b4-41aa-937f-7fd045595855",
   "metadata": {},
   "outputs": [],
   "source": [
    "Ana & John"
   ]
  },
  {
   "cell_type": "markdown",
   "id": "f04997cc-966d-4e06-8eb0-64ab376728f8",
   "metadata": {},
   "source": [
    "## Use the following cells to test your solution:"
   ]
  },
  {
   "cell_type": "code",
   "execution_count": null,
   "id": "4202edc5-f719-4068-96bd-55703a8a6c27",
   "metadata": {},
   "outputs": [],
   "source": [
    "Background\n",
    "Often times when working with raw tabular data, a common goal is to split the data into groups and perform an aggregation as a way to simplify and draw meaningful conclusions from it. The aggregation function can be anything that reduces the data (sum,mean,standard deviation,etc.). For the purpose of this kata, it will always be the sum function.\n",
    "\n",
    "Task\n",
    "Define a function that accepts two arguments, the first being a list of list that represents the raw data, and the second being a list of column indices. The return value should be a dictionary with the key being the groups as a tuple and the values should be a list containing the aggregated sums.\n",
    "\n",
    "Example\n",
    "arr = [\n",
    "  [1, 6, 2, 10],\n",
    "  [8, 9, 4, 11],\n",
    "  [9, 8, 7, 12],\n",
    "  [1, 6, 3, 20],\n",
    "]\n",
    "\n",
    "idx = [0, 1]\n",
    "\n",
    "group(arr, idx) == {\n",
    "  (1, 6): [5, 30],      # [2 + 3, 10 + 20]\n",
    "  (8, 9): [4, 11],\n",
    "  (9, 8): [7, 12]\n",
    "}\n",
    "Explanation\n",
    "Columns 0 and 1 are used for grouping, so columns 2 and 3 will be aggregated\n",
    "Rows 0 and 3 are grouped together because they have the same values in columns idx, so the columns which are not a part of idx are aggregated\n",
    "Row 1 and 2 have different values in columns idx, so they are not grouped, and the aggregated results will simply be their own values in the columns which are not a part of idx\n",
    "Notes\n",
    "all inputs are valid\n",
    "arguments will never be empty\n"
   ]
  },
  {
   "cell_type": "code",
   "execution_count": null,
   "id": "079f863b",
   "metadata": {},
   "outputs": [],
   "source": []
  },
  {
   "cell_type": "code",
   "execution_count": 59,
   "id": "1c1f6098-25a1-4805-a249-b833ca4a66a0",
   "metadata": {},
   "outputs": [],
   "source": [
    "arr = [[1, 6, 2, 10],[8, 9, 4, 11],[9, 8, 7, 12],[1, 6, 3, 20]]\n",
    "\n",
    "idx = [0, 1]\n",
    "\n",
    "#print([x[1] + x[2] for x in arr])\n",
    "#for x in arr:\n",
    "   # print(x[2] + x[3])\n",
    "\n",
    "    "
   ]
  },
  {
   "cell_type": "code",
   "execution_count": 45,
   "id": "a4444d49",
   "metadata": {},
   "outputs": [
    {
     "ename": "TypeError",
     "evalue": "list indices must be integers or slices, not tuple",
     "output_type": "error",
     "traceback": [
      "\u001b[1;31m---------------------------------------------------------------------------\u001b[0m",
      "\u001b[1;31mTypeError\u001b[0m                                 Traceback (most recent call last)",
      "Cell \u001b[1;32mIn[45], line 6\u001b[0m\n\u001b[0;32m      1\u001b[0m arr \u001b[38;5;241m=\u001b[39m [[\u001b[38;5;241m1\u001b[39m, \u001b[38;5;241m6\u001b[39m, \u001b[38;5;241m2\u001b[39m, \u001b[38;5;241m10\u001b[39m],\n\u001b[0;32m      2\u001b[0m        [\u001b[38;5;241m8\u001b[39m, \u001b[38;5;241m9\u001b[39m, \u001b[38;5;241m4\u001b[39m, \u001b[38;5;241m11\u001b[39m],\n\u001b[0;32m      3\u001b[0m        [\u001b[38;5;241m9\u001b[39m, \u001b[38;5;241m8\u001b[39m, \u001b[38;5;241m7\u001b[39m, \u001b[38;5;241m12\u001b[39m],\n\u001b[0;32m      4\u001b[0m        [\u001b[38;5;241m1\u001b[39m, \u001b[38;5;241m6\u001b[39m, \u001b[38;5;241m3\u001b[39m, \u001b[38;5;241m20\u001b[39m]]\n\u001b[1;32m----> 6\u001b[0m \u001b[43marr\u001b[49m\u001b[43m[\u001b[49m\u001b[43m:\u001b[49m\u001b[38;5;241;43m1\u001b[39;49m\u001b[43m,\u001b[49m\u001b[43m \u001b[49m\u001b[38;5;241;43m3\u001b[39;49m\u001b[43m:\u001b[49m\u001b[43m]\u001b[49m\n",
      "\u001b[1;31mTypeError\u001b[0m: list indices must be integers or slices, not tuple"
     ]
    }
   ],
   "source": [
    "arr = [[1, 6, 2, 10],\n",
    "       [8, 9, 4, 11],\n",
    "       [9, 8, 7, 12],\n",
    "       [1, 6, 3, 20]]\n",
    "\n"
   ]
  },
  {
   "cell_type": "code",
   "execution_count": 53,
   "id": "5c54bcb6",
   "metadata": {},
   "outputs": [
    {
     "name": "stdout",
     "output_type": "stream",
     "text": [
      "[2, 12, 5, 30]\n"
     ]
    }
   ],
   "source": [
    "print([x[0] + x[1] for x in zip(arr[0], arr[3])])\n"
   ]
  },
  {
   "cell_type": "code",
   "execution_count": 64,
   "id": "c905f2bc",
   "metadata": {},
   "outputs": [],
   "source": [
    "def group(arr, idx):\n",
    "    dict1 = {}\n",
    "    for i in arr:\n",
    "        tuple_key = (i[idx[0]], i[idx[1]])\n",
    "        if tuple_key in dict1:\n",
    "            dict1[tuple_key][0] += i[2]\n",
    "            dict1[tuple_key][1] += i[3]\n",
    "        else:\n",
    "            dict1[tuple_key] = [i[2], i[3]]\n",
    "    return dict1"
   ]
  },
  {
   "cell_type": "code",
   "execution_count": 65,
   "id": "edacd94f",
   "metadata": {},
   "outputs": [
    {
     "data": {
      "text/plain": [
       "{(1, 6): [5, 30], (8, 9): [4, 11], (9, 8): [7, 12]}"
      ]
     },
     "execution_count": 65,
     "metadata": {},
     "output_type": "execute_result"
    }
   ],
   "source": [
    "group(arr,idx)"
   ]
  },
  {
   "cell_type": "code",
   "execution_count": null,
   "id": "d3d10b98",
   "metadata": {},
   "outputs": [],
   "source": [
    "def group(arr, idx):\n",
    "    dict1 = {}\n",
    "    for i in arr:\n",
    "        tuple_key = (i[idx[0]], i[idx[1]])\n",
    "        if tuple_key in dict1:\n",
    "            dict1[tuple_key][0] += i[2]\n",
    "            dict1[tuple_key][1] += i[3]\n",
    "        else:\n",
    "            dict1[tuple_key] = [i[2], i[3]]\n",
    "    return dict1"
   ]
  },
  {
   "cell_type": "code",
   "execution_count": 71,
   "id": "a1466943",
   "metadata": {},
   "outputs": [],
   "source": [
    "def group(arr, idx):\n",
    "    dict1 = {}\n",
    "    tuplelist = []\n",
    "    for t in range(len(idx)):\n",
    "        if len(idx) == 0:\n",
    "            tuple_list = tuple(tuplelist)\n",
    "        else:\n",
    "            tuplelist.append(t)\n",
    "            tuple_key = tuple(tuplelist)\n",
    "    for i in arr:\n",
    "            if tuple_key in dict1:\n",
    "                dict1[tuple_key][0] += i[2]\n",
    "                dict1[tuple_key][1] += i[3]\n",
    "            else:\n",
    "                dict1[tuple_key] = [i[2], i[3]]\n",
    "    return dict1"
   ]
  },
  {
   "cell_type": "markdown",
   "id": "5e5948ae-bfb0-4aa7-8cc0-83970accb44a",
   "metadata": {},
   "source": [
    "## Copy your submited solution here:"
   ]
  },
  {
   "cell_type": "code",
   "execution_count": 1,
   "id": "de8f88a1-897b-4b92-8c9f-e04d16cec21a",
   "metadata": {},
   "outputs": [],
   "source": [
    "def group(arr, idx):\n",
    "    result = {}\n",
    "\n",
    "    for row in arr:\n",
    "        group_key = tuple(row[i] for i in idx)\n",
    "\n",
    "        if group_key not in result:\n",
    "            result[group_key] = [0] * (len(row) - len(idx))\n",
    "\n",
    "        non_grouped_values = [row[i] for i in range(len(row)) if i not in idx]\n",
    "        if group_key in result:\n",
    "            result[group_key] = [sum(x) for x in zip(result[group_key], non_grouped_values)]\n",
    "        else:\n",
    "            result[group_key] = non_grouped_values\n",
    "\n",
    "    return result"
   ]
  }
 ],
 "metadata": {
  "kernelspec": {
   "display_name": "Python 3 (ipykernel)",
   "language": "python",
   "name": "python3"
  },
  "language_info": {
   "codemirror_mode": {
    "name": "ipython",
    "version": 3
   },
   "file_extension": ".py",
   "mimetype": "text/x-python",
   "name": "python",
   "nbconvert_exporter": "python",
   "pygments_lexer": "ipython3",
   "version": "3.10.13"
  }
 },
 "nbformat": 4,
 "nbformat_minor": 5
}
