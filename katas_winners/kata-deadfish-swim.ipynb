{
 "cells": [
  {
   "cell_type": "markdown",
   "id": "a447b8b5-f16b-451f-b45c-47746f721e1e",
   "metadata": {},
   "source": [
    "# Kata:"
   ]
  },
  {
   "cell_type": "markdown",
   "id": "c7379b61-1f04-4fa2-8865-bf3e2c83b39e",
   "metadata": {},
   "source": [
    "https://www.codewars.com/kata/51e0007c1f9378fa810002a9/train/python"
   ]
  },
  {
   "cell_type": "markdown",
   "id": "5e2a4659-1d95-44fb-b92c-4646b4da4e6f",
   "metadata": {},
   "source": [
    "## Your name or team members:"
   ]
  },
  {
   "cell_type": "code",
   "execution_count": null,
   "id": "29ead553-d8b4-41aa-937f-7fd045595855",
   "metadata": {},
   "outputs": [],
   "source": [
    "Elena Luque"
   ]
  },
  {
   "cell_type": "markdown",
   "id": "f04997cc-966d-4e06-8eb0-64ab376728f8",
   "metadata": {},
   "source": [
    "## Use the following cells to test your solution:"
   ]
  },
  {
   "cell_type": "code",
   "execution_count": 26,
   "id": "4202edc5-f719-4068-96bd-55703a8a6c27",
   "metadata": {},
   "outputs": [],
   "source": [
    "def parse(data):\n",
    "    \n",
    "    initial_value = 0\n",
    "    data_list = list(data)\n",
    "    empty_list = []\n",
    "    \n",
    "    for letter in data_list:\n",
    "        if letter == \"i\":\n",
    "            initial_value = initial_value + 1\n",
    "        elif letter == \"d\":\n",
    "            initial_value = initial_value - 1\n",
    "        elif letter == \"s\":\n",
    "            initial_value = initial_value * initial_value\n",
    "        elif letter == \"o\":\n",
    "            empty_list.append(initial_value)\n",
    "    return empty_list"
   ]
  },
  {
   "cell_type": "code",
   "execution_count": 27,
   "id": "f8348654",
   "metadata": {},
   "outputs": [
    {
     "data": {
      "text/plain": [
       "[1, 4, 25]"
      ]
     },
     "execution_count": 27,
     "metadata": {},
     "output_type": "execute_result"
    }
   ],
   "source": [
    "parse(\"isoisoiso\")"
   ]
  },
  {
   "cell_type": "code",
   "execution_count": null,
   "id": "90b85d7a",
   "metadata": {},
   "outputs": [],
   "source": [
    "parse(\"iiisdoso\")"
   ]
  },
  {
   "cell_type": "code",
   "execution_count": 1,
   "id": "3b2ab941",
   "metadata": {},
   "outputs": [
    {
     "data": {
      "text/plain": [
       "str"
      ]
     },
     "execution_count": 1,
     "metadata": {},
     "output_type": "execute_result"
    }
   ],
   "source": [
    "type(\"iiisdoso\")"
   ]
  },
  {
   "cell_type": "markdown",
   "id": "5e5948ae-bfb0-4aa7-8cc0-83970accb44a",
   "metadata": {},
   "source": [
    "## Copy your submited solution here:"
   ]
  },
  {
   "cell_type": "code",
   "execution_count": null,
   "id": "de8f88a1-897b-4b92-8c9f-e04d16cec21a",
   "metadata": {},
   "outputs": [],
   "source": [
    "def parse(data):\n",
    "    \n",
    "    initial_value = 0\n",
    "    data_list = list(data)\n",
    "    empty_list = []\n",
    "    \n",
    "    for letter in data_list:\n",
    "        if letter == \"i\":\n",
    "            initial_value = initial_value + 1\n",
    "        elif letter == \"d\":\n",
    "            initial_value = initial_value - 1\n",
    "        elif letter == \"s\":\n",
    "            initial_value = initial_value * initial_value\n",
    "        elif letter == \"o\":\n",
    "            empty_list.append(initial_value)\n",
    "    return empty_list"
   ]
  }
 ],
 "metadata": {
  "kernelspec": {
   "display_name": "Python (m1_env)",
   "language": "python",
   "name": "m1_env"
  },
  "language_info": {
   "codemirror_mode": {
    "name": "ipython",
    "version": 3
   },
   "file_extension": ".py",
   "mimetype": "text/x-python",
   "name": "python",
   "nbconvert_exporter": "python",
   "pygments_lexer": "ipython3",
   "version": "3.10.13"
  }
 },
 "nbformat": 4,
 "nbformat_minor": 5
}
