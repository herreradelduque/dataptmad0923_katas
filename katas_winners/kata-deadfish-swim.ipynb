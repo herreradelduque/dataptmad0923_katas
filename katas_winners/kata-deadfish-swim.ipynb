{
 "cells": [
  {
   "cell_type": "markdown",
   "id": "a447b8b5-f16b-451f-b45c-47746f721e1e",
   "metadata": {},
   "source": [
    "# Kata:"
   ]
  },
  {
   "cell_type": "markdown",
   "id": "c7379b61-1f04-4fa2-8865-bf3e2c83b39e",
   "metadata": {},
   "source": [
    "https://www.codewars.com/kata/51e0007c1f9378fa810002a9/train/python"
   ]
  },
  {
   "cell_type": "markdown",
   "id": "5e2a4659-1d95-44fb-b92c-4646b4da4e6f",
   "metadata": {},
   "source": [
    "## Your name or team members:"
   ]
  },
  {
   "cell_type": "code",
   "execution_count": null,
   "id": "29ead553-d8b4-41aa-937f-7fd045595855",
   "metadata": {},
   "outputs": [],
   "source": [
    "Andrés Buelvas Diago"
   ]
  },
  {
   "cell_type": "markdown",
   "id": "f04997cc-966d-4e06-8eb0-64ab376728f8",
   "metadata": {},
   "source": [
    "## Use the following cells to test your solution:"
   ]
  },
  {
   "cell_type": "code",
   "execution_count": null,
   "id": "4202edc5-f719-4068-96bd-55703a8a6c27",
   "metadata": {},
   "outputs": [],
   "source": [
    "'''\n",
    "Write a simple parser that will parse and run Deadfish.\n",
    "\n",
    "Deadfish has 4 commands, each 1 character long:'''\n",
    "\n",
    "# i increments the value (initially 0)\n",
    "# d decrements the value\n",
    "# s squares the value\n",
    "# o outputs the value into the return array\n",
    "\n",
    "'''Invalid characters should be ignored.'''\n"
   ]
  },
  {
   "cell_type": "code",
   "execution_count": null,
   "id": "1c1f6098-25a1-4805-a249-b833ca4a66a0",
   "metadata": {},
   "outputs": [],
   "source": []
  },
  {
   "cell_type": "code",
   "execution_count": 12,
   "id": "d2444bfa",
   "metadata": {},
   "outputs": [],
   "source": []
  },
  {
   "cell_type": "code",
   "execution_count": 2,
   "id": "bda784a2",
   "metadata": {},
   "outputs": [],
   "source": []
  },
  {
   "cell_type": "code",
   "execution_count": 6,
   "id": "719220b9",
   "metadata": {},
   "outputs": [],
   "source": [
    "data = \"ooio\""
   ]
  },
  {
   "cell_type": "code",
   "execution_count": 4,
   "id": "288beec5",
   "metadata": {},
   "outputs": [],
   "source": []
  },
  {
   "cell_type": "code",
   "execution_count": 15,
   "id": "51ed9f46",
   "metadata": {},
   "outputs": [
    {
     "data": {
      "text/plain": [
       "[1, 4, 25]"
      ]
     },
     "execution_count": 15,
     "metadata": {},
     "output_type": "execute_result"
    }
   ],
   "source": [
    "def parse(data):\n",
    "    # TODO: your code here\n",
    "    i = 0\n",
    "    data_list = list(data)\n",
    "    o = []\n",
    "    for x in data:\n",
    "        if x == \"i\":\n",
    "            i += 1\n",
    "        elif x == \"d\":\n",
    "            i -= 1\n",
    "        elif x == \"s\":\n",
    "            i *= i\n",
    "        elif x == \"o\":\n",
    "            o.append(i)        \n",
    "    return o\n",
    "parse(\"isoisoiso\")"
   ]
  },
  {
   "cell_type": "code",
   "execution_count": 9,
   "id": "290cc226",
   "metadata": {},
   "outputs": [
    {
     "data": {
      "text/plain": [
       "'o'"
      ]
     },
     "execution_count": 9,
     "metadata": {},
     "output_type": "execute_result"
    }
   ],
   "source": [
    "x"
   ]
  },
  {
   "cell_type": "markdown",
   "id": "5e5948ae-bfb0-4aa7-8cc0-83970accb44a",
   "metadata": {},
   "source": [
    "## Copy your submited solution here:"
   ]
  },
  {
   "cell_type": "code",
   "execution_count": null,
   "id": "de8f88a1-897b-4b92-8c9f-e04d16cec21a",
   "metadata": {},
   "outputs": [],
   "source": [
    "def parse(data):\n",
    "    # TODO: your code here\n",
    "    i = 0\n",
    "    data_list = list(data)\n",
    "    o = []\n",
    "    for x in data:\n",
    "        if x == \"i\":\n",
    "            i += 1\n",
    "        elif x == \"d\":\n",
    "            i -= 1\n",
    "        elif x == \"s\":\n",
    "            i *= i\n",
    "        elif x == \"o\":\n",
    "            o.append(i)        \n",
    "    return o"
   ]
  }
 ],
 "metadata": {
  "kernelspec": {
   "display_name": "Python 3 (ipykernel)",
   "language": "python",
   "name": "python3"
  },
  "language_info": {
   "codemirror_mode": {
    "name": "ipython",
    "version": 3
   },
   "file_extension": ".py",
   "mimetype": "text/x-python",
   "name": "python",
   "nbconvert_exporter": "python",
   "pygments_lexer": "ipython3",
   "version": "3.10.13"
  }
 },
 "nbformat": 4,
 "nbformat_minor": 5
}
