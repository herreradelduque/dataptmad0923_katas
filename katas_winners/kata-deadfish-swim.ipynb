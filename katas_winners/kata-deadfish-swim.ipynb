{
 "cells": [
  {
   "cell_type": "markdown",
   "id": "a447b8b5-f16b-451f-b45c-47746f721e1e",
   "metadata": {},
   "source": [
    "# Kata:"
   ]
  },
  {
   "cell_type": "markdown",
   "id": "c7379b61-1f04-4fa2-8865-bf3e2c83b39e",
   "metadata": {},
   "source": [
    "https://www.codewars.com/kata/51e0007c1f9378fa810002a9/train/python"
   ]
  },
  {
   "cell_type": "markdown",
   "id": "5e2a4659-1d95-44fb-b92c-4646b4da4e6f",
   "metadata": {},
   "source": [
    "## Your name or team members:"
   ]
  },
  {
   "cell_type": "code",
   "execution_count": 1,
   "id": "29ead553-d8b4-41aa-937f-7fd045595855",
   "metadata": {},
   "outputs": [
    {
     "ename": "NameError",
     "evalue": "name 'Tere' is not defined",
     "output_type": "error",
     "traceback": [
      "\u001b[1;31m---------------------------------------------------------------------------\u001b[0m",
      "\u001b[1;31mNameError\u001b[0m                                 Traceback (most recent call last)",
      "Cell \u001b[1;32mIn[1], line 1\u001b[0m\n\u001b[1;32m----> 1\u001b[0m \u001b[43mTere\u001b[49m\n",
      "\u001b[1;31mNameError\u001b[0m: name 'Tere' is not defined"
     ]
    }
   ],
   "source": [
    "Tere"
   ]
  },
  {
   "cell_type": "markdown",
   "id": "f04997cc-966d-4e06-8eb0-64ab376728f8",
   "metadata": {},
   "source": [
    "## Use the following cells to test your solution:"
   ]
  },
  {
   "cell_type": "code",
   "execution_count": null,
   "id": "4202edc5-f719-4068-96bd-55703a8a6c27",
   "metadata": {},
   "outputs": [],
   "source": [
    "def parse(data):\n",
    "    # TODO: your code here\n",
    "    return []"
   ]
  },
  {
   "cell_type": "code",
   "execution_count": null,
   "id": "c9a6d5b5",
   "metadata": {},
   "outputs": [],
   "source": [
    "#Ejemplo 1\n",
    "parse(\"iiisdoso\")  ==>  [8, 64]\n",
    "otros ejemplos:\n",
    "    parse(\"ooo\"), [0,0,0]\n",
    "    parse(\"ioioio\"), [1,2,3]\n",
    "    parse(\"idoiido\"), [0,1]\n",
    "    parse(\"isoisoiso\"), [1,4,25]\n",
    "    parse(\"codewars\"), [0]"
   ]
  },
  {
   "cell_type": "code",
   "execution_count": null,
   "id": "96b99f9b",
   "metadata": {},
   "outputs": [],
   "source": [
    "# i increase the value (initially 0)\n",
    "# d decrease the value\n",
    "# s square the value\n",
    "# o devuelve el valor en un array"
   ]
  },
  {
   "cell_type": "code",
   "execution_count": null,
   "id": "8d1b7945",
   "metadata": {},
   "outputs": [],
   "source": [
    "if \"o\" in data:\n",
    "    empty_array = []\n",
    "    if \"i\" in data: \n",
    "        for \"i\" in (data):\n",
    "        empty_array += 1\n",
    "    elif \"d\" in data:\n",
    "        #decrece el valor -1\n",
    "    elif \"s\" in data:\n",
    "        #haz una raíz cuadrada\n",
    "    else:\n",
    "        "
   ]
  },
  {
   "cell_type": "code",
   "execution_count": 23,
   "id": "1c1f6098-25a1-4805-a249-b833ca4a66a0",
   "metadata": {},
   "outputs": [],
   "source": [
    "initial_value = 0\n",
    "def prueba(x):\n",
    "    if \"o\" in data:\n",
    "        empty_array = []\n",
    "        if \"i\" in data: \n",
    "            empty_array = initial_value +1\n",
    "        elif \"d\" in data:\n",
    "            empty_array = initial_value -1\n",
    "    return empty_array"
   ]
  },
  {
   "cell_type": "code",
   "execution_count": 47,
   "id": "3814e77a",
   "metadata": {},
   "outputs": [],
   "source": [
    "def prueba(data):\n",
    "    initial = 0\n",
    "    lista = list(data)\n",
    "    array = []\n",
    "    for x in data:\n",
    "        if x == \"i\":\n",
    "            array = initial + 1\n",
    "        elif x == \"d\":\n",
    "            array = initial - 1\n",
    "        elif x == \"s\":\n",
    "            array = # raiz cuadrada\n",
    "        elif x == \"o\":\n",
    "            ni idea\n",
    "    return array\n",
    "            \n",
    "        if letra == \"o\":\n",
    "            empty_array = []\n",
    "            if letra == \"i\":\n",
    "                empty_array = initial_value +1\n",
    "            elif letra == \"d\":\n",
    "                empty_array = initial_value -1\n",
    "            # elif letra == \"s\":\n",
    "                # empty_array = np.square() \n",
    "    # return empty_array\n",
    "            "
   ]
  },
  {
   "cell_type": "code",
   "execution_count": 54,
   "id": "aa8017dd",
   "metadata": {},
   "outputs": [],
   "source": [
    "def kata(data):\n",
    "    initial = 0\n",
    "    lista = list(data)\n",
    "    array = []\n",
    "    for x in lista:\n",
    "        if x == \"i\":\n",
    "            initial = initial + 1\n",
    "        elif x == \"d\":\n",
    "            initial = initial - 1\n",
    "        elif x == \"s\":\n",
    "            initial = initial ** 2\n",
    "        elif x == \"o\":\n",
    "            lista.append()\n",
    "    return array"
   ]
  },
  {
   "cell_type": "code",
   "execution_count": 57,
   "id": "ff38b3fd",
   "metadata": {},
   "outputs": [
    {
     "name": "stdout",
     "output_type": "stream",
     "text": [
      "<class 'str'>\n"
     ]
    }
   ],
   "source": [
    "def kata(data):\n",
    "    initial = 0\n",
    "    lista = list(data)\n",
    "    array = []\n",
    "    for x in lista:\n",
    "        if x == \"i\":\n",
    "            initial = initial + 1\n",
    "        elif x == \"d\":\n",
    "            initial = initial - 1\n",
    "        elif x == \"s\":\n",
    "            initial = initial ** 2\n",
    "        elif x == \"o\":\n",
    "            array.append(initial)\n",
    "    return array"
   ]
  },
  {
   "cell_type": "code",
   "execution_count": null,
   "id": "aa1dae9f",
   "metadata": {},
   "outputs": [],
   "source": []
  },
  {
   "cell_type": "code",
   "execution_count": null,
   "id": "637844ea",
   "metadata": {},
   "outputs": [],
   "source": []
  },
  {
   "cell_type": "code",
   "execution_count": null,
   "id": "89abed15",
   "metadata": {},
   "outputs": [],
   "source": []
  },
  {
   "cell_type": "markdown",
   "id": "5e5948ae-bfb0-4aa7-8cc0-83970accb44a",
   "metadata": {},
   "source": [
    "## Copy your submited solution here:"
   ]
  },
  {
   "cell_type": "code",
   "execution_count": null,
   "id": "de8f88a1-897b-4b92-8c9f-e04d16cec21a",
   "metadata": {},
   "outputs": [],
   "source": [
    "def parse(data):\n",
    "    initial = 0\n",
    "    lista = list(data)\n",
    "    array = []\n",
    "    for x in lista:\n",
    "        if x == \"i\":\n",
    "            initial = initial + 1\n",
    "        elif x == \"d\":\n",
    "            initial = initial - 1\n",
    "        elif x == \"s\":\n",
    "            initial = initial ** 2\n",
    "        elif x == \"o\":\n",
    "            array.append(initial)\n",
    "    return array"
   ]
  }
 ],
 "metadata": {
  "kernelspec": {
   "display_name": "Python (m1_env)",
   "language": "python",
   "name": "m1_env"
  },
  "language_info": {
   "codemirror_mode": {
    "name": "ipython",
    "version": 3
   },
   "file_extension": ".py",
   "mimetype": "text/x-python",
   "name": "python",
   "nbconvert_exporter": "python",
   "pygments_lexer": "ipython3",
   "version": "3.10.13"
  }
 },
 "nbformat": 4,
 "nbformat_minor": 5
}
