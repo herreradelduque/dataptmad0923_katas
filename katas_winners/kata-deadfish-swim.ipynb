{
 "cells": [
  {
   "cell_type": "markdown",
   "id": "a447b8b5-f16b-451f-b45c-47746f721e1e",
   "metadata": {},
   "source": [
    "# Kata:"
   ]
  },
  {
   "cell_type": "markdown",
   "id": "c7379b61-1f04-4fa2-8865-bf3e2c83b39e",
   "metadata": {},
   "source": [
    "https://www.codewars.com/kata/51e0007c1f9378fa810002a9/train/python"
   ]
  },
  {
   "cell_type": "markdown",
   "id": "5e2a4659-1d95-44fb-b92c-4646b4da4e6f",
   "metadata": {},
   "source": [
    "## Your name or team members:"
   ]
  },
  {
   "cell_type": "code",
   "execution_count": null,
   "id": "29ead553-d8b4-41aa-937f-7fd045595855",
   "metadata": {},
   "outputs": [],
   "source": [
    "John Bryan"
   ]
  },
  {
   "cell_type": "markdown",
   "id": "f04997cc-966d-4e06-8eb0-64ab376728f8",
   "metadata": {},
   "source": [
    "## Use the following cells to test your solution:"
   ]
  },
  {
   "cell_type": "code",
   "execution_count": 54,
   "id": "4202edc5-f719-4068-96bd-55703a8a6c27",
   "metadata": {},
   "outputs": [],
   "source": [
    "i = 0\n",
    "def parse(data):\n",
    "    if data == i:\n",
    "        print(data + 1)\n",
    "        if data == d:\n",
    "            print(data - 1)\n",
    "            if data == s:\n",
    "                print(data^2)\n",
    "    else:\n",
    "        print(data)\n",
    "    # TODO: your code here\n",
    "    return []\n",
    "#i = 0\n",
    "#d = 1\n",
    "#s = s^2\n",
    "#o = #output de como va el array"
   ]
  },
  {
   "cell_type": "code",
   "execution_count": 52,
   "id": "f126e94e",
   "metadata": {},
   "outputs": [],
   "source": [
    " data = \"o\""
   ]
  },
  {
   "cell_type": "code",
   "execution_count": 53,
   "id": "efc67aac",
   "metadata": {},
   "outputs": [
    {
     "name": "stdout",
     "output_type": "stream",
     "text": [
      "0\n"
     ]
    }
   ],
   "source": [
    "i = 0\n",
    "o = 0\n",
    "d = 1\n",
    "#s = s^2\n",
    "if data == i:\n",
    "    print(data + 1)\n",
    "elif data == d:\n",
    "    print(data - 1)\n",
    "#elif data == s:\n",
    "        #print(data^2)\n",
    "else:\n",
    "    print(o)\n",
    "# TODO: your code here\n",
    "#return [data]"
   ]
  },
  {
   "cell_type": "code",
   "execution_count": 10,
   "id": "28fc49ed",
   "metadata": {},
   "outputs": [
    {
     "ename": "SyntaxError",
     "evalue": "invalid syntax (794620651.py, line 1)",
     "output_type": "error",
     "traceback": [
      "\u001b[1;36m  Cell \u001b[1;32mIn[10], line 1\u001b[1;36m\u001b[0m\n\u001b[1;33m    else:\u001b[0m\n\u001b[1;37m    ^\u001b[0m\n\u001b[1;31mSyntaxError\u001b[0m\u001b[1;31m:\u001b[0m invalid syntax\n"
     ]
    }
   ],
   "source": []
  },
  {
   "cell_type": "code",
   "execution_count": null,
   "id": "c2b97056",
   "metadata": {},
   "outputs": [],
   "source": []
  },
  {
   "cell_type": "code",
   "execution_count": 83,
   "id": "7f483251",
   "metadata": {},
   "outputs": [],
   "source": [
    "data = \"ii\""
   ]
  },
  {
   "cell_type": "code",
   "execution_count": 60,
   "id": "1d285570",
   "metadata": {},
   "outputs": [],
   "source": [
    "ret = []"
   ]
  },
  {
   "cell_type": "code",
   "execution_count": 93,
   "id": "a4adee8d",
   "metadata": {},
   "outputs": [],
   "source": [
    "init = 0"
   ]
  },
  {
   "cell_type": "code",
   "execution_count": 85,
   "id": "f83e11fb",
   "metadata": {},
   "outputs": [
    {
     "name": "stdout",
     "output_type": "stream",
     "text": [
      "i\n",
      "2\n"
     ]
    }
   ],
   "source": [
    "for letter in data:\n",
    "    if letter == \"i\":\n",
    "        init += 1\n",
    "    elif letter == \"d\":\n",
    "        init -= 1\n",
    "    elif letter == 's':\n",
    "        init ^2\n",
    "    elif letter == 'o':\n",
    "        init = 0\n",
    "print(letter)\n",
    "print(init)"
   ]
  },
  {
   "cell_type": "code",
   "execution_count": 107,
   "id": "7c6a707f",
   "metadata": {},
   "outputs": [],
   "source": [
    "def parse(data):\n",
    "    init = 0\n",
    "    ret = []\n",
    "    for letter in data:\n",
    "        if letter == \"i\":\n",
    "            init += 1\n",
    "        elif letter == \"d\":\n",
    "            init -= 1\n",
    "        elif letter == 's':\n",
    "            init = init ** 2\n",
    "        elif letter == 'o':\n",
    "            ret.append(init)\n",
    "    return ret"
   ]
  },
  {
   "cell_type": "code",
   "execution_count": 108,
   "id": "b3bcc60e",
   "metadata": {},
   "outputs": [
    {
     "data": {
      "text/plain": [
       "[8, 64]"
      ]
     },
     "execution_count": 108,
     "metadata": {},
     "output_type": "execute_result"
    }
   ],
   "source": [
    "parse(\"iiisdoso\")"
   ]
  },
  {
   "cell_type": "code",
   "execution_count": null,
   "id": "e8749139",
   "metadata": {},
   "outputs": [],
   "source": []
  },
  {
   "cell_type": "code",
   "execution_count": 55,
   "id": "1c1f6098-25a1-4805-a249-b833ca4a66a0",
   "metadata": {},
   "outputs": [
    {
     "name": "stdout",
     "output_type": "stream",
     "text": [
      "oo0\n"
     ]
    }
   ],
   "source": [
    "#test.assert_equals(parse(\"ooo\"), [0,0,0])\n",
    "#test.assert_equals(parse(\"ioioio\"), [1,2,3])\n",
    "#test.assert_equals(parse(\"idoiido\"), [0,1])\n",
    "#test.assert_equals(parse(\"isoisoiso\"), [1,4,25])\n",
    "#test.assert_equals(parse(\"codewars\"), [0])\n"
   ]
  },
  {
   "cell_type": "markdown",
   "id": "5e5948ae-bfb0-4aa7-8cc0-83970accb44a",
   "metadata": {},
   "source": [
    "## Copy your submited solution here:"
   ]
  },
  {
   "cell_type": "code",
   "execution_count": null,
   "id": "de8f88a1-897b-4b92-8c9f-e04d16cec21a",
   "metadata": {},
   "outputs": [],
   "source": [
    "def parse(data):\n",
    "    init = 0\n",
    "    ret = []\n",
    "    for letter in data:\n",
    "        if letter == \"i\":\n",
    "            init += 1\n",
    "        elif letter == \"d\":\n",
    "            init -= 1\n",
    "        elif letter == 's':\n",
    "            init = init ** 2\n",
    "        elif letter == 'o':\n",
    "            ret.append(init)\n",
    "    return ret"
   ]
  }
 ],
 "metadata": {
  "kernelspec": {
   "display_name": "Python (m1_env)",
   "language": "python",
   "name": "m1_env"
  },
  "language_info": {
   "codemirror_mode": {
    "name": "ipython",
    "version": 3
   },
   "file_extension": ".py",
   "mimetype": "text/x-python",
   "name": "python",
   "nbconvert_exporter": "python",
   "pygments_lexer": "ipython3",
   "version": "3.10.13"
  }
 },
 "nbformat": 4,
 "nbformat_minor": 5
}
