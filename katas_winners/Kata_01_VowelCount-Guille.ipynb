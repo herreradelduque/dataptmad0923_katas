{
 "cells": [
  {
   "cell_type": "markdown",
   "id": "a447b8b5-f16b-451f-b45c-47746f721e1e",
   "metadata": {},
   "source": [
    "# Kata:"
   ]
  },
  {
   "cell_type": "markdown",
   "id": "c7379b61-1f04-4fa2-8865-bf3e2c83b39e",
   "metadata": {},
   "source": [
    "https://www.codewars.com/kata/54ff3102c1bad923760001f3/train/python"
   ]
  },
  {
   "cell_type": "markdown",
   "id": "5e2a4659-1d95-44fb-b92c-4646b4da4e6f",
   "metadata": {},
   "source": [
    "## Your name or team members:"
   ]
  },
  {
   "cell_type": "code",
   "execution_count": null,
   "id": "29ead553-d8b4-41aa-937f-7fd045595855",
   "metadata": {},
   "outputs": [],
   "source": []
  },
  {
   "cell_type": "markdown",
   "id": "f04997cc-966d-4e06-8eb0-64ab376728f8",
   "metadata": {},
   "source": [
    "## Use the following cells to test your solution:"
   ]
  },
  {
   "cell_type": "code",
   "execution_count": null,
   "id": "4202edc5-f719-4068-96bd-55703a8a6c27",
   "metadata": {},
   "outputs": [],
   "source": [
    "string_1 = 'esto de git es un rollo'\n",
    "string_2 = 'esto'\n",
    "string_3 = 'rollo'\n"
   ]
  },
  {
   "cell_type": "code",
   "execution_count": null,
   "id": "1c1f6098-25a1-4805-a249-b833ca4a66a0",
   "metadata": {},
   "outputs": [],
   "source": [
    "counter = 0\n",
    "for c in string_1:\n",
    "    if c in vowels:\n",
    "        counter = counter + 1\n",
    "counter\n",
    " "
   ]
  },
  {
   "cell_type": "code",
   "execution_count": null,
   "id": "99bd0971",
   "metadata": {},
   "outputs": [],
   "source": [
    "lista = []\n",
    "for c in string_1:\n",
    "    if c in vowels:\n",
    "        lista.append(c)\n",
    "len(lista)        \n"
   ]
  },
  {
   "cell_type": "code",
   "execution_count": 3,
   "id": "61bd0108",
   "metadata": {},
   "outputs": [],
   "source": [
    "def get_count(sentence):\n",
    "    vowels = 'aeiou'\n",
    "    counter = 0\n",
    "    for c in sentence:\n",
    "        if c in vowels:\n",
    "            counter = counter + 1\n",
    "    return counter       \n",
    "            "
   ]
  },
  {
   "cell_type": "code",
   "execution_count": 4,
   "id": "cda310ae",
   "metadata": {},
   "outputs": [
    {
     "name": "stdout",
     "output_type": "stream",
     "text": [
      "2\n"
     ]
    }
   ],
   "source": [
    "print(get_count('pepe'))"
   ]
  },
  {
   "cell_type": "markdown",
   "id": "a9edefb6",
   "metadata": {},
   "source": [
    "# Copy your submited solution here:"
   ]
  },
  {
   "cell_type": "code",
   "execution_count": 5,
   "id": "849ebc07",
   "metadata": {},
   "outputs": [],
   "source": [
    "def get_count(sentence):\n",
    "    vowels = 'aeiou'\n",
    "    counter = 0\n",
    "    for c in sentence:\n",
    "        if c in vowels:\n",
    "            counter = counter + 1\n",
    "    return counter    "
   ]
  },
  {
   "cell_type": "code",
   "execution_count": null,
   "id": "fc6ef344",
   "metadata": {},
   "outputs": [],
   "source": []
  }
 ],
 "metadata": {
  "kernelspec": {
   "display_name": "Python 3 (ipykernel)",
   "language": "python",
   "name": "python3"
  },
  "language_info": {
   "codemirror_mode": {
    "name": "ipython",
    "version": 3
   },
   "file_extension": ".py",
   "mimetype": "text/x-python",
   "name": "python",
   "nbconvert_exporter": "python",
   "pygments_lexer": "ipython3",
   "version": "3.10.13"
  }
 },
 "nbformat": 4,
 "nbformat_minor": 5
}
