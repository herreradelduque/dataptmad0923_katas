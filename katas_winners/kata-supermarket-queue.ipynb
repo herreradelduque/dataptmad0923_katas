{
 "cells": [
  {
   "cell_type": "markdown",
   "id": "a447b8b5-f16b-451f-b45c-47746f721e1e",
   "metadata": {},
   "source": [
    "# Kata:"
   ]
  },
  {
   "cell_type": "markdown",
   "id": "c7379b61-1f04-4fa2-8865-bf3e2c83b39e",
   "metadata": {},
   "source": [
    "https://www.codewars.com/kata/57b06f90e298a7b53d000a86/train/python"
   ]
  },
  {
   "cell_type": "markdown",
   "id": "5e2a4659-1d95-44fb-b92c-4646b4da4e6f",
   "metadata": {},
   "source": [
    "## Your name or team members:"
   ]
  },
  {
   "cell_type": "code",
   "execution_count": null,
   "id": "29ead553-d8b4-41aa-937f-7fd045595855",
   "metadata": {},
   "outputs": [],
   "source": [
    "Elena Luque, Ana Aguilar"
   ]
  },
  {
   "cell_type": "markdown",
   "id": "f04997cc-966d-4e06-8eb0-64ab376728f8",
   "metadata": {},
   "source": [
    "## Use the following cells to test your solution:"
   ]
  },
  {
   "cell_type": "code",
   "execution_count": null,
   "id": "4202edc5-f719-4068-96bd-55703a8a6c27",
   "metadata": {},
   "outputs": [],
   "source": [
    "def queue_time(customers, n):\n",
    "    if n == 1:\n",
    "        return sum(customers)\n",
    "    elif n == len(customers):\n",
    "        return min(customers)\n",
    "    elif customers[0] == max(customers):\n",
    "        return customers[0]\n",
    "        \n",
    "    pass # TODO"
   ]
  },
  {
   "cell_type": "code",
   "execution_count": 2,
   "id": "4dac3e4a",
   "metadata": {},
   "outputs": [],
   "source": [
    "customers =[5,3,4]\n",
    "n = 1"
   ]
  },
  {
   "cell_type": "code",
   "execution_count": 4,
   "id": "5b1e853e",
   "metadata": {},
   "outputs": [
    {
     "data": {
      "text/plain": [
       "12"
      ]
     },
     "execution_count": 4,
     "metadata": {},
     "output_type": "execute_result"
    }
   ],
   "source": [
    "sum(customers)"
   ]
  },
  {
   "cell_type": "code",
   "execution_count": 5,
   "id": "9536188d",
   "metadata": {},
   "outputs": [],
   "source": [
    "customers =[10,2,3,3]\n",
    "n = 2"
   ]
  },
  {
   "cell_type": "code",
   "execution_count": 16,
   "id": "9d54963c",
   "metadata": {},
   "outputs": [
    {
     "name": "stdout",
     "output_type": "stream",
     "text": [
      "10\n"
     ]
    }
   ],
   "source": [
    "if customers[0] == max(customers):\n",
    "    print(customers[0])"
   ]
  },
  {
   "cell_type": "code",
   "execution_count": 17,
   "id": "d44896c0",
   "metadata": {},
   "outputs": [],
   "source": [
    "customers =[10,2,3,3]\n",
    "n = 4"
   ]
  },
  {
   "cell_type": "code",
   "execution_count": 18,
   "id": "ac693624",
   "metadata": {},
   "outputs": [
    {
     "name": "stdout",
     "output_type": "stream",
     "text": [
      "2\n"
     ]
    }
   ],
   "source": [
    "if n == len(customers):\n",
    "    print(min(customers))"
   ]
  },
  {
   "cell_type": "code",
   "execution_count": 12,
   "id": "1c1f6098-25a1-4805-a249-b833ca4a66a0",
   "metadata": {},
   "outputs": [
    {
     "ename": "NameError",
     "evalue": "name 'queue_time' is not defined",
     "output_type": "error",
     "traceback": [
      "\u001b[0;31m---------------------------------------------------------------------------\u001b[0m",
      "\u001b[0;31mNameError\u001b[0m                                 Traceback (most recent call last)",
      "Input \u001b[0;32mIn [12]\u001b[0m, in \u001b[0;36m<cell line: 1>\u001b[0;34m()\u001b[0m\n\u001b[0;32m----> 1\u001b[0m \u001b[43mqueue_time\u001b[49m([\u001b[38;5;241m5\u001b[39m,\u001b[38;5;241m3\u001b[39m,\u001b[38;5;241m4\u001b[39m], \u001b[38;5;241m1\u001b[39m)\n",
      "\u001b[0;31mNameError\u001b[0m: name 'queue_time' is not defined"
     ]
    }
   ],
   "source": [
    "queue_time([5,3,4], 1)\n",
    "# should return 12\n",
    "# because when n=1, the total time is just the sum of the times"
   ]
  },
  {
   "cell_type": "code",
   "execution_count": null,
   "id": "01e1bf31",
   "metadata": {},
   "outputs": [],
   "source": [
    "queue_time([10,2,3,3], 2)\n",
    "# should return 10\n",
    "# because here n=2 and the 2nd, 3rd, and 4th people in the \n",
    "# queue finish before the 1st person has finished."
   ]
  },
  {
   "cell_type": "code",
   "execution_count": null,
   "id": "67b98f0f",
   "metadata": {},
   "outputs": [],
   "source": [
    "queue_time([2,3,10], 2)\n",
    "# should return 12"
   ]
  },
  {
   "cell_type": "markdown",
   "id": "5e5948ae-bfb0-4aa7-8cc0-83970accb44a",
   "metadata": {},
   "source": [
    "## Copy your submited solution here:"
   ]
  },
  {
   "cell_type": "code",
   "execution_count": 19,
   "id": "de8f88a1-897b-4b92-8c9f-e04d16cec21a",
   "metadata": {},
   "outputs": [],
   "source": [
    "def queue_time(customers, n):\n",
    "    aisles = [0] * n\n",
    "    for i in customers:\n",
    "        if len(customers) == 0:\n",
    "            return 0\n",
    "        elif n == 1:\n",
    "            return sum(customers)\n",
    "        elif n > len(customers):\n",
    "            return max(customers)\n",
    "        else:\n",
    "            aisles.sort()\n",
    "            aisles[0] +=i\n",
    "    return max(aisles)"
   ]
  }
 ],
 "metadata": {
  "kernelspec": {
   "display_name": "Python 3 (ipykernel)",
   "language": "python",
   "name": "python3"
  },
  "language_info": {
   "codemirror_mode": {
    "name": "ipython",
    "version": 3
   },
   "file_extension": ".py",
   "mimetype": "text/x-python",
   "name": "python",
   "nbconvert_exporter": "python",
   "pygments_lexer": "ipython3",
   "version": "3.10.13"
  }
 },
 "nbformat": 4,
 "nbformat_minor": 5
}
