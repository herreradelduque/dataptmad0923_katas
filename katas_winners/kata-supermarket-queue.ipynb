{
 "cells": [
  {
   "cell_type": "markdown",
   "id": "a447b8b5-f16b-451f-b45c-47746f721e1e",
   "metadata": {},
   "source": [
    "# Kata:"
   ]
  },
  {
   "cell_type": "markdown",
   "id": "c7379b61-1f04-4fa2-8865-bf3e2c83b39e",
   "metadata": {},
   "source": [
    "https://www.codewars.com/kata/57b06f90e298a7b53d000a86/train/python"
   ]
  },
  {
   "cell_type": "markdown",
   "id": "5e2a4659-1d95-44fb-b92c-4646b4da4e6f",
   "metadata": {},
   "source": [
    "## Your name or team members:"
   ]
  },
  {
   "cell_type": "code",
   "execution_count": null,
   "id": "29ead553-d8b4-41aa-937f-7fd045595855",
   "metadata": {},
   "outputs": [],
   "source": [
    "Tere Cardeñosa\n",
    "Silvia Martínez"
   ]
  },
  {
   "cell_type": "markdown",
   "id": "f04997cc-966d-4e06-8eb0-64ab376728f8",
   "metadata": {},
   "source": [
    "## Use the following cells to test your solution:"
   ]
  },
  {
   "cell_type": "code",
   "execution_count": 2,
   "id": "4202edc5-f719-4068-96bd-55703a8a6c27",
   "metadata": {},
   "outputs": [
    {
     "data": {
      "text/plain": [
       "12"
      ]
     },
     "execution_count": 2,
     "metadata": {},
     "output_type": "execute_result"
    }
   ],
   "source": [
    "def queue_time(customers, n):\n",
    "    time = []\n",
    "    for t in customers:\n",
    "        time.append(t)\n",
    "    return sum(time)\n",
    "queue_time([5,3,4], 1)"
   ]
  },
  {
   "cell_type": "code",
   "execution_count": 13,
   "id": "6aeb2b71",
   "metadata": {},
   "outputs": [
    {
     "data": {
      "text/plain": [
       "10"
      ]
     },
     "execution_count": 13,
     "metadata": {},
     "output_type": "execute_result"
    }
   ],
   "source": [
    "def queue_time(customers, n):\n",
    "    time = [0] * n \n",
    "    for c in customers:\n",
    "        time.sort()\n",
    "        time[0] += c\n",
    "    return max(time)\n",
    "queue_time([10,2,3,3], 2)"
   ]
  },
  {
   "cell_type": "code",
   "execution_count": 19,
   "id": "afff4bcb",
   "metadata": {},
   "outputs": [
    {
     "data": {
      "text/plain": [
       "12"
      ]
     },
     "execution_count": 19,
     "metadata": {},
     "output_type": "execute_result"
    }
   ],
   "source": [
    "def queue_time(customers, n):\n",
    "    time = [0] * n\n",
    "    for c in customers:\n",
    "        time.sort()\n",
    "        time[0] += c\n",
    "    return max(time)\n",
    "queue_time([2,3,10], 2)"
   ]
  },
  {
   "cell_type": "code",
   "execution_count": 18,
   "id": "48fd6747",
   "metadata": {},
   "outputs": [
    {
     "data": {
      "text/plain": [
       "[0, 0, 0]"
      ]
     },
     "execution_count": 18,
     "metadata": {},
     "output_type": "execute_result"
    }
   ],
   "source": [
    "[0] * 3"
   ]
  },
  {
   "cell_type": "code",
   "execution_count": 21,
   "id": "9011f43a",
   "metadata": {},
   "outputs": [
    {
     "data": {
      "text/plain": [
       "[0, 1, 2, 4]"
      ]
     },
     "execution_count": 21,
     "metadata": {},
     "output_type": "execute_result"
    }
   ],
   "source": [
    "time = [0,2,1,4]\n",
    "time.sort()\n",
    "time"
   ]
  },
  {
   "cell_type": "markdown",
   "id": "5e5948ae-bfb0-4aa7-8cc0-83970accb44a",
   "metadata": {},
   "source": [
    "## Copy your submited solution here:"
   ]
  },
  {
   "cell_type": "code",
   "execution_count": null,
   "id": "de8f88a1-897b-4b92-8c9f-e04d16cec21a",
   "metadata": {},
   "outputs": [],
   "source": [
    "#Solución Tere y Silvia\n",
    "def queue_time(customers, n):\n",
    "    time = [0] * n #Creamos una lista para sumar los tiempos de cada cola (n). Esto nos da una lista inicial de dos elementos que están a 0. \n",
    "    for c in customers: #Por cada customer: \n",
    "        time.sort() #vamos a ordenar la lista de 2 elementos de menor a mayor,\n",
    "        time[0] += c #sumando para cada uno de ellos el tiempo de cada customer (p.ej [0,0], [0,2], [2,3], [12,3]... )\n",
    "    return max(time) #Devolvemos el máximo de esa lista, en este caso 12."
   ]
  },
  {
   "cell_type": "code",
   "execution_count": null,
   "id": "d9e3b778",
   "metadata": {},
   "outputs": [],
   "source": [
    "#Solución Rodrigo y Alberto\n",
    "\n",
    "def queue_time(cus, n): #Tenemos una funcion con dos parametros, una lista de tiempos y el segundo un integer\n",
    "    time = 0 #definimos el valor inicial del tiempo que tardarán en 0\n",
    "    while cus != []:  #con un while loop repetimos la operacion que se realiza cada minuto mientras todavia tengamos clientes en la cola\n",
    "        time += 1 #a cada vuelta del while le sumamos un minuto de tiempo\n",
    "        cus = [ x -1 for x in cus[:n]] + cus[n:] #identificamos a los clientes que estan siendo atendidos mediante \n",
    "        #un slicing y al tiempo pendiente de estos le restamos un minuto. el resto de clientes los dejamos igual.\n",
    "        cus = [x for x in cus if x != 0] #eliminamos los clientes que han terminado == su tiempo es 0\n",
    "    return time #devuelvenos el numero de ciclos == tiempo que has tardado en dejar la lista cus vacía."
   ]
  }
 ],
 "metadata": {
  "kernelspec": {
   "display_name": "Python 3 (ipykernel)",
   "language": "python",
   "name": "python3"
  },
  "language_info": {
   "codemirror_mode": {
    "name": "ipython",
    "version": 3
   },
   "file_extension": ".py",
   "mimetype": "text/x-python",
   "name": "python",
   "nbconvert_exporter": "python",
   "pygments_lexer": "ipython3",
   "version": "3.10.13"
  }
 },
 "nbformat": 4,
 "nbformat_minor": 5
}
