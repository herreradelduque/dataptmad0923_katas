{
 "cells": [
  {
   "cell_type": "markdown",
   "id": "a447b8b5-f16b-451f-b45c-47746f721e1e",
   "metadata": {},
   "source": [
    "# Kata:"
   ]
  },
  {
   "cell_type": "markdown",
   "id": "c7379b61-1f04-4fa2-8865-bf3e2c83b39e",
   "metadata": {},
   "source": [
    "https://www.codewars.com/kata/57b06f90e298a7b53d000a86/train/python"
   ]
  },
  {
   "cell_type": "markdown",
   "id": "5e2a4659-1d95-44fb-b92c-4646b4da4e6f",
   "metadata": {},
   "source": [
    "## Your name or team members:"
   ]
  },
  {
   "cell_type": "code",
   "execution_count": null,
   "id": "29ead553-d8b4-41aa-937f-7fd045595855",
   "metadata": {},
   "outputs": [],
   "source": [
    "Teresa y Silvia"
   ]
  },
  {
   "cell_type": "markdown",
   "id": "f04997cc-966d-4e06-8eb0-64ab376728f8",
   "metadata": {},
   "source": [
    "## Use the following cells to test your solution:"
   ]
  },
  {
   "cell_type": "code",
   "execution_count": 16,
   "id": "4202edc5-f719-4068-96bd-55703a8a6c27",
   "metadata": {},
   "outputs": [],
   "source": [
    "def queue_time(customers, n):\n",
    "    time = []\n",
    "    if n == 1:\n",
    "        return sum(customers)\n",
    "    else:\n",
    "        for customer in customers:\n",
    "            time.append(customer)\n",
    "            print(type(time))\n",
    "            if time[0] < sum(customers):\n",
    "                return time[0]\n",
    "            else:\n",
    "                return (max(time) + min(time))"
   ]
  },
  {
   "cell_type": "code",
   "execution_count": 2,
   "id": "d71958dc",
   "metadata": {},
   "outputs": [
    {
     "data": {
      "text/plain": [
       "'\\nqueue_time([10,2,3,3], 2)\\n# should return 10\\n# because here n=2 and the 2nd, 3rd, and 4th people in the \\n# queue finish before the 1st person has finished.\\n\\nqueue_time([2,3,10], 2)\\n# should return 12\\n'"
      ]
     },
     "execution_count": 2,
     "metadata": {},
     "output_type": "execute_result"
    }
   ],
   "source": [
    "# Examples \n",
    "\n",
    "queue_time([5,3,4], 1)\n",
    "# should return 12\n",
    "# because when n=1, the total time is just the sum of the times\n",
    "\"\"\"\n",
    "queue_time([10,2,3,3], 2)\n",
    "# should return 10\n",
    "# because here n=2 and the 2nd, 3rd, and 4th people in the \n",
    "# queue finish before the 1st person has finished.\n",
    "\n",
    "queue_time([2,3,10], 2)\n",
    "# should return 12\n",
    "\"\"\""
   ]
  },
  {
   "cell_type": "code",
   "execution_count": 17,
   "id": "1c1f6098-25a1-4805-a249-b833ca4a66a0",
   "metadata": {},
   "outputs": [
    {
     "name": "stdout",
     "output_type": "stream",
     "text": [
      "<class 'list'>\n"
     ]
    },
    {
     "data": {
      "text/plain": [
       "2"
      ]
     },
     "execution_count": 17,
     "metadata": {},
     "output_type": "execute_result"
    }
   ],
   "source": [
    "queue_time([2,3,10], 2)"
   ]
  },
  {
   "cell_type": "code",
   "execution_count": 20,
   "id": "7015d719",
   "metadata": {},
   "outputs": [],
   "source": [
    "def queue_time(customers, n):\n",
    "    time = [0] * n #\n",
    "    #time = [0]\n",
    "    for c in customers:\n",
    "        time.sort()\n",
    "        time[0] += c\n",
    "    return max(time)"
   ]
  },
  {
   "cell_type": "code",
   "execution_count": 21,
   "id": "0025eedd",
   "metadata": {},
   "outputs": [
    {
     "data": {
      "text/plain": [
       "12"
      ]
     },
     "execution_count": 21,
     "metadata": {},
     "output_type": "execute_result"
    }
   ],
   "source": [
    "queue_time([2,3,10], 2)"
   ]
  },
  {
   "cell_type": "markdown",
   "id": "5e5948ae-bfb0-4aa7-8cc0-83970accb44a",
   "metadata": {},
   "source": [
    "## Copy your submited solution here:"
   ]
  },
  {
   "cell_type": "code",
   "execution_count": null,
   "id": "de8f88a1-897b-4b92-8c9f-e04d16cec21a",
   "metadata": {},
   "outputs": [],
   "source": [
    "def queue_time(customers, n):\n",
    "    time = [0] * n \n",
    "    for c in customers:\n",
    "        time.sort()\n",
    "        time[0] += c\n",
    "    return max(time)"
   ]
  }
 ],
 "metadata": {
  "kernelspec": {
   "display_name": "Python 3 (ipykernel)",
   "language": "python",
   "name": "python3"
  },
  "language_info": {
   "codemirror_mode": {
    "name": "ipython",
    "version": 3
   },
   "file_extension": ".py",
   "mimetype": "text/x-python",
   "name": "python",
   "nbconvert_exporter": "python",
   "pygments_lexer": "ipython3",
   "version": "3.10.13"
  }
 },
 "nbformat": 4,
 "nbformat_minor": 5
}
