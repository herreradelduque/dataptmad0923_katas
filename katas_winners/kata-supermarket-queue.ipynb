{
 "cells": [
  {
   "cell_type": "markdown",
   "id": "a447b8b5-f16b-451f-b45c-47746f721e1e",
   "metadata": {},
   "source": [
    "# Kata:"
   ]
  },
  {
   "cell_type": "markdown",
   "id": "c7379b61-1f04-4fa2-8865-bf3e2c83b39e",
   "metadata": {},
   "source": [
    "https://www.codewars.com/kata/57b06f90e298a7b53d000a86/train/python"
   ]
  },
  {
   "cell_type": "markdown",
   "id": "5e2a4659-1d95-44fb-b92c-4646b4da4e6f",
   "metadata": {},
   "source": [
    "## Your name or team members:"
   ]
  },
  {
   "cell_type": "code",
   "execution_count": null,
   "id": "29ead553-d8b4-41aa-937f-7fd045595855",
   "metadata": {},
   "outputs": [],
   "source": [
    "Tomas y John"
   ]
  },
  {
   "cell_type": "markdown",
   "id": "f04997cc-966d-4e06-8eb0-64ab376728f8",
   "metadata": {},
   "source": [
    "## Use the following cells to test your solution:"
   ]
  },
  {
   "cell_type": "code",
   "execution_count": null,
   "id": "4202edc5-f719-4068-96bd-55703a8a6c27",
   "metadata": {},
   "outputs": [],
   "source": [
    "#customers = [5, 3, 4]\n",
    "#n = cajas\n",
    "# sacar cuanto tardan los clientes teniendo en cuenta el número de cajas "
   ]
  },
  {
   "cell_type": "code",
   "execution_count": null,
   "id": "e8f2a6b0",
   "metadata": {},
   "outputs": [],
   "source": [
    "SOLUCION!\n",
    "def queue_time(customers, n):\n",
    "    queue = [0] * n\n",
    "    for c in customers:\n",
    "        queue = sorted(queue)\n",
    "        queue[0] += c\n",
    "    return max(queue)\n",
    "    pass # TODO"
   ]
  },
  {
   "cell_type": "code",
   "execution_count": 8,
   "id": "1c1f6098-25a1-4805-a249-b833ca4a66a0",
   "metadata": {},
   "outputs": [],
   "source": [
    "def queue_time(customers, n):\n",
    "    if n == 1:\n",
    "        sum(customers)\n",
    "    elif n== 2:\n",
    "        if customers[0] > sum(customers[1,2,3]):\n",
    "            \n",
    "            \n",
    "        \n",
    "    pass # TODO"
   ]
  },
  {
   "cell_type": "code",
   "execution_count": 27,
   "id": "855b48b3",
   "metadata": {},
   "outputs": [
    {
     "ename": "TypeError",
     "evalue": "can't multiply sequence by non-int of type 'list'",
     "output_type": "error",
     "traceback": [
      "\u001b[1;31m---------------------------------------------------------------------------\u001b[0m",
      "\u001b[1;31mTypeError\u001b[0m                                 Traceback (most recent call last)",
      "Cell \u001b[1;32mIn[27], line 2\u001b[0m\n\u001b[0;32m      1\u001b[0m customers \u001b[38;5;241m=\u001b[39m [\u001b[38;5;241m10\u001b[39m,\u001b[38;5;241m2\u001b[39m,\u001b[38;5;241m3\u001b[39m,\u001b[38;5;241m4\u001b[39m]\n\u001b[1;32m----> 2\u001b[0m n \u001b[38;5;241m=\u001b[39m \u001b[43m[\u001b[49m\u001b[38;5;241;43m0\u001b[39;49m\u001b[43m]\u001b[49m\u001b[38;5;241;43m*\u001b[39;49m\u001b[43mn\u001b[49m\n\u001b[0;32m      3\u001b[0m \u001b[38;5;28;01mfor\u001b[39;00m customer \u001b[38;5;129;01min\u001b[39;00m customers:\n\u001b[0;32m      4\u001b[0m     n[\u001b[38;5;241m0\u001b[39m] \u001b[38;5;241m+\u001b[39m\u001b[38;5;241m=\u001b[39m customer\n",
      "\u001b[1;31mTypeError\u001b[0m: can't multiply sequence by non-int of type 'list'"
     ]
    }
   ],
   "source": [
    "customers = [10,2,3,4]\n",
    "n = [0]*n\n",
    "for customer in customers:\n",
    "    n[0] += customer\n",
    "    n.sort()"
   ]
  },
  {
   "cell_type": "code",
   "execution_count": 34,
   "id": "93695fb3",
   "metadata": {},
   "outputs": [
    {
     "name": "stdout",
     "output_type": "stream",
     "text": [
      "[1, 2, 1, 2, 1, 2, 1, 2]\n"
     ]
    }
   ],
   "source": [
    "customers = [10,2,3,3]\n",
    "tills = [1,2]\n",
    "output = []\n",
    "for customer in customers:\n",
    "    for customer in tills:\n",
    "        output.append(customer)\n",
    "print(output)\n",
    "\n",
    "for out in output:\n",
    "    if out == 1: append"
   ]
  },
  {
   "cell_type": "code",
   "execution_count": 6,
   "id": "258cd14b",
   "metadata": {},
   "outputs": [
    {
     "data": {
      "text/plain": [
       "9.0"
      ]
     },
     "execution_count": 6,
     "metadata": {},
     "output_type": "execute_result"
    }
   ],
   "source": [
    "#ejemplos\n",
    "queue_time([5,3,4], 1)\n",
    "# should return 12\n",
    "# because when n=1, the total time is just the sum of the times\n",
    "\n",
    "queue_time([10,2,3,3], 2)\n",
    "# should return 10\n",
    "# because here n=2 and the 2nd, 3rd, and 4th people in the \n",
    "# queue finish before the 1st person has finished.\n",
    "\n",
    "#queue_time([2,3,10], 2)\n",
    "# should return 12"
   ]
  },
  {
   "cell_type": "markdown",
   "id": "5e5948ae-bfb0-4aa7-8cc0-83970accb44a",
   "metadata": {},
   "source": [
    "## Copy your submited solution here:"
   ]
  },
  {
   "cell_type": "code",
   "execution_count": 2,
   "id": "de8f88a1-897b-4b92-8c9f-e04d16cec21a",
   "metadata": {},
   "outputs": [
    {
     "data": {
      "text/plain": [
       "12"
      ]
     },
     "execution_count": 2,
     "metadata": {},
     "output_type": "execute_result"
    }
   ],
   "source": [
    "def queue_time(customers, n): #Tenemos una funcion con dos parametros, una lista de tiempos y el segundo un integer\n",
    "    time = 0 #definimos el valor inicial del tiempo que tardarán en 0\n",
    "    while customers != []:  #con un while loop repetimos la operacion que se realiza cada minuto mientras todavia tengamos clientes en la cola\n",
    "        time = time + 1 #a cada vuelta del while le sumamos un minuto de tiempo\n",
    "        customers = [x - 1 for x in customers[:n]] + customers[n:] #identificamos a los clientes que estan siendo atendidos mediante\n",
    "        #un slicing y al tiempo pendiente de estos le restamos un minuto. el resto de clientes los dejamos igual.\n",
    "        customers = [x for x in customers if x != 0] #eliminamos los clientes que han terminado == su tiempo es 0\n",
    "    return time #devuelvenos el numero de ciclos == tiempo que has tardado en dejar la lista cus vacía.\n",
    "\n",
    "queue_time([5,3,4],1)"
   ]
  }
 ],
 "metadata": {
  "kernelspec": {
   "display_name": "Python 3 (ipykernel)",
   "language": "python",
   "name": "python3"
  },
  "language_info": {
   "codemirror_mode": {
    "name": "ipython",
    "version": 3
   },
   "file_extension": ".py",
   "mimetype": "text/x-python",
   "name": "python",
   "nbconvert_exporter": "python",
   "pygments_lexer": "ipython3",
   "version": "3.10.13"
  }
 },
 "nbformat": 4,
 "nbformat_minor": 5
}
