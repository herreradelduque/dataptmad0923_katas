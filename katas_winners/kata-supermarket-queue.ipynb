{
 "cells": [
  {
   "cell_type": "markdown",
   "id": "a447b8b5-f16b-451f-b45c-47746f721e1e",
   "metadata": {},
   "source": [
    "# Kata:"
   ]
  },
  {
   "cell_type": "markdown",
   "id": "c7379b61-1f04-4fa2-8865-bf3e2c83b39e",
   "metadata": {},
   "source": [
    "https://www.codewars.com/kata/57b06f90e298a7b53d000a86/train/python"
   ]
  },
  {
   "cell_type": "markdown",
   "id": "5e2a4659-1d95-44fb-b92c-4646b4da4e6f",
   "metadata": {},
   "source": [
    "## Your name or team members:"
   ]
  },
  {
   "cell_type": "code",
   "execution_count": null,
   "id": "29ead553-d8b4-41aa-937f-7fd045595855",
   "metadata": {},
   "outputs": [],
   "source": [
    "Andres Buelvas Diago"
   ]
  },
  {
   "cell_type": "markdown",
   "id": "f04997cc-966d-4e06-8eb0-64ab376728f8",
   "metadata": {},
   "source": [
    "## Use the following cells to test your solution:"
   ]
  },
  {
   "cell_type": "code",
   "execution_count": null,
   "id": "eb7fd9ec",
   "metadata": {},
   "outputs": [],
   "source": []
  },
  {
   "cell_type": "markdown",
   "id": "5e5948ae-bfb0-4aa7-8cc0-83970accb44a",
   "metadata": {},
   "source": [
    "## Copy your submited solution here:"
   ]
  },
  {
   "cell_type": "code",
   "execution_count": 13,
   "id": "de8f88a1-897b-4b92-8c9f-e04d16cec21a",
   "metadata": {},
   "outputs": [
    {
     "name": "stdout",
     "output_type": "stream",
     "text": [
      "9\n"
     ]
    }
   ],
   "source": [
    "# https://stackoverflow.com/questions/64929435/supermarket-queue-programming-problem-from-codewars\n",
    "\n",
    "import math\n",
    "def empty(seq):\n",
    "    is_empty=True\n",
    "    for i in seq:\n",
    "        if i>0:\n",
    "            is_empty=False\n",
    "            break\n",
    "    return is_empty\n",
    "def checks(cust,n):\n",
    "    if len(cust)==0:\n",
    "        return 0\n",
    "    if n==1:\n",
    "        sum=0\n",
    "        for i in cust:\n",
    "            sum+=i\n",
    "        return sum\n",
    "    elif len(cust)<=n:\n",
    "        return max(cust)\n",
    "def queue_time(customers: list[int], n: int) -> int:\n",
    "    tills = [0]*n\n",
    "    for i in customers:\n",
    "      tills[0] += i\n",
    "      tills.sort()\n",
    "    return max(tills)\n",
    "    def queue_time(customers, n):\n",
    "            if len(customers)==0 or n==1 or len(customers)<=n:\n",
    "                return checks(customers,n)\n",
    "            main_sum=0\n",
    "            tills=[0]*n\n",
    "            leng=len(customers)\n",
    "            if leng>n:\n",
    "                for i in range(n):\n",
    "                    tills[i]=customers[i]\n",
    "            t_len=len(tills)\n",
    "            main_loop=t_len\n",
    "            while(main_loop<leng and not empty(tills)):\n",
    "                least=min(tills)\n",
    "                if least==0:\n",
    "                    least = min(i for i in tills if i > 0)\n",
    "                for inner in range(t_len):\n",
    "                    if tills[inner]>0:\n",
    "                        tills[inner]-=least\n",
    "                main_sum+=least\n",
    "                if main_loop<leng:\n",
    "                    for fill_zero in range(t_len):\n",
    "                        if tills[fill_zero]==0:\n",
    "                            tills[fill_zero]=customers[main_loop]\n",
    "                            main_loop+=1\n",
    "            return main_sum\n",
    "print(queue_time([2,2,3,3,4,4], 2))"
   ]
  }
 ],
 "metadata": {
  "kernelspec": {
   "display_name": "Python 3 (ipykernel)",
   "language": "python",
   "name": "python3"
  },
  "language_info": {
   "codemirror_mode": {
    "name": "ipython",
    "version": 3
   },
   "file_extension": ".py",
   "mimetype": "text/x-python",
   "name": "python",
   "nbconvert_exporter": "python",
   "pygments_lexer": "ipython3",
   "version": "3.10.13"
  }
 },
 "nbformat": 4,
 "nbformat_minor": 5
}
