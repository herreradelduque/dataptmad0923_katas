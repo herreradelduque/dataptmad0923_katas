{
 "cells": [
  {
   "cell_type": "markdown",
   "id": "a447b8b5-f16b-451f-b45c-47746f721e1e",
   "metadata": {},
   "source": [
    "# Kata:"
   ]
  },
  {
   "cell_type": "markdown",
   "id": "c7379b61-1f04-4fa2-8865-bf3e2c83b39e",
   "metadata": {},
   "source": [
    "https://www.codewars.com/kata/5daf515c3affec002b2fb921/train/sql"
   ]
  },
  {
   "cell_type": "markdown",
   "id": "5e2a4659-1d95-44fb-b92c-4646b4da4e6f",
   "metadata": {},
   "source": [
    "## Your name or team members:"
   ]
  },
  {
   "cell_type": "code",
   "execution_count": null,
   "id": "29ead553-d8b4-41aa-937f-7fd045595855",
   "metadata": {},
   "outputs": [],
   "source": [
    "# Carlos Sánchez"
   ]
  },
  {
   "cell_type": "markdown",
   "id": "f04997cc-966d-4e06-8eb0-64ab376728f8",
   "metadata": {},
   "source": [
    "## Use the following cells to test your solution:"
   ]
  },
  {
   "cell_type": "code",
   "execution_count": null,
   "id": "4202edc5-f719-4068-96bd-55703a8a6c27",
   "metadata": {},
   "outputs": [],
   "source": []
  },
  {
   "cell_type": "code",
   "execution_count": null,
   "id": "1c1f6098-25a1-4805-a249-b833ca4a66a0",
   "metadata": {},
   "outputs": [],
   "source": [
    "SELECT\n",
    "  data ->> 'first_name' AS first_name,\n",
    "  data ->> 'last_name' AS last_name,\n",
    "  EXTRACT (year FROM AGE(now(), (data->>'date_of_birth')::date)) AS age,\n",
    "  CASE\n",
    "    WHEN data ->> 'private' = 'true' THEN 'Hidden'\n",
    "    WHEN data ->>'private' = 'false' AND data ->> '{email_addresses, 0}' is null then 'None'\n",
    "    ELSE data ->> '{email_addresses, 0}'\n",
    "  END AS email_address\n",
    "FROM users\n",
    "ORDER BY first_name, last_name;"
   ]
  },
  {
   "cell_type": "markdown",
   "id": "5e5948ae-bfb0-4aa7-8cc0-83970accb44a",
   "metadata": {},
   "source": [
    "## Copy your submited solution here:"
   ]
  },
  {
   "cell_type": "code",
   "execution_count": null,
   "id": "de8f88a1-897b-4b92-8c9f-e04d16cec21a",
   "metadata": {},
   "outputs": [],
   "source": [
    "SELECT\n",
    "  data ->> 'first_name' AS first_name,\n",
    "  data ->> 'last_name' AS last_name,\n",
    "  EXTRACT (year FROM AGE(now(), date(data->>'date_of_birth'))) AS age,\n",
    "  CASE\n",
    "    WHEN data ->> 'private' = 'true' THEN 'Hidden'\n",
    "    WHEN data ->>'private' = 'false' AND data #>> '{email_addresses, 0}' is null then 'None'\n",
    "    ELSE data #>> '{email_addresses, 0}'\n",
    "  END AS email_address\n",
    "FROM users\n",
    "ORDER BY first_name, last_name;"
   ]
  },
  {
   "cell_type": "code",
   "execution_count": null,
   "id": "ca4e82a4",
   "metadata": {},
   "outputs": [],
   "source": [
    "SELECT\n",
    "  data ->> 'first_name' AS first_name,\n",
    "  data ->> 'last_name' AS last_name,\n",
    "  EXTRACT (year FROM AGE(now(), date(data->>'date_of_birth'))) AS age,\n",
    "  CASE\n",
    "    WHEN data ->> 'private' = 'true' THEN 'Hidden'\n",
    "    WHEN json_array_length(data -> 'email_addresses') > 0 THEN (data -> 'email_addresses' ->> 0)\n",
    "    ELSE 'None'\n",
    "  END AS email_address\n",
    "FROM users\n",
    "ORDER BY first_name, last_name;"
   ]
  }
 ],
 "metadata": {
  "kernelspec": {
   "display_name": "Python 3 (ipykernel)",
   "language": "python",
   "name": "python3"
  },
  "language_info": {
   "codemirror_mode": {
    "name": "ipython",
    "version": 3
   },
   "file_extension": ".py",
   "mimetype": "text/x-python",
   "name": "python",
   "nbconvert_exporter": "python",
   "pygments_lexer": "ipython3",
   "version": "3.10.13"
  }
 },
 "nbformat": 4,
 "nbformat_minor": 5
}
