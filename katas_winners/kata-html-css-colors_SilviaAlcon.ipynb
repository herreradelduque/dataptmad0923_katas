{
 "cells": [
  {
   "cell_type": "markdown",
   "id": "a447b8b5-f16b-451f-b45c-47746f721e1e",
   "metadata": {},
   "source": [
    "# Kata:"
   ]
  },
  {
   "cell_type": "markdown",
   "id": "c7379b61-1f04-4fa2-8865-bf3e2c83b39e",
   "metadata": {},
   "source": [
    "https://www.codewars.com/kata/58b57ae2724e3c63df000006/train/python"
   ]
  },
  {
   "cell_type": "markdown",
   "id": "5e2a4659-1d95-44fb-b92c-4646b4da4e6f",
   "metadata": {},
   "source": [
    "## Your name or team members:"
   ]
  },
  {
   "cell_type": "code",
   "execution_count": 2,
   "id": "34e5156d",
   "metadata": {},
   "outputs": [],
   "source": [
    "Silvia Alcon Garrido"
   ]
  },
  {
   "cell_type": "markdown",
   "id": "f04997cc-966d-4e06-8eb0-64ab376728f8",
   "metadata": {},
   "source": [
    "## Use the following cells to test your solution:"
   ]
  },
  {
   "cell_type": "code",
   "execution_count": null,
   "id": "1c1f6098-25a1-4805-a249-b833ca4a66a0",
   "metadata": {},
   "outputs": [],
   "source": [
    "#80FFA0\n",
    "#eF4\n",
    "string\n",
    "1) # + 6 digits -->[0,1]=R [2,3]=G [4,5]=B\n",
    "hex a int --> numero de 0-255\n",
    "2) # + 3 digits ---> [0]=R [1]=G [2]=B\n",
    "R*2 G*2 b*2 --> hex a int\n",
    "3) le damos un string que esta en ese dict--> (preset_colors) esto nos dara un RGB como hex "
   ]
  },
  {
   "cell_type": "code",
   "execution_count": null,
   "id": "4202edc5-f719-4068-96bd-55703a8a6c27",
   "metadata": {},
   "outputs": [],
   "source": [
    "#lo que tiene que salir\n",
    "parse_html_color('#80FFA0')   # => {'r': 128, 'g': 255, 'b': 160}\n",
    "parse_html_color('#3B7')      # => {'r': 51,  'g': 187, 'b': 119}\n",
    "parse_html_color('LimeGreen') # => {'r': 50,  'g': 205, 'b': 50 }\n"
   ]
  },
  {
   "cell_type": "code",
   "execution_count": 3,
   "id": "0f9bb81c",
   "metadata": {},
   "outputs": [],
   "source": [
    "def parse_html_color(color):\n",
    "    empty_dict = {}\n",
    "    if '#' in color:\n",
    "        if len(color) > 4:\n",
    "            empty_dict['r'] = int(color[1:3], 16)\n",
    "            empty_dict['g'] = int(color[3:5], 16)\n",
    "            empty_dict['b'] = int(color[5:], 16)\n",
    "            return (empty_dict)\n",
    "            # return print('opción1')\n",
    "            # Aquí pilla opción uno:\n",
    "        else:\n",
    "            empty_dict['r'] = int(color[1:3]*2, 16)\n",
    "            empty_dict['g'] = int(color[3:5]*2, 16)\n",
    "            empty_dict['b'] = int(color[5:]*2, 16)\n",
    "            return (empty_dict)\n",
    "            \n",
    "            # Aquí pilla opción dos.\n",
    "        return print('#')\n",
    "    else:\n",
    "        return print('No #')"
   ]
  },
  {
   "cell_type": "code",
   "execution_count": 4,
   "id": "19afe68d",
   "metadata": {},
   "outputs": [
    {
     "data": {
      "text/plain": [
       "{'r': 128, 'g': 255, 'b': 160}"
      ]
     },
     "execution_count": 4,
     "metadata": {},
     "output_type": "execute_result"
    }
   ],
   "source": [
    "parse_html_color('#80FFA0')"
   ]
  },
  {
   "cell_type": "code",
   "execution_count": 5,
   "id": "a84e5bfe",
   "metadata": {},
   "outputs": [],
   "source": [
    "def parse_html_color(color):\n",
    "    empty_dict = {}\n",
    "    if '#' in color:\n",
    "        if len(color) > 4:\n",
    "            empty_dict['r'] = int(color[1:3], 16)\n",
    "            empty_dict['g'] = int(color[3:5], 16)\n",
    "            empty_dict['b'] = int(color[5:], 16)\n",
    "            return(empty_dict)\n",
    "            # return print('opción1')\n",
    "            # Aquí pilla opción uno:\n",
    "        else:\n",
    "            empty_dict['r'] = int(color[1:2]*2, 16)\n",
    "            empty_dict['g'] = int(color[2:3]*2, 16)\n",
    "            empty_dict['b'] = int(color[3:]*2, 16)\n",
    "            return(empty_dict)\n",
    "            # Aquí pilla opción dos.\n",
    "        return print('#')\n",
    "    else:\n",
    "        return 'No existe'"
   ]
  },
  {
   "cell_type": "code",
   "execution_count": 6,
   "id": "535c4063",
   "metadata": {},
   "outputs": [
    {
     "data": {
      "text/plain": [
       "{'r': 51, 'g': 187, 'b': 119}"
      ]
     },
     "execution_count": 6,
     "metadata": {},
     "output_type": "execute_result"
    }
   ],
   "source": [
    "parse_html_color('#3B7')"
   ]
  },
  {
   "cell_type": "code",
   "execution_count": 9,
   "id": "1f4ce1b4",
   "metadata": {},
   "outputs": [],
   "source": [
    "def parse_html_color(color):\n",
    "    empty_dict = {}\n",
    "    if '#' in color:\n",
    "        if len(color) > 4:\n",
    "            empty_dict['r'] = int(color[1:3], 16)\n",
    "            empty_dict['g'] = int(color[3:5], 16)\n",
    "            empty_dict['b'] = int(color[5:], 16)\n",
    "            return empty_dict\n",
    "        else:\n",
    "            empty_dict['r'] = int(color[1:2]*2, 16)\n",
    "            empty_dict['g'] = int(color[2:3]*2, 16)\n",
    "            empty_dict['b'] = int(color[3:]*2, 16)\n",
    "            return empty_dict\n",
    "    else:\n",
    "        if color.lower() in PRESET_COLORS.keys():\n",
    "            value = PRESET_COLORS.get(color.lower())\n",
    "            if len(value) > 4:\n",
    "                empty_dict['r'] = int(value[1:3], 16)\n",
    "                empty_dict['g'] = int(value[3:5], 16)\n",
    "                empty_dict['b'] = int(value[5:], 16)\n",
    "                return empty_dict\n",
    "        else:\n",
    "            return 'No existe'"
   ]
  },
  {
   "cell_type": "code",
   "execution_count": 10,
   "id": "373d69e3",
   "metadata": {},
   "outputs": [
    {
     "ename": "NameError",
     "evalue": "name 'PRESET_COLORS' is not defined",
     "output_type": "error",
     "traceback": [
      "\u001b[0;31m---------------------------------------------------------------------------\u001b[0m",
      "\u001b[0;31mNameError\u001b[0m                                 Traceback (most recent call last)",
      "Cell \u001b[0;32mIn[10], line 1\u001b[0m\n\u001b[0;32m----> 1\u001b[0m \u001b[43mparse_html_color\u001b[49m\u001b[43m(\u001b[49m\u001b[38;5;124;43m'\u001b[39;49m\u001b[38;5;124;43mLimeGreen\u001b[39;49m\u001b[38;5;124;43m'\u001b[39;49m\u001b[43m)\u001b[49m\n",
      "Cell \u001b[0;32mIn[9], line 15\u001b[0m, in \u001b[0;36mparse_html_color\u001b[0;34m(color)\u001b[0m\n\u001b[1;32m     13\u001b[0m         \u001b[38;5;28;01mreturn\u001b[39;00m empty_dict\n\u001b[1;32m     14\u001b[0m \u001b[38;5;28;01melse\u001b[39;00m:\n\u001b[0;32m---> 15\u001b[0m     \u001b[38;5;28;01mif\u001b[39;00m color\u001b[38;5;241m.\u001b[39mlower() \u001b[38;5;129;01min\u001b[39;00m \u001b[43mPRESET_COLORS\u001b[49m\u001b[38;5;241m.\u001b[39mkeys():\n\u001b[1;32m     16\u001b[0m         value \u001b[38;5;241m=\u001b[39m PRESET_COLORS\u001b[38;5;241m.\u001b[39mget(color\u001b[38;5;241m.\u001b[39mlower())\n\u001b[1;32m     17\u001b[0m         \u001b[38;5;28;01mif\u001b[39;00m \u001b[38;5;28mlen\u001b[39m(value) \u001b[38;5;241m>\u001b[39m \u001b[38;5;241m4\u001b[39m:\n",
      "\u001b[0;31mNameError\u001b[0m: name 'PRESET_COLORS' is not defined"
     ]
    }
   ],
   "source": [
    "parse_html_color('LimeGreen')"
   ]
  },
  {
   "cell_type": "markdown",
   "id": "5e5948ae-bfb0-4aa7-8cc0-83970accb44a",
   "metadata": {},
   "source": [
    "## Copy your submited solution here:"
   ]
  },
  {
   "cell_type": "code",
   "execution_count": null,
   "id": "de8f88a1-897b-4b92-8c9f-e04d16cec21a",
   "metadata": {},
   "outputs": [],
   "source": [
    "def parse_html_color(color):\n",
    "    empty_dict = {}\n",
    "    if '#' in color:\n",
    "        if len(color) > 4:\n",
    "            empty_dict['r'] = int(color[1:3], 16)\n",
    "            empty_dict['g'] = int(color[3:5], 16)\n",
    "            empty_dict['b'] = int(color[5:], 16)\n",
    "            return empty_dict\n",
    "        else:\n",
    "            empty_dict['r'] = int(color[1:2]*2, 16)\n",
    "            empty_dict['g'] = int(color[2:3]*2, 16)\n",
    "            empty_dict['b'] = int(color[3:]*2, 16)\n",
    "            return empty_dict\n",
    "    else:\n",
    "        if color.lower() in PRESET_COLORS.keys():\n",
    "            value = PRESET_COLORS.get(color.lower())\n",
    "            if len(value) > 4:\n",
    "                empty_dict['r'] = int(value[1:3], 16)\n",
    "                empty_dict['g'] = int(value[3:5], 16)\n",
    "                empty_dict['b'] = int(value[5:], 16)\n",
    "                return empty_dict\n",
    "        else:\n",
    "            return 'No existe'"
   ]
  }
 ],
 "metadata": {
  "kernelspec": {
   "display_name": "Python (m1_env)",
   "language": "python",
   "name": "m1_env"
  },
  "language_info": {
   "codemirror_mode": {
    "name": "ipython",
    "version": 3
   },
   "file_extension": ".py",
   "mimetype": "text/x-python",
   "name": "python",
   "nbconvert_exporter": "python",
   "pygments_lexer": "ipython3",
   "version": "3.10.13"
  }
 },
 "nbformat": 4,
 "nbformat_minor": 5
}
