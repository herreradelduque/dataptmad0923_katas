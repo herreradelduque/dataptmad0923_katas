{
 "cells": [
  {
   "cell_type": "markdown",
   "id": "a447b8b5-f16b-451f-b45c-47746f721e1e",
   "metadata": {},
   "source": [
    "# Kata:"
   ]
  },
  {
   "cell_type": "markdown",
   "id": "c7379b61-1f04-4fa2-8865-bf3e2c83b39e",
   "metadata": {},
   "source": [
    "https://www.codewars.com/kata/58b57ae2724e3c63df000006/train/python"
   ]
  },
  {
   "cell_type": "markdown",
   "id": "5e2a4659-1d95-44fb-b92c-4646b4da4e6f",
   "metadata": {},
   "source": [
    "## Your name or team members:"
   ]
  },
  {
   "cell_type": "code",
   "execution_count": null,
   "id": "29ead553-d8b4-41aa-937f-7fd045595855",
   "metadata": {},
   "outputs": [],
   "source": [
    "Silvia Alcon Garrido"
   ]
  },
  {
   "cell_type": "markdown",
   "id": "f04997cc-966d-4e06-8eb0-64ab376728f8",
   "metadata": {},
   "source": [
    "## Use the following cells to test your solution:"
   ]
  },
  {
   "cell_type": "code",
   "execution_count": null,
   "id": "1c1f6098-25a1-4805-a249-b833ca4a66a0",
   "metadata": {},
   "outputs": [],
   "source": [
    "#80FFA0\n",
    "#eF4\n",
    "string\n",
    "1) # + 6 digits -->[0,1]=R [2,3]=G [4,5]=B\n",
    "hex a int --> numero de 0-255\n",
    "2) # + 3 digits ---> [0]=R [1]=G [2]=B\n",
    "R*2 G*2 b*2 --> hex a int\n",
    "3) le damos un string que esta en ese dict--> (preset_colors) esto nos dara un RGB como hex "
   ]
  },
  {
   "cell_type": "code",
   "execution_count": null,
   "id": "4202edc5-f719-4068-96bd-55703a8a6c27",
   "metadata": {},
   "outputs": [],
   "source": [
    "#lo que tiene que salir\n",
    "parse_html_color('#80FFA0')   # => {'r': 128, 'g': 255, 'b': 160}\n",
    "parse_html_color('#3B7')      # => {'r': 51,  'g': 187, 'b': 119}\n",
    "parse_html_color('LimeGreen') # => {'r': 50,  'g': 205, 'b': 50 }\n"
   ]
  },
  {
   "cell_type": "code",
   "execution_count": 3,
   "id": "0f9bb81c",
   "metadata": {},
   "outputs": [],
   "source": [
    "def parse_html_color(color):\n",
    "    empty_dict = {}\n",
    "    if '#' in color:\n",
    "        if len(color) > 4:\n",
    "            empty_dict['r'] = int(color[1:3], 16)\n",
    "            empty_dict['g'] = int(color[3:5], 16)\n",
    "            empty_dict['b'] = int(color[5:], 16)\n",
    "            return (empty_dict)\n",
    "            # return print('opción1')\n",
    "            # Aquí pilla opción uno:\n",
    "        else:\n",
    "            empty_dict['r'] = int(color[1:3]*2, 16)\n",
    "            empty_dict['g'] = int(color[3:5]*2, 16)\n",
    "            empty_dict['b'] = int(color[5:]*2, 16)\n",
    "            return (empty_dict)\n",
    "            \n",
    "            # Aquí pilla opción dos.\n",
    "        return print('#')\n",
    "    else:\n",
    "        return print('No #')"
   ]
  },
  {
   "cell_type": "code",
   "execution_count": 2,
   "id": "19afe68d",
   "metadata": {},
   "outputs": [
    {
     "name": "stdout",
     "output_type": "stream",
     "text": [
      "{'r': 128, 'g': 255, 'b': 160}\n"
     ]
    }
   ],
   "source": [
    "parse_html_color('#80FFA0')"
   ]
  },
  {
   "cell_type": "code",
   "execution_count": 4,
   "id": "a84e5bfe",
   "metadata": {},
   "outputs": [],
   "source": [
    "def parse_html_color(color):\n",
    "    empty_dict = {}\n",
    "    if '#' in color:\n",
    "        if len(color) > 4:\n",
    "            empty_dict['r'] = int(color[1:3], 16)\n",
    "            empty_dict['g'] = int(color[3:5], 16)\n",
    "            empty_dict['b'] = int(color[5:], 16)\n",
    "            return(empty_dict)\n",
    "            # return print('opción1')\n",
    "            # Aquí pilla opción uno:\n",
    "        else:\n",
    "            empty_dict['r'] = int(color[1:2]*2, 16)\n",
    "            empty_dict['g'] = int(color[2:3]*2, 16)\n",
    "            empty_dict['b'] = int(color[3:]*2, 16)\n",
    "            return(empty_dict)\n",
    "            # Aquí pilla opción dos.\n",
    "        return print('#')\n",
    "    else:\n",
    "        return print('No #')"
   ]
  },
  {
   "cell_type": "code",
   "execution_count": 5,
   "id": "535c4063",
   "metadata": {},
   "outputs": [
    {
     "name": "stdout",
     "output_type": "stream",
     "text": [
      "{'r': 51, 'g': 187, 'b': 119}\n"
     ]
    }
   ],
   "source": [
    "parse_html_color('#3B7')"
   ]
  },
  {
   "cell_type": "code",
   "execution_count": null,
   "id": "1f4ce1b4",
   "metadata": {},
   "outputs": [],
   "source": []
  },
  {
   "cell_type": "markdown",
   "id": "5e5948ae-bfb0-4aa7-8cc0-83970accb44a",
   "metadata": {},
   "source": [
    "## Copy your submited solution here:"
   ]
  },
  {
   "cell_type": "code",
   "execution_count": null,
   "id": "de8f88a1-897b-4b92-8c9f-e04d16cec21a",
   "metadata": {},
   "outputs": [],
   "source": []
  }
 ],
 "metadata": {
  "kernelspec": {
   "display_name": "Python 3 (ipykernel)",
   "language": "python",
   "name": "python3"
  },
  "language_info": {
   "codemirror_mode": {
    "name": "ipython",
    "version": 3
   },
   "file_extension": ".py",
   "mimetype": "text/x-python",
   "name": "python",
   "nbconvert_exporter": "python",
   "pygments_lexer": "ipython3",
   "version": "3.10.13"
  }
 },
 "nbformat": 4,
 "nbformat_minor": 5
}
