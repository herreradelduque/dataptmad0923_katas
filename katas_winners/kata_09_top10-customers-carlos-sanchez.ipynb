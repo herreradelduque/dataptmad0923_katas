{
 "cells": [
  {
   "cell_type": "markdown",
   "id": "a447b8b5-f16b-451f-b45c-47746f721e1e",
   "metadata": {},
   "source": [
    "# Kata:"
   ]
  },
  {
   "cell_type": "markdown",
   "id": "c7379b61-1f04-4fa2-8865-bf3e2c83b39e",
   "metadata": {},
   "source": [
    "https://www.codewars.com/kata/580d08b5c049aef8f900007c/train/sql"
   ]
  },
  {
   "cell_type": "markdown",
   "id": "5e2a4659-1d95-44fb-b92c-4646b4da4e6f",
   "metadata": {},
   "source": [
    "## Your name or team members:"
   ]
  },
  {
   "cell_type": "code",
   "execution_count": null,
   "id": "29ead553-d8b4-41aa-937f-7fd045595855",
   "metadata": {},
   "outputs": [],
   "source": [
    "Carlos"
   ]
  },
  {
   "cell_type": "markdown",
   "id": "f04997cc-966d-4e06-8eb0-64ab376728f8",
   "metadata": {},
   "source": [
    "## Use the following cells to test your solution:"
   ]
  },
  {
   "cell_type": "code",
   "execution_count": null,
   "id": "bb2e4e37",
   "metadata": {},
   "outputs": [],
   "source": [
    "-- Solución 1:\n",
    "SELECT customer.customer_id, customer.email, \n",
    "  COUNT(payment.amount) AS payments_count, \n",
    "  SUM(payment.amount)::FLOAT AS total_amount\n",
    "        \n",
    "FROM customer\n",
    "INNER JOIN payment ON payment.customer_id = customer.customer_id\n",
    "GROUP BY customer.customer_id\n",
    "ORDER BY total_amount DESC\n",
    "LIMIT 10;"
   ]
  },
  {
   "cell_type": "code",
   "execution_count": null,
   "id": "16c18fb6",
   "metadata": {},
   "outputs": [],
   "source": [
    "-- Solución 1:\n",
    "SELECT c.customer_id, c.email, \n",
    "  COUNT(p.amount) AS payments_count, \n",
    "  SUM(p.amount)::FLOAT AS total_amount\n",
    "        \n",
    "FROM customer AS c, payment AS p\n",
    "INNER JOIN p ON p.customer_id = c.customer_id\n",
    "GROUP BY c.customer_id\n",
    "ORDER BY total_amount DESC\n",
    "LIMIT 10;"
   ]
  },
  {
   "cell_type": "code",
   "execution_count": null,
   "id": "59c637c4",
   "metadata": {},
   "outputs": [],
   "source": [
    "-- Solución 1:\n",
    "SELECT c.customer_id, c.email, \n",
    "  COUNT(p.amount) AS payments_count, \n",
    "  SUM(p.amount)::FLOAT AS total_amount\n",
    "        \n",
    "FROM customer AS c\n",
    "INNER JOIN payment AS p ON p.customer_id = c.customer_id\n",
    "GROUP BY c.customer_id\n",
    "ORDER BY total_amount DESC\n",
    "LIMIT 10;"
   ]
  },
  {
   "cell_type": "code",
   "execution_count": null,
   "id": "1c1f6098-25a1-4805-a249-b833ca4a66a0",
   "metadata": {},
   "outputs": [],
   "source": [
    "-- Solución 2:\n",
    "SELECT c.customer_id, c.email,\n",
    "  COUNT(p.customer_id) AS payments_count,\n",
    "  SUM(p.amount) AS total_amount\n",
    "  \n",
    "FROM customer AS c, payment AS p\n",
    "WHERE c.customer_id = p.customer_id\n",
    "GROUP BY c.customer_id\n",
    "ORDER BY total_amount DESC\n",
    "LIMIT 10"
   ]
  },
  {
   "cell_type": "markdown",
   "id": "5e5948ae-bfb0-4aa7-8cc0-83970accb44a",
   "metadata": {},
   "source": [
    "## Copy your submited solution here:"
   ]
  },
  {
   "cell_type": "code",
   "execution_count": null,
   "id": "de8f88a1-897b-4b92-8c9f-e04d16cec21a",
   "metadata": {},
   "outputs": [],
   "source": [
    "-- Solución 2:\n",
    "SELECT c.customer_id, c.email,  -- Se extraen las columnas customer y email de la tabla customer, llamada \"c\".\n",
    "  COUNT(p.customer_id)::INT AS payments_count,  -- Se realiza el conteo del número de compras que ha realizado cada cliente.\n",
    "  SUM(p.amount)::FLOAT AS total_amount  -- Se realiza la suma de la cantidad total de los pagos realizados.\n",
    "  \n",
    "FROM customer AS c, payment AS p  -- Se indican las tablas de donde se extraen los datos y los alias de cada tabla.\n",
    "WHERE c.customer_id = p.customer_id  -- Se indica las foreign keys por las que se relacionan ambas tablas.\n",
    "GROUP BY c.customer_id  -- Se realiza la agrupación por la columna customer_id.\n",
    "ORDER BY total_amount DESC  -- Se ordenan utilizando la columna total_amount en orden descendente.\n",
    "LIMIT 10  -- Se muestran los 10 primeros datos"
   ]
  }
 ],
 "metadata": {
  "kernelspec": {
   "display_name": "Python 3 (ipykernel)",
   "language": "python",
   "name": "python3"
  },
  "language_info": {
   "codemirror_mode": {
    "name": "ipython",
    "version": 3
   },
   "file_extension": ".py",
   "mimetype": "text/x-python",
   "name": "python",
   "nbconvert_exporter": "python",
   "pygments_lexer": "ipython3",
   "version": "3.10.13"
  }
 },
 "nbformat": 4,
 "nbformat_minor": 5
}
