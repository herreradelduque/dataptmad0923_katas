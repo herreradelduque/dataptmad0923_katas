{
 "cells": [
  {
   "cell_type": "markdown",
   "id": "a447b8b5-f16b-451f-b45c-47746f721e1e",
   "metadata": {},
   "source": [
    "# Kata:"
   ]
  },
  {
   "cell_type": "markdown",
   "id": "c7379b61-1f04-4fa2-8865-bf3e2c83b39e",
   "metadata": {},
   "source": [
    "https://www.codewars.com/kata/58dbdccee5ee8fa2f9000058/train/python"
   ]
  },
  {
   "cell_type": "markdown",
   "id": "5e2a4659-1d95-44fb-b92c-4646b4da4e6f",
   "metadata": {},
   "source": [
    "## Your name or team members:"
   ]
  },
  {
   "cell_type": "code",
   "execution_count": null,
   "id": "29ead553-d8b4-41aa-937f-7fd045595855",
   "metadata": {},
   "outputs": [],
   "source": [
    "Tere and Andrew"
   ]
  },
  {
   "cell_type": "markdown",
   "id": "f04997cc-966d-4e06-8eb0-64ab376728f8",
   "metadata": {},
   "source": [
    "## Use the following cells to test your solution:"
   ]
  },
  {
   "cell_type": "code",
   "execution_count": 10,
   "id": "4202edc5-f719-4068-96bd-55703a8a6c27",
   "metadata": {},
   "outputs": [],
   "source": [
    "# Prueba error \n",
    "\n",
    "def sp_eng(sentence): \n",
    "    import re\n",
    "    regex_pattern = \"\\swd\\[eE]\\[nN]\\[gG]\\[lL]\\[sS]\\hH\"\n",
    "    method_output = re.findall(regex_pattern, sentence)\n",
    "    if sentence in method_output:\n",
    "        print(True)\n",
    "    else:\n",
    "        print(False)\n",
    "    return"
   ]
  },
  {
   "cell_type": "code",
   "execution_count": 25,
   "id": "993c1a60",
   "metadata": {},
   "outputs": [],
   "source": [
    "# Prueba error 02\n",
    "\n",
    "import re\n",
    "\n",
    "def sp_eng(sentence):\n",
    "    method_out = re.findall('english+', text, re.IGNORECASE)\n",
    "    if method_out in sentence:\n",
    "        print(True)\n",
    "    else:\n",
    "        print(False)"
   ]
  },
  {
   "cell_type": "code",
   "execution_count": 28,
   "id": "63266cad",
   "metadata": {},
   "outputs": [],
   "source": [
    "## DEF\n",
    "\n",
    "sentence = \"1234egn lis;h\" #abro un string extraño que me ofrecen en resultados\n"
   ]
  },
  {
   "cell_type": "code",
   "execution_count": 31,
   "id": "3fe4596d",
   "metadata": {},
   "outputs": [
    {
     "data": {
      "text/plain": [
       "'1234egn lis;h'"
      ]
     },
     "execution_count": 31,
     "metadata": {},
     "output_type": "execute_result"
    }
   ],
   "source": [
    "\"English\".lower() #Como no importa que esté en mayúsculas se lo marco\n",
    "sentence.lower() #Lo aplico dentro de mi sentence"
   ]
  },
  {
   "cell_type": "code",
   "execution_count": 32,
   "id": "fbfeef54",
   "metadata": {},
   "outputs": [
    {
     "data": {
      "text/plain": [
       "False"
      ]
     },
     "execution_count": 32,
     "metadata": {},
     "output_type": "execute_result"
    }
   ],
   "source": [
    "# Cómo compruebo si un str está dentro de otro st\n",
    "\"English\".lower() in sentence.lower()"
   ]
  },
  {
   "cell_type": "code",
   "execution_count": null,
   "id": "12e245e2",
   "metadata": {},
   "outputs": [],
   "source": [
    "def sp_eng(sentence):\n",
    "    if (\"English\".lower() in sentence.lower()):\n",
    "        return True\n",
    "    else:\n",
    "        return False"
   ]
  },
  {
   "cell_type": "code",
   "execution_count": null,
   "id": "2c6b93ed",
   "metadata": {},
   "outputs": [],
   "source": []
  },
  {
   "cell_type": "code",
   "execution_count": null,
   "id": "8a7daaf3",
   "metadata": {},
   "outputs": [],
   "source": []
  },
  {
   "cell_type": "markdown",
   "id": "5e5948ae-bfb0-4aa7-8cc0-83970accb44a",
   "metadata": {},
   "source": [
    "## Copy your submited solution here:"
   ]
  },
  {
   "cell_type": "code",
   "execution_count": null,
   "id": "de8f88a1-897b-4b92-8c9f-e04d16cec21a",
   "metadata": {},
   "outputs": [],
   "source": [
    "def sp_eng(sentence):\n",
    "    if (\"English\".lower() in sentence.lower()):\n",
    "        return True\n",
    "    else:\n",
    "        return False"
   ]
  }
 ],
 "metadata": {
  "kernelspec": {
   "display_name": "Python 3 (ipykernel)",
   "language": "python",
   "name": "python3"
  },
  "language_info": {
   "codemirror_mode": {
    "name": "ipython",
    "version": 3
   },
   "file_extension": ".py",
   "mimetype": "text/x-python",
   "name": "python",
   "nbconvert_exporter": "python",
   "pygments_lexer": "ipython3",
   "version": "3.10.13"
  }
 },
 "nbformat": 4,
 "nbformat_minor": 5
}
