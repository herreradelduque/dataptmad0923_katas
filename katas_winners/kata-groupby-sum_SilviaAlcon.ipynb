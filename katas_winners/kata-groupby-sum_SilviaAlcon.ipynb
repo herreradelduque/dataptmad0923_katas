{
 "cells": [
  {
   "cell_type": "markdown",
   "id": "a447b8b5-f16b-451f-b45c-47746f721e1e",
   "metadata": {},
   "source": [
    "# Kata:"
   ]
  },
  {
   "cell_type": "markdown",
   "id": "c7379b61-1f04-4fa2-8865-bf3e2c83b39e",
   "metadata": {},
   "source": [
    "https://www.codewars.com/kata/5ed056c9263d2f001738b791/train/python"
   ]
  },
  {
   "cell_type": "markdown",
   "id": "5e2a4659-1d95-44fb-b92c-4646b4da4e6f",
   "metadata": {},
   "source": [
    "## Your name or team members:"
   ]
  },
  {
   "cell_type": "code",
   "execution_count": null,
   "id": "29ead553-d8b4-41aa-937f-7fd045595855",
   "metadata": {},
   "outputs": [],
   "source": [
    "Silvia Alcon\n",
    "Carlos Sanchez"
   ]
  },
  {
   "cell_type": "markdown",
   "id": "f04997cc-966d-4e06-8eb0-64ab376728f8",
   "metadata": {},
   "source": [
    "## Use the following cells to test your solution:"
   ]
  },
  {
   "cell_type": "code",
   "execution_count": 4,
   "id": "27dc9829",
   "metadata": {},
   "outputs": [],
   "source": [
    "import pandas as pd"
   ]
  },
  {
   "cell_type": "code",
   "execution_count": 13,
   "id": "4202edc5-f719-4068-96bd-55703a8a6c27",
   "metadata": {},
   "outputs": [
    {
     "name": "stdout",
     "output_type": "stream",
     "text": [
      "<class 'list'>\n"
     ]
    }
   ],
   "source": [
    "indx = [0,1]\n",
    "arr = [\n",
    "  [1, 6, 2, 10],\n",
    "  [8, 9, 4, 11],\n",
    "  [9, 8, 7, 12],\n",
    "  [1, 6, 3, 20],\n",
    "]\n",
    "print(type(arr))"
   ]
  },
  {
   "cell_type": "code",
   "execution_count": 14,
   "id": "1c1f6098-25a1-4805-a249-b833ca4a66a0",
   "metadata": {},
   "outputs": [
    {
     "name": "stdout",
     "output_type": "stream",
     "text": [
      "(1, 6)\n",
      "[2, 10]\n",
      "(8, 9)\n",
      "[4, 11]\n",
      "(9, 8)\n",
      "[7, 12]\n",
      "(1, 6)\n",
      "[3, 20]\n",
      "<built-in method keys of dict object at 0x7f938f83e040>\n"
     ]
    }
   ],
   "source": [
    "dict_arr = {}\n",
    "for lista in arr:\n",
    "    #print(lista[indx[2]])\n",
    "    #print(lista)\n",
    "    llave = (lista[indx[0]], lista[indx[1]])\n",
    "    print(llave)\n",
    "    valor = [lista[2], lista[3]]\n",
    "    print(valor)\n",
    "    dict_arr[llave] = (valor)\n",
    "    #docWords[word].add(docID)\n",
    "    \n",
    "        \n",
    "#print(dict_arr)\n",
    "#type(llave)\n",
    "#key = (1,7)\n",
    "print(dict_arr.keys)"
   ]
  },
  {
   "cell_type": "code",
   "execution_count": 15,
   "id": "97ccb169",
   "metadata": {},
   "outputs": [
    {
     "name": "stdout",
     "output_type": "stream",
     "text": [
      "{(1, 6): [3, 20], (8, 9): [4, 11], (9, 8): [7, 12]}\n"
     ]
    }
   ],
   "source": [
    "for lista in arr:\n",
    "    llave = (lista[indx[0]], lista[indx[1]])\n",
    "    #print(llave)\n",
    "    valor = [lista[2], lista[3]]\n",
    "    #print(valor)\n",
    "    for key in dict_arr:\n",
    "        if key == llave:\n",
    "            valor[0] + valor[0]\n",
    "        \n",
    "            \n",
    "        \n",
    "    \n",
    "print(dict_arr)"
   ]
  },
  {
   "cell_type": "code",
   "execution_count": 16,
   "id": "2724fa6f",
   "metadata": {},
   "outputs": [],
   "source": [
    "dic3_suma = []\n",
    "for llave, valor in dict_arr.items():\n",
    "    llave = (lista[indx[0]], lista[indx[1]])\n",
    "    valor = [lista[2], lista[3]]\n",
    "   "
   ]
  },
  {
   "cell_type": "code",
   "execution_count": 17,
   "id": "bf6b106f",
   "metadata": {},
   "outputs": [],
   "source": [
    "#df = pd.DataFrame([[key, dict_arr[key]] for key in dict_arr.keys()], columns=['llave', 'valor'])\n",
    "#df"
   ]
  },
  {
   "cell_type": "code",
   "execution_count": 21,
   "id": "bcb9d426",
   "metadata": {},
   "outputs": [
    {
     "name": "stdout",
     "output_type": "stream",
     "text": [
      "key:  (1, 6)\n",
      "lista[j]:  3\n",
      "j:  0\n",
      "Datos:  {(1, 6): [5, 10], (8, 9): [4, 11], (9, 8): [7, 12]}\n",
      "lista[j]:  20\n",
      "j:  1\n",
      "Datos:  {(1, 6): [5, 30], (8, 9): [4, 11], (9, 8): [7, 12]}\n",
      "{(1, 6): [5, 30], (8, 9): [4, 11], (9, 8): [7, 12]}\n"
     ]
    }
   ],
   "source": [
    "dict_arr = {}\n",
    "for lista in arr:\n",
    "    key = tuple(lista[i] for i in indx)\n",
    "    value = [lista[i] for i in range(len(lista)) if i not in indx]\n",
    "    #print(key)\n",
    "    if key in dict_arr:\n",
    "        print('key: ',key)\n",
    "        for j in range(len(value)):\n",
    "            if j in indx:\n",
    "                print('lista[j]: ', value[j])\n",
    "                print('j: ', j)\n",
    "                dict_arr[key][j] += value[j]\n",
    "                print('Datos: ',dict_arr)\n",
    "    else:\n",
    "        dict_arr[key] = value\n",
    "        #print(\"Datos: \", dict_arr)\n",
    "print(dict_arr)"
   ]
  },
  {
   "cell_type": "code",
   "execution_count": null,
   "id": "a9ca25f5",
   "metadata": {},
   "outputs": [],
   "source": [
    "def group(arr, idx):\n",
    "    dict_arr = {}   #Se crea un diccionario vacío\n",
    "    for lista in arr:#para lista en el arr\n",
    "        key = tuple(lista[i] for i in idx)#key es igual a la tupla(lista)\n",
    "        value = [lista[i] for i in range(len(lista)) if i not in idx]#value es (lista--> cada elemento del array)para i en rango de lista \n",
    "        if key in dict_arr:#si la key esta en dict_arr\n",
    "            for j in range(len(value)):#para j en el index de(value)\n",
    "                #if j in idx:\n",
    "                dict_arr[key][j] += value[j]#suma value si key ya existe\n",
    "        else:\n",
    "            dict_arr[key] = value #sino pon el value\n",
    "    return dict_arr"
   ]
  },
  {
   "cell_type": "markdown",
   "id": "5e5948ae-bfb0-4aa7-8cc0-83970accb44a",
   "metadata": {},
   "source": [
    "## Copy your submited solution here:"
   ]
  },
  {
   "cell_type": "code",
   "execution_count": null,
   "id": "9b6cb2d8",
   "metadata": {},
   "outputs": [],
   "source": [
    "def group(arr, idx):\n",
    "    dict_arr = {} \n",
    "    for lista in arr:\n",
    "        key = tuple(lista[i] for i in idx)\n",
    "        value = [lista[i] for i in range(len(lista)) if i not in idx]\n",
    "        if key in dict_arr:\n",
    "            for j in range(len(value)):\n",
    "                #if j in idx:\n",
    "                dict_arr[key][j] += value[j]\n",
    "        else:\n",
    "            dict_arr[key] = value\n",
    "    return dict_arr"
   ]
  },
  {
   "cell_type": "code",
   "execution_count": null,
   "id": "de8f88a1-897b-4b92-8c9f-e04d16cec21a",
   "metadata": {},
   "outputs": [],
   "source": []
  }
 ],
 "metadata": {
  "kernelspec": {
   "display_name": "Python 3 (ipykernel)",
   "language": "python",
   "name": "python3"
  },
  "language_info": {
   "codemirror_mode": {
    "name": "ipython",
    "version": 3
   },
   "file_extension": ".py",
   "mimetype": "text/x-python",
   "name": "python",
   "nbconvert_exporter": "python",
   "pygments_lexer": "ipython3",
   "version": "3.10.13"
  }
 },
 "nbformat": 4,
 "nbformat_minor": 5
}
