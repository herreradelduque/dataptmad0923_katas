{
 "cells": [
  {
   "cell_type": "markdown",
   "id": "a447b8b5-f16b-451f-b45c-47746f721e1e",
   "metadata": {},
   "source": [
    "# Kata:"
   ]
  },
  {
   "cell_type": "markdown",
   "id": "c7379b61-1f04-4fa2-8865-bf3e2c83b39e",
   "metadata": {},
   "source": [
    "https://www.codewars.com/kata/5ed056c9263d2f001738b791/train/python"
   ]
  },
  {
   "cell_type": "markdown",
   "id": "5e2a4659-1d95-44fb-b92c-4646b4da4e6f",
   "metadata": {},
   "source": [
    "## Your name or team members:"
   ]
  },
  {
   "cell_type": "code",
   "execution_count": null,
   "id": "29ead553-d8b4-41aa-937f-7fd045595855",
   "metadata": {},
   "outputs": [],
   "source": [
    "Silvia Alcon"
   ]
  },
  {
   "cell_type": "markdown",
   "id": "f04997cc-966d-4e06-8eb0-64ab376728f8",
   "metadata": {},
   "source": [
    "## Use the following cells to test your solution:"
   ]
  },
  {
   "cell_type": "code",
   "execution_count": 1,
   "id": "27dc9829",
   "metadata": {},
   "outputs": [],
   "source": [
    "import pandas as pd"
   ]
  },
  {
   "cell_type": "code",
   "execution_count": 10,
   "id": "4202edc5-f719-4068-96bd-55703a8a6c27",
   "metadata": {},
   "outputs": [
    {
     "name": "stdout",
     "output_type": "stream",
     "text": [
      "<class 'list'>\n"
     ]
    }
   ],
   "source": [
    "indx = [0,1]\n",
    "arr = [\n",
    "  [1, 6, 2, 10],\n",
    "  [8, 9, 4, 11],\n",
    "  [9, 8, 7, 12],\n",
    "  [1, 6, 3, 20],\n",
    "]\n",
    "print(type(arr))"
   ]
  },
  {
   "cell_type": "code",
   "execution_count": 17,
   "id": "1c1f6098-25a1-4805-a249-b833ca4a66a0",
   "metadata": {},
   "outputs": [
    {
     "name": "stdout",
     "output_type": "stream",
     "text": [
      "(1, 6)\n",
      "[2, 10]\n",
      "(8, 9)\n",
      "[4, 11]\n",
      "(9, 8)\n",
      "[7, 12]\n",
      "(1, 6)\n",
      "[3, 20]\n",
      "<built-in method keys of dict object at 0x7f8c3c44a400>\n"
     ]
    }
   ],
   "source": [
    "dict_arr = {}\n",
    "for lista in arr:\n",
    "    #print(lista[indx[2]])\n",
    "    #print(lista)\n",
    "    llave = (lista[indx[0]], lista[indx[1]])\n",
    "    print(llave)\n",
    "    valor = [lista[2], lista[3]]\n",
    "    print(valor)\n",
    "    dict_arr[llave] = (valor)\n",
    "    #docWords[word].add(docID)\n",
    "    \n",
    "        \n",
    "#print(dict_arr)\n",
    "#type(llave)\n",
    "#key = (1,7)\n",
    "print(dict_arr.keys)"
   ]
  },
  {
   "cell_type": "code",
   "execution_count": 27,
   "id": "97ccb169",
   "metadata": {},
   "outputs": [
    {
     "name": "stdout",
     "output_type": "stream",
     "text": [
      "Es diferente key\n",
      "Es diferente key\n",
      "Es diferente key\n",
      "Es diferente key\n",
      "Es diferente key\n",
      "Es diferente key\n",
      "Es diferente key\n",
      "Es diferente key\n",
      "{(1, 6): 6, (8, 9): 8, (9, 8): 14}\n"
     ]
    }
   ],
   "source": [
    "for lista in arr:\n",
    "    llave = (lista[indx[0]], lista[indx[1]])\n",
    "    #print(llave)\n",
    "    valor = [lista[2], lista[3]]\n",
    "    #print(valor)\n",
    "    for key in dict_arr:\n",
    "        if key == llave:\n",
    "            valor = valor[0] + valor[0]\n",
    "        \n",
    "    dict_arr[llave] = (valor)\n",
    "print(dict_arr)"
   ]
  },
  {
   "cell_type": "code",
   "execution_count": 34,
   "id": "2724fa6f",
   "metadata": {},
   "outputs": [],
   "source": [
    "dic3_suma = []\n",
    "for llave, valor in dict_arr.items():\n",
    "    llave = (lista[indx[0]], lista[indx[1]])\n",
    "    valor = [lista[2], lista[3]]\n",
    "   "
   ]
  },
  {
   "cell_type": "code",
   "execution_count": 16,
   "id": "bf6b106f",
   "metadata": {},
   "outputs": [
    {
     "data": {
      "text/html": [
       "<div>\n",
       "<style scoped>\n",
       "    .dataframe tbody tr th:only-of-type {\n",
       "        vertical-align: middle;\n",
       "    }\n",
       "\n",
       "    .dataframe tbody tr th {\n",
       "        vertical-align: top;\n",
       "    }\n",
       "\n",
       "    .dataframe thead th {\n",
       "        text-align: right;\n",
       "    }\n",
       "</style>\n",
       "<table border=\"1\" class=\"dataframe\">\n",
       "  <thead>\n",
       "    <tr style=\"text-align: right;\">\n",
       "      <th></th>\n",
       "      <th>llave</th>\n",
       "      <th>valor</th>\n",
       "    </tr>\n",
       "  </thead>\n",
       "  <tbody>\n",
       "    <tr>\n",
       "      <th>0</th>\n",
       "      <td>(1, 6)</td>\n",
       "      <td>[3, 20]</td>\n",
       "    </tr>\n",
       "    <tr>\n",
       "      <th>1</th>\n",
       "      <td>(8, 9)</td>\n",
       "      <td>[4, 11]</td>\n",
       "    </tr>\n",
       "    <tr>\n",
       "      <th>2</th>\n",
       "      <td>(9, 8)</td>\n",
       "      <td>[7, 12]</td>\n",
       "    </tr>\n",
       "  </tbody>\n",
       "</table>\n",
       "</div>"
      ],
      "text/plain": [
       "    llave    valor\n",
       "0  (1, 6)  [3, 20]\n",
       "1  (8, 9)  [4, 11]\n",
       "2  (9, 8)  [7, 12]"
      ]
     },
     "execution_count": 16,
     "metadata": {},
     "output_type": "execute_result"
    }
   ],
   "source": [
    "#df = pd.DataFrame([[key, dict_arr[key]] for key in dict_arr.keys()], columns=['llave', 'valor'])\n",
    "#df"
   ]
  },
  {
   "cell_type": "markdown",
   "id": "5e5948ae-bfb0-4aa7-8cc0-83970accb44a",
   "metadata": {},
   "source": [
    "## Copy your submited solution here:"
   ]
  },
  {
   "cell_type": "code",
   "execution_count": null,
   "id": "9b6cb2d8",
   "metadata": {},
   "outputs": [],
   "source": []
  },
  {
   "cell_type": "code",
   "execution_count": null,
   "id": "de8f88a1-897b-4b92-8c9f-e04d16cec21a",
   "metadata": {},
   "outputs": [],
   "source": []
  }
 ],
 "metadata": {
  "kernelspec": {
   "display_name": "Python 3 (ipykernel)",
   "language": "python",
   "name": "python3"
  },
  "language_info": {
   "codemirror_mode": {
    "name": "ipython",
    "version": 3
   },
   "file_extension": ".py",
   "mimetype": "text/x-python",
   "name": "python",
   "nbconvert_exporter": "python",
   "pygments_lexer": "ipython3",
   "version": "3.10.13"
  }
 },
 "nbformat": 4,
 "nbformat_minor": 5
}
