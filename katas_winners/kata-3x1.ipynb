{
 "cells": [
  {
   "cell_type": "markdown",
   "id": "a447b8b5-f16b-451f-b45c-47746f721e1e",
   "metadata": {},
   "source": [
    "# Kata:"
   ]
  },
  {
   "cell_type": "markdown",
   "id": "c7379b61-1f04-4fa2-8865-bf3e2c83b39e",
   "metadata": {},
   "source": [
    "https://www.codewars.com/kata/5811597e9d278beb04000038/train/sql"
   ]
  },
  {
   "cell_type": "markdown",
   "id": "6276f1a4-9c0b-41cb-992a-51fc4e35c197",
   "metadata": {},
   "source": [
    "https://www.codewars.com/kata/5e5f09dc0a17be0023920f6f/train/sql"
   ]
  },
  {
   "cell_type": "markdown",
   "id": "6db7d72d-5621-480e-ae3e-80564523b843",
   "metadata": {},
   "source": [
    "https://www.codewars.com/kata/582cba7d3be8ce3a8300007c/train/sql"
   ]
  },
  {
   "cell_type": "markdown",
   "id": "5e2a4659-1d95-44fb-b92c-4646b4da4e6f",
   "metadata": {},
   "source": [
    "## Your name or team members:"
   ]
  },
  {
   "cell_type": "code",
   "execution_count": null,
   "id": "29ead553-d8b4-41aa-937f-7fd045595855",
   "metadata": {},
   "outputs": [],
   "source": [
    "Elena Luque Reyes"
   ]
  },
  {
   "cell_type": "markdown",
   "id": "f04997cc-966d-4e06-8eb0-64ab376728f8",
   "metadata": {},
   "source": [
    "## Use the following cells to test your solution:"
   ]
  },
  {
   "cell_type": "code",
   "execution_count": null,
   "id": "4202edc5-f719-4068-96bd-55703a8a6c27",
   "metadata": {},
   "outputs": [],
   "source": []
  },
  {
   "cell_type": "code",
   "execution_count": null,
   "id": "1c1f6098-25a1-4805-a249-b833ca4a66a0",
   "metadata": {},
   "outputs": [],
   "source": []
  },
  {
   "cell_type": "markdown",
   "id": "5e5948ae-bfb0-4aa7-8cc0-83970accb44a",
   "metadata": {},
   "source": [
    "## Copy your submited solution here:"
   ]
  },
  {
   "cell_type": "code",
   "execution_count": null,
   "id": "de8f88a1-897b-4b92-8c9f-e04d16cec21a",
   "metadata": {},
   "outputs": [],
   "source": [
    "# 1º Kata\n",
    "\n",
    "SELECT\n",
    "    DATE(created_at) as \"day\"\n",
    "    , description\n",
    "    ,count(description)\n",
    "FROM events\n",
    "WHERE\n",
    "    name = 'trained'      # Filtro \n",
    "GROUP BY 1,2              # Group by day y description, sin count debido a que ya está agrupado"
   ]
  },
  {
   "cell_type": "code",
   "execution_count": null,
   "id": "1da456ad",
   "metadata": {},
   "outputs": [],
   "source": [
    "# 2º Kata\n",
    "\n",
    "SELECT\n",
    "    capital\n",
    "FROM countries\n",
    "WHERE country like 'E%'       # Como startwith\n",
    "and continent like 'Afri%a'   # El like se comporta buscando por coincidencia exacta en los demás string, % busca todas las opciones posibles\n",
    "ORDER BY capital              # Ordenar\n",
    "LIMIT 3                       # Top 3"
   ]
  },
  {
   "cell_type": "code",
   "execution_count": null,
   "id": "9278e5c0",
   "metadata": {},
   "outputs": [],
   "source": [
    "# 3º Kata\n",
    "\n",
    "#Corregir la kata de Timmys\n",
    "\n",
    "#SELECT \n",
    "#  s.transaction_date as day,\n",
    "#  d.name,\n",
    "#  COUNT(s.id)\n",
    "#  FROM department d\n",
    "#   JOIN sale s on d.id = s.id\n",
    "#  group by day, d.name\n",
    "#  order by name desc     \n",
    "    \n",
    "    \n",
    "SELECT\n",
    "  date(s.transaction_date) as \"day\",              # Para dejar solo el día en un timestamp\n",
    "  d.name as department,                           # Nombrar en la tabla resultante como department\n",
    "  count(s.id) as sale_count\n",
    "FROM department d\n",
    "  INNER JOIN sale s on d.id = s.department_id     # Para que darte la instersección añadir INNER - de la tabla de department lo que corresponda con el id de cada departamento\n",
    "group by 1,2\n",
    "order by day asc           # Orden ascendente"
   ]
  }
 ],
 "metadata": {
  "kernelspec": {
   "display_name": "Python 3 (ipykernel)",
   "language": "python",
   "name": "python3"
  },
  "language_info": {
   "codemirror_mode": {
    "name": "ipython",
    "version": 3
   },
   "file_extension": ".py",
   "mimetype": "text/x-python",
   "name": "python",
   "nbconvert_exporter": "python",
   "pygments_lexer": "ipython3",
   "version": "3.9.18"
  }
 },
 "nbformat": 4,
 "nbformat_minor": 5
}
