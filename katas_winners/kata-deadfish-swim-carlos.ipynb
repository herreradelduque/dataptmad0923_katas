{
 "cells": [
  {
   "cell_type": "markdown",
   "id": "a447b8b5-f16b-451f-b45c-47746f721e1e",
   "metadata": {},
   "source": [
    "# Kata:"
   ]
  },
  {
   "cell_type": "markdown",
   "id": "c7379b61-1f04-4fa2-8865-bf3e2c83b39e",
   "metadata": {},
   "source": [
    "https://www.codewars.com/kata/51e0007c1f9378fa810002a9/train/python"
   ]
  },
  {
   "cell_type": "markdown",
   "id": "5e2a4659-1d95-44fb-b92c-4646b4da4e6f",
   "metadata": {},
   "source": [
    "## Your name or team members:"
   ]
  },
  {
   "cell_type": "code",
   "execution_count": null,
   "id": "29ead553-d8b4-41aa-937f-7fd045595855",
   "metadata": {},
   "outputs": [],
   "source": [
    "#Carlos"
   ]
  },
  {
   "cell_type": "markdown",
   "id": "f04997cc-966d-4e06-8eb0-64ab376728f8",
   "metadata": {},
   "source": [
    "## Use the following cells to test your solution:"
   ]
  },
  {
   "cell_type": "code",
   "execution_count": null,
   "id": "4202edc5-f719-4068-96bd-55703a8a6c27",
   "metadata": {},
   "outputs": [],
   "source": [
    "#Solution\n",
    "# parse(\"iiisdoso\")  ==>  [8, 64]"
   ]
  },
  {
   "cell_type": "code",
   "execution_count": 4,
   "id": "1c1f6098-25a1-4805-a249-b833ca4a66a0",
   "metadata": {},
   "outputs": [
    {
     "name": "stdout",
     "output_type": "stream",
     "text": [
      "i\n",
      "0\n",
      "i\n",
      "1\n",
      "i\n",
      "2\n",
      "s\n",
      "9\n",
      "d\n",
      "8\n",
      "o\n",
      "8\n",
      "[8]\n",
      "s\n",
      "64\n",
      "o\n",
      "64\n",
      "[8, 64]\n",
      "[8, 64]\n"
     ]
    }
   ],
   "source": [
    "data = \"iiisdoso\"\n",
    "count = 0\n",
    "lista = []\n",
    "\n",
    "for letter in data:\n",
    "    print(letter)\n",
    "    if letter == 'i':\n",
    "        print(count)\n",
    "        count += 1\n",
    "    elif letter == 'd':\n",
    "        count -= 1\n",
    "        print(count)\n",
    "    elif letter == 's':\n",
    "        count = count**2\n",
    "        print(count)\n",
    "    elif letter == 'o':\n",
    "        lista.append(count)\n",
    "        print(count)\n",
    "        print(lista)\n",
    "\n",
    "print(lista)"
   ]
  },
  {
   "cell_type": "markdown",
   "id": "5e5948ae-bfb0-4aa7-8cc0-83970accb44a",
   "metadata": {},
   "source": [
    "def parse(data):\n",
    "    count = 0\n",
    "    lista = []\n",
    "\n",
    "    for letter in data:\n",
    "        if letter == 'i':\n",
    "            count += 1\n",
    "        elif letter == 'd':\n",
    "            count -= 1\n",
    "        elif letter == 's':\n",
    "            count = count**2\n",
    "        elif letter == 'o':\n",
    "            lista.append(count)\n",
    "\n",
    "    return lista"
   ]
  },
  {
   "cell_type": "code",
   "execution_count": null,
   "id": "de8f88a1-897b-4b92-8c9f-e04d16cec21a",
   "metadata": {},
   "outputs": [],
   "source": [
    "# SOLUTION\n",
    "def parse(data):\n",
    "    count = 0   #Create empty variable to store the value of the count\n",
    "    lista = []  #Create empty list to store the result\n",
    "\n",
    "    for letter in data:\n",
    "        #If letter='i' increment count\n",
    "        if letter == 'i':    \n",
    "            count += 1\n",
    "            \n",
    "         #If letter='d' decrement count\n",
    "        elif letter == 'd':  \n",
    "            count -= 1\n",
    "            \n",
    "        #If letter='s', it necesary to do the square of the count and store de value in count    \n",
    "        elif letter == 's':   \n",
    "            count = count**2\n",
    "            \n",
    "        #If letter='o', store the value of the count in the list, and continuous with the operation if data has more letters\n",
    "        elif letter == 'o':\n",
    "            lista.append(count)\n",
    "\n",
    "    return lista   #Return the result"
   ]
  }
 ],
 "metadata": {
  "kernelspec": {
   "display_name": "Python (m1_env)",
   "language": "python",
   "name": "m1_env"
  },
  "language_info": {
   "codemirror_mode": {
    "name": "ipython",
    "version": 3
   },
   "file_extension": ".py",
   "mimetype": "text/x-python",
   "name": "python",
   "nbconvert_exporter": "python",
   "pygments_lexer": "ipython3",
   "version": "3.10.13"
  }
 },
 "nbformat": 4,
 "nbformat_minor": 5
}
