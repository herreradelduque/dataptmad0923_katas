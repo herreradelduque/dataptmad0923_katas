{
 "cells": [
  {
   "cell_type": "markdown",
   "id": "a447b8b5-f16b-451f-b45c-47746f721e1e",
   "metadata": {},
   "source": [
    "# Kata:"
   ]
  },
  {
   "cell_type": "markdown",
   "id": "48a45efa-ec98-48ae-b19c-84cddd1144ab",
   "metadata": {},
   "source": [
    "https://www.codewars.com/kata/53da3dbb4a5168369a0000fe/train/python"
   ]
  },
  {
   "cell_type": "markdown",
   "id": "5e2a4659-1d95-44fb-b92c-4646b4da4e6f",
   "metadata": {},
   "source": [
    "## Your name or team members:"
   ]
  },
  {
   "cell_type": "code",
   "execution_count": null,
   "id": "29ead553-d8b4-41aa-937f-7fd045595855",
   "metadata": {},
   "outputs": [],
   "source": [
    "Silvia Alcon Garrido"
   ]
  },
  {
   "cell_type": "markdown",
   "id": "f04997cc-966d-4e06-8eb0-64ab376728f8",
   "metadata": {},
   "source": [
    "## Use the following cells to test your solution:"
   ]
  },
  {
   "cell_type": "code",
   "execution_count": 3,
   "id": "4202edc5-f719-4068-96bd-55703a8a6c27",
   "metadata": {},
   "outputs": [
    {
     "ename": "NameError",
     "evalue": "name 'numero' is not defined",
     "output_type": "error",
     "traceback": [
      "\u001b[0;31m---------------------------------------------------------------------------\u001b[0m",
      "\u001b[0;31mNameError\u001b[0m                                 Traceback (most recent call last)",
      "Input \u001b[0;32mIn [3]\u001b[0m, in \u001b[0;36m<cell line: 7>\u001b[0;34m()\u001b[0m\n\u001b[1;32m      5\u001b[0m     \u001b[38;5;28;01melse\u001b[39;00m:\n\u001b[1;32m      6\u001b[0m         \u001b[38;5;28mprint\u001b[39m(\u001b[38;5;124m'\u001b[39m\u001b[38;5;124modd\u001b[39m\u001b[38;5;124m'\u001b[39m)\n\u001b[0;32m----> 7\u001b[0m even_or_odd(\u001b[43mnumero\u001b[49m)\n",
      "\u001b[0;31mNameError\u001b[0m: name 'numero' is not defined"
     ]
    }
   ],
   "source": [
    "def even_or_odd(number):\n",
    "    numero = int(input('Dime un numero'))\n",
    "    if n %2 == 0:\n",
    "        print('even')\n",
    "    else:\n",
    "        print('odd')\n",
    "even_or_odd(numero)"
   ]
  },
  {
   "cell_type": "code",
   "execution_count": 5,
   "id": "1c1f6098-25a1-4805-a249-b833ca4a66a0",
   "metadata": {},
   "outputs": [
    {
     "name": "stdout",
     "output_type": "stream",
     "text": [
      "even\n"
     ]
    }
   ],
   "source": [
    "def even_or_odd(number):\n",
    "    if number %2 == 0:\n",
    "        print('even')\n",
    "    else:\n",
    "        print('odd')\n",
    "even_or_odd(2)"
   ]
  },
  {
   "cell_type": "code",
   "execution_count": 7,
   "id": "d7bc9ec8",
   "metadata": {},
   "outputs": [
    {
     "name": "stdout",
     "output_type": "stream",
     "text": [
      "is a even number\n"
     ]
    }
   ],
   "source": [
    "def even_or_odd(number):\n",
    "    if number == 0:\n",
    "        print('0 is neither even nor odd')\n",
    "    elif (number % 2) == 0:\n",
    "        print('is a even number')\n",
    "    else:\n",
    "        print('is a odd number')\n",
    "even_or_odd(2)"
   ]
  },
  {
   "cell_type": "code",
   "execution_count": 14,
   "id": "d815c072",
   "metadata": {},
   "outputs": [
    {
     "name": "stdout",
     "output_type": "stream",
     "text": [
      "Te devuelvo un numero par\n"
     ]
    }
   ],
   "source": [
    "def even_or_odd(number):\n",
    "    if number == 0:\n",
    "        (number % 2) == 0\n",
    "        print('Te devuelvo un numero impar')\n",
    "    elif (number % 2) == 0:\n",
    "        (number % 2) != 0\n",
    "        print('Te devuelvo un numero par')\n",
    "    else:\n",
    "        print('is a odd number')\n",
    "even_or_odd(2)"
   ]
  },
  {
   "cell_type": "markdown",
   "id": "5e5948ae-bfb0-4aa7-8cc0-83970accb44a",
   "metadata": {},
   "source": [
    "## Copy your submited solution here:"
   ]
  },
  {
   "cell_type": "code",
   "execution_count": null,
   "id": "de8f88a1-897b-4b92-8c9f-e04d16cec21a",
   "metadata": {},
   "outputs": [],
   "source": [
    "def even_or_odd(number):\n",
    "    if number % 2 == 0:\n",
    "        return('Even')\n",
    "    else:\n",
    "        return('Odd')\n"
   ]
  }
 ],
 "metadata": {
  "kernelspec": {
   "display_name": "Python 3 (ipykernel)",
   "language": "python",
   "name": "python3"
  },
  "language_info": {
   "codemirror_mode": {
    "name": "ipython",
    "version": 3
   },
   "file_extension": ".py",
   "mimetype": "text/x-python",
   "name": "python",
   "nbconvert_exporter": "python",
   "pygments_lexer": "ipython3",
   "version": "3.10.13"
  }
 },
 "nbformat": 4,
 "nbformat_minor": 5
}
