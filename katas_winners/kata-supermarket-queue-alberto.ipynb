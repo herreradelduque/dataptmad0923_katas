{
 "cells": [
  {
   "cell_type": "markdown",
   "id": "a447b8b5-f16b-451f-b45c-47746f721e1e",
   "metadata": {},
   "source": [
    "# Kata:"
   ]
  },
  {
   "cell_type": "markdown",
   "id": "c7379b61-1f04-4fa2-8865-bf3e2c83b39e",
   "metadata": {},
   "source": [
    "https://www.codewars.com/kata/57b06f90e298a7b53d000a86/train/python"
   ]
  },
  {
   "cell_type": "markdown",
   "id": "5e2a4659-1d95-44fb-b92c-4646b4da4e6f",
   "metadata": {},
   "source": [
    "## Your name or team members:"
   ]
  },
  {
   "cell_type": "code",
   "execution_count": 1,
   "id": "29ead553-d8b4-41aa-937f-7fd045595855",
   "metadata": {},
   "outputs": [],
   "source": [
    "#Alberto & Rodrigo"
   ]
  },
  {
   "cell_type": "markdown",
   "id": "f04997cc-966d-4e06-8eb0-64ab376728f8",
   "metadata": {},
   "source": [
    "## Use the following cells to test your solution:"
   ]
  },
  {
   "cell_type": "code",
   "execution_count": null,
   "id": "4202edc5-f719-4068-96bd-55703a8a6c27",
   "metadata": {},
   "outputs": [],
   "source": [
    "def queue_time(cus, n):\n",
    "    time = 0\n",
    "    while cus != []:\n",
    "        time += 1\n",
    "        cus = [ x -1 for x in cus[:n]] + cus[n:]\n",
    "        cus = [x for x in cus if x != 0]\n",
    "    return time"
   ]
  },
  {
   "cell_type": "code",
   "execution_count": 8,
   "id": "1c1f6098-25a1-4805-a249-b833ca4a66a0",
   "metadata": {},
   "outputs": [
    {
     "data": {
      "text/plain": [
       "11"
      ]
     },
     "execution_count": 8,
     "metadata": {},
     "output_type": "execute_result"
    }
   ],
   "source": [
    "cus = [6,3,6,7,8,6,5,4,3]\n",
    "queue_time(cus,5)"
   ]
  },
  {
   "cell_type": "code",
   "execution_count": null,
   "id": "e7bd9c80",
   "metadata": {},
   "outputs": [],
   "source": [
    "def queue_time(cus, n): \n",
    "    \"\"\"\n",
    "    Tenemos una funcion con dos parametros, \n",
    "    el primero es una lista que tenemos que definir antes de ejecutar la funcion y el segundo un integer\n",
    "    time = 0.\n",
    "    \n",
    "    Definimos el valor inicial del tiempo que tardarán en 0\n",
    "    \"\"\"\n",
    "    time = [0]\n",
    "    \n",
    "    \"\"\"\n",
    "    con un while loop repetimos la operacion que se \n",
    "    realiza cada minuto mientras todavia tengamos clientes en la cola\n",
    "    \"\"\"\n",
    "    while cus != []:\n",
    "        time += 1 \n",
    "    \"\"\"\n",
    "    a cada vuelta del while le sumamos un minuto de tiempo\n",
    "    \"\"\"\n",
    "        cus = [ x -1 for x in cus[:n]] + cus[n:] \n",
    "        \"\"\"\n",
    "        identificamos a los clientes que estan siendo atendidos mediante \n",
    "        un slicing y al tiempo pendiente de estos le restamos un minuto. el resto de clientes los dejamos igual.\n",
    "        \"\"\"\n",
    "        cus = [x for x in cus if x != 0] #\n",
    "        \"\"\"\n",
    "        eliminamos los clientes que han terminado == su tiempo es 0\n",
    "        \"\"\"\n",
    "        \n",
    "    return time \n",
    "    \"\"\"\"\n",
    "    devuelvenos el numero de ciclos == tiempo que has tardado en dejar la lista cus vacía.\n",
    "    \"\"\""
   ]
  },
  {
   "cell_type": "markdown",
   "id": "5e5948ae-bfb0-4aa7-8cc0-83970accb44a",
   "metadata": {},
   "source": [
    "## Copy your submited solution here:"
   ]
  },
  {
   "cell_type": "code",
   "execution_count": 5,
   "id": "de8f88a1-897b-4b92-8c9f-e04d16cec21a",
   "metadata": {},
   "outputs": [],
   "source": [
    "def queue_time(cus, n):\n",
    "    time = 0\n",
    "    while cus != []:\n",
    "        time += 1\n",
    "        cus = [ x -1 for x in cus[:n]] + cus[n:]\n",
    "        cus = [x for x in cus if x != 0]\n",
    "    return time"
   ]
  }
 ],
 "metadata": {
  "kernelspec": {
   "display_name": "Python 3 (ipykernel)",
   "language": "python",
   "name": "python3"
  },
  "language_info": {
   "codemirror_mode": {
    "name": "ipython",
    "version": 3
   },
   "file_extension": ".py",
   "mimetype": "text/x-python",
   "name": "python",
   "nbconvert_exporter": "python",
   "pygments_lexer": "ipython3",
   "version": "3.9.18"
  }
 },
 "nbformat": 4,
 "nbformat_minor": 5
}
