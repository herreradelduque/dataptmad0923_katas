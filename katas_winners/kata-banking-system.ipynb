{
 "cells": [
  {
   "cell_type": "markdown",
   "id": "a447b8b5-f16b-451f-b45c-47746f721e1e",
   "metadata": {},
   "source": [
    "# Kata:"
   ]
  },
  {
   "cell_type": "markdown",
   "id": "c7379b61-1f04-4fa2-8865-bf3e2c83b39e",
   "metadata": {},
   "source": [
    "https://www.codewars.com/kata/5a03af9606d5b65ff7000009/train/python"
   ]
  },
  {
   "cell_type": "markdown",
   "id": "5e2a4659-1d95-44fb-b92c-4646b4da4e6f",
   "metadata": {},
   "source": [
    "## Your name or team members:"
   ]
  },
  {
   "cell_type": "code",
   "execution_count": null,
   "id": "29ead553-d8b4-41aa-937f-7fd045595855",
   "metadata": {},
   "outputs": [],
   "source": []
  },
  {
   "cell_type": "markdown",
   "id": "f04997cc-966d-4e06-8eb0-64ab376728f8",
   "metadata": {},
   "source": [
    "## Use the following cells to test your solution:"
   ]
  },
  {
   "cell_type": "code",
   "execution_count": null,
   "id": "4202edc5-f719-4068-96bd-55703a8a6c27",
   "metadata": {},
   "outputs": [],
   "source": [
    " company is opening a bank, but the coder who is designing the user class made some errors. They need you to help them.\n",
    "\n",
    "You must include the following:\n",
    "Note: These are NOT steps to code the class\n",
    "\n",
    "A withdraw method\n",
    "Subtracts money from balance\n",
    "One parameter, money to withdraw\n",
    "Raise a ValueError if there isn't enough money to withdraw\n",
    "Return a string with name and balance(see examples)\n",
    "A check method\n",
    "Adds money to balance\n",
    "Two parameters, other user and money\n",
    "Other user will always be valid\n",
    "Raise a ValueError if other user doesn't have enough money\n",
    "Raise a ValueError if checking_account isn't true for other user\n",
    "Return a string with name and balance plus other name and other balance(see examples)\n",
    "An add_cash method\n",
    "Adds money to balance\n",
    "One parameter, money to add\n",
    "Return a string with name and balance(see examples)\n",
    "Additional Notes:\n",
    "\n",
    "Checking_account should be stored as a boolean\n",
    "No input numbers will be negative\n",
    "Output must end with a period\n",
    "Float numbers will not be used so, balance should be integer\n",
    "No currency will be used\n",
    "Examples:\n",
    "\n",
    "Jeff = User('Jeff', 70, True)\n",
    "Joe = User('Joe', 70, False)\n",
    "\n",
    "Jeff.withdraw(2) # Returns 'Jeff has 68.'\n",
    "\n",
    "Joe.check(Jeff, 50) # Returns 'Joe has 120 and Jeff has 18.'\n",
    "\n",
    "Jeff.check(Joe, 80) # Raises a ValueError\n",
    "\n",
    "Joe.checking_account = True # Enables checking for Joe\n",
    "\n",
    "Jeff.check(Joe, 80) # Returns 'Jeff has 98 and Joe has 40'\n",
    "\n",
    "Joe.check(Jeff, 100) # Raises a ValueError\n",
    "\n",
    "Jeff.add_cash(20.00) # Returns 'Jeff has 118.'"
   ]
  },
  {
   "cell_type": "code",
   "execution_count": null,
   "id": "1c1f6098-25a1-4805-a249-b833ca4a66a0",
   "metadata": {},
   "outputs": [],
   "source": []
  },
  {
   "cell_type": "markdown",
   "id": "5e5948ae-bfb0-4aa7-8cc0-83970accb44a",
   "metadata": {},
   "source": [
    "## Copy your submited solution here:"
   ]
  },
  {
   "cell_type": "code",
   "execution_count": null,
   "id": "de8f88a1-897b-4b92-8c9f-e04d16cec21a",
   "metadata": {},
   "outputs": [],
   "source": []
  }
 ],
 "metadata": {
  "kernelspec": {
   "display_name": "Python 3 (ipykernel)",
   "language": "python",
   "name": "python3"
  },
  "language_info": {
   "codemirror_mode": {
    "name": "ipython",
    "version": 3
   },
   "file_extension": ".py",
   "mimetype": "text/x-python",
   "name": "python",
   "nbconvert_exporter": "python",
   "pygments_lexer": "ipython3",
   "version": "3.10.13"
  }
 },
 "nbformat": 4,
 "nbformat_minor": 5
}
