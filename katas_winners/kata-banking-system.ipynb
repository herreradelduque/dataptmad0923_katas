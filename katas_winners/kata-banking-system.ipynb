{
 "cells": [
  {
   "cell_type": "markdown",
   "id": "a447b8b5-f16b-451f-b45c-47746f721e1e",
   "metadata": {},
   "source": [
    "# Kata:"
   ]
  },
  {
   "cell_type": "markdown",
   "id": "c7379b61-1f04-4fa2-8865-bf3e2c83b39e",
   "metadata": {},
   "source": [
    "https://www.codewars.com/kata/5a03af9606d5b65ff7000009/train/python"
   ]
  },
  {
   "cell_type": "markdown",
   "id": "5e2a4659-1d95-44fb-b92c-4646b4da4e6f",
   "metadata": {},
   "source": [
    "## Your name or team members:"
   ]
  },
  {
   "cell_type": "code",
   "execution_count": null,
   "id": "29ead553-d8b4-41aa-937f-7fd045595855",
   "metadata": {},
   "outputs": [],
   "source": [
    "Silvia Martínez, Elena Luque"
   ]
  },
  {
   "cell_type": "markdown",
   "id": "f04997cc-966d-4e06-8eb0-64ab376728f8",
   "metadata": {},
   "source": [
    "## Use the following cells to test your solution:"
   ]
  },
  {
   "cell_type": "code",
   "execution_count": 6,
   "id": "4202edc5-f719-4068-96bd-55703a8a6c27",
   "metadata": {},
   "outputs": [],
   "source": [
    "Jeff = User('Jeff', 70, True)\n",
    "Joe = User('Joe', 70, False)"
   ]
  },
  {
   "cell_type": "code",
   "execution_count": 7,
   "id": "5d9b7252",
   "metadata": {},
   "outputs": [
    {
     "data": {
      "text/plain": [
       "'Jeff has 68.'"
      ]
     },
     "execution_count": 7,
     "metadata": {},
     "output_type": "execute_result"
    }
   ],
   "source": [
    "Jeff.withdraw(2) # Returns 'Jeff has 68.'"
   ]
  },
  {
   "cell_type": "code",
   "execution_count": 8,
   "id": "474376b8",
   "metadata": {},
   "outputs": [
    {
     "data": {
      "text/plain": [
       "'Joe has 120 and Jeff has 18.'"
      ]
     },
     "execution_count": 8,
     "metadata": {},
     "output_type": "execute_result"
    }
   ],
   "source": [
    "Joe.check(Jeff, 50) # Returns 'Joe has 120 and Jeff has 18.'"
   ]
  },
  {
   "cell_type": "code",
   "execution_count": 9,
   "id": "748f57c5",
   "metadata": {},
   "outputs": [
    {
     "ename": "ValueError",
     "evalue": "Is not true for other user.",
     "output_type": "error",
     "traceback": [
      "\u001b[0;31m---------------------------------------------------------------------------\u001b[0m",
      "\u001b[0;31mValueError\u001b[0m                                Traceback (most recent call last)",
      "Input \u001b[0;32mIn [9]\u001b[0m, in \u001b[0;36m<cell line: 1>\u001b[0;34m()\u001b[0m\n\u001b[0;32m----> 1\u001b[0m \u001b[43mJeff\u001b[49m\u001b[38;5;241;43m.\u001b[39;49m\u001b[43mcheck\u001b[49m\u001b[43m(\u001b[49m\u001b[43mJoe\u001b[49m\u001b[43m,\u001b[49m\u001b[43m \u001b[49m\u001b[38;5;241;43m80\u001b[39;49m\u001b[43m)\u001b[49m\n",
      "Input \u001b[0;32mIn [5]\u001b[0m, in \u001b[0;36mUser.check\u001b[0;34m(self, other_user, transf_money)\u001b[0m\n\u001b[1;32m     12\u001b[0m \u001b[38;5;28;01mdef\u001b[39;00m \u001b[38;5;21mcheck\u001b[39m(\u001b[38;5;28mself\u001b[39m, other_user, transf_money):\n\u001b[1;32m     13\u001b[0m     \u001b[38;5;28;01mif\u001b[39;00m other_user\u001b[38;5;241m.\u001b[39mchecking_account \u001b[38;5;241m==\u001b[39m \u001b[38;5;28;01mFalse\u001b[39;00m:\n\u001b[0;32m---> 14\u001b[0m         \u001b[38;5;28;01mraise\u001b[39;00m \u001b[38;5;167;01mValueError\u001b[39;00m(\u001b[38;5;124m\"\u001b[39m\u001b[38;5;124mIs not true for other user.\u001b[39m\u001b[38;5;124m\"\u001b[39m)\n\u001b[1;32m     15\u001b[0m     \u001b[38;5;28;01melif\u001b[39;00m other_user\u001b[38;5;241m.\u001b[39mbalance \u001b[38;5;241m<\u001b[39m transf_money:\n\u001b[1;32m     16\u001b[0m         \u001b[38;5;28;01mraise\u001b[39;00m \u001b[38;5;167;01mValueError\u001b[39;00m(\u001b[38;5;124m\"\u001b[39m\u001b[38;5;124mThe other user has not enough money.\u001b[39m\u001b[38;5;124m\"\u001b[39m)\n",
      "\u001b[0;31mValueError\u001b[0m: Is not true for other user."
     ]
    }
   ],
   "source": [
    "Jeff.check(Joe, 80) # Raises a ValueError"
   ]
  },
  {
   "cell_type": "code",
   "execution_count": 11,
   "id": "e27ebc45",
   "metadata": {},
   "outputs": [],
   "source": [
    "Joe.checking_account = True # Enables checking for Joe"
   ]
  },
  {
   "cell_type": "code",
   "execution_count": 12,
   "id": "7d700206",
   "metadata": {},
   "outputs": [
    {
     "data": {
      "text/plain": [
       "'Jeff has 98 and Joe has 40.'"
      ]
     },
     "execution_count": 12,
     "metadata": {},
     "output_type": "execute_result"
    }
   ],
   "source": [
    "Jeff.check(Joe, 80) # Returns 'Jeff has 98 and Joe has 40'"
   ]
  },
  {
   "cell_type": "code",
   "execution_count": 13,
   "id": "8c4f9cc2",
   "metadata": {},
   "outputs": [
    {
     "ename": "ValueError",
     "evalue": "The other user has not enough money.",
     "output_type": "error",
     "traceback": [
      "\u001b[0;31m---------------------------------------------------------------------------\u001b[0m",
      "\u001b[0;31mValueError\u001b[0m                                Traceback (most recent call last)",
      "Input \u001b[0;32mIn [13]\u001b[0m, in \u001b[0;36m<cell line: 1>\u001b[0;34m()\u001b[0m\n\u001b[0;32m----> 1\u001b[0m \u001b[43mJoe\u001b[49m\u001b[38;5;241;43m.\u001b[39;49m\u001b[43mcheck\u001b[49m\u001b[43m(\u001b[49m\u001b[43mJeff\u001b[49m\u001b[43m,\u001b[49m\u001b[43m \u001b[49m\u001b[38;5;241;43m100\u001b[39;49m\u001b[43m)\u001b[49m\n",
      "Input \u001b[0;32mIn [5]\u001b[0m, in \u001b[0;36mUser.check\u001b[0;34m(self, other_user, transf_money)\u001b[0m\n\u001b[1;32m     14\u001b[0m     \u001b[38;5;28;01mraise\u001b[39;00m \u001b[38;5;167;01mValueError\u001b[39;00m(\u001b[38;5;124m\"\u001b[39m\u001b[38;5;124mIs not true for other user.\u001b[39m\u001b[38;5;124m\"\u001b[39m)\n\u001b[1;32m     15\u001b[0m \u001b[38;5;28;01melif\u001b[39;00m other_user\u001b[38;5;241m.\u001b[39mbalance \u001b[38;5;241m<\u001b[39m transf_money:\n\u001b[0;32m---> 16\u001b[0m     \u001b[38;5;28;01mraise\u001b[39;00m \u001b[38;5;167;01mValueError\u001b[39;00m(\u001b[38;5;124m\"\u001b[39m\u001b[38;5;124mThe other user has not enough money.\u001b[39m\u001b[38;5;124m\"\u001b[39m)\n\u001b[1;32m     17\u001b[0m \u001b[38;5;28;01melse\u001b[39;00m:\n\u001b[1;32m     18\u001b[0m     \u001b[38;5;28mself\u001b[39m\u001b[38;5;241m.\u001b[39mbalance \u001b[38;5;241m+\u001b[39m\u001b[38;5;241m=\u001b[39m transf_money\n",
      "\u001b[0;31mValueError\u001b[0m: The other user has not enough money."
     ]
    }
   ],
   "source": [
    "Joe.check(Jeff, 100) # Raises a ValueError"
   ]
  },
  {
   "cell_type": "code",
   "execution_count": 14,
   "id": "2fb4f814",
   "metadata": {},
   "outputs": [
    {
     "data": {
      "text/plain": [
       "'Jeff has 118.0.'"
      ]
     },
     "execution_count": 14,
     "metadata": {},
     "output_type": "execute_result"
    }
   ],
   "source": [
    "Jeff.add_cash(20.00) # Returns 'Jeff has 118.'"
   ]
  },
  {
   "cell_type": "code",
   "execution_count": 5,
   "id": "1c1f6098-25a1-4805-a249-b833ca4a66a0",
   "metadata": {},
   "outputs": [],
   "source": [
    "class User(object):\n",
    "    def __init__(self, name, balance, checking_account):\n",
    "        self.name = name\n",
    "        self.balance = balance\n",
    "        self.checking_account = checking_account\n",
    "    def withdraw(self, withdraw):\n",
    "        if self.balance < withdraw:\n",
    "            raise ValueError(\"There is not enough money.\")\n",
    "        else:\n",
    "            self.balance -= withdraw\n",
    "            return f\"{self.name} has {self.balance}.\"\n",
    "    def check(self, other_user, transf_money):\n",
    "        if other_user.checking_account == False:\n",
    "            raise ValueError(\"Is not true for other user.\")\n",
    "        elif other_user.balance < transf_money:\n",
    "            raise ValueError(\"The other user has not enough money.\")\n",
    "        else:\n",
    "            self.balance += transf_money\n",
    "            other_user.balance -= transf_money\n",
    "            return f\"{self.name} has {self.balance} and {other_user.name} has {other_user.balance}.\"\n",
    "    def add_cash(self, money):\n",
    "        self.balance += money\n",
    "        return f\"{self.name} has {self.balance}.\""
   ]
  },
  {
   "cell_type": "markdown",
   "id": "5e5948ae-bfb0-4aa7-8cc0-83970accb44a",
   "metadata": {},
   "source": [
    "## Copy your submited solution here:"
   ]
  },
  {
   "cell_type": "code",
   "execution_count": null,
   "id": "de8f88a1-897b-4b92-8c9f-e04d16cec21a",
   "metadata": {},
   "outputs": [],
   "source": [
    "class User(object):\n",
    "    def __init__(self, name, balance, checking_account):\n",
    "        self.name = name\n",
    "        self.balance = balance\n",
    "        self.checking_account = checking_account\n",
    "    def withdraw(self, withdraw):\n",
    "        if self.balance < withdraw:\n",
    "            raise ValueError(\"There is not enough money.\")\n",
    "        else:\n",
    "            self.balance -= withdraw\n",
    "            return f\"{self.name} has {self.balance}.\"\n",
    "    def check(self, other_user, transf_money):\n",
    "        if other_user.checking_account == False:\n",
    "            raise ValueError(\"Is not true for other user.\")\n",
    "        elif other_user.balance < transf_money:\n",
    "            raise ValueError(\"The other user has not enough money.\")\n",
    "        else:\n",
    "            self.balance += transf_money\n",
    "            other_user.balance -= transf_money\n",
    "            return f\"{self.name} has {self.balance} and {other_user.name} has {other_user.balance}.\"\n",
    "    def add_cash(self, money):\n",
    "        self.balance += money\n",
    "        return f\"{self.name} has {self.balance}.\""
   ]
  }
 ],
 "metadata": {
  "kernelspec": {
   "display_name": "Python 3 (ipykernel)",
   "language": "python",
   "name": "python3"
  },
  "language_info": {
   "codemirror_mode": {
    "name": "ipython",
    "version": 3
   },
   "file_extension": ".py",
   "mimetype": "text/x-python",
   "name": "python",
   "nbconvert_exporter": "python",
   "pygments_lexer": "ipython3",
   "version": "3.10.13"
  }
 },
 "nbformat": 4,
 "nbformat_minor": 5
}
