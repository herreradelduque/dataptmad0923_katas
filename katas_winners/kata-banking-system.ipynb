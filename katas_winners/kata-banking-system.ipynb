{
 "cells": [
  {
   "cell_type": "markdown",
   "id": "a447b8b5-f16b-451f-b45c-47746f721e1e",
   "metadata": {},
   "source": [
    "# Kata:"
   ]
  },
  {
   "cell_type": "markdown",
   "id": "c7379b61-1f04-4fa2-8865-bf3e2c83b39e",
   "metadata": {},
   "source": [
    "https://www.codewars.com/kata/5a03af9606d5b65ff7000009/train/python"
   ]
  },
  {
   "cell_type": "markdown",
   "id": "5e2a4659-1d95-44fb-b92c-4646b4da4e6f",
   "metadata": {},
   "source": [
    "## Your name or team members:"
   ]
  },
  {
   "cell_type": "code",
   "execution_count": null,
   "id": "29ead553-d8b4-41aa-937f-7fd045595855",
   "metadata": {},
   "outputs": [],
   "source": [
    "Silvia Alcon Garrido"
   ]
  },
  {
   "cell_type": "markdown",
   "id": "f04997cc-966d-4e06-8eb0-64ab376728f8",
   "metadata": {},
   "source": [
    "## Use the following cells to test your solution:"
   ]
  },
  {
   "cell_type": "code",
   "execution_count": 2,
   "id": "4202edc5-f719-4068-96bd-55703a8a6c27",
   "metadata": {},
   "outputs": [],
   "source": [
    "class User(object):\n",
    "    def __init__(self, \n",
    "                 name, \n",
    "                 balance, \n",
    "                 checking_account):\n",
    "        \n",
    "        self.name = name\n",
    "        self.balance = balance\n",
    "        self.checking_account = checking_account\n",
    "        \n",
    "        \n",
    "        \n",
    "    #Happy coding\n",
    "Jeff = User(name = 'Jeff',\n",
    "            balance = 70,\n",
    "            checking_account = True)\n",
    "Joe = User(name = 'Joe',\n",
    "           balance = 70,\n",
    "           checking_account = True)"
   ]
  },
  {
   "cell_type": "code",
   "execution_count": 3,
   "id": "1c1f6098-25a1-4805-a249-b833ca4a66a0",
   "metadata": {},
   "outputs": [
    {
     "data": {
      "text/plain": [
       "__main__.User"
      ]
     },
     "execution_count": 3,
     "metadata": {},
     "output_type": "execute_result"
    }
   ],
   "source": [
    "type(Jeff)\n"
   ]
  },
  {
   "cell_type": "code",
   "execution_count": 18,
   "id": "1248277b",
   "metadata": {},
   "outputs": [
    {
     "data": {
      "text/plain": [
       "'Jeff has 144.'"
      ]
     },
     "execution_count": 18,
     "metadata": {},
     "output_type": "execute_result"
    }
   ],
   "source": [
    "def withdraw(self, money_to_withdraw):\n",
    "    if self.balance - money_to_withdraw < 0:\n",
    "        raise ValueError('No money')\n",
    "    else:\n",
    "        self.balance -= money_to_withdraw\n",
    "        return '{} has {}.'.format(self.name,self.balance)\n",
    "withdraw(Jeff, 2)\n"
   ]
  },
  {
   "cell_type": "code",
   "execution_count": 16,
   "id": "fcf77d12",
   "metadata": {},
   "outputs": [
    {
     "data": {
      "text/plain": [
       "'Joe has 90 and Jeff has 66 .'"
      ]
     },
     "execution_count": 16,
     "metadata": {},
     "output_type": "execute_result"
    }
   ],
   "source": [
    "def check(self, other_user, transf_money):\n",
    "    if(other_user.checking_account) == False:\n",
    "        raise ValueError('No account')\n",
    "    elif transf_money > other_user.balance:\n",
    "        raise ValueError('No money')\n",
    "    else:\n",
    "        self.balance += transf_money\n",
    "        other_user.balance -= transf_money\n",
    "        return '{} has {} and {} has {}.'.format(self.name,self.balance, other_user.name,other_user.balance)\n",
    "\n",
    "check(Joe, Jeff, 50)\n"
   ]
  },
  {
   "cell_type": "code",
   "execution_count": 17,
   "id": "823f523c",
   "metadata": {},
   "outputs": [
    {
     "data": {
      "text/plain": [
       "'Jeff has 146 and Joe has 10 .'"
      ]
     },
     "execution_count": 17,
     "metadata": {},
     "output_type": "execute_result"
    }
   ],
   "source": [
    "check(Jeff, Joe, 80)"
   ]
  },
  {
   "cell_type": "code",
   "execution_count": 13,
   "id": "a1d15125",
   "metadata": {},
   "outputs": [
    {
     "data": {
      "text/plain": [
       "'Jeff has 118'"
      ]
     },
     "execution_count": 13,
     "metadata": {},
     "output_type": "execute_result"
    }
   ],
   "source": [
    "def add_cash(self, amount):\n",
    "            new_balance = int(self.balance) + int(amount)\n",
    "            self.balance = new_balance\n",
    "            return f'{self.name} has {self.balance}.'\n",
    "add_cash(Jeff, 20)"
   ]
  },
  {
   "cell_type": "markdown",
   "id": "5e5948ae-bfb0-4aa7-8cc0-83970accb44a",
   "metadata": {},
   "source": [
    "## Copy your submited solution here:"
   ]
  },
  {
   "cell_type": "code",
   "execution_count": null,
   "id": "de8f88a1-897b-4b92-8c9f-e04d16cec21a",
   "metadata": {},
   "outputs": [],
   "source": [
    " def withdraw(self, money_to_withdraw):\n",
    "        if self.balance - money_to_withdraw < 0:\n",
    "            raise ValueError('No money')\n",
    "        else:\n",
    "            self.balance -= money_to_withdraw\n",
    "            return '{} has {}.'.format(self.name,self.balance)\n",
    "\n",
    "    def check(self, other_user, transf_money):\n",
    "        if(other_user.checking_account) == False:\n",
    "            raise ValueError('No account')\n",
    "        elif transf_money > other_user.balance:\n",
    "            raise ValueError('No money')\n",
    "        else:\n",
    "            self.balance += transf_money\n",
    "            other_user.balance -= transf_money\n",
    "            return '{} has {} and {} has {}.'.format(self.name,self.balance, other_user.name,other_user.balance)\n",
    "\n",
    "    def add_cash(self, amount):\n",
    "            new_balance = int(self.balance) + int(amount)\n",
    "            self.balance = new_balance\n",
    "            return f'{self.name} has {self.balance}.'"
   ]
  }
 ],
 "metadata": {
  "kernelspec": {
   "display_name": "Python 3 (ipykernel)",
   "language": "python",
   "name": "python3"
  },
  "language_info": {
   "codemirror_mode": {
    "name": "ipython",
    "version": 3
   },
   "file_extension": ".py",
   "mimetype": "text/x-python",
   "name": "python",
   "nbconvert_exporter": "python",
   "pygments_lexer": "ipython3",
   "version": "3.10.13"
  }
 },
 "nbformat": 4,
 "nbformat_minor": 5
}
