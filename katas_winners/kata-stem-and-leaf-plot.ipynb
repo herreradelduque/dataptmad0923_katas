{
 "cells": [
  {
   "cell_type": "markdown",
   "id": "a447b8b5-f16b-451f-b45c-47746f721e1e",
   "metadata": {},
   "source": [
    "# Kata:"
   ]
  },
  {
   "cell_type": "markdown",
   "id": "c7379b61-1f04-4fa2-8865-bf3e2c83b39e",
   "metadata": {},
   "source": [
    "https://www.codewars.com/kata/5cc80fbe701f0d001136e5eb/train/python"
   ]
  },
  {
   "cell_type": "markdown",
   "id": "5e2a4659-1d95-44fb-b92c-4646b4da4e6f",
   "metadata": {},
   "source": [
    "## Your name or team members:"
   ]
  },
  {
   "cell_type": "code",
   "execution_count": null,
   "id": "29ead553-d8b4-41aa-937f-7fd045595855",
   "metadata": {},
   "outputs": [],
   "source": [
    "Elena Luque"
   ]
  },
  {
   "cell_type": "markdown",
   "id": "f04997cc-966d-4e06-8eb0-64ab376728f8",
   "metadata": {},
   "source": [
    "## Use the following cells to test your solution:"
   ]
  },
  {
   "cell_type": "code",
   "execution_count": null,
   "id": "4202edc5-f719-4068-96bd-55703a8a6c27",
   "metadata": {},
   "outputs": [],
   "source": [
    "def stem_and_leaf(data):\n",
    "    return None"
   ]
  },
  {
   "cell_type": "code",
   "execution_count": 1,
   "id": "1c1f6098-25a1-4805-a249-b833ca4a66a0",
   "metadata": {},
   "outputs": [],
   "source": [
    "data = [11, 35, 14, 9, 39, 23, 35]\n",
    "output = {0: [9], 1: [1, 4], 2: [3], 3: [5, 5, 9]}"
   ]
  },
  {
   "cell_type": "code",
   "execution_count": 2,
   "id": "63a51bf1",
   "metadata": {},
   "outputs": [
    {
     "data": {
      "text/plain": [
       "list"
      ]
     },
     "execution_count": 2,
     "metadata": {},
     "output_type": "execute_result"
    }
   ],
   "source": [
    "type(data)"
   ]
  },
  {
   "cell_type": "code",
   "execution_count": 8,
   "id": "420464cc",
   "metadata": {},
   "outputs": [
    {
     "data": {
      "text/plain": [
       "int"
      ]
     },
     "execution_count": 8,
     "metadata": {},
     "output_type": "execute_result"
    }
   ],
   "source": [
    "type(data[0])"
   ]
  },
  {
   "cell_type": "code",
   "execution_count": 9,
   "id": "edd2e415",
   "metadata": {},
   "outputs": [],
   "source": [
    "data_to_string = value = [str(x) for x in data]"
   ]
  },
  {
   "cell_type": "code",
   "execution_count": 10,
   "id": "0c56ccc0",
   "metadata": {},
   "outputs": [
    {
     "name": "stdout",
     "output_type": "stream",
     "text": [
      "['11', '35', '14', '9', '39', '23', '35']\n"
     ]
    }
   ],
   "source": [
    "print(data_to_string)"
   ]
  },
  {
   "cell_type": "code",
   "execution_count": 11,
   "id": "b692fd2f",
   "metadata": {},
   "outputs": [
    {
     "data": {
      "text/plain": [
       "str"
      ]
     },
     "execution_count": 11,
     "metadata": {},
     "output_type": "execute_result"
    }
   ],
   "source": [
    "type(data_to_string[0])"
   ]
  },
  {
   "cell_type": "code",
   "execution_count": 12,
   "id": "7748fab5",
   "metadata": {},
   "outputs": [],
   "source": [
    "empty_list = []\n",
    "primeras_cifras = [value[0] for value in data_to_string]  "
   ]
  },
  {
   "cell_type": "code",
   "execution_count": 13,
   "id": "74a8202f",
   "metadata": {},
   "outputs": [
    {
     "name": "stdout",
     "output_type": "stream",
     "text": [
      "['1', '3', '1', '9', '3', '2', '3']\n"
     ]
    }
   ],
   "source": [
    "print(primeras_cifras)"
   ]
  },
  {
   "cell_type": "code",
   "execution_count": 5,
   "id": "483348b3",
   "metadata": {},
   "outputs": [
    {
     "name": "stdout",
     "output_type": "stream",
     "text": [
      "11\n"
     ]
    }
   ],
   "source": [
    "primera_cifra = data[0]\n",
    "print(primera_cifra)"
   ]
  },
  {
   "cell_type": "markdown",
   "id": "5e5948ae-bfb0-4aa7-8cc0-83970accb44a",
   "metadata": {},
   "source": [
    "## Copy your submited solution here:"
   ]
  },
  {
   "cell_type": "code",
   "execution_count": 16,
   "id": "de8f88a1-897b-4b92-8c9f-e04d16cec21a",
   "metadata": {},
   "outputs": [],
   "source": [
    "#El input de mi función es una lista con números enteros (restricción: 0 al 99)\n",
    "#El output de mi función es un diccionario, donde cada stem es una key y cada value es un leaf con la lista de cada stem\n",
    "\n",
    "def stem_and_leaf(data):\n",
    "    \n",
    "    stem_leaf_dict = {}   #Creo un diccionario vacío para poder integrar cada número que me estaba pidiendo y ponerlo en el data que correspondía\n",
    "\n",
    "    \n",
    "    #Separo para extraer el stem y la leaf de cada parte\n",
    "   \n",
    "    for num in data:\n",
    "        \n",
    "        stem = num // 10 #(if num >= 10 else 0) no aporta    # // División entera, quita los decimales. Me va a dar el stem.\n",
    "        leaf = num % 10                                      # Condición: Comprobar si son mayores o menores que 10. \n",
    "\n",
    "        \n",
    "        if stem not in stem_leaf_dict:                       # Busca que no vuelvas a sobre escribir la lista vacía si tienes ese stem\n",
    "            stem_leaf_dict[stem] = []\n",
    "\n",
    "        \n",
    "        stem_leaf_dict[stem].append(leaf)                    # La lista se mantiene y va rellenando valores. Como es mutable, no pasa nada.\n",
    "        print(stem_leaf_dict)\n",
    "\n",
    "    \n",
    "    for key in stem_leaf_dict:\n",
    "        stem_leaf_dict[key] = sorted(stem_leaf_dict[key])    \n",
    "\n",
    "    return stem_leaf_dict"
   ]
  },
  {
   "cell_type": "code",
   "execution_count": 15,
   "id": "bf3ab677",
   "metadata": {},
   "outputs": [
    {
     "name": "stdout",
     "output_type": "stream",
     "text": [
      "{1: [1, 2], 3: [3, 4], 5: [5, 6], 7: [7, 8], 9: [0, 9], 2: [2, 3], 4: [4, 5], 6: [6, 7], 8: [8, 9], 0: [9]}\n"
     ]
    }
   ],
   "source": [
    "# Ejemplos:\n",
    "data = [12, 34, 56, 78, 90, 23, 45, 67, 89, 9, 11, 22, 33, 44, 55, 66, 77, 88, 99]\n",
    "result = stem_and_leaf(data)\n",
    "print(result)"
   ]
  }
 ],
 "metadata": {
  "kernelspec": {
   "display_name": "Python 3 (ipykernel)",
   "language": "python",
   "name": "python3"
  },
  "language_info": {
   "codemirror_mode": {
    "name": "ipython",
    "version": 3
   },
   "file_extension": ".py",
   "mimetype": "text/x-python",
   "name": "python",
   "nbconvert_exporter": "python",
   "pygments_lexer": "ipython3",
   "version": "3.9.18"
  }
 },
 "nbformat": 4,
 "nbformat_minor": 5
}
