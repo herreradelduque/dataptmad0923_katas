{
 "cells": [
  {
   "cell_type": "markdown",
   "id": "a447b8b5-f16b-451f-b45c-47746f721e1e",
   "metadata": {},
   "source": [
    "# Kata:"
   ]
  },
  {
   "cell_type": "markdown",
   "id": "c7379b61-1f04-4fa2-8865-bf3e2c83b39e",
   "metadata": {},
   "source": [
    "https://www.codewars.com/kata/5cc80fbe701f0d001136e5eb/train/python"
   ]
  },
  {
   "cell_type": "markdown",
   "id": "5e2a4659-1d95-44fb-b92c-4646b4da4e6f",
   "metadata": {},
   "source": [
    "## Your name or team members:"
   ]
  },
  {
   "cell_type": "code",
   "execution_count": null,
   "id": "29ead553-d8b4-41aa-937f-7fd045595855",
   "metadata": {},
   "outputs": [],
   "source": [
    "John"
   ]
  },
  {
   "cell_type": "markdown",
   "id": "f04997cc-966d-4e06-8eb0-64ab376728f8",
   "metadata": {},
   "source": [
    "## Use the following cells to test your solution:"
   ]
  },
  {
   "cell_type": "code",
   "execution_count": 77,
   "id": "4202edc5-f719-4068-96bd-55703a8a6c27",
   "metadata": {},
   "outputs": [],
   "source": [
    "data = [11,35,14,9,39,23,35]\n",
    "output = {0:[9],1:[1,4],2: [3], 3: [5,5,9]}\n",
    "stem = {}\n",
    "leaf = []\n",
    "#(0<= data <= 99)"
   ]
  },
  {
   "cell_type": "code",
   "execution_count": 66,
   "id": "1c1f6098-25a1-4805-a249-b833ca4a66a0",
   "metadata": {},
   "outputs": [
    {
     "name": "stdout",
     "output_type": "stream",
     "text": [
      "['1', '3', '1', 0, '3', '2', '3']\n",
      "['1', '5', '4', 9, '9', '3', '5']\n"
     ]
    }
   ],
   "source": [
    "for i in data:\n",
    "    if len(str(i)) == 1:\n",
    "        stem.append(0)\n",
    "        leaf.append(i)\n",
    "    else:\n",
    "        stem.append(str(i)[0])\n",
    "        leaf.append(str(i)[1])\n",
    "print(stem)\n",
    "print(leaf)\n",
    "        "
   ]
  },
  {
   "cell_type": "code",
   "execution_count": 26,
   "id": "16beb5d6",
   "metadata": {
    "scrolled": true
   },
   "outputs": [
    {
     "data": {
      "text/plain": [
       "'1'"
      ]
     },
     "execution_count": 26,
     "metadata": {},
     "output_type": "execute_result"
    }
   ],
   "source": [
    "str(12)[0]"
   ]
  },
  {
   "cell_type": "code",
   "execution_count": 68,
   "id": "44d0b757",
   "metadata": {},
   "outputs": [
    {
     "data": {
      "text/plain": [
       "{'1': '4', '3': '5', 0: 9, '2': '3'}"
      ]
     },
     "execution_count": 68,
     "metadata": {},
     "output_type": "execute_result"
    }
   ],
   "source": [
    "d = dict(zip(stem,leaf))\n",
    "d"
   ]
  },
  {
   "cell_type": "code",
   "execution_count": 50,
   "id": "55b54216",
   "metadata": {
    "scrolled": true
   },
   "outputs": [
    {
     "data": {
      "text/plain": [
       "{11: 0, 35: 6, 14: 2, 9: 3, 39: 4, 23: 5}"
      ]
     },
     "execution_count": 50,
     "metadata": {},
     "output_type": "execute_result"
    }
   ],
   "source": [
    "dict(zip(data,range(len(data))))"
   ]
  },
  {
   "cell_type": "code",
   "execution_count": null,
   "id": "e55e97cd",
   "metadata": {},
   "outputs": [],
   "source": []
  },
  {
   "cell_type": "code",
   "execution_count": 74,
   "id": "82fecd65",
   "metadata": {},
   "outputs": [
    {
     "name": "stdout",
     "output_type": "stream",
     "text": [
      "{'1': '4', '3': '5', 0: 9, '2': '3'}\n"
     ]
    }
   ],
   "source": [
    "for i in data:\n",
    "    if len(str(i)) == 1:\n",
    "        stem[0] = i\n",
    "    else:\n",
    "        stem[str(i)[0]] = str(i)[1]\n",
    "\n",
    "print(stem)\n"
   ]
  },
  {
   "cell_type": "code",
   "execution_count": 79,
   "id": "765af671",
   "metadata": {},
   "outputs": [
    {
     "name": "stdout",
     "output_type": "stream",
     "text": [
      "{'1': '4', '3': '5', 0: 9, '2': '3'}\n"
     ]
    }
   ],
   "source": [
    "for i in data:\n",
    "    if len(str(i)) == 1:\n",
    "        stem[0] = i\n",
    "    else:\n",
    "        new_list = str(i)[1]\n",
    "        stem[str(i)[0]] = new_list\n",
    "\n",
    "print(stem)"
   ]
  },
  {
   "cell_type": "markdown",
   "id": "5e5948ae-bfb0-4aa7-8cc0-83970accb44a",
   "metadata": {},
   "source": [
    "## Copy your submited solution here:"
   ]
  },
  {
   "cell_type": "code",
   "execution_count": 80,
   "id": "e66ce902",
   "metadata": {},
   "outputs": [],
   "source": [
    "def stem_and_leaf(data):\n",
    "    stem_leaf_dict = {}\n",
    "    for num in data:\n",
    "        \n",
    "        stem = num // 10\n",
    "        leaf = num % 10\n",
    "        \n",
    "        if stem not in stem_leaf_dict:\n",
    "            stem_leaf_dict[stem] = []\n",
    "        stem_leaf_dict[stem].append(leaf)\n",
    "        \n",
    "    for key in stem_leaf_dict:\n",
    "        stem_leaf_dict[key]= sorted(stem_leaf_dict[key])\n",
    "    return stem_leaf_dict"
   ]
  },
  {
   "cell_type": "code",
   "execution_count": 81,
   "id": "de8f88a1-897b-4b92-8c9f-e04d16cec21a",
   "metadata": {},
   "outputs": [
    {
     "data": {
      "text/plain": [
       "{1: [1, 4], 3: [5, 5, 9], 0: [9], 2: [3]}"
      ]
     },
     "execution_count": 81,
     "metadata": {},
     "output_type": "execute_result"
    }
   ],
   "source": [
    "stem_and_leaf(data)"
   ]
  },
  {
   "cell_type": "code",
   "execution_count": null,
   "id": "f7a801c8",
   "metadata": {},
   "outputs": [],
   "source": []
  }
 ],
 "metadata": {
  "kernelspec": {
   "display_name": "Python 3 (ipykernel)",
   "language": "python",
   "name": "python3"
  },
  "language_info": {
   "codemirror_mode": {
    "name": "ipython",
    "version": 3
   },
   "file_extension": ".py",
   "mimetype": "text/x-python",
   "name": "python",
   "nbconvert_exporter": "python",
   "pygments_lexer": "ipython3",
   "version": "3.7.1"
  }
 },
 "nbformat": 4,
 "nbformat_minor": 5
}
