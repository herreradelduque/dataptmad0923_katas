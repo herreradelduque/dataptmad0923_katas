{
 "cells": [
  {
   "cell_type": "markdown",
   "id": "a447b8b5-f16b-451f-b45c-47746f721e1e",
   "metadata": {},
   "source": [
    "# Kata:"
   ]
  },
  {
   "cell_type": "markdown",
   "id": "c7379b61-1f04-4fa2-8865-bf3e2c83b39e",
   "metadata": {},
   "source": [
    "https://www.codewars.com/kata/5cc80fbe701f0d001136e5eb/train/python"
   ]
  },
  {
   "cell_type": "markdown",
   "id": "5e2a4659-1d95-44fb-b92c-4646b4da4e6f",
   "metadata": {},
   "source": [
    "## Your name or team members:"
   ]
  },
  {
   "cell_type": "code",
   "execution_count": null,
   "id": "29ead553-d8b4-41aa-937f-7fd045595855",
   "metadata": {},
   "outputs": [],
   "source": [
    "Ana Aguiar"
   ]
  },
  {
   "cell_type": "markdown",
   "id": "f04997cc-966d-4e06-8eb0-64ab376728f8",
   "metadata": {},
   "source": [
    "## Use the following cells to test your solution:"
   ]
  },
  {
   "cell_type": "code",
   "execution_count": 25,
   "id": "4202edc5-f719-4068-96bd-55703a8a6c27",
   "metadata": {
    "scrolled": true
   },
   "outputs": [],
   "source": [
    "def stem_and_leaf(data):\n",
    "    stems = {\n",
    "        '0': [], '1': [], '2': [], '3': [], '4': [], \n",
    "        '5': [], '6': [], '7': [], '8': [], '9': []\n",
    "    }\n",
    "\n",
    "    for x in data: \n",
    "        if 0 <= x <= 99: \n",
    "            str_x = str(x)\n",
    "            if len(str_x) == 1:\n",
    "                stems['0'].append(str_x)\n",
    "            else:\n",
    "                stems[str_x[0]].append(str_x[1])\n",
    "    \n",
    "    stems = {stem: leaves for stem, leaves in stems.items() if leaves}\n",
    "    \n",
    "    return stems"
   ]
  },
  {
   "cell_type": "code",
   "execution_count": 26,
   "id": "1c1f6098-25a1-4805-a249-b833ca4a66a0",
   "metadata": {},
   "outputs": [
    {
     "data": {
      "text/plain": [
       "{'0': ['9'], '1': ['1', '4'], '2': ['3'], '3': ['5', '9', '5']}"
      ]
     },
     "execution_count": 26,
     "metadata": {},
     "output_type": "execute_result"
    }
   ],
   "source": [
    "stem_and_leaf([11, 35, 14, 9, 39, 23, 35])\n"
   ]
  },
  {
   "cell_type": "markdown",
   "id": "5e5948ae-bfb0-4aa7-8cc0-83970accb44a",
   "metadata": {},
   "source": [
    "## Copy your submited solution here:"
   ]
  },
  {
   "cell_type": "code",
   "execution_count": null,
   "id": "de8f88a1-897b-4b92-8c9f-e04d16cec21a",
   "metadata": {},
   "outputs": [],
   "source": [
    "def stem_and_leaf(data):\n",
    "    stems = {\n",
    "        0: [], 1: [], 2: [], 3: [], 4: [], \n",
    "        5: [], 6: [], 7: [], 8: [], 9: []\n",
    "    }\n",
    "\n",
    "    for x in data:\n",
    "        if 0 <= x <= 99:\n",
    "            str_x = str(x)\n",
    "            if len(str_x) == 1:\n",
    "                stems[0].append(int(str_x))\n",
    "            else:\n",
    "                stems[int(str_x[0])].append(int(str_x[1]))\n",
    "\n",
    "    stems = {stem: sorted(leaves) for stem, leaves in stems.items() if leaves}\n",
    "    \n",
    "    return stems"
   ]
  }
 ],
 "metadata": {
  "kernelspec": {
   "display_name": "Python 3 (ipykernel)",
   "language": "python",
   "name": "python3"
  },
  "language_info": {
   "codemirror_mode": {
    "name": "ipython",
    "version": 3
   },
   "file_extension": ".py",
   "mimetype": "text/x-python",
   "name": "python",
   "nbconvert_exporter": "python",
   "pygments_lexer": "ipython3",
   "version": "3.9.18"
  }
 },
 "nbformat": 4,
 "nbformat_minor": 5
}
