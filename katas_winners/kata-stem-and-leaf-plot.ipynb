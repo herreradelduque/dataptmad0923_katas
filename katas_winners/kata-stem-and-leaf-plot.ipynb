{
 "cells": [
  {
   "cell_type": "markdown",
   "id": "a447b8b5-f16b-451f-b45c-47746f721e1e",
   "metadata": {},
   "source": [
    "# Kata:"
   ]
  },
  {
   "cell_type": "markdown",
   "id": "c7379b61-1f04-4fa2-8865-bf3e2c83b39e",
   "metadata": {},
   "source": [
    "https://www.codewars.com/kata/5cc80fbe701f0d001136e5eb/train/python"
   ]
  },
  {
   "cell_type": "markdown",
   "id": "5e2a4659-1d95-44fb-b92c-4646b4da4e6f",
   "metadata": {},
   "source": [
    "## Your name or team members:"
   ]
  },
  {
   "cell_type": "code",
   "execution_count": null,
   "id": "29ead553-d8b4-41aa-937f-7fd045595855",
   "metadata": {},
   "outputs": [],
   "source": [
    "Andrew Bavuels"
   ]
  },
  {
   "cell_type": "code",
   "execution_count": 26,
   "id": "475b43b8",
   "metadata": {},
   "outputs": [
    {
     "data": {
      "text/plain": [
       "[9, 11, 14, 23, 35, 35, 39]"
      ]
     },
     "execution_count": 26,
     "metadata": {},
     "output_type": "execute_result"
    }
   ],
   "source": [
    "data = [11, 35, 14, 9, 39, 23, 35]\n",
    "data.sort()\n",
    "data"
   ]
  },
  {
   "cell_type": "code",
   "execution_count": 32,
   "id": "8ee1a1f0",
   "metadata": {},
   "outputs": [
    {
     "name": "stdout",
     "output_type": "stream",
     "text": [
      "1.4\n"
     ]
    }
   ],
   "source": [
    "print(14/10)"
   ]
  },
  {
   "cell_type": "code",
   "execution_count": 34,
   "id": "0da7056e",
   "metadata": {},
   "outputs": [
    {
     "name": "stdout",
     "output_type": "stream",
     "text": [
      "0\n",
      "9\n"
     ]
    }
   ],
   "source": [
    "stem = 9 // 10\n",
    "leaf = 9 % 10\n",
    "print(stem)\n",
    "print(leaf)"
   ]
  },
  {
   "cell_type": "markdown",
   "id": "f04997cc-966d-4e06-8eb0-64ab376728f8",
   "metadata": {},
   "source": [
    "## Use the following cells to test your solution:"
   ]
  },
  {
   "cell_type": "code",
   "execution_count": 28,
   "id": "1c1f6098-25a1-4805-a249-b833ca4a66a0",
   "metadata": {},
   "outputs": [
    {
     "name": "stdout",
     "output_type": "stream",
     "text": [
      "{0: [9], 1: [1, 4], 2: [3], 3: [5, 5, 9]}\n"
     ]
    }
   ],
   "source": [
    "data = [11, 35, 14, 9, 39, 23, 35]\n",
    "output = {}\n",
    "\n",
    "[9, 11, 14, 23, 35, 35, 39]\n",
    "def stem_and_leaf(data):\n",
    "    # Ordenar de mayor a menor:\n",
    "    data.sort()\n",
    "    # Necesito pasar por cada elemento i:\n",
    "    for i, j in enumerate(data):\n",
    "            stem = j // 10\n",
    "            leaf = j % 10\n",
    "\n",
    "            if stem not in output:\n",
    "                output[stem] = [leaf]\n",
    "            else:\n",
    "                output[stem].append(leaf)\n",
    "\n",
    "stem_and_leaf(data)\n",
    "print(output)"
   ]
  },
  {
   "cell_type": "code",
   "execution_count": 21,
   "id": "bd75c18e",
   "metadata": {},
   "outputs": [
    {
     "name": "stdout",
     "output_type": "stream",
     "text": [
      "0 9\n",
      "1 11\n",
      "2 14\n",
      "3 23\n",
      "4 35\n",
      "5 35\n",
      "6 39\n"
     ]
    }
   ],
   "source": [
    "data = [11, 35, 14, 9, 39, 23, 35]\n",
    "data.sort()\n",
    "for stem,j in enumerate(data):\n",
    "    print(i,j)        "
   ]
  },
  {
   "cell_type": "markdown",
   "id": "5e5948ae-bfb0-4aa7-8cc0-83970accb44a",
   "metadata": {},
   "source": [
    "## Copy your submited solution here:"
   ]
  },
  {
   "cell_type": "code",
   "execution_count": 35,
   "id": "de8f88a1-897b-4b92-8c9f-e04d16cec21a",
   "metadata": {},
   "outputs": [
    {
     "name": "stdout",
     "output_type": "stream",
     "text": [
      "{0: [9], 1: [1, 4], 2: [3], 3: [5, 5, 9]}\n"
     ]
    }
   ],
   "source": [
    "data = [11, 35, 14, 9, 39, 23, 35]\n",
    "\n",
    "def stem_and_leaf(data):\n",
    "    # Ordenar de menor a mayor:\n",
    "    data.sort()    \n",
    "    output = {}\n",
    "    for i, j in enumerate(data):\n",
    "        stem = j // 10\n",
    "        leaf = j % 10\n",
    "\n",
    "        if stem not in output:\n",
    "            output[stem] = [leaf]\n",
    "        else:\n",
    "            output[stem].append(leaf)\n",
    "    \n",
    "    return output\n",
    "\n",
    "output = stem_and_leaf(data)\n",
    "print(output)"
   ]
  }
 ],
 "metadata": {
  "kernelspec": {
   "display_name": "Python 3 (ipykernel)",
   "language": "python",
   "name": "python3"
  },
  "language_info": {
   "codemirror_mode": {
    "name": "ipython",
    "version": 3
   },
   "file_extension": ".py",
   "mimetype": "text/x-python",
   "name": "python",
   "nbconvert_exporter": "python",
   "pygments_lexer": "ipython3",
   "version": "3.10.13"
  }
 },
 "nbformat": 4,
 "nbformat_minor": 5
}
