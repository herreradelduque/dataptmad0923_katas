{
 "cells": [
  {
   "cell_type": "markdown",
   "id": "a447b8b5-f16b-451f-b45c-47746f721e1e",
   "metadata": {},
   "source": [
    "# Kata:"
   ]
  },
  {
   "cell_type": "markdown",
   "id": "c7379b61-1f04-4fa2-8865-bf3e2c83b39e",
   "metadata": {},
   "source": [
    "https://www.codewars.com/kata/5cc80fbe701f0d001136e5eb/train/python"
   ]
  },
  {
   "cell_type": "markdown",
   "id": "5e2a4659-1d95-44fb-b92c-4646b4da4e6f",
   "metadata": {},
   "source": [
    "## Your name or team members:"
   ]
  },
  {
   "cell_type": "code",
   "execution_count": 1,
   "id": "29ead553-d8b4-41aa-937f-7fd045595855",
   "metadata": {},
   "outputs": [
    {
     "ename": "NameError",
     "evalue": "name 'Guille' is not defined",
     "output_type": "error",
     "traceback": [
      "\u001b[0;31m---------------------------------------------------------------------------\u001b[0m",
      "\u001b[0;31mNameError\u001b[0m                                 Traceback (most recent call last)",
      "Cell \u001b[0;32mIn[1], line 1\u001b[0m\n\u001b[0;32m----> 1\u001b[0m \u001b[43mGuille\u001b[49m\n",
      "\u001b[0;31mNameError\u001b[0m: name 'Guille' is not defined"
     ]
    }
   ],
   "source": [
    "Guille"
   ]
  },
  {
   "cell_type": "markdown",
   "id": "f04997cc-966d-4e06-8eb0-64ab376728f8",
   "metadata": {},
   "source": [
    "## Use the following cells to test your solution:"
   ]
  },
  {
   "cell_type": "code",
   "execution_count": 14,
   "id": "4202edc5-f719-4068-96bd-55703a8a6c27",
   "metadata": {},
   "outputs": [],
   "source": [
    "data = [11, 35, 14, 9, 39, 23, 35]\n",
    "output = {0: [9], 1: [1, 4], 2: [3], 3: [5, 5, 9]}"
   ]
  },
  {
   "cell_type": "markdown",
   "id": "5e5948ae-bfb0-4aa7-8cc0-83970accb44a",
   "metadata": {},
   "source": [
    "## Copy your submited solution here:"
   ]
  },
  {
   "cell_type": "code",
   "execution_count": 19,
   "id": "de8f88a1-897b-4b92-8c9f-e04d16cec21a",
   "metadata": {},
   "outputs": [
    {
     "name": "stdout",
     "output_type": "stream",
     "text": [
      "{1: [1]}\n",
      "{1: [1], 3: [5]}\n",
      "{1: [1, 4], 3: [5]}\n",
      "{1: [1, 4], 3: [5], 0: [9]}\n",
      "{1: [1, 4], 3: [5, 9], 0: [9]}\n",
      "{1: [1, 4], 3: [5, 9], 0: [9], 2: [3]}\n",
      "{1: [1, 4], 3: [5, 9, 5], 0: [9], 2: [3]}\n"
     ]
    },
    {
     "data": {
      "text/plain": [
       "{1: [1, 4], 3: [5, 5, 9], 0: [9], 2: [3]}"
      ]
     },
     "execution_count": 19,
     "metadata": {},
     "output_type": "execute_result"
    }
   ],
   "source": [
    "def stem_and_leaf(data, scale=10):\n",
    "    stem_and_leaf_dict = {}\n",
    "\n",
    "    for num in data:\n",
    "        stem = (num // scale)\n",
    "        leaf = (num % scale)\n",
    "        if stem not in stem_and_leaf_dict:\n",
    "            stem_and_leaf_dict[stem] = []\n",
    "        \n",
    "        stem_and_leaf_dict[stem].append(leaf)\n",
    "        print(stem_and_leaf_dict)\n",
    "        \n",
    "    for key in stem_and_leaf_dict:\n",
    "        stem_and_leaf_dict[key] = sorted(stem_and_leaf_dict[key])\n",
    "    return stem_and_leaf_dict\n",
    "stem_and_leaf(data,scale =10)"
   ]
  },
  {
   "cell_type": "code",
   "execution_count": null,
   "id": "ec33f15b",
   "metadata": {},
   "outputs": [],
   "source": []
  }
 ],
 "metadata": {
  "kernelspec": {
   "display_name": "Python (m2)",
   "language": "python",
   "name": "m2"
  },
  "language_info": {
   "codemirror_mode": {
    "name": "ipython",
    "version": 3
   },
   "file_extension": ".py",
   "mimetype": "text/x-python",
   "name": "python",
   "nbconvert_exporter": "python",
   "pygments_lexer": "ipython3",
   "version": "3.12.0"
  }
 },
 "nbformat": 4,
 "nbformat_minor": 5
}
