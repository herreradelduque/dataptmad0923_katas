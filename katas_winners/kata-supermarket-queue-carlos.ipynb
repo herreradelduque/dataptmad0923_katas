{
 "cells": [
  {
   "cell_type": "markdown",
   "id": "a447b8b5-f16b-451f-b45c-47746f721e1e",
   "metadata": {},
   "source": [
    "# Kata:"
   ]
  },
  {
   "cell_type": "markdown",
   "id": "c7379b61-1f04-4fa2-8865-bf3e2c83b39e",
   "metadata": {},
   "source": [
    "https://www.codewars.com/kata/57b06f90e298a7b53d000a86/train/python"
   ]
  },
  {
   "cell_type": "markdown",
   "id": "5e2a4659-1d95-44fb-b92c-4646b4da4e6f",
   "metadata": {},
   "source": [
    "## Your name or team members:"
   ]
  },
  {
   "cell_type": "markdown",
   "id": "9cc21aa2",
   "metadata": {},
   "source": [
    "Victor y Carlos"
   ]
  },
  {
   "cell_type": "markdown",
   "id": "f04997cc-966d-4e06-8eb0-64ab376728f8",
   "metadata": {},
   "source": [
    "## Use the following cells to test your solution:"
   ]
  },
  {
   "cell_type": "code",
   "execution_count": null,
   "id": "4202edc5-f719-4068-96bd-55703a8a6c27",
   "metadata": {},
   "outputs": [],
   "source": [
    "def queue_time(customers, n):\n",
    "    tills = [0]*n\n",
    "    print(tills)\n",
    "    for person in customers:\n",
    "        tills[0] += person\n",
    "        print(\"This is person: \",person)\n",
    "        print(\"These are the tills and acumulated time in each till: \",tills)\n",
    "        tills.sort()\n",
    "    return max(tills)"
   ]
  },
  {
   "cell_type": "code",
   "execution_count": 8,
   "id": "120f2476",
   "metadata": {},
   "outputs": [
    {
     "name": "stdout",
     "output_type": "stream",
     "text": [
      "[0]\n",
      "Esto es i:  5\n",
      "Esto es tills:  [5]\n",
      "Esto es i:  3\n",
      "Esto es tills:  [8]\n",
      "Esto es i:  4\n",
      "Esto es tills:  [12]\n"
     ]
    },
    {
     "data": {
      "text/plain": [
       "12"
      ]
     },
     "execution_count": 8,
     "metadata": {},
     "output_type": "execute_result"
    }
   ],
   "source": [
    "#Example 1\n",
    "queue_time([5,3,4], 1)"
   ]
  },
  {
   "cell_type": "code",
   "execution_count": 9,
   "id": "1c1f6098-25a1-4805-a249-b833ca4a66a0",
   "metadata": {},
   "outputs": [
    {
     "name": "stdout",
     "output_type": "stream",
     "text": [
      "[0, 0]\n",
      "Esto es i:  10\n",
      "Esto es tills:  [10, 0]\n",
      "Esto es i:  2\n",
      "Esto es tills:  [2, 10]\n",
      "Esto es i:  3\n",
      "Esto es tills:  [5, 10]\n",
      "Esto es i:  3\n",
      "Esto es tills:  [8, 10]\n"
     ]
    },
    {
     "data": {
      "text/plain": [
       "10"
      ]
     },
     "execution_count": 9,
     "metadata": {},
     "output_type": "execute_result"
    }
   ],
   "source": [
    "#Example 2\n",
    "queue_time([10,2,3,3], 2)"
   ]
  },
  {
   "cell_type": "code",
   "execution_count": 10,
   "id": "88f04f09",
   "metadata": {},
   "outputs": [
    {
     "name": "stdout",
     "output_type": "stream",
     "text": [
      "[0, 0]\n",
      "Esto es i:  2\n",
      "Esto es tills:  [2, 0]\n",
      "Esto es i:  3\n",
      "Esto es tills:  [3, 2]\n",
      "Esto es i:  10\n",
      "Esto es tills:  [12, 3]\n"
     ]
    },
    {
     "data": {
      "text/plain": [
       "12"
      ]
     },
     "execution_count": 10,
     "metadata": {},
     "output_type": "execute_result"
    }
   ],
   "source": [
    "#Example 3\n",
    "queue_time([2,3,10], 2)"
   ]
  },
  {
   "cell_type": "markdown",
   "id": "5e5948ae-bfb0-4aa7-8cc0-83970accb44a",
   "metadata": {},
   "source": [
    "## Copy your submited solution here:"
   ]
  },
  {
   "cell_type": "code",
   "execution_count": 11,
   "id": "de8f88a1-897b-4b92-8c9f-e04d16cec21a",
   "metadata": {},
   "outputs": [],
   "source": [
    "def queue_time(customers, n):\n",
    "    tills = [0]*n\n",
    "    for person in customers:\n",
    "        tills[0] += person\n",
    "        tills.sort()\n",
    "    return max(tills)"
   ]
  },
  {
   "cell_type": "code",
   "execution_count": 12,
   "id": "a01549b2",
   "metadata": {},
   "outputs": [
    {
     "data": {
      "text/plain": [
       "12"
      ]
     },
     "execution_count": 12,
     "metadata": {},
     "output_type": "execute_result"
    }
   ],
   "source": [
    "queue_time([2,3,10], 2)"
   ]
  }
 ],
 "metadata": {
  "kernelspec": {
   "display_name": "Python 3 (ipykernel)",
   "language": "python",
   "name": "python3"
  },
  "language_info": {
   "codemirror_mode": {
    "name": "ipython",
    "version": 3
   },
   "file_extension": ".py",
   "mimetype": "text/x-python",
   "name": "python",
   "nbconvert_exporter": "python",
   "pygments_lexer": "ipython3",
   "version": "3.10.13"
  }
 },
 "nbformat": 4,
 "nbformat_minor": 5
}
