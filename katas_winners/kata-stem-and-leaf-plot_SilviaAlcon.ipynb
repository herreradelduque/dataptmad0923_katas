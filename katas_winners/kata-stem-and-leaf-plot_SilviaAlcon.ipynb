{
 "cells": [
  {
   "cell_type": "markdown",
   "id": "a447b8b5-f16b-451f-b45c-47746f721e1e",
   "metadata": {},
   "source": [
    "# Kata:"
   ]
  },
  {
   "cell_type": "markdown",
   "id": "c7379b61-1f04-4fa2-8865-bf3e2c83b39e",
   "metadata": {},
   "source": [
    "https://www.codewars.com/kata/5cc80fbe701f0d001136e5eb/train/python"
   ]
  },
  {
   "cell_type": "markdown",
   "id": "5e2a4659-1d95-44fb-b92c-4646b4da4e6f",
   "metadata": {},
   "source": [
    "## Your name or team members:"
   ]
  },
  {
   "cell_type": "code",
   "execution_count": null,
   "id": "29ead553-d8b4-41aa-937f-7fd045595855",
   "metadata": {},
   "outputs": [],
   "source": [
    "Silvia Alcon"
   ]
  },
  {
   "cell_type": "markdown",
   "id": "f04997cc-966d-4e06-8eb0-64ab376728f8",
   "metadata": {},
   "source": [
    "## Use the following cells to test your solution:"
   ]
  },
  {
   "cell_type": "code",
   "execution_count": 7,
   "id": "01002c41",
   "metadata": {},
   "outputs": [],
   "source": [
    "import matplotlib.pyplot as plt\n",
    "import numpy as np"
   ]
  },
  {
   "cell_type": "code",
   "execution_count": 8,
   "id": "4202edc5-f719-4068-96bd-55703a8a6c27",
   "metadata": {},
   "outputs": [],
   "source": [
    "data = [11, 35, 14, 9, 39, 23, 35]\n",
    "#output = {0: [9], 1: [1, 4], 2: [3], 3: [5, 5, 9]}\n"
   ]
  },
  {
   "cell_type": "code",
   "execution_count": 25,
   "id": "1c1f6098-25a1-4805-a249-b833ca4a66a0",
   "metadata": {},
   "outputs": [
    {
     "name": "stdout",
     "output_type": "stream",
     "text": [
      "[ 9 11 14 23 35 35 39] 10\n",
      "range(0, 50, 10)\n",
      "[0 1 3 4 7]\n"
     ]
    }
   ],
   "source": [
    "def tallos(d):\n",
    "    \"Genera un simple diagramas de tallos y hojas\"\n",
    "    l,t=np.sort(d),10\n",
    "    print(l,t)\n",
    "    O=range(int(l[0]-l[0]%t),int(l[-1]+11),t)\n",
    "    print(O)\n",
    "    I=np.searchsorted(l,O)\n",
    "    print(I)\n",
    "    for e,a,f in zip(I,I[1:],O): \n",
    "        hojas = {'%3d|'%(f/t),*(l[e:a]-f)}\n",
    "      \n",
    "tallos(data)\n"
   ]
  },
  {
   "cell_type": "code",
   "execution_count": 26,
   "id": "05ab2196",
   "metadata": {},
   "outputs": [],
   "source": [
    "def stem_and_leaf(data):\n",
    "# Crear un diccionario vacío para almacenar el diagrama\n",
    "  hoja = {}\n",
    "  # Ordenar la lista de entrada\n",
    "  data.sort()\n",
    "  # Recorrer cada elemento de la lista\n",
    "  for s in data:\n",
    "    # Extraer el tallo y la hoja como enteros\n",
    "    stem = s // 10\n",
    "    print(stem)\n",
    "    leaf = s % 10\n",
    "    #se añade la lista de la hoja\n",
    "    if stem in hoja:\n",
    "        hoja[stem].append(leaf)\n",
    "    else:\n",
    "        hoja[stem] = [leaf]\n",
    "  # Devolver el diccionario con el diagrama\n",
    "  return hoja"
   ]
  },
  {
   "cell_type": "markdown",
   "id": "5e5948ae-bfb0-4aa7-8cc0-83970accb44a",
   "metadata": {},
   "source": [
    "## Copy your submited solution here:"
   ]
  },
  {
   "cell_type": "code",
   "execution_count": null,
   "id": "de8f88a1-897b-4b92-8c9f-e04d16cec21a",
   "metadata": {},
   "outputs": [],
   "source": [
    "def stem_and_leaf(data):\n",
    "    hoja = {}\n",
    "    data.sort()\n",
    "    for s in data:\n",
    "        stem = s // 10\n",
    "        leaf = s % 10\n",
    "    \n",
    "    if stem in hoja:\n",
    "        hoja[stem].append(leaf)\n",
    "    else:\n",
    "        hoja[stem] = [leaf]\n",
    " \n",
    "    return hoja"
   ]
  }
 ],
 "metadata": {
  "kernelspec": {
   "display_name": "Python m2_env",
   "language": "python",
   "name": "m2_env"
  },
  "language_info": {
   "codemirror_mode": {
    "name": "ipython",
    "version": 3
   },
   "file_extension": ".py",
   "mimetype": "text/x-python",
   "name": "python",
   "nbconvert_exporter": "python",
   "pygments_lexer": "ipython3",
   "version": "3.8.18"
  }
 },
 "nbformat": 4,
 "nbformat_minor": 5
}
