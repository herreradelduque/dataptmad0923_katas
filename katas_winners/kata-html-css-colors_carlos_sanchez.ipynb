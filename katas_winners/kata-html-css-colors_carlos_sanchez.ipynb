{
 "cells": [
  {
   "cell_type": "markdown",
   "id": "a447b8b5-f16b-451f-b45c-47746f721e1e",
   "metadata": {},
   "source": [
    "# Kata:"
   ]
  },
  {
   "cell_type": "markdown",
   "id": "c7379b61-1f04-4fa2-8865-bf3e2c83b39e",
   "metadata": {},
   "source": [
    "https://www.codewars.com/kata/58b57ae2724e3c63df000006/train/python"
   ]
  },
  {
   "cell_type": "markdown",
   "id": "5e2a4659-1d95-44fb-b92c-4646b4da4e6f",
   "metadata": {},
   "source": [
    "## Your name or team members:"
   ]
  },
  {
   "cell_type": "code",
   "execution_count": null,
   "id": "29ead553-d8b4-41aa-937f-7fd045595855",
   "metadata": {},
   "outputs": [],
   "source": [
    "John y Carlos"
   ]
  },
  {
   "cell_type": "markdown",
   "id": "f04997cc-966d-4e06-8eb0-64ab376728f8",
   "metadata": {},
   "source": [
    "## Use the following cells to test your solution:"
   ]
  },
  {
   "cell_type": "code",
   "execution_count": 1,
   "id": "4202edc5-f719-4068-96bd-55703a8a6c27",
   "metadata": {},
   "outputs": [],
   "source": [
    "a = '#80FFA0' # => {'r': 128, 'g': 255, 'b': 160}\n",
    "b = '#3B7' # => {'r': 51,  'g': 187, 'b': 119}\n",
    "c = 'LimeGreen' # => {'r': 50,  'g': 205, 'b': 50 }"
   ]
  },
  {
   "cell_type": "code",
   "execution_count": 101,
   "id": "834f7932",
   "metadata": {},
   "outputs": [],
   "source": [
    "PRESET_COLORS = {'aliceblue': '#f0f8ff', 'antiquewhite': '#faebd7', 'aqua': '#00ffff', 'aquamarine': '#7fffd4', 'azure': '#f0ffff', 'beige': '#f5f5dc', 'bisque': '#ffe4c4', 'black': '#000000', 'blanchedalmond': '#ffebcd', 'blue': '#0000ff', 'blueviolet': '#8a2be2', 'brown': '#a52a2a', 'burlywood': '#deb887', 'cadetblue': '#5f9ea0', 'chartreuse': '#7fff00', 'chocolate': '#d2691e', 'coral': '#ff7f50', 'cornflowerblue': '#6495ed', 'cornsilk': '#fff8dc', 'crimson': '#dc143c', 'cyan': '#00ffff', 'darkblue': '#00008b', 'darkcyan': '#008b8b', 'darkgoldenrod': '#b8860b', 'darkgray': '#a9a9a9', 'darkgrey': '#a9a9a9', 'darkgreen': '#006400', 'darkkhaki': '#bdb76b', 'darkmagenta': '#8b008b', 'darkolivegreen': '#556b2f', 'darkorange': '#ff8c00', 'darkorchid': '#9932cc', 'darkred': '#8b0000', 'darksalmon': '#e9967a', 'darkseagreen': '#8fbc8f', 'darkslateblue': '#483d8b', 'darkslategray': '#2f4f4f', 'darkslategrey': '#2f4f4f', 'darkturquoise': '#00ced1', 'darkviolet': '#9400d3', 'deeppink': '#ff1493', 'deepskyblue': '#00bfff', 'dimgray': '#696969', 'dimgrey': '#696969', 'dodgerblue': '#1e90ff', 'firebrick': '#b22222', 'floralwhite': '#fffaf0', 'forestgreen': '#228b22', 'fuchsia': '#ff00ff', 'gainsboro': '#dcdcdc', 'ghostwhite': '#f8f8ff', 'gold': '#ffd700', 'goldenrod': '#daa520', 'gray': '#808080', 'grey': '#808080', 'green': '#008000', 'greenyellow': '#adff2f', 'honeydew': '#f0fff0', 'hotpink': '#ff69b4', 'indianred': '#cd5c5c', 'indigo': '#4b0082', 'ivory': '#fffff0', 'khaki': '#f0e68c', 'lavender': '#e6e6fa', 'lavenderblush': '#fff0f5', 'lawngreen': '#7cfc00', 'lemonchiffon': '#fffacd', 'lightblue': '#add8e6', 'lightcoral': '#f08080', 'lightcyan': '#e0ffff', 'lightgoldenrodyellow': '#fafad2', 'lightgray': '#d3d3d3', 'lightgrey': '#d3d3d3', 'lightgreen': '#90ee90', 'lightpink': '#ffb6c1', 'lightsalmon': '#ffa07a', 'lightseagreen': '#20b2aa', 'lightskyblue': '#87cefa', 'lightslategray': '#778899', 'lightslategrey': '#778899', 'lightsteelblue': '#b0c4de', 'lightyellow': '#ffffe0', 'lime': '#00ff00', 'limegreen': '#32cd32', 'linen': '#faf0e6', 'magenta': '#ff00ff', 'maroon': '#800000', 'mediumaquamarine': '#66cdaa', 'mediumblue': '#0000cd', 'mediumorchid': '#ba55d3', 'mediumpurple': '#9370db', 'mediumseagreen': '#3cb371', 'mediumslateblue': '#7b68ee', 'mediumspringgreen': '#00fa9a', 'mediumturquoise': '#48d1cc', 'mediumvioletred': '#c71585', 'midnightblue': '#191970', 'mintcream': '#f5fffa', 'mistyrose': '#ffe4e1', 'moccasin': '#ffe4b5', 'navajowhite': '#ffdead', 'navy': '#000080', 'oldlace': '#fdf5e6', 'olive': '#808000', 'olivedrab': '#6b8e23', 'orange': '#ffa500', 'orangered': '#ff4500', 'orchid': '#da70d6', 'palegoldenrod': '#eee8aa', 'palegreen': '#98fb98', 'paleturquoise': '#afeeee', 'palevioletred': '#db7093', 'papayawhip': '#ffefd5', 'peachpuff': '#ffdab9', 'peru': '#cd853f', 'pink': '#ffc0cb', 'plum': '#dda0dd', 'powderblue': '#b0e0e6', 'purple': '#800080', 'rebeccapurple': '#663399', 'red': '#ff0000', 'rosybrown': '#bc8f8f', 'royalblue': '#4169e1', 'saddlebrown': '#8b4513', 'salmon': '#fa8072', 'sandybrown': '#f4a460', 'seagreen': '#2e8b57', 'seashell': '#fff5ee', 'sienna': '#a0522d', 'silver': '#c0c0c0', 'skyblue': '#87ceeb', 'slateblue': '#6a5acd', 'slategray': '#708090', 'slategrey': '#708090', 'snow': '#fffafa', 'springgreen': '#00ff7f', 'steelblue': '#4682b4', 'tan': '#d2b48c', 'teal': '#008080', 'thistle': '#d8bfd8', 'tomato': '#ff6347', 'turquoise': '#40e0d0', 'violet': '#ee82ee', 'wheat': '#f5deb3', 'white': '#ffffff', 'whitesmoke': '#f5f5f5', 'yellow': '#ffff00', 'yellowgreen': '#9acd32'}"
   ]
  },
  {
   "cell_type": "code",
   "execution_count": 51,
   "id": "1c1f6098-25a1-4805-a249-b833ca4a66a0",
   "metadata": {},
   "outputs": [
    {
     "ename": "SyntaxError",
     "evalue": "invalid syntax (1715259107.py, line 4)",
     "output_type": "error",
     "traceback": [
      "\u001b[1;36m  Cell \u001b[1;32mIn[51], line 4\u001b[1;36m\u001b[0m\n\u001b[1;33m    result = int(h[i:i+2], 16) for i in (0, 2, 4)\u001b[0m\n\u001b[1;37m                               ^\u001b[0m\n\u001b[1;31mSyntaxError\u001b[0m\u001b[1;31m:\u001b[0m invalid syntax\n"
     ]
    }
   ],
   "source": [
    "var = b\n",
    "h = var.lstrip('#')\n",
    "if len(var)>3:\n",
    "    result = int(h[i:i+2], 16) for i in (0, 2, 4)\n",
    "else:\n",
    "    #print('RGB =', tuple(int(h[i]+h[i], 16) for i in range(len(a))))\n",
    "    result = [int(h[i]+h[i], 16) for i in (0, 2, 4)]\n",
    "\n",
    "RGB = ('RGB =', tuple(result))\n",
    "print(RGB)"
   ]
  },
  {
   "cell_type": "code",
   "execution_count": 66,
   "id": "f131efa6",
   "metadata": {},
   "outputs": [
    {
     "name": "stdout",
     "output_type": "stream",
     "text": [
      "('RGB =', (51, 187, 119))\n"
     ]
    }
   ],
   "source": [
    "var = b\n",
    "h = var.lstrip('#')\n",
    "result = []\n",
    "\n",
    "if len(var)>4:\n",
    "    for i in (0, 2, 4):\n",
    "        result.append(int(h[i:i+2], 16))\n",
    "else:\n",
    "    for i in range(len(h)):\n",
    "        result.append(int(h[i]+h[i], 16))\n",
    "\n",
    "RGB = ('RGB =', tuple(result))\n",
    "print(RGB)"
   ]
  },
  {
   "cell_type": "code",
   "execution_count": 116,
   "id": "524fb42f",
   "metadata": {},
   "outputs": [
    {
     "name": "stdout",
     "output_type": "stream",
     "text": [
      "error\n"
     ]
    }
   ],
   "source": [
    "var = 'cable'\n",
    "\n",
    "if var.lower() in PRESET_COLORS:\n",
    "    var = PRESET_COLORS[var.lower()]\n",
    "    print(var)\n",
    "\n",
    "if '#' in var:\n",
    "    h = var.lstrip('#')\n",
    "    if len(var)>4:\n",
    "        result = (int(h[i:i+2], 16) for i in (0, 2, 4))\n",
    "    else:\n",
    "        result = (int(h[i]+h[i], 16) for i in range(len(h)))\n",
    "\n",
    "    result = tuple(result)\n",
    "    dic_rgb = dict(r=result[0], g=result[1],b=result[2])\n",
    "    return dic_rgb\n",
    "else:\n",
    "    return 'error'"
   ]
  },
  {
   "cell_type": "code",
   "execution_count": 99,
   "id": "4bfff8cc",
   "metadata": {},
   "outputs": [
    {
     "data": {
      "text/plain": [
       "{'r': 51, 'g': 187, 'b': 119}"
      ]
     },
     "execution_count": 99,
     "metadata": {},
     "output_type": "execute_result"
    }
   ],
   "source": [
    "dic_rgb = dict(r=result[0], g=result[1],b=result[2])\n",
    "dic_rgb"
   ]
  },
  {
   "cell_type": "code",
   "execution_count": 56,
   "id": "62096fea",
   "metadata": {},
   "outputs": [
    {
     "name": "stdout",
     "output_type": "stream",
     "text": [
      "80FFA0\n",
      "[136]\n",
      "[136, 0]\n",
      "[136, 0, 255]\n",
      "[136, 0, 255, 255]\n",
      "[136, 0, 255, 255, 170]\n",
      "[136, 0, 255, 255, 170, 0]\n"
     ]
    }
   ],
   "source": [
    "print(h)\n",
    "result = []\n",
    "for i in range(len(h)):\n",
    "    result.append(int(h[i]+h[i], 16))\n",
    "    print(result)"
   ]
  },
  {
   "cell_type": "markdown",
   "id": "5e5948ae-bfb0-4aa7-8cc0-83970accb44a",
   "metadata": {},
   "source": [
    "## Copy your submited solution here:"
   ]
  },
  {
   "cell_type": "code",
   "execution_count": 117,
   "id": "de8f88a1-897b-4b92-8c9f-e04d16cec21a",
   "metadata": {},
   "outputs": [],
   "source": [
    "def parse_html_color(color):\n",
    "    if color.lower() in PRESET_COLORS:\n",
    "        color = PRESET_COLORS[color.lower()]\n",
    "\n",
    "    if '#' in color:\n",
    "        h = color.lstrip('#')\n",
    "        if len(color)>4:\n",
    "            result = tuple(int(h[i:i+2], 16) for i in (0, 2, 4))\n",
    "        else:\n",
    "            result = tuple(int(h[i]+h[i], 16) for i in range(len(h)))\n",
    "            \n",
    "        return dict(r=result[0], g=result[1],b=result[2])\n",
    "    else:\n",
    "        return 'error'"
   ]
  },
  {
   "cell_type": "code",
   "execution_count": 120,
   "id": "a5bbe66c",
   "metadata": {},
   "outputs": [
    {
     "data": {
      "text/plain": [
       "{'r': 50, 'g': 205, 'b': 50}"
      ]
     },
     "execution_count": 120,
     "metadata": {},
     "output_type": "execute_result"
    }
   ],
   "source": [
    "color = c\n",
    "parse_html_color(color)"
   ]
  }
 ],
 "metadata": {
  "kernelspec": {
   "display_name": "Python 3 (ipykernel)",
   "language": "python",
   "name": "python3"
  },
  "language_info": {
   "codemirror_mode": {
    "name": "ipython",
    "version": 3
   },
   "file_extension": ".py",
   "mimetype": "text/x-python",
   "name": "python",
   "nbconvert_exporter": "python",
   "pygments_lexer": "ipython3",
   "version": "3.10.13"
  }
 },
 "nbformat": 4,
 "nbformat_minor": 5
}
