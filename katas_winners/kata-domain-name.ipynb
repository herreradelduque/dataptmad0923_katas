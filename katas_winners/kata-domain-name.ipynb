{
 "cells": [
  {
   "cell_type": "markdown",
   "id": "a447b8b5-f16b-451f-b45c-47746f721e1e",
   "metadata": {},
   "source": [
    "# Kata:"
   ]
  },
  {
   "cell_type": "markdown",
   "id": "c7379b61-1f04-4fa2-8865-bf3e2c83b39e",
   "metadata": {},
   "source": [
    "https://www.codewars.com/kata/514a024011ea4fb54200004b/train/python"
   ]
  },
  {
   "cell_type": "markdown",
   "id": "5e2a4659-1d95-44fb-b92c-4646b4da4e6f",
   "metadata": {},
   "source": [
    "## Your name or team members:"
   ]
  },
  {
   "cell_type": "code",
   "execution_count": null,
   "id": "29ead553-d8b4-41aa-937f-7fd045595855",
   "metadata": {},
   "outputs": [],
   "source": []
  },
  {
   "cell_type": "markdown",
   "id": "f04997cc-966d-4e06-8eb0-64ab376728f8",
   "metadata": {},
   "source": [
    "## Use the following cells to test your solution:"
   ]
  },
  {
   "cell_type": "code",
   "execution_count": 1,
   "id": "9e1b6aad",
   "metadata": {},
   "outputs": [
    {
     "name": "stdout",
     "output_type": "stream",
     "text": [
      "google\n",
      "google\n",
      "123\n",
      "hyphen-site\n",
      "codewars\n",
      "xakep\n",
      "youtube\n",
      "codewars\n",
      "icann\n"
     ]
    }
   ],
   "source": [
    "# Dummy Code\n",
    "\n",
    "'''Write a function that when given a URL as a string,\n",
    "parses out just the domain name and returns it as a string. For example:\n",
    "\n",
    "* url = \"http://github.com/carbonfive/raygun\" -> domain name = \"github\"\n",
    "* url = \"http://www.zombie-bites.com\"         -> domain name = \"zombie-bites\"\n",
    "* url = \"https://www.cnet.com\"                -> domain name = cnet\"\n",
    "'''\n",
    "\n",
    "import re\n",
    "\n",
    "def domain_name(url):\n",
    "    # Use a regular expression to match the domain name in the URL\n",
    "    match = re.search(r\"(https?://)?(www\\d?\\.)?(?P<name>[\\w-]+)\\.\", url)\n",
    "    \n",
    "    if match:\n",
    "        return match.group(\"name\")\n",
    "    else:\n",
    "        return None  # You can choose to handle invalid URLs differently, e.g., raise an exception\n",
    "\n",
    "# Sample tests\n",
    "print(domain_name(\"http://google.com\"))  # Output: \"google\"\n",
    "print(domain_name(\"http://google.co.jp\"))  # Output: \"google\"\n",
    "print(domain_name(\"https://123.net\"))  # Output: \"123\"\n",
    "print(domain_name(\"https://hyphen-site.org\"))  # Output: \"hyphen-site\"\n",
    "print(domain_name(\"http://codewars.com\"))  # Output: \"codewars\"\n",
    "print(domain_name(\"www.xakep.ru\"))  # Output: \"xakep\"\n",
    "print(domain_name(\"https://youtube.com\"))  # Output: \"youtube\"\n",
    "print(domain_name(\"http://www.codewars.com/kata/\"))  # Output: \"codewars\"\n",
    "print(domain_name(\"icann.org\"))  # Output: \"icann\""
   ]
  },
  {
   "cell_type": "markdown",
   "id": "5e5948ae-bfb0-4aa7-8cc0-83970accb44a",
   "metadata": {},
   "source": [
    "## Copy your submited solution here:"
   ]
  },
  {
   "cell_type": "code",
   "execution_count": 3,
   "id": "de8f88a1-897b-4b92-8c9f-e04d16cec21a",
   "metadata": {},
   "outputs": [],
   "source": [
    "import re\n",
    "\n",
    "def domain_name(url):\n",
    "    match = re.search(r\"(https?://)?(www\\d?\\.)?(?P<name>[\\w-]+)\\.\", url)\n",
    "    if match:\n",
    "        return match.group(\"name\")\n",
    "    else:\n",
    "        return None"
   ]
  }
 ],
 "metadata": {
  "kernelspec": {
   "display_name": "Python 3 (ipykernel)",
   "language": "python",
   "name": "python3"
  },
  "language_info": {
   "codemirror_mode": {
    "name": "ipython",
    "version": 3
   },
   "file_extension": ".py",
   "mimetype": "text/x-python",
   "name": "python",
   "nbconvert_exporter": "python",
   "pygments_lexer": "ipython3",
   "version": "3.10.13"
  }
 },
 "nbformat": 4,
 "nbformat_minor": 5
}
