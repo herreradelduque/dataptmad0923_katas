{
 "cells": [
  {
   "cell_type": "markdown",
   "id": "a447b8b5-f16b-451f-b45c-47746f721e1e",
   "metadata": {},
   "source": [
    "# Kata:"
   ]
  },
  {
   "cell_type": "markdown",
   "id": "c7379b61-1f04-4fa2-8865-bf3e2c83b39e",
   "metadata": {},
   "source": [
    "https://www.codewars.com/kata/514a024011ea4fb54200004b/train/python"
   ]
  },
  {
   "cell_type": "markdown",
   "id": "5e2a4659-1d95-44fb-b92c-4646b4da4e6f",
   "metadata": {},
   "source": [
    "## Your name or team members:"
   ]
  },
  {
   "cell_type": "code",
   "execution_count": null,
   "id": "29ead553-d8b4-41aa-937f-7fd045595855",
   "metadata": {},
   "outputs": [],
   "source": [
    "Silvia Alcon"
   ]
  },
  {
   "cell_type": "markdown",
   "id": "f04997cc-966d-4e06-8eb0-64ab376728f8",
   "metadata": {},
   "source": [
    "## Use the following cells to test your solution:"
   ]
  },
  {
   "cell_type": "code",
   "execution_count": null,
   "id": "4202edc5-f719-4068-96bd-55703a8a6c27",
   "metadata": {},
   "outputs": [],
   "source": [
    "url\n",
    "-\n",
    "\"http://githab.com/\"\n",
    "4 print(url.replace(\"http://\"\n",
    "\"))\n",
    "5 print(url.replace(\"http://\",\n",
    "\"\").replace(\"https://\"\n",
    "\"\").replace(\"www.\n",
    "\"'))\n",
    "6\n",
    "url clean = url.replace(\"http://\",\"\").replace(\"https://\",\"\").replace(\"www.\"\")\n",
    "\n",
    "print (url clean.slit('.') [01)\n",
    "\n",
    "def domain name(url):\n",
    "\n",
    "url clean = url.replace(\"http://\",\"\").replace(\"https://\",\"\").replace( \"www.\".\"\")\n",
    "\n",
    "url clean.split('.') [0]\n",
    "return domain"
   ]
  },
  {
   "cell_type": "code",
   "execution_count": 5,
   "id": "1c1f6098-25a1-4805-a249-b833ca4a66a0",
   "metadata": {},
   "outputs": [
    {
     "data": {
      "text/plain": [
       "'google'"
      ]
     },
     "execution_count": 5,
     "metadata": {},
     "output_type": "execute_result"
    }
   ],
   "source": [
    "def domain_name(url):\n",
    "    url_clean = url.replace(\"http://\",\"\").replace(\"https://\",\"\").replace( \"www.\",\"\")\n",
    "    url_cleaner = url_clean.split('.') [0]\n",
    "    return url_cleaner\n",
    "\n",
    "domain_name(\"http://google.com\")"
   ]
  },
  {
   "cell_type": "markdown",
   "id": "5e5948ae-bfb0-4aa7-8cc0-83970accb44a",
   "metadata": {},
   "source": [
    "## Copy your submited solution here:"
   ]
  },
  {
   "cell_type": "code",
   "execution_count": null,
   "id": "de8f88a1-897b-4b92-8c9f-e04d16cec21a",
   "metadata": {},
   "outputs": [],
   "source": [
    "def domain_name(url):\n",
    "    url_clean = url.replace(\"http://\",\"\").replace(\"https://\",\"\").replace( \"www.\",\"\")\n",
    "    url_cleaner = url_clean.split('.')[0]\n",
    "    return url_cleaner"
   ]
  }
 ],
 "metadata": {
  "kernelspec": {
   "display_name": "Python 3 (ipykernel)",
   "language": "python",
   "name": "python3"
  },
  "language_info": {
   "codemirror_mode": {
    "name": "ipython",
    "version": 3
   },
   "file_extension": ".py",
   "mimetype": "text/x-python",
   "name": "python",
   "nbconvert_exporter": "python",
   "pygments_lexer": "ipython3",
   "version": "3.10.13"
  }
 },
 "nbformat": 4,
 "nbformat_minor": 5
}
