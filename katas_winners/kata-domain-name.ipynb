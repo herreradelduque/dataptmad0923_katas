{
 "cells": [
  {
   "cell_type": "markdown",
   "id": "a447b8b5-f16b-451f-b45c-47746f721e1e",
   "metadata": {},
   "source": [
    "# Kata:"
   ]
  },
  {
   "cell_type": "markdown",
   "id": "c7379b61-1f04-4fa2-8865-bf3e2c83b39e",
   "metadata": {},
   "source": [
    "https://www.codewars.com/kata/514a024011ea4fb54200004b/train/python"
   ]
  },
  {
   "cell_type": "markdown",
   "id": "5e2a4659-1d95-44fb-b92c-4646b4da4e6f",
   "metadata": {},
   "source": [
    "## Your name or team members:"
   ]
  },
  {
   "cell_type": "code",
   "execution_count": null,
   "id": "29ead553-d8b4-41aa-937f-7fd045595855",
   "metadata": {},
   "outputs": [],
   "source": [
    "Guille Morato \n",
    "Silvia Martínez "
   ]
  },
  {
   "cell_type": "markdown",
   "id": "f04997cc-966d-4e06-8eb0-64ab376728f8",
   "metadata": {},
   "source": [
    "## Use the following cells to test your solution:"
   ]
  },
  {
   "cell_type": "code",
   "execution_count": 12,
   "id": "3b9d954c",
   "metadata": {},
   "outputs": [],
   "source": [
    "url = \"http://github.com\""
   ]
  },
  {
   "cell_type": "code",
   "execution_count": 13,
   "id": "29be16dc",
   "metadata": {},
   "outputs": [
    {
     "data": {
      "text/plain": [
       "['github']"
      ]
     },
     "execution_count": 13,
     "metadata": {},
     "output_type": "execute_result"
    }
   ],
   "source": [
    "import re\n",
    "regex_pattern = \"https?://([A-Za-z_0-9-]+)\"\n",
    "method_output = re.findall(regex_pattern, url)\n",
    "method_output"
   ]
  },
  {
   "cell_type": "code",
   "execution_count": 18,
   "id": "b3ca8025",
   "metadata": {},
   "outputs": [
    {
     "data": {
      "text/plain": [
       "'zombie-bites'"
      ]
     },
     "execution_count": 18,
     "metadata": {},
     "output_type": "execute_result"
    }
   ],
   "source": [
    "def domain(url):\n",
    "    url_clean = url.replace(\"http://\", \"\").replace(\"https://\", \"\").replace(\"www.\", \"\").replace(\".com\", \"\")\n",
    "    domain = url_clean.split(\".\")[0]\n",
    "    return url_clean\n",
    "domain(\"http://www.zombie-bites.com\")"
   ]
  },
  {
   "cell_type": "code",
   "execution_count": 24,
   "id": "071d9d47",
   "metadata": {},
   "outputs": [
    {
     "data": {
      "text/plain": [
       "'hyphen-site'"
      ]
     },
     "execution_count": 24,
     "metadata": {},
     "output_type": "execute_result"
    }
   ],
   "source": [
    "def domain(url):\n",
    "    url_clean = url.replace(\"http://\", \"\").replace(\"https://\", \"\").replace(\"www.\", \"\")\n",
    "    domain = url_clean.split(\".\")[0]\n",
    "    return domain\n",
    "domain(\"https://hyphen-site.org\")"
   ]
  },
  {
   "cell_type": "code",
   "execution_count": null,
   "id": "952c3168",
   "metadata": {},
   "outputs": [],
   "source": []
  },
  {
   "cell_type": "code",
   "execution_count": null,
   "id": "e96df0d9",
   "metadata": {},
   "outputs": [],
   "source": []
  },
  {
   "cell_type": "markdown",
   "id": "5e5948ae-bfb0-4aa7-8cc0-83970accb44a",
   "metadata": {},
   "source": [
    "## Copy your submited solution here:"
   ]
  },
  {
   "cell_type": "code",
   "execution_count": 26,
   "id": "de8f88a1-897b-4b92-8c9f-e04d16cec21a",
   "metadata": {},
   "outputs": [
    {
     "data": {
      "text/plain": [
       "'hyphen-site'"
      ]
     },
     "execution_count": 26,
     "metadata": {},
     "output_type": "execute_result"
    }
   ],
   "source": [
    "def domain_name(url):\n",
    "    url_clean = url.replace(\"http://\", \"\").replace(\"https://\", \"\").replace(\"www.\", \"\")\n",
    "    domain = url_clean.split(\".\")[0]\n",
    "    return domain\n",
    "domain_name(\"https://hyphen-site.org\")"
   ]
  },
  {
   "cell_type": "code",
   "execution_count": null,
   "id": "a9ef3461",
   "metadata": {},
   "outputs": [],
   "source": []
  }
 ],
 "metadata": {
  "kernelspec": {
   "display_name": "Python 3 (ipykernel)",
   "language": "python",
   "name": "python3"
  },
  "language_info": {
   "codemirror_mode": {
    "name": "ipython",
    "version": 3
   },
   "file_extension": ".py",
   "mimetype": "text/x-python",
   "name": "python",
   "nbconvert_exporter": "python",
   "pygments_lexer": "ipython3",
   "version": "3.10.13"
  }
 },
 "nbformat": 4,
 "nbformat_minor": 5
}
