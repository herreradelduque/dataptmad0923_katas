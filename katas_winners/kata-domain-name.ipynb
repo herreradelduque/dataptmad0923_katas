{
 "cells": [
  {
   "cell_type": "markdown",
   "id": "a447b8b5-f16b-451f-b45c-47746f721e1e",
   "metadata": {},
   "source": [
    "# Kata:"
   ]
  },
  {
   "cell_type": "markdown",
   "id": "c7379b61-1f04-4fa2-8865-bf3e2c83b39e",
   "metadata": {},
   "source": [
    "https://www.codewars.com/kata/514a024011ea4fb54200004b/train/python"
   ]
  },
  {
   "cell_type": "markdown",
   "id": "5e2a4659-1d95-44fb-b92c-4646b4da4e6f",
   "metadata": {},
   "source": [
    "## Your name or team members:"
   ]
  },
  {
   "cell_type": "code",
   "execution_count": null,
   "id": "29ead553-d8b4-41aa-937f-7fd045595855",
   "metadata": {},
   "outputs": [],
   "source": [
    "Elena Luque"
   ]
  },
  {
   "cell_type": "markdown",
   "id": "f04997cc-966d-4e06-8eb0-64ab376728f8",
   "metadata": {},
   "source": [
    "## Use the following cells to test your solution:"
   ]
  },
  {
   "cell_type": "code",
   "execution_count": 10,
   "id": "1c1f6098-25a1-4805-a249-b833ca4a66a0",
   "metadata": {},
   "outputs": [],
   "source": [
    "url=\"https://github.com/carbonfive/raygun\""
   ]
  },
  {
   "cell_type": "code",
   "execution_count": 2,
   "id": "7abecb75",
   "metadata": {},
   "outputs": [
    {
     "name": "stdout",
     "output_type": "stream",
     "text": [
      "<class 'str'>\n"
     ]
    }
   ],
   "source": [
    "print(type(url))"
   ]
  },
  {
   "cell_type": "code",
   "execution_count": 12,
   "id": "9aec5ead",
   "metadata": {},
   "outputs": [
    {
     "name": "stdout",
     "output_type": "stream",
     "text": [
      "https://github.com/carbonfive/raygun\n"
     ]
    }
   ],
   "source": [
    "print(url.replace(\"http://\",\"\"))    #Con esto no te quita todos los ejemplos que tengo en codewars"
   ]
  },
  {
   "cell_type": "code",
   "execution_count": 11,
   "id": "98e7392b",
   "metadata": {},
   "outputs": [
    {
     "name": "stdout",
     "output_type": "stream",
     "text": [
      "github.com/carbonfive/raygun\n"
     ]
    }
   ],
   "source": [
    "print(url.replace(\"http://\",\"\").replace(\"https://\",\"\").replace(\"www.\",\"\"))"
   ]
  },
  {
   "cell_type": "code",
   "execution_count": 14,
   "id": "41da1c8d",
   "metadata": {},
   "outputs": [],
   "source": [
    "url_clean = url.replace(\"http://\",\"\").replace(\"https://\",\"\").replace(\"www.\",\"\")"
   ]
  },
  {
   "cell_type": "code",
   "execution_count": 15,
   "id": "f989126c",
   "metadata": {},
   "outputs": [
    {
     "data": {
      "text/plain": [
       "'github.com/carbonfive/raygun'"
      ]
     },
     "execution_count": 15,
     "metadata": {},
     "output_type": "execute_result"
    }
   ],
   "source": [
    "url_clean"
   ]
  },
  {
   "cell_type": "code",
   "execution_count": 21,
   "id": "aff403a8",
   "metadata": {},
   "outputs": [
    {
     "name": "stdout",
     "output_type": "stream",
     "text": [
      "['github', 'com/carbonfive/raygun']\n"
     ]
    }
   ],
   "source": [
    "print(url_clean.split('.'))"
   ]
  },
  {
   "cell_type": "code",
   "execution_count": 22,
   "id": "fe457fa8",
   "metadata": {},
   "outputs": [
    {
     "name": "stdout",
     "output_type": "stream",
     "text": [
      "github\n"
     ]
    }
   ],
   "source": [
    "print(url_clean.split('.')[0])    #Quiero la primera posición"
   ]
  },
  {
   "cell_type": "code",
   "execution_count": 19,
   "id": "4a88aca0",
   "metadata": {},
   "outputs": [],
   "source": [
    "def domain_name(url):\n",
    "    url_clean= url.replace(\"http://\",\"\").replace(\"https://\",\"\").replace(\"www.\",\"\")\n",
    "    domain = url_clean.split('.')[0]\n",
    "    return domain"
   ]
  },
  {
   "cell_type": "code",
   "execution_count": 20,
   "id": "b696772f",
   "metadata": {},
   "outputs": [
    {
     "data": {
      "text/plain": [
       "'github'"
      ]
     },
     "execution_count": 20,
     "metadata": {},
     "output_type": "execute_result"
    }
   ],
   "source": [
    "domain_name(url)"
   ]
  },
  {
   "cell_type": "markdown",
   "id": "5e5948ae-bfb0-4aa7-8cc0-83970accb44a",
   "metadata": {},
   "source": [
    "## Copy your submited solution here:"
   ]
  },
  {
   "cell_type": "code",
   "execution_count": null,
   "id": "de8f88a1-897b-4b92-8c9f-e04d16cec21a",
   "metadata": {},
   "outputs": [],
   "source": [
    "def domain_name(url):\n",
    "    url_clean= url.replace(\"http://\",\"\").replace(\"https://\",\"\").replace(\"www.\",\"\")\n",
    "    domain = url_clean.split('.')[0]\n",
    "    return domain"
   ]
  }
 ],
 "metadata": {
  "kernelspec": {
   "display_name": "Python 3 (ipykernel)",
   "language": "python",
   "name": "python3"
  },
  "language_info": {
   "codemirror_mode": {
    "name": "ipython",
    "version": 3
   },
   "file_extension": ".py",
   "mimetype": "text/x-python",
   "name": "python",
   "nbconvert_exporter": "python",
   "pygments_lexer": "ipython3",
   "version": "3.10.13"
  }
 },
 "nbformat": 4,
 "nbformat_minor": 5
}
