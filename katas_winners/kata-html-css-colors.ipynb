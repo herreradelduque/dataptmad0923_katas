{
 "cells": [
  {
   "cell_type": "markdown",
   "id": "a447b8b5-f16b-451f-b45c-47746f721e1e",
   "metadata": {},
   "source": [
    "# Kata:"
   ]
  },
  {
   "cell_type": "markdown",
   "id": "c7379b61-1f04-4fa2-8865-bf3e2c83b39e",
   "metadata": {},
   "source": [
    "https://www.codewars.com/kata/58b57ae2724e3c63df000006/train/python"
   ]
  },
  {
   "cell_type": "markdown",
   "id": "5e2a4659-1d95-44fb-b92c-4646b4da4e6f",
   "metadata": {},
   "source": [
    "## Your name or team members:"
   ]
  },
  {
   "cell_type": "code",
   "execution_count": null,
   "id": "29ead553-d8b4-41aa-937f-7fd045595855",
   "metadata": {},
   "outputs": [],
   "source": []
  },
  {
   "cell_type": "markdown",
   "id": "f04997cc-966d-4e06-8eb0-64ab376728f8",
   "metadata": {},
   "source": [
    "## Use the following cells to test your solution:"
   ]
  },
  {
   "cell_type": "code",
   "execution_count": 1,
   "id": "4202edc5-f719-4068-96bd-55703a8a6c27",
   "metadata": {},
   "outputs": [],
   "source": [
    "def parse_html_color(color):\n",
    "    empty_dict = {}\n",
    "    if '#' in color:\n",
    "        if len(color) > 4:\n",
    "            empty_dict['r'] = int(color[1:3], 16)\n",
    "            empty_dict['g'] = int(color[3:5], 16)\n",
    "            empty_dict['b'] = int(color[5:], 16)\n",
    "            return empty_dict\n",
    "            # return print('opción1')\n",
    "            # Aquí pilla opción uno:\n",
    "        else:\n",
    "            return print('opción2')\n",
    "            # Aquí pilla opción dos.\n",
    "        return print('#')\n",
    "    else:\n",
    "        return print('No #')"
   ]
  },
  {
   "cell_type": "code",
   "execution_count": 2,
   "id": "1c1f6098-25a1-4805-a249-b833ca4a66a0",
   "metadata": {},
   "outputs": [
    {
     "name": "stdout",
     "output_type": "stream",
     "text": [
      "{'r': 128, 'g': 255, 'b': 160}\n"
     ]
    }
   ],
   "source": [
    "parse_html_color('#80FFA0')"
   ]
  },
  {
   "cell_type": "code",
   "execution_count": 5,
   "id": "21edd209",
   "metadata": {},
   "outputs": [],
   "source": [
    "def parse_html_color(color):\n",
    "    empty_dict = {}\n",
    "    if '#' in color:\n",
    "        if len(color) > 4:\n",
    "            empty_dict['r'] = int(color[1:3], 16)\n",
    "            empty_dict['g'] = int(color[3:5], 16)\n",
    "            empty_dict['b'] = int(color[5:], 16)\n",
    "            return print empty_dict\n",
    "            # return print('opción1')\n",
    "            # Aquí pilla opción uno:\n",
    "        else:\n",
    "            empty_dict['r'] = int(color[1:2]*2, 16)\n",
    "            empty_dict['g'] = int(color[2:3]*2, 16)\n",
    "            empty_dict['b'] = int(color[3:]*2, 16)\n",
    "            return empty_dict\n",
    "            # Aquí pilla opción dos.\n",
    "        return print('#')\n",
    "    else:\n",
    "        return print('No #')"
   ]
  },
  {
   "cell_type": "code",
   "execution_count": 7,
   "id": "05ee3590",
   "metadata": {},
   "outputs": [
    {
     "name": "stdout",
     "output_type": "stream",
     "text": [
      "{'r': 255, 'g': 85, 'b': 170}\n"
     ]
    }
   ],
   "source": [
    "parse_html_color('#F5A')"
   ]
  },
  {
   "cell_type": "code",
   "execution_count": 10,
   "id": "58389b24",
   "metadata": {},
   "outputs": [
    {
     "ename": "NameError",
     "evalue": "name 'PRESET_COLORS' is not defined",
     "output_type": "error",
     "traceback": [
      "\u001b[1;31m---------------------------------------------------------------------------\u001b[0m",
      "\u001b[1;31mNameError\u001b[0m                                 Traceback (most recent call last)",
      "Cell \u001b[1;32mIn[10], line 1\u001b[0m\n\u001b[1;32m----> 1\u001b[0m \u001b[43mPRESET_COLORS\u001b[49m\u001b[38;5;241m.\u001b[39minfo\n",
      "\u001b[1;31mNameError\u001b[0m: name 'PRESET_COLORS' is not defined"
     ]
    }
   ],
   "source": []
  },
  {
   "cell_type": "markdown",
   "id": "5e5948ae-bfb0-4aa7-8cc0-83970accb44a",
   "metadata": {},
   "source": [
    "## Copy your submited solution here:"
   ]
  },
  {
   "cell_type": "code",
   "execution_count": null,
   "id": "de8f88a1-897b-4b92-8c9f-e04d16cec21a",
   "metadata": {},
   "outputs": [],
   "source": []
  }
 ],
 "metadata": {
  "kernelspec": {
   "display_name": "Python 3 (ipykernel)",
   "language": "python",
   "name": "python3"
  },
  "language_info": {
   "codemirror_mode": {
    "name": "ipython",
    "version": 3
   },
   "file_extension": ".py",
   "mimetype": "text/x-python",
   "name": "python",
   "nbconvert_exporter": "python",
   "pygments_lexer": "ipython3",
   "version": "3.10.13"
  }
 },
 "nbformat": 4,
 "nbformat_minor": 5
}
