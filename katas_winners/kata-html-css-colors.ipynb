{
 "cells": [
  {
   "cell_type": "markdown",
   "id": "a447b8b5-f16b-451f-b45c-47746f721e1e",
   "metadata": {},
   "source": [
    "# Kata:"
   ]
  },
  {
   "cell_type": "markdown",
   "id": "c7379b61-1f04-4fa2-8865-bf3e2c83b39e",
   "metadata": {},
   "source": [
    "https://www.codewars.com/kata/58b57ae2724e3c63df000006/train/python"
   ]
  },
  {
   "cell_type": "markdown",
   "id": "5e2a4659-1d95-44fb-b92c-4646b4da4e6f",
   "metadata": {},
   "source": [
    "## Your name or team members:"
   ]
  },
  {
   "cell_type": "code",
   "execution_count": null,
   "id": "29ead553-d8b4-41aa-937f-7fd045595855",
   "metadata": {},
   "outputs": [],
   "source": [
    "Andrew Bavuels"
   ]
  },
  {
   "cell_type": "markdown",
   "id": "f04997cc-966d-4e06-8eb0-64ab376728f8",
   "metadata": {},
   "source": [
    "## Use the following cells to test your solution:"
   ]
  },
  {
   "cell_type": "code",
   "execution_count": 63,
   "id": "ef5b8731",
   "metadata": {},
   "outputs": [
    {
     "data": {
      "text/plain": [
       "'#33BB77'"
      ]
     },
     "execution_count": 63,
     "metadata": {},
     "output_type": "execute_result"
    }
   ],
   "source": [
    "hex_code = '#3B7'\n",
    "new_hex_code = '#{}'.format(''.join(2 * c for c in hex_code.lstrip('#')))\n",
    "new_hex_code "
   ]
  },
  {
   "cell_type": "code",
   "execution_count": 17,
   "id": "786a17cb",
   "metadata": {},
   "outputs": [
    {
     "data": {
      "text/plain": [
       "(50, 205, 50)"
      ]
     },
     "execution_count": 17,
     "metadata": {},
     "output_type": "execute_result"
    }
   ],
   "source": [
    "from matplotlib import colors\n",
    "import matplotlib.pyplot as plt\n",
    "rgbtry = (colors.to_rgb(\"LimeGreen\"))\n",
    "rgbtry2 = tuple([255*x for x in rgbtry])\n",
    "rgbtry2 = (round(rgbtry2[0]), round(rgbtry2[1]), round(rgbtry2[2]))\n",
    "rgbtry2"
   ]
  },
  {
   "cell_type": "code",
   "execution_count": 18,
   "id": "4202edc5-f719-4068-96bd-55703a8a6c27",
   "metadata": {},
   "outputs": [],
   "source": [
    "from matplotlib import colors\n",
    "def parse_html_color(color):\n",
    "    if color.startswith(\"#\"):\n",
    "        if len(color)== 4:\n",
    "            new_hex_code = ('#{}'.format(''.join(2 * c for c in color.lstrip('#')))).lstrip(\"#\")\n",
    "            lv = len(new_hex_code)\n",
    "            rgb = tuple(int(new_hex_code[i:i + lv // 3], 16) for i in range(0, lv, lv // 3))\n",
    "            new_rgb = {\"r\": rgb[0], \"g\": rgb [1], \"b\": rgb [2]}\n",
    "        else:\n",
    "            value = color.lstrip('#')\n",
    "            lv = len(value)\n",
    "            rgb = tuple(int(value[i:i + lv // 3], 16) for i in range(0, lv, lv // 3))\n",
    "            new_rgb = {\"r\": rgb[0], \"g\": rgb [1], \"b\": rgb [2]}\n",
    "    else: \n",
    "        from matplotlib import colors\n",
    "        import matplotlib.pyplot as plt\n",
    "        rgbtry = (colors.to_rgb(\"LimeGreen\"))\n",
    "        rgbtry2 = tuple([255*x for x in rgbtry])\n",
    "        rgbtry2 = (round(rgbtry2[0]), round(rgbtry2[1]), round(rgbtry2[2]))\n",
    "        new_rgb = {\"r\": rgbtry2[0], \"g\": rgbtry2 [1], \"b\": rgbtry2 [2]}\n",
    "    return new_rgb\n",
    " "
   ]
  },
  {
   "cell_type": "code",
   "execution_count": 19,
   "id": "1c1f6098-25a1-4805-a249-b833ca4a66a0",
   "metadata": {
    "scrolled": false
   },
   "outputs": [
    {
     "data": {
      "text/plain": [
       "{'r': 50, 'g': 205, 'b': 50}"
      ]
     },
     "execution_count": 19,
     "metadata": {},
     "output_type": "execute_result"
    }
   ],
   "source": [
    "parse_html_color(\"LimeGreen\")\n"
   ]
  },
  {
   "cell_type": "markdown",
   "id": "5e5948ae-bfb0-4aa7-8cc0-83970accb44a",
   "metadata": {},
   "source": [
    "## Copy your submited solution here:"
   ]
  },
  {
   "cell_type": "code",
   "execution_count": null,
   "id": "de8f88a1-897b-4b92-8c9f-e04d16cec21a",
   "metadata": {},
   "outputs": [],
   "source": [
    "\n",
    "def parse_html_color(color):\n",
    "    if color.startswith(\"#\"):\n",
    "        if len(color)== 4:\n",
    "            new_hex_code = ('#{}'.format(''.join(2 * c for c in color.lstrip('#')))).lstrip(\"#\")\n",
    "            lv = len(new_hex_code)\n",
    "            rgb = tuple(int(new_hex_code[i:i + lv // 3], 16) for i in range(0, lv, lv // 3))\n",
    "            new_rgb = {\"r\": rgb[0], \"g\": rgb [1], \"b\": rgb [2]}\n",
    "        else:\n",
    "            value = color.lstrip('#')\n",
    "            lv = len(value)\n",
    "            rgb = tuple(int(value[i:i + lv // 3], 16) for i in range(0, lv, lv // 3))\n",
    "            new_rgb = {\"r\": rgb[0], \"g\": rgb [1], \"b\": rgb [2]}\n",
    "    else: \n",
    "        from matplotlib import colors\n",
    "        import matplotlib.pyplot as plt\n",
    "        rgbtry = (colors.to_rgb(color))\n",
    "        rgbtry2 = tuple([255*x for x in rgbtry])\n",
    "        rgbtry2 = (round(rgbtry2[0]), round(rgbtry2[1]), round(rgbtry2[2]))\n",
    "        new_rgb = {\"r\": rgbtry2[0], \"g\": rgbtry2 [1], \"b\": rgbtry2 [2]}\n",
    "    return new_rgb\n"
   ]
  }
 ],
 "metadata": {
  "kernelspec": {
   "display_name": "Python (m1_env)",
   "language": "python",
   "name": "m1_env"
  },
  "language_info": {
   "codemirror_mode": {
    "name": "ipython",
    "version": 3
   },
   "file_extension": ".py",
   "mimetype": "text/x-python",
   "name": "python",
   "nbconvert_exporter": "python",
   "pygments_lexer": "ipython3",
   "version": "3.10.13"
  }
 },
 "nbformat": 4,
 "nbformat_minor": 5
}
