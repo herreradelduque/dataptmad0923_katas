{
 "cells": [
  {
   "cell_type": "markdown",
   "id": "a447b8b5-f16b-451f-b45c-47746f721e1e",
   "metadata": {},
   "source": [
    "# Kata:"
   ]
  },
  {
   "cell_type": "markdown",
   "id": "c7379b61-1f04-4fa2-8865-bf3e2c83b39e",
   "metadata": {},
   "source": [
    "https://www.codewars.com/kata/58b57ae2724e3c63df000006/train/python"
   ]
  },
  {
   "cell_type": "markdown",
   "id": "5e2a4659-1d95-44fb-b92c-4646b4da4e6f",
   "metadata": {},
   "source": [
    "## Your name or team members:"
   ]
  },
  {
   "cell_type": "code",
   "execution_count": null,
   "id": "29ead553-d8b4-41aa-937f-7fd045595855",
   "metadata": {},
   "outputs": [],
   "source": [
    "Tere & Sil"
   ]
  },
  {
   "cell_type": "markdown",
   "id": "f04997cc-966d-4e06-8eb0-64ab376728f8",
   "metadata": {},
   "source": [
    "## Use the following cells to test your solution:"
   ]
  },
  {
   "cell_type": "code",
   "execution_count": null,
   "id": "4202edc5-f719-4068-96bd-55703a8a6c27",
   "metadata": {},
   "outputs": [],
   "source": [
    "# Examples \n",
    "\n",
    "parse_html_color('#80FFA0')   # => {'r': 128, 'g': 255, 'b': 160}\n",
    "parse_html_color('#3B7')      # => {'r': 51,  'g': 187, 'b': 119}\n",
    "parse_html_color('LimeGreen') # => {'r': 50,  'g': 205, 'b': 50 }"
   ]
  },
  {
   "cell_type": "code",
   "execution_count": null,
   "id": "1c1f6098-25a1-4805-a249-b833ca4a66a0",
   "metadata": {},
   "outputs": [],
   "source": [
    "# Diferenciar argumento # de argumento preset_colors:\n",
    "\n",
    "if '#' in color:\n",
    "    color = color[1:] # Eliminar el # inicial\n",
    "    return print(int(color[:2], 16))\n",
    "    print(#)\n",
    "else:\n",
    "    print(No #)"
   ]
  },
  {
   "cell_type": "code",
   "execution_count": null,
   "id": "04711479",
   "metadata": {},
   "outputs": [],
   "source": [
    "rgb = rgb[1:]       # Eliminar el # inicial\n",
    "  return int(rgb[:2], 16), int(rgb[2:4], 16), int(rgb[4:6], 16)\n"
   ]
  },
  {
   "cell_type": "code",
   "execution_count": null,
   "id": "a97cbdbc",
   "metadata": {},
   "outputs": [],
   "source": [
    "empty_dict = {'r': , 'g': , 'b': }"
   ]
  },
  {
   "cell_type": "code",
   "execution_count": 38,
   "id": "21838c6b",
   "metadata": {},
   "outputs": [],
   "source": [
    "def parse_html_color(color):\n",
    "    empty_dict = {}\n",
    "    if '#' in color:\n",
    "        if len(color) > 4:\n",
    "            empty_dict['r'] = int(color[1:3], 16)\n",
    "            empty_dict['g'] = int(color[3:5], 16)\n",
    "            empty_dict['b'] = int(color[5:], 16)\n",
    "            return print(empty_dict)\n",
    "            # return print('opción1')\n",
    "            # Aquí pilla opción uno:\n",
    "        else: \n",
    "            empty_dict['r'] = int(color[1:2]*2, 16)\n",
    "            empty_dict['g'] = int(color[2:3]*2, 16)\n",
    "            empty_dict['b'] = int(color[3:]*2, 16)\n",
    "            return print(empty_dict)\n",
    "            # Aquí pilla opción dos. \n",
    "        return print('#') \n",
    "    else:\n",
    "        color.lower()\n",
    "        if color in preset_colors:\n",
    "            return print(preset_colors['color'])\n",
    "        else:\n",
    "            return print('No existe')\n",
    "        #return print('No #')\n",
    "        "
   ]
  },
  {
   "cell_type": "code",
   "execution_count": 39,
   "id": "19b3b2ca",
   "metadata": {},
   "outputs": [
    {
     "name": "stdout",
     "output_type": "stream",
     "text": [
      "{'r': 51, 'g': 187, 'b': 119}\n"
     ]
    }
   ],
   "source": [
    "parse_html_color('#3B7')"
   ]
  },
  {
   "cell_type": "code",
   "execution_count": 24,
   "id": "02d8dbf3",
   "metadata": {},
   "outputs": [
    {
     "data": {
      "text/plain": [
       "{'r': 128}"
      ]
     },
     "execution_count": 24,
     "metadata": {},
     "output_type": "execute_result"
    }
   ],
   "source": [
    "empty_dict = {}\n",
    "empty_dict['r'] = 128\n",
    "empty_dict\n",
    "# mi_diccionario['edad'] = 31"
   ]
  },
  {
   "cell_type": "code",
   "execution_count": null,
   "id": "b63e9df9",
   "metadata": {},
   "outputs": [],
   "source": [
    "# Transformar de hexagecimal a entero para que devuelva r, g y b "
   ]
  },
  {
   "cell_type": "code",
   "execution_count": 13,
   "id": "59c5a74b",
   "metadata": {},
   "outputs": [
    {
     "data": {
      "text/plain": [
       "'80'"
      ]
     },
     "execution_count": 13,
     "metadata": {},
     "output_type": "execute_result"
    }
   ],
   "source": [
    "ex = '#80FFA0'\n",
    "ex[1:3]"
   ]
  },
  {
   "cell_type": "code",
   "execution_count": 14,
   "id": "09528e62",
   "metadata": {},
   "outputs": [
    {
     "data": {
      "text/plain": [
       "'FF'"
      ]
     },
     "execution_count": 14,
     "metadata": {},
     "output_type": "execute_result"
    }
   ],
   "source": [
    "ex[3:5]"
   ]
  },
  {
   "cell_type": "code",
   "execution_count": 15,
   "id": "f86fb6d1",
   "metadata": {},
   "outputs": [
    {
     "data": {
      "text/plain": [
       "'A0'"
      ]
     },
     "execution_count": 15,
     "metadata": {},
     "output_type": "execute_result"
    }
   ],
   "source": [
    "ex[5:]"
   ]
  },
  {
   "cell_type": "code",
   "execution_count": 16,
   "id": "8eb9e0b0",
   "metadata": {},
   "outputs": [],
   "source": [
    "# Segunda opción: duplicar cada valor (rx2) + hex->int"
   ]
  },
  {
   "cell_type": "code",
   "execution_count": 18,
   "id": "bef91457",
   "metadata": {},
   "outputs": [
    {
     "name": "stdout",
     "output_type": "stream",
     "text": [
      "PRESET_COLORS\n"
     ]
    }
   ],
   "source": [
    "print('PRESET_COLORS')"
   ]
  },
  {
   "cell_type": "code",
   "execution_count": 35,
   "id": "ac3a5412",
   "metadata": {},
   "outputs": [
    {
     "ename": "ValueError",
     "evalue": "invalid literal for int() with base 16: '#3B7#3B7'",
     "output_type": "error",
     "traceback": [
      "\u001b[1;31m---------------------------------------------------------------------------\u001b[0m",
      "\u001b[1;31mValueError\u001b[0m                                Traceback (most recent call last)",
      "Cell \u001b[1;32mIn[35], line 3\u001b[0m\n\u001b[0;32m      1\u001b[0m ex \u001b[38;5;241m=\u001b[39m \u001b[38;5;124m'\u001b[39m\u001b[38;5;124m#3B7\u001b[39m\u001b[38;5;124m'\u001b[39m\n\u001b[0;32m      2\u001b[0m ex[\u001b[38;5;241m1\u001b[39m:\u001b[38;5;241m2\u001b[39m]\u001b[38;5;241m*\u001b[39m\u001b[38;5;241m2\u001b[39m\n\u001b[1;32m----> 3\u001b[0m \u001b[38;5;28;43mint\u001b[39;49m\u001b[43m(\u001b[49m\u001b[43mex\u001b[49m\u001b[38;5;241;43m*\u001b[39;49m\u001b[38;5;241;43m2\u001b[39;49m\u001b[43m,\u001b[49m\u001b[43m \u001b[49m\u001b[38;5;241;43m16\u001b[39;49m\u001b[43m)\u001b[49m\n",
      "\u001b[1;31mValueError\u001b[0m: invalid literal for int() with base 16: '#3B7#3B7'"
     ]
    }
   ],
   "source": [
    "ex = '#3B7'\n",
    "ex[1:2]*2\n",
    "int(ex*2, 16)"
   ]
  },
  {
   "cell_type": "code",
   "execution_count": 32,
   "id": "623b3ef0",
   "metadata": {},
   "outputs": [
    {
     "data": {
      "text/plain": [
       "'BB'"
      ]
     },
     "execution_count": 32,
     "metadata": {},
     "output_type": "execute_result"
    }
   ],
   "source": [
    "ex = '#3B7'\n",
    "ex[2:3]*2\n"
   ]
  },
  {
   "cell_type": "code",
   "execution_count": 33,
   "id": "5837d666",
   "metadata": {},
   "outputs": [
    {
     "data": {
      "text/plain": [
       "'77'"
      ]
     },
     "execution_count": 33,
     "metadata": {},
     "output_type": "execute_result"
    }
   ],
   "source": [
    "ex = '#3B7'\n",
    "ex[3:]*2"
   ]
  },
  {
   "cell_type": "code",
   "execution_count": 34,
   "id": "933b670b",
   "metadata": {},
   "outputs": [
    {
     "data": {
      "text/plain": [
       "51"
      ]
     },
     "execution_count": 34,
     "metadata": {},
     "output_type": "execute_result"
    }
   ],
   "source": [
    "int(ex[1:2]*2, 16)"
   ]
  },
  {
   "cell_type": "code",
   "execution_count": null,
   "id": "f41a1d55",
   "metadata": {},
   "outputs": [],
   "source": [
    "# Paso 1. Pasarlo a lower\n",
    "# Paso 2. Mirar si está como key en el diccionario preset_colors \n",
    "# Paso 3. Devuelve el value y hacer primer condicional de len()>4\n"
   ]
  },
  {
   "cell_type": "code",
   "execution_count": 40,
   "id": "f186808a",
   "metadata": {},
   "outputs": [
    {
     "data": {
      "text/plain": [
       "'limegreen'"
      ]
     },
     "execution_count": 40,
     "metadata": {},
     "output_type": "execute_result"
    }
   ],
   "source": [
    "ex = 'LimeGreen'\n",
    "ex.lower()\n",
    "if 'c' in dic_prueba:\n",
    "    print(dic_prueba['a'])\n",
    "else:\n",
    "    print('No existe')"
   ]
  },
  {
   "cell_type": "code",
   "execution_count": 59,
   "id": "5d3ccd1b",
   "metadata": {},
   "outputs": [],
   "source": [
    "dic_prueba = {'a': 2, 'b': 3}"
   ]
  },
  {
   "cell_type": "code",
   "execution_count": 48,
   "id": "79b59333",
   "metadata": {},
   "outputs": [
    {
     "data": {
      "text/plain": [
       "3"
      ]
     },
     "execution_count": 48,
     "metadata": {},
     "output_type": "execute_result"
    }
   ],
   "source": [
    "dic_prueba['b']"
   ]
  },
  {
   "cell_type": "code",
   "execution_count": 50,
   "id": "38c67bb6",
   "metadata": {},
   "outputs": [
    {
     "data": {
      "text/plain": [
       "3"
      ]
     },
     "execution_count": 50,
     "metadata": {},
     "output_type": "execute_result"
    }
   ],
   "source": [
    "dic_prueba.get('b')"
   ]
  },
  {
   "cell_type": "code",
   "execution_count": 60,
   "id": "8ec18ce1",
   "metadata": {},
   "outputs": [
    {
     "name": "stdout",
     "output_type": "stream",
     "text": [
      "3\n"
     ]
    }
   ],
   "source": [
    "if 'b' in dic_prueba:\n",
    "    print(dic_prueba['b'])\n",
    "else:\n",
    "    print('No existe')"
   ]
  },
  {
   "cell_type": "code",
   "execution_count": 54,
   "id": "4308656f",
   "metadata": {},
   "outputs": [
    {
     "ename": "SyntaxError",
     "evalue": "unterminated string literal (detected at line 1) (1146027049.py, line 1)",
     "output_type": "error",
     "traceback": [
      "\u001b[1;36m  Cell \u001b[1;32mIn[54], line 1\u001b[1;36m\u001b[0m\n\u001b[1;33m    preset_colors = {'a': '#X35', b': 'klo'}\u001b[0m\n\u001b[1;37m                                          ^\u001b[0m\n\u001b[1;31mSyntaxError\u001b[0m\u001b[1;31m:\u001b[0m unterminated string literal (detected at line 1)\n"
     ]
    }
   ],
   "source": [
    "dic_prueba = {'a': 2, 'b': 3}"
   ]
  },
  {
   "cell_type": "markdown",
   "id": "5e5948ae-bfb0-4aa7-8cc0-83970accb44a",
   "metadata": {},
   "source": [
    "## Copy your submited solution here:"
   ]
  },
  {
   "cell_type": "code",
   "execution_count": null,
   "id": "7058d2d5",
   "metadata": {},
   "outputs": [],
   "source": []
  },
  {
   "cell_type": "code",
   "execution_count": null,
   "id": "de8f88a1-897b-4b92-8c9f-e04d16cec21a",
   "metadata": {},
   "outputs": [],
   "source": []
  }
 ],
 "metadata": {
  "kernelspec": {
   "display_name": "Python 3 (ipykernel)",
   "language": "python",
   "name": "python3"
  },
  "language_info": {
   "codemirror_mode": {
    "name": "ipython",
    "version": 3
   },
   "file_extension": ".py",
   "mimetype": "text/x-python",
   "name": "python",
   "nbconvert_exporter": "python",
   "pygments_lexer": "ipython3",
   "version": "3.10.13"
  }
 },
 "nbformat": 4,
 "nbformat_minor": 5
}
