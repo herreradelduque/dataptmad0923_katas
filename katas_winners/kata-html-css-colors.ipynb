{
 "cells": [
  {
   "cell_type": "markdown",
   "id": "a447b8b5-f16b-451f-b45c-47746f721e1e",
   "metadata": {},
   "source": [
    "# Kata:"
   ]
  },
  {
   "cell_type": "markdown",
   "id": "c7379b61-1f04-4fa2-8865-bf3e2c83b39e",
   "metadata": {},
   "source": [
    "https://www.codewars.com/kata/58b57ae2724e3c63df000006/train/python"
   ]
  },
  {
   "cell_type": "markdown",
   "id": "5e2a4659-1d95-44fb-b92c-4646b4da4e6f",
   "metadata": {},
   "source": [
    "## Your name or team members:"
   ]
  },
  {
   "cell_type": "code",
   "execution_count": null,
   "id": "29ead553-d8b4-41aa-937f-7fd045595855",
   "metadata": {},
   "outputs": [],
   "source": [
    "Elena Luque and Silvia Martinez"
   ]
  },
  {
   "cell_type": "markdown",
   "id": "f04997cc-966d-4e06-8eb0-64ab376728f8",
   "metadata": {},
   "source": [
    "## Use the following cells to test your solution:"
   ]
  },
  {
   "cell_type": "code",
   "execution_count": 26,
   "id": "4202edc5-f719-4068-96bd-55703a8a6c27",
   "metadata": {},
   "outputs": [],
   "source": [
    "def parse_html_color(color):\n",
    "    empty_dict = {}       \n",
    "    if len(color) == 4:\n",
    "        color = '#' + color[1]*2 + color[2]*2 + color[3]*2\n",
    "    elif color.lower() in PRESET_COLORS.keys():\n",
    "         color = PRESET_COLORS.get(color.lower())\n",
    "\n",
    "    if len(color) == 7:\n",
    "        empty_dict = {'r': int(color[1:3],16), 'g': int(color[3:5],16), 'b': int(color[5:],16)}\n",
    "        return empty_dict"
   ]
  },
  {
   "cell_type": "code",
   "execution_count": 12,
   "id": "b2fa3178",
   "metadata": {},
   "outputs": [],
   "source": [
    "#Creo la función que pasa de hexadecimal a entero\n",
    "def hexadecimal_to_entero(hex_val):\n",
    "    return int(hex_val, 16)"
   ]
  },
  {
   "cell_type": "code",
   "execution_count": 13,
   "id": "b8b0b9a2",
   "metadata": {},
   "outputs": [
    {
     "data": {
      "text/plain": [
       "16752759"
      ]
     },
     "execution_count": 13,
     "metadata": {},
     "output_type": "execute_result"
    }
   ],
   "source": [
    "hexadecimal_to_entero('FFA077')"
   ]
  },
  {
   "cell_type": "code",
   "execution_count": 21,
   "id": "1c1f6098-25a1-4805-a249-b833ca4a66a0",
   "metadata": {},
   "outputs": [],
   "source": [
    "def primer_caso(color):\n",
    "    empty_dict = {}\n",
    "    if color.startswith('#'):\n",
    "        if len(color) == 7:\n",
    "            empty_dict = {'r': int(color[1:3],16), 'g': int(color[3:5],16), 'b': int(color[6:],16)}\n",
    "        return empty_dict"
   ]
  },
  {
   "cell_type": "code",
   "execution_count": 22,
   "id": "2779129c",
   "metadata": {},
   "outputs": [
    {
     "data": {
      "text/plain": [
       "{'r': 128, 'g': 255, 'b': 0}"
      ]
     },
     "execution_count": 22,
     "metadata": {},
     "output_type": "execute_result"
    }
   ],
   "source": [
    "primer_caso('#80FFA0')"
   ]
  },
  {
   "cell_type": "markdown",
   "id": "5e5948ae-bfb0-4aa7-8cc0-83970accb44a",
   "metadata": {},
   "source": [
    "## Copy your submited solution here:"
   ]
  },
  {
   "cell_type": "code",
   "execution_count": null,
   "id": "de8f88a1-897b-4b92-8c9f-e04d16cec21a",
   "metadata": {},
   "outputs": [],
   "source": [
    "def parse_html_color(color):\n",
    "    empty_dict = {}       \n",
    "    if len(color) == 4:\n",
    "        color = '#' + color[1]*2 + color[2]*2 + color[3]*2\n",
    "    elif color.lower() in PRESET_COLORS.keys():\n",
    "         color = PRESET_COLORS.get(color.lower())\n",
    "\n",
    "    if len(color) == 7:\n",
    "        empty_dict = {'r': int(color[1:3],16), 'g': int(color[3:5],16), 'b': int(color[5:],16)}\n",
    "        return empty_dict"
   ]
  }
 ],
 "metadata": {
  "kernelspec": {
   "display_name": "Python 3 (ipykernel)",
   "language": "python",
   "name": "python3"
  },
  "language_info": {
   "codemirror_mode": {
    "name": "ipython",
    "version": 3
   },
   "file_extension": ".py",
   "mimetype": "text/x-python",
   "name": "python",
   "nbconvert_exporter": "python",
   "pygments_lexer": "ipython3",
   "version": "3.10.13"
  }
 },
 "nbformat": 4,
 "nbformat_minor": 5
}
