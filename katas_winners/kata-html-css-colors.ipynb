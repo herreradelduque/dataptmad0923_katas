{
 "cells": [
  {
   "cell_type": "markdown",
   "id": "a447b8b5-f16b-451f-b45c-47746f721e1e",
   "metadata": {},
   "source": [
    "# Kata:"
   ]
  },
  {
   "cell_type": "markdown",
   "id": "c7379b61-1f04-4fa2-8865-bf3e2c83b39e",
   "metadata": {},
   "source": [
    "https://www.codewars.com/kata/58b57ae2724e3c63df000006/train/python"
   ]
  },
  {
   "cell_type": "markdown",
   "id": "5e2a4659-1d95-44fb-b92c-4646b4da4e6f",
   "metadata": {},
   "source": [
    "## Your name or team members:"
   ]
  },
  {
   "cell_type": "code",
   "execution_count": null,
   "id": "29ead553-d8b4-41aa-937f-7fd045595855",
   "metadata": {},
   "outputs": [],
   "source": [
    "Carlos y John"
   ]
  },
  {
   "cell_type": "markdown",
   "id": "f04997cc-966d-4e06-8eb0-64ab376728f8",
   "metadata": {},
   "source": [
    "## Use the following cells to test your solution:"
   ]
  },
  {
   "cell_type": "code",
   "execution_count": 2,
   "id": "4202edc5-f719-4068-96bd-55703a8a6c27",
   "metadata": {},
   "outputs": [],
   "source": [
    "a = '#80FFA0' # => {'r': 128, 'g': 255, 'b': 160}\n",
    "b = '#3B7' # => {'r': 51,  'g': 187, 'b': 119}\n",
    "c = 'LimeGreen' # => {'r': 50,  'g': 205, 'b': 50 }\n",
    "\n"
   ]
  },
  {
   "cell_type": "code",
   "execution_count": 41,
   "id": "1c1f6098-25a1-4805-a249-b833ca4a66a0",
   "metadata": {},
   "outputs": [
    {
     "name": "stdout",
     "output_type": "stream",
     "text": [
      "RGB = (128, 255, 160)\n"
     ]
    }
   ],
   "source": [
    "h = a.lstrip('#')\n",
    "print('RGB =', tuple(int(h[i:i+2], 16) for i in (0, 2, 4)))"
   ]
  },
  {
   "cell_type": "code",
   "execution_count": 42,
   "id": "cad3fdac",
   "metadata": {},
   "outputs": [
    {
     "name": "stdout",
     "output_type": "stream",
     "text": [
      "RGB = (128, 255, 160)\n"
     ]
    }
   ],
   "source": [
    "h = a.lstrip('#')\n",
    "if len(h) == 3:\n",
    "    h[1] + h[1]\n",
    "print('RGB =', tuple(int(h[i:i+2], 16) for i in (0, 2, 4)))"
   ]
  },
  {
   "cell_type": "code",
   "execution_count": 44,
   "id": "68559ebd",
   "metadata": {},
   "outputs": [],
   "source": [
    "h = a.lstrip('#')\n",
    "i = ()\n"
   ]
  },
  {
   "cell_type": "markdown",
   "id": "5e5948ae-bfb0-4aa7-8cc0-83970accb44a",
   "metadata": {},
   "source": [
    "## Copy your submited solution here:"
   ]
  },
  {
   "cell_type": "code",
   "execution_count": null,
   "id": "de8f88a1-897b-4b92-8c9f-e04d16cec21a",
   "metadata": {},
   "outputs": [],
   "source": [
    "def parse_html_color(color):\n",
    "    if color.lower() in PRESET_COLORS:\n",
    "        color = PRESET_COLORS[color.lower()]\n",
    "\n",
    "    if '#' in color:\n",
    "        h = color.lstrip('#')\n",
    "        if len(color)>4:\n",
    "            result = tuple(int(h[i:i+2], 16) for i in (0, 2, 4))\n",
    "        else:\n",
    "            result = tuple(int(h[i]+h[i], 16) for i in range(len(h)))\n",
    "            \n",
    "        return dict(r=result[0], g=result[1],b=result[2])\n",
    "    else:\n",
    "        return 'error'"
   ]
  }
 ],
 "metadata": {
  "kernelspec": {
   "display_name": "Python 3 (ipykernel)",
   "language": "python",
   "name": "python3"
  },
  "language_info": {
   "codemirror_mode": {
    "name": "ipython",
    "version": 3
   },
   "file_extension": ".py",
   "mimetype": "text/x-python",
   "name": "python",
   "nbconvert_exporter": "python",
   "pygments_lexer": "ipython3",
   "version": "3.10.13"
  }
 },
 "nbformat": 4,
 "nbformat_minor": 5
}
