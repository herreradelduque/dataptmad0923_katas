{
 "cells": [
  {
   "cell_type": "markdown",
   "id": "a447b8b5-f16b-451f-b45c-47746f721e1e",
   "metadata": {},
   "source": [
    "# Kata:"
   ]
  },
  {
   "cell_type": "markdown",
   "id": "c7379b61-1f04-4fa2-8865-bf3e2c83b39e",
   "metadata": {},
   "source": [
    "https://www.codewars.com/kata/5cc80fbe701f0d001136e5eb/train/python"
   ]
  },
  {
   "cell_type": "markdown",
   "id": "5e2a4659-1d95-44fb-b92c-4646b4da4e6f",
   "metadata": {},
   "source": [
    "## Your name or team members:"
   ]
  },
  {
   "cell_type": "code",
   "execution_count": null,
   "id": "29ead553-d8b4-41aa-937f-7fd045595855",
   "metadata": {},
   "outputs": [],
   "source": [
    "Carlos"
   ]
  },
  {
   "cell_type": "markdown",
   "id": "f04997cc-966d-4e06-8eb0-64ab376728f8",
   "metadata": {},
   "source": [
    "## Use the following cells to test your solution:"
   ]
  },
  {
   "cell_type": "code",
   "execution_count": 1,
   "id": "4202edc5-f719-4068-96bd-55703a8a6c27",
   "metadata": {},
   "outputs": [],
   "source": [
    "list_numbers = [11, 35, 14, 9, 39, 23, 35]"
   ]
  },
  {
   "cell_type": "code",
   "execution_count": 17,
   "id": "1c1f6098-25a1-4805-a249-b833ca4a66a0",
   "metadata": {},
   "outputs": [
    {
     "name": "stdout",
     "output_type": "stream",
     "text": [
      "{'1': '14', '3': '595', 0: '9', '2': '3'}\n"
     ]
    }
   ],
   "source": [
    "num_dict = {}\n",
    "\n",
    "for num in list_numbers:\n",
    "    num_str = str(num)\n",
    "\n",
    "    if len(num_str)==1:\n",
    "        num_dict[0] = num_str \n",
    "    else:\n",
    "        key = num_str[0]\n",
    "        value = num_str[1]\n",
    "        \n",
    "        if key in num_dict:\n",
    "            temp_val = num_dict[key]\n",
    "            value = temp_val + value\n",
    "\n",
    "        num_dict[key] = value\n",
    "        \n",
    "        \n",
    "        \n",
    "print(num_dict)"
   ]
  },
  {
   "cell_type": "code",
   "execution_count": 36,
   "id": "ad556af8",
   "metadata": {},
   "outputs": [
    {
     "name": "stdout",
     "output_type": "stream",
     "text": [
      "ESTE ES EL DICCIONARIO:  {'1': '1'} \n",
      "\n",
      "ESTE ES EL DICCIONARIO:  {'1': '1', '3': '5'} \n",
      "\n",
      "ESTE ES EL DICCIONARIO:  {'1': '1 4', '3': '5'} \n",
      "\n",
      "ESTE ES EL DICCIONARIO:  {'1': '1 4', '3': '5 9', 0: '9'} \n",
      "\n",
      "ESTE ES EL DICCIONARIO:  {'1': '1 4', '3': '5 9', 0: '9', '2': '3'} \n",
      "\n",
      "ESTE ES EL DICCIONARIO:  {'1': '1 4', '3': '5 5 9', 0: '9', '2': '3'} \n",
      "\n",
      "{'1': '1 4', '3': '5 5 9', 0: '9', '2': '3'}\n"
     ]
    }
   ],
   "source": [
    "num_dict = {}\n",
    "\n",
    "for num in list_numbers:\n",
    "    num_str = str(num)\n",
    "    temp_val = []\n",
    "\n",
    "    if len(num_str)==1:\n",
    "        num_dict[0] = num_str \n",
    "    else:\n",
    "        key = num_str[0]\n",
    "        str_val = num_str[1]\n",
    "        \n",
    "        if key in num_dict:\n",
    "            #print(key)\n",
    "            #print(num_dict[key])\n",
    "            temp_val.append(num_dict[key])\n",
    "            #print('Primer append: ', temp_val)\n",
    "            \n",
    "            temp_val.append(str_val)\n",
    "            #print('Segundo append: ', temp_val)\n",
    "            \n",
    "            list_val = sorted(temp_val)\n",
    "            #print('List_val: ', temp_val)\n",
    "            \n",
    "            str_val = \" \".join(str(element) for element in list_val)\n",
    "            #print('str_val: ', temp_val)\n",
    "            #print(my_string)\n",
    "\n",
    "        num_dict[key] = str_val\n",
    "        print('ESTE ES EL DICCIONARIO: ', num_dict, '\\n')\n",
    "        \n",
    "        \n",
    "        \n",
    "print(num_dict)"
   ]
  },
  {
   "cell_type": "code",
   "execution_count": 40,
   "id": "93ec93f2",
   "metadata": {},
   "outputs": [
    {
     "ename": "SyntaxError",
     "evalue": "invalid syntax (485106540.py, line 2)",
     "output_type": "error",
     "traceback": [
      "\u001b[1;36m  Cell \u001b[1;32mIn[40], line 2\u001b[1;36m\u001b[0m\n\u001b[1;33m    print(myKeys)\u001b[0m\n\u001b[1;37m    ^\u001b[0m\n\u001b[1;31mSyntaxError\u001b[0m\u001b[1;31m:\u001b[0m invalid syntax\n"
     ]
    }
   ],
   "source": [
    "myKeys = list(int(num_dict.keys())\n",
    "print(myKeys)\n",
    "myKeys.sort()\n",
    "sorted_dict = {i: resultDict[i] for i in myKeys}"
   ]
  },
  {
   "cell_type": "markdown",
   "id": "5e5948ae-bfb0-4aa7-8cc0-83970accb44a",
   "metadata": {},
   "source": [
    "## Copy your submited solution here:"
   ]
  },
  {
   "cell_type": "code",
   "execution_count": null,
   "id": "de8f88a1-897b-4b92-8c9f-e04d16cec21a",
   "metadata": {},
   "outputs": [],
   "source": []
  }
 ],
 "metadata": {
  "kernelspec": {
   "display_name": "m2_env",
   "language": "python",
   "name": "m2_env"
  },
  "language_info": {
   "codemirror_mode": {
    "name": "ipython",
    "version": 3
   },
   "file_extension": ".py",
   "mimetype": "text/x-python",
   "name": "python",
   "nbconvert_exporter": "python",
   "pygments_lexer": "ipython3",
   "version": "3.8.18"
  }
 },
 "nbformat": 4,
 "nbformat_minor": 5
}
