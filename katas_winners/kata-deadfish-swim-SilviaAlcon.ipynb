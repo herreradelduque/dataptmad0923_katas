{
 "cells": [
  {
   "cell_type": "markdown",
   "id": "a447b8b5-f16b-451f-b45c-47746f721e1e",
   "metadata": {},
   "source": [
    "# Kata:"
   ]
  },
  {
   "cell_type": "markdown",
   "id": "c7379b61-1f04-4fa2-8865-bf3e2c83b39e",
   "metadata": {},
   "source": [
    "https://www.codewars.com/kata/51e0007c1f9378fa810002a9/train/python"
   ]
  },
  {
   "cell_type": "markdown",
   "id": "5e2a4659-1d95-44fb-b92c-4646b4da4e6f",
   "metadata": {},
   "source": [
    "## Your name or team members:"
   ]
  },
  {
   "cell_type": "code",
   "execution_count": null,
   "id": "29ead553-d8b4-41aa-937f-7fd045595855",
   "metadata": {},
   "outputs": [],
   "source": [
    "Silvia Alcon"
   ]
  },
  {
   "cell_type": "markdown",
   "id": "f04997cc-966d-4e06-8eb0-64ab376728f8",
   "metadata": {},
   "source": [
    "## Use the following cells to test your solution:"
   ]
  },
  {
   "cell_type": "code",
   "execution_count": 32,
   "id": "4202edc5-f719-4068-96bd-55703a8a6c27",
   "metadata": {},
   "outputs": [],
   "source": [
    "def parse(data):\n",
    "    v = 0 #el valor es 0\n",
    "    lista = [] #creo una lista vacia\n",
    "    data_list = list(data)#hago una lista de data\n",
    "    print(data_list)\n",
    "    for letter in data_list: # por cada letra en data_list\n",
    "        if letter == 'i': #si la letra es = a 'i'\n",
    "            v = v + 1 #el valor es igual a 0 + 1\n",
    "        elif letter == 'd':\n",
    "            v = v - 1 #el valor es igual a 0 - 1\n",
    "        elif letter == 's':\n",
    "            v = v * v #el valor es igual a valor al cuadrado\n",
    "        elif letter == 'o':\n",
    "            lista.append(v) #hago una lista y meto los valores de v\n",
    "    return lista\n",
    "    "
   ]
  },
  {
   "cell_type": "code",
   "execution_count": 33,
   "id": "f0d28153",
   "metadata": {},
   "outputs": [
    {
     "name": "stdout",
     "output_type": "stream",
     "text": [
      "['i', 'i', 'i', 's', 'd', 'o', 's', 'o']\n"
     ]
    },
    {
     "data": {
      "text/plain": [
       "[8, 64]"
      ]
     },
     "execution_count": 33,
     "metadata": {},
     "output_type": "execute_result"
    }
   ],
   "source": [
    "parse(\"iiisdoso\")"
   ]
  },
  {
   "cell_type": "code",
   "execution_count": 34,
   "id": "0ae89e68",
   "metadata": {},
   "outputs": [
    {
     "data": {
      "text/plain": [
       "str"
      ]
     },
     "execution_count": 34,
     "metadata": {},
     "output_type": "execute_result"
    }
   ],
   "source": [
    "type(\"iiisdoso\")"
   ]
  },
  {
   "cell_type": "code",
   "execution_count": 35,
   "id": "fb421fc6",
   "metadata": {},
   "outputs": [
    {
     "name": "stdout",
     "output_type": "stream",
     "text": [
      "['o', 'o', 'o']\n"
     ]
    },
    {
     "data": {
      "text/plain": [
       "[0, 0, 0]"
      ]
     },
     "execution_count": 35,
     "metadata": {},
     "output_type": "execute_result"
    }
   ],
   "source": [
    "parse(\"ooo\")"
   ]
  },
  {
   "cell_type": "code",
   "execution_count": null,
   "id": "1c1f6098-25a1-4805-a249-b833ca4a66a0",
   "metadata": {},
   "outputs": [],
   "source": [
    "i incrementa el valor (desde 0)\n",
    "d disminuye el valor\n",
    "s eleva al cuadrado el valor\n",
    "o genera el valor en la matriz de retorno\n",
    "Deadfish\n",
    "-->resultado:\n",
    "test.assert_equals(parse(\"ooo\"), [0,0,0])\n",
    "        test.assert_equals(parse(\"ioioio\"), [1,2,3])\n",
    "        test.assert_equals(parse(\"idoiido\"), [0,1])\n",
    "        test.assert_equals(parse(\"isoisoiso\"), [1,4,25])\n",
    "        test.assert_equals(parse(\"codewars\"), [0])"
   ]
  },
  {
   "cell_type": "markdown",
   "id": "5e5948ae-bfb0-4aa7-8cc0-83970accb44a",
   "metadata": {},
   "source": [
    "## Copy your submited solution here:"
   ]
  },
  {
   "cell_type": "code",
   "execution_count": null,
   "id": "de8f88a1-897b-4b92-8c9f-e04d16cec21a",
   "metadata": {},
   "outputs": [],
   "source": [
    "def parse(data):\n",
    "    v = 0\n",
    "    lista = []\n",
    "    data_list = list(data)\n",
    "    for letter in data_list:\n",
    "        if letter == 'i':\n",
    "            v = v + 1\n",
    "        elif letter == 'd':\n",
    "            v = v - 1\n",
    "        elif letter == 's':\n",
    "            v = v * v\n",
    "        elif letter == 'o':\n",
    "            lista.append(v)\n",
    "    return lista"
   ]
  }
 ],
 "metadata": {
  "kernelspec": {
   "display_name": "Python (m1_env)",
   "language": "python",
   "name": "m1_env"
  },
  "language_info": {
   "codemirror_mode": {
    "name": "ipython",
    "version": 3
   },
   "file_extension": ".py",
   "mimetype": "text/x-python",
   "name": "python",
   "nbconvert_exporter": "python",
   "pygments_lexer": "ipython3",
   "version": "3.10.13"
  }
 },
 "nbformat": 4,
 "nbformat_minor": 5
}
