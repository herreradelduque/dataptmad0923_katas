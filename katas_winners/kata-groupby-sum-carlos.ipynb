{
 "cells": [
  {
   "cell_type": "markdown",
   "id": "a447b8b5-f16b-451f-b45c-47746f721e1e",
   "metadata": {},
   "source": [
    "# Kata:"
   ]
  },
  {
   "cell_type": "markdown",
   "id": "c7379b61-1f04-4fa2-8865-bf3e2c83b39e",
   "metadata": {},
   "source": [
    "https://www.codewars.com/kata/5ed056c9263d2f001738b791/train/python"
   ]
  },
  {
   "cell_type": "markdown",
   "id": "5e2a4659-1d95-44fb-b92c-4646b4da4e6f",
   "metadata": {},
   "source": [
    "## Your name or team members:"
   ]
  },
  {
   "cell_type": "code",
   "execution_count": null,
   "id": "29ead553-d8b4-41aa-937f-7fd045595855",
   "metadata": {},
   "outputs": [],
   "source": [
    "Sil y Carlos"
   ]
  },
  {
   "cell_type": "markdown",
   "id": "f04997cc-966d-4e06-8eb0-64ab376728f8",
   "metadata": {},
   "source": [
    "## Use the following cells to test your solution:"
   ]
  },
  {
   "cell_type": "code",
   "execution_count": 74,
   "id": "4202edc5-f719-4068-96bd-55703a8a6c27",
   "metadata": {},
   "outputs": [
    {
     "name": "stdout",
     "output_type": "stream",
     "text": [
      "[2, 10]\n",
      "[4, 11]\n",
      "[7, 12]\n",
      "[3, 20]\n",
      "lista[j]:  3\n",
      "j:  0\n",
      "Datos:  {(1, 6): [5, 10], (8, 9): [4, 11], (9, 8): [7, 12]}\n",
      "lista[j]:  20\n",
      "j:  1\n",
      "Datos:  {(1, 6): [5, 30], (8, 9): [4, 11], (9, 8): [7, 12]}\n"
     ]
    },
    {
     "data": {
      "text/plain": [
       "True"
      ]
     },
     "execution_count": 74,
     "metadata": {},
     "output_type": "execute_result"
    }
   ],
   "source": [
    "# Statement and result\n",
    "idx = [0,1]\n",
    "\n",
    "arr = [\n",
    "  [1, 6, 2, 10],\n",
    "  [8, 9, 4, 11],\n",
    "  [9, 8, 7, 12],\n",
    "  [1, 6, 3, 20],\n",
    "]\n",
    "\n",
    "\n",
    "\n",
    "group(arr, idx) == {\n",
    "  (1, 6): [5, 30],      # [2 + 3, 10 + 20]\n",
    "  (8, 9): [4, 11],\n",
    "  (9, 8): [7, 12]\n",
    "}"
   ]
  },
  {
   "cell_type": "code",
   "execution_count": 75,
   "id": "1c1f6098-25a1-4805-a249-b833ca4a66a0",
   "metadata": {},
   "outputs": [
    {
     "name": "stdout",
     "output_type": "stream",
     "text": [
      "[1, 6, 2, 10]\n",
      "(1, 6)\n",
      "[2, 10]\n",
      "[8, 9, 4, 11]\n",
      "(8, 9)\n",
      "[4, 11]\n",
      "[9, 8, 7, 12]\n",
      "(9, 8)\n",
      "[7, 12]\n",
      "[1, 6, 3, 20]\n",
      "(1, 6)\n",
      "[3, 20]\n",
      "{(1, 6): [3, 20], (8, 9): [4, 11], (9, 8): [7, 12]}\n"
     ]
    },
    {
     "data": {
      "text/plain": [
       "tuple"
      ]
     },
     "execution_count": 75,
     "metadata": {},
     "output_type": "execute_result"
    }
   ],
   "source": [
    "idx = [0,1]\n",
    "\n",
    "arr = [\n",
    "  [1, 6, 2, 10],\n",
    "  [8, 9, 4, 11],\n",
    "  [9, 8, 7, 12],\n",
    "  [1, 6, 3, 20],\n",
    "]\n",
    "\n",
    "dict_arr = {}\n",
    "\n",
    "for lista in arr:\n",
    "    #print(lista[idx[2]])\n",
    "    print(lista)\n",
    "    llave = (lista[idx[0]], lista[idx[1]])\n",
    "    print(llave)\n",
    "    valor = [lista[2], lista[3]]\n",
    "    print(valor)\n",
    "    dict_arr[llave] = (valor)\n",
    "    #docWords[word].add(docID)\n",
    "    \n",
    "print(dict_arr)\n",
    "type(llave)\n"
   ]
  },
  {
   "cell_type": "code",
   "execution_count": 77,
   "id": "d7082d76",
   "metadata": {},
   "outputs": [
    {
     "name": "stdout",
     "output_type": "stream",
     "text": [
      "{(1, 6): [3, 20], (8, 9): [4, 11], (9, 8): [7, 12]}\n"
     ]
    },
    {
     "data": {
      "text/plain": [
       "tuple"
      ]
     },
     "execution_count": 77,
     "metadata": {},
     "output_type": "execute_result"
    }
   ],
   "source": [
    "idx = [0,1]\n",
    "\n",
    "arr = [\n",
    "  [1, 6, 2, 10],\n",
    "  [8, 9, 4, 11],\n",
    "  [9, 8, 7, 12],\n",
    "  [1, 6, 3, 20],\n",
    "]\n",
    "\n",
    "dict_arr = {}\n",
    "\n",
    "for lista in arr:\n",
    "    llave = (lista[idx[0]], lista[idx[1]])\n",
    "    valor = [lista[2], lista[3]]\n",
    "    dict_arr[llave] = (valor)\n",
    "    \n",
    "    \n",
    "print(dict_arr)\n",
    "type(llave)"
   ]
  },
  {
   "cell_type": "code",
   "execution_count": null,
   "id": "02b861ba",
   "metadata": {},
   "outputs": [],
   "source": [
    "for lista in arr:\n",
    "    llave = (lista[idx[0]], lista[idx[1]])"
   ]
  },
  {
   "cell_type": "code",
   "execution_count": 64,
   "id": "2895c8c6",
   "metadata": {},
   "outputs": [
    {
     "name": "stdout",
     "output_type": "stream",
     "text": [
      "{}\n"
     ]
    }
   ],
   "source": [
    "for lista in arr:\n",
    "    llave = (lista[idx[0]], lista[idx[1]])\n",
    "    valor = [lista[2], lista[3]]\n",
    "    \n",
    "    for key in dict_arr:\n",
    "        if key == llave:\n",
    "            valor = dict_arr[key] + valor\n",
    "    \n",
    "    dict_arr[llave] = (valor)\n",
    "    \n",
    "print(dict_arr)"
   ]
  },
  {
   "cell_type": "code",
   "execution_count": 78,
   "id": "81b46286",
   "metadata": {},
   "outputs": [
    {
     "ename": "SyntaxError",
     "evalue": "expected ':' (3996293292.py, line 4)",
     "output_type": "error",
     "traceback": [
      "\u001b[1;36m  Cell \u001b[1;32mIn[78], line 4\u001b[1;36m\u001b[0m\n\u001b[1;33m    if list(idx[0]) == list(element(idx[0])) and list(idx[1]) == list(element(idx[1]))\u001b[0m\n\u001b[1;37m                                                                                      ^\u001b[0m\n\u001b[1;31mSyntaxError\u001b[0m\u001b[1;31m:\u001b[0m expected ':'\n"
     ]
    }
   ],
   "source": [
    "for list in arr:\n",
    "    [1, 6, 2, 10]\n",
    "    for element in list:\n",
    "        if list(idx[0]) == list(element(idx[0])) and list(idx[1]) == list(element(idx[1]))\n",
    "\n",
    "        for lista in arr:\n",
    "    dict [(lista(idx[0]), lista(idx[1]))] = [(lista(idx[0]),lista(idx[1]))]"
   ]
  },
  {
   "cell_type": "code",
   "execution_count": null,
   "id": "43c991b4",
   "metadata": {},
   "outputs": [],
   "source": [
    "for i in range(len(lista)):\n",
    "    #print(i)\n",
    "    if i not in idx:\n",
    "        print(lista[i])\n",
    "\n",
    "range(len(lista))"
   ]
  },
  {
   "cell_type": "code",
   "execution_count": 71,
   "id": "69ba3403",
   "metadata": {},
   "outputs": [],
   "source": [
    "def group(arr, idx):\n",
    "    dict_arr = {}   #Create empty dictionary\n",
    "    \n",
    "    for lista in arr:   \n",
    "        key = tuple(lista[i] for i in idx)   \n",
    "        value = [lista[i] for i in range(len(lista)) if i not in idx]   #Extract the part of the list corresponding to \n",
    "        print(value)\n",
    "    \n",
    "        if key in dict_arr:\n",
    "            #print(\"key: \",key)\n",
    "            for j in range(len(value)):\n",
    "            \n",
    "                #if j in idx:\n",
    "                print(\"lista[j]: \", value[j])\n",
    "                print(\"j: \", j)\n",
    "                dict_arr[key][j] += value[j]\n",
    "                print(\"Datos: \",dict_arr)    \n",
    "        else:\n",
    "            dict_arr[key] = value\n",
    "            #print(\"Datos: \", dict_arr)\n",
    "        \n",
    "    return dict_arr"
   ]
  },
  {
   "cell_type": "code",
   "execution_count": 72,
   "id": "3f55d6a2",
   "metadata": {},
   "outputs": [
    {
     "name": "stdout",
     "output_type": "stream",
     "text": [
      "[2, 3]\n",
      "[5, 6]\n",
      "lista[j]:  5\n",
      "j:  0\n",
      "Datos:  {(1,): [7, 3]}\n",
      "lista[j]:  6\n",
      "j:  1\n",
      "Datos:  {(1,): [7, 9]}\n",
      "[8, 9]\n",
      "lista[j]:  8\n",
      "j:  0\n",
      "Datos:  {(1,): [15, 9]}\n",
      "lista[j]:  9\n",
      "j:  1\n",
      "Datos:  {(1,): [15, 18]}\n"
     ]
    },
    {
     "data": {
      "text/plain": [
       "{(1,): [15, 18]}"
      ]
     },
     "execution_count": 72,
     "metadata": {},
     "output_type": "execute_result"
    }
   ],
   "source": [
    "arr = [[1,2,3],[1,5,6],[1,8,9]]\n",
    "idx = [0]\n",
    "result = group(arr, idx)\n",
    "result"
   ]
  },
  {
   "cell_type": "code",
   "execution_count": 73,
   "id": "47f12c17",
   "metadata": {},
   "outputs": [
    {
     "name": "stdout",
     "output_type": "stream",
     "text": [
      "[2, 10]\n",
      "[4, 11]\n",
      "[7, 12]\n",
      "[3, 20]\n",
      "lista[j]:  3\n",
      "j:  0\n",
      "Datos:  {(1, 6): [5, 10], (8, 9): [4, 11], (9, 8): [7, 12]}\n",
      "lista[j]:  20\n",
      "j:  1\n",
      "Datos:  {(1, 6): [5, 30], (8, 9): [4, 11], (9, 8): [7, 12]}\n"
     ]
    },
    {
     "data": {
      "text/plain": [
       "{(1, 6): [5, 30], (8, 9): [4, 11], (9, 8): [7, 12]}"
      ]
     },
     "execution_count": 73,
     "metadata": {},
     "output_type": "execute_result"
    }
   ],
   "source": [
    "idx = [0,1]\n",
    "arr = [\n",
    "  [1, 6, 2, 10],\n",
    "  [8, 9, 4, 11],\n",
    "  [9, 8, 7, 12],\n",
    "  [1, 6, 3, 20],\n",
    "]\n",
    "result = group(arr, idx)\n",
    "result"
   ]
  },
  {
   "cell_type": "markdown",
   "id": "5e5948ae-bfb0-4aa7-8cc0-83970accb44a",
   "metadata": {},
   "source": [
    "## Copy your submited solution here:"
   ]
  },
  {
   "cell_type": "code",
   "execution_count": null,
   "id": "3085305c",
   "metadata": {},
   "outputs": [],
   "source": [
    "def group(arr, idx):\n",
    "    dict_arr = {}   #Create empty dictionary.\n",
    "\n",
    "    for lista in arr:   #Loop to extract each list into the main list. Each list is stored in \"lista\".\n",
    "        \n",
    "        #With this list comprehension extract the part of the list where the position of the element is equal to the \n",
    "        #number in the idx. This number is stored in a tuple in the variable \"key\".\n",
    "        key = tuple(lista[i] for i in idx)\n",
    "        \n",
    "        #With this list comprehension extract the part of the list when the position of the element is different from the \n",
    "        #number in the idx. This number is stored in a list in the variable \"value\".\n",
    "        value = [lista[i] for i in range(len(lista)) if i not in idx]\n",
    "        \n",
    "        #When \"key\" is yet stored in the dictionary, access to the first part of the loop\n",
    "        if key in dict_arr:   \n",
    "            #In this loop extract the position in the \"value\" list\n",
    "            for j in range(len(value)):\n",
    "                #Add the element to the element in the same position for the same key in the dictionary\n",
    "                dict_arr[key][j] += value[j] \n",
    "        #When \"key\" isn't stored in the dictionary, update the data and stored the new value.\n",
    "        else:\n",
    "            dict_arr[key] = value\n",
    "            \n",
    "    return dict_arr"
   ]
  },
  {
   "cell_type": "code",
   "execution_count": null,
   "id": "de8f88a1-897b-4b92-8c9f-e04d16cec21a",
   "metadata": {},
   "outputs": [],
   "source": []
  }
 ],
 "metadata": {
  "kernelspec": {
   "display_name": "Python (m1_env)",
   "language": "python",
   "name": "m1_env"
  },
  "language_info": {
   "codemirror_mode": {
    "name": "ipython",
    "version": 3
   },
   "file_extension": ".py",
   "mimetype": "text/x-python",
   "name": "python",
   "nbconvert_exporter": "python",
   "pygments_lexer": "ipython3",
   "version": "3.10.13"
  }
 },
 "nbformat": 4,
 "nbformat_minor": 5
}
