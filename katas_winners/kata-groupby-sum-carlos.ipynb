{
 "cells": [
  {
   "cell_type": "markdown",
   "id": "a447b8b5-f16b-451f-b45c-47746f721e1e",
   "metadata": {},
   "source": [
    "# Kata:"
   ]
  },
  {
   "cell_type": "markdown",
   "id": "c7379b61-1f04-4fa2-8865-bf3e2c83b39e",
   "metadata": {},
   "source": [
    "https://www.codewars.com/kata/5ed056c9263d2f001738b791/train/python"
   ]
  },
  {
   "cell_type": "markdown",
   "id": "5e2a4659-1d95-44fb-b92c-4646b4da4e6f",
   "metadata": {},
   "source": [
    "## Your name or team members:"
   ]
  },
  {
   "cell_type": "code",
   "execution_count": null,
   "id": "29ead553-d8b4-41aa-937f-7fd045595855",
   "metadata": {},
   "outputs": [],
   "source": [
    "Sil y Carlos"
   ]
  },
  {
   "cell_type": "markdown",
   "id": "f04997cc-966d-4e06-8eb0-64ab376728f8",
   "metadata": {},
   "source": [
    "## Use the following cells to test your solution:"
   ]
  },
  {
   "cell_type": "code",
   "execution_count": 1,
   "id": "4202edc5-f719-4068-96bd-55703a8a6c27",
   "metadata": {},
   "outputs": [
    {
     "ename": "NameError",
     "evalue": "name 'group' is not defined",
     "output_type": "error",
     "traceback": [
      "\u001b[1;31m---------------------------------------------------------------------------\u001b[0m",
      "\u001b[1;31mNameError\u001b[0m                                 Traceback (most recent call last)",
      "Cell \u001b[1;32mIn[1], line 12\u001b[0m\n\u001b[0;32m      1\u001b[0m indx \u001b[38;5;241m=\u001b[39m [\u001b[38;5;241m0\u001b[39m,\u001b[38;5;241m1\u001b[39m]\n\u001b[0;32m      3\u001b[0m arr \u001b[38;5;241m=\u001b[39m [\n\u001b[0;32m      4\u001b[0m   [\u001b[38;5;241m1\u001b[39m, \u001b[38;5;241m6\u001b[39m, \u001b[38;5;241m2\u001b[39m, \u001b[38;5;241m10\u001b[39m],\n\u001b[0;32m      5\u001b[0m   [\u001b[38;5;241m8\u001b[39m, \u001b[38;5;241m9\u001b[39m, \u001b[38;5;241m4\u001b[39m, \u001b[38;5;241m11\u001b[39m],\n\u001b[0;32m      6\u001b[0m   [\u001b[38;5;241m9\u001b[39m, \u001b[38;5;241m8\u001b[39m, \u001b[38;5;241m7\u001b[39m, \u001b[38;5;241m12\u001b[39m],\n\u001b[0;32m      7\u001b[0m   [\u001b[38;5;241m1\u001b[39m, \u001b[38;5;241m6\u001b[39m, \u001b[38;5;241m3\u001b[39m, \u001b[38;5;241m20\u001b[39m],\n\u001b[0;32m      8\u001b[0m ]\n\u001b[1;32m---> 12\u001b[0m \u001b[43mgroup\u001b[49m(arr, idx) \u001b[38;5;241m==\u001b[39m {\n\u001b[0;32m     13\u001b[0m   (\u001b[38;5;241m1\u001b[39m, \u001b[38;5;241m6\u001b[39m): [\u001b[38;5;241m5\u001b[39m, \u001b[38;5;241m30\u001b[39m],      \u001b[38;5;66;03m# [2 + 3, 10 + 20]\u001b[39;00m\n\u001b[0;32m     14\u001b[0m   (\u001b[38;5;241m8\u001b[39m, \u001b[38;5;241m9\u001b[39m): [\u001b[38;5;241m4\u001b[39m, \u001b[38;5;241m11\u001b[39m],\n\u001b[0;32m     15\u001b[0m   (\u001b[38;5;241m9\u001b[39m, \u001b[38;5;241m8\u001b[39m): [\u001b[38;5;241m7\u001b[39m, \u001b[38;5;241m12\u001b[39m]\n\u001b[0;32m     16\u001b[0m }\n",
      "\u001b[1;31mNameError\u001b[0m: name 'group' is not defined"
     ]
    }
   ],
   "source": [
    "indx = [0,1]\n",
    "\n",
    "arr = [\n",
    "  [1, 6, 2, 10],\n",
    "  [8, 9, 4, 11],\n",
    "  [9, 8, 7, 12],\n",
    "  [1, 6, 3, 20],\n",
    "]\n",
    "\n",
    "\n",
    "\n",
    "group(arr, idx) == {\n",
    "  (1, 6): [5, 30],      # [2 + 3, 10 + 20]\n",
    "  (8, 9): [4, 11],\n",
    "  (9, 8): [7, 12]\n",
    "}"
   ]
  },
  {
   "cell_type": "code",
   "execution_count": 42,
   "id": "da407fb0",
   "metadata": {},
   "outputs": [
    {
     "ename": "NameError",
     "evalue": "name 'group' is not defined",
     "output_type": "error",
     "traceback": [
      "\u001b[1;31m---------------------------------------------------------------------------\u001b[0m",
      "\u001b[1;31mNameError\u001b[0m                                 Traceback (most recent call last)",
      "Cell \u001b[1;32mIn[42], line 1\u001b[0m\n\u001b[1;32m----> 1\u001b[0m \u001b[43mgroup\u001b[49m(arr, idx) \u001b[38;5;241m==\u001b[39m {\n\u001b[0;32m      2\u001b[0m   (\u001b[38;5;241m1\u001b[39m, \u001b[38;5;241m6\u001b[39m): [\u001b[38;5;241m5\u001b[39m, \u001b[38;5;241m30\u001b[39m],      \u001b[38;5;66;03m# [2 + 3, 10 + 20]\u001b[39;00m\n\u001b[0;32m      3\u001b[0m   (\u001b[38;5;241m8\u001b[39m, \u001b[38;5;241m9\u001b[39m): [\u001b[38;5;241m4\u001b[39m, \u001b[38;5;241m11\u001b[39m],\n\u001b[0;32m      4\u001b[0m   (\u001b[38;5;241m9\u001b[39m, \u001b[38;5;241m8\u001b[39m): [\u001b[38;5;241m7\u001b[39m, \u001b[38;5;241m12\u001b[39m]\n\u001b[0;32m      5\u001b[0m }\n",
      "\u001b[1;31mNameError\u001b[0m: name 'group' is not defined"
     ]
    }
   ],
   "source": [
    "group(arr, idx) == {\n",
    "  (1, 6): [5, 30],      # [2 + 3, 10 + 20]\n",
    "  (8, 9): [4, 11],\n",
    "  (9, 8): [7, 12]\n",
    "}"
   ]
  },
  {
   "cell_type": "code",
   "execution_count": 62,
   "id": "1c1f6098-25a1-4805-a249-b833ca4a66a0",
   "metadata": {},
   "outputs": [
    {
     "name": "stdout",
     "output_type": "stream",
     "text": [
      "[1, 6, 2, 10]\n",
      "(1, 6)\n",
      "[2, 10]\n",
      "[8, 9, 4, 11]\n",
      "(8, 9)\n",
      "[4, 11]\n",
      "[9, 8, 7, 12]\n",
      "(9, 8)\n",
      "[7, 12]\n",
      "[1, 6, 3, 20]\n",
      "(1, 6)\n",
      "[3, 20]\n",
      "{(1, 6): [3, 20], (8, 9): [4, 11], (9, 8): [7, 12]}\n",
      "<built-in method keys of dict object at 0x0000018AF313FA40>\n"
     ]
    }
   ],
   "source": [
    "indx = [0,1]\n",
    "\n",
    "arr = [\n",
    "  [1, 6, 2, 10],\n",
    "  [8, 9, 4, 11],\n",
    "  [9, 8, 7, 12],\n",
    "  [1, 6, 3, 20],\n",
    "]\n",
    "\n",
    "dict_arr = {}\n",
    "\n",
    "for lista in arr:\n",
    "    #print(lista[indx[2]])\n",
    "    print(lista)\n",
    "    llave = (lista[indx[0]], lista[indx[1]])\n",
    "    print(llave)\n",
    "    valor = [lista[2], lista[3]]\n",
    "    print(valor)\n",
    "    dict_arr[llave] = (valor)\n",
    "    #docWords[word].add(docID)\n",
    "    \n",
    "print(dict_arr)\n",
    "type(llave)\n",
    "key = (1,7)\n",
    "print(dict_arr.keys)\n"
   ]
  },
  {
   "cell_type": "code",
   "execution_count": null,
   "id": "02b861ba",
   "metadata": {},
   "outputs": [],
   "source": [
    "for lista in arr:\n",
    "    llave = (lista[indx[0]], lista[indx[1]])"
   ]
  },
  {
   "cell_type": "code",
   "execution_count": 64,
   "id": "2895c8c6",
   "metadata": {},
   "outputs": [
    {
     "name": "stdout",
     "output_type": "stream",
     "text": [
      "{}\n"
     ]
    }
   ],
   "source": [
    "for lista in arr:\n",
    "    llave = (lista[indx[0]], lista[indx[1]])\n",
    "    valor = [lista[2], lista[3]]\n",
    "    \n",
    "    for key in dict_arr:\n",
    "        if key == llave:\n",
    "            valor = dict_arr[key] + valor\n",
    "    \n",
    "    dict_arr[llave] = (valor)\n",
    "    \n",
    "print(dict_arr)"
   ]
  },
  {
   "cell_type": "code",
   "execution_count": 58,
   "id": "18af36ba",
   "metadata": {},
   "outputs": [
    {
     "ename": "AttributeError",
     "evalue": "'dict' object has no attribute 'key'",
     "output_type": "error",
     "traceback": [
      "\u001b[1;31m---------------------------------------------------------------------------\u001b[0m",
      "\u001b[1;31mAttributeError\u001b[0m                            Traceback (most recent call last)",
      "Cell \u001b[1;32mIn[58], line 1\u001b[0m\n\u001b[1;32m----> 1\u001b[0m \u001b[43mdict_arr\u001b[49m\u001b[38;5;241;43m.\u001b[39;49m\u001b[43mkey\u001b[49m(llave)\n",
      "\u001b[1;31mAttributeError\u001b[0m: 'dict' object has no attribute 'key'"
     ]
    }
   ],
   "source": [
    "dict_arr.key(llave)"
   ]
  },
  {
   "cell_type": "code",
   "execution_count": null,
   "id": "81b46286",
   "metadata": {},
   "outputs": [],
   "source": [
    "\n",
    "for list in arr:\n",
    "    [1, 6, 2, 10]\n",
    "    for element in list:\n",
    "        if list(indx[0]) == list(element(indx[0])) and list(indx[1]) == list(element(indx[1]))\n",
    "\n",
    "        for lista in arr:\n",
    "    dict [(lista(indx[0]), lista(indx[1]))] = [(lista(indx[0]),lista(indx[1]))]"
   ]
  },
  {
   "cell_type": "code",
   "execution_count": 79,
   "id": "9fb8cf80",
   "metadata": {},
   "outputs": [
    {
     "data": {
      "text/html": [
       "<div>\n",
       "<style scoped>\n",
       "    .dataframe tbody tr th:only-of-type {\n",
       "        vertical-align: middle;\n",
       "    }\n",
       "\n",
       "    .dataframe tbody tr th {\n",
       "        vertical-align: top;\n",
       "    }\n",
       "\n",
       "    .dataframe thead th {\n",
       "        text-align: right;\n",
       "    }\n",
       "</style>\n",
       "<table border=\"1\" class=\"dataframe\">\n",
       "  <thead>\n",
       "    <tr style=\"text-align: right;\">\n",
       "      <th></th>\n",
       "      <th>0</th>\n",
       "      <th>1</th>\n",
       "      <th>2</th>\n",
       "      <th>3</th>\n",
       "    </tr>\n",
       "  </thead>\n",
       "  <tbody>\n",
       "    <tr>\n",
       "      <th>0</th>\n",
       "      <td>1</td>\n",
       "      <td>6</td>\n",
       "      <td>2</td>\n",
       "      <td>10</td>\n",
       "    </tr>\n",
       "    <tr>\n",
       "      <th>1</th>\n",
       "      <td>8</td>\n",
       "      <td>9</td>\n",
       "      <td>4</td>\n",
       "      <td>11</td>\n",
       "    </tr>\n",
       "    <tr>\n",
       "      <th>2</th>\n",
       "      <td>9</td>\n",
       "      <td>8</td>\n",
       "      <td>7</td>\n",
       "      <td>12</td>\n",
       "    </tr>\n",
       "    <tr>\n",
       "      <th>3</th>\n",
       "      <td>1</td>\n",
       "      <td>6</td>\n",
       "      <td>3</td>\n",
       "      <td>20</td>\n",
       "    </tr>\n",
       "  </tbody>\n",
       "</table>\n",
       "</div>"
      ],
      "text/plain": [
       "   0  1  2   3\n",
       "0  1  6  2  10\n",
       "1  8  9  4  11\n",
       "2  9  8  7  12\n",
       "3  1  6  3  20"
      ]
     },
     "execution_count": 79,
     "metadata": {},
     "output_type": "execute_result"
    }
   ],
   "source": [
    "import pandas as pd\n",
    "indx = [0,1]\n",
    "\n",
    "arr = [\n",
    "  [1, 6, 2, 10],\n",
    "  [8, 9, 4, 11],\n",
    "  [9, 8, 7, 12],\n",
    "  [1, 6, 3, 20],\n",
    "]\n",
    "\n",
    "matrix = pd.DataFrame(arr)\n",
    "matrix.head()\n",
    "a = matrix.rename_axis(axis=1)\n",
    "\n",
    "(1,6)  (8,9)\n",
    "\n",
    " 2       4\n",
    " 10      11"
   ]
  },
  {
   "cell_type": "markdown",
   "id": "5e5948ae-bfb0-4aa7-8cc0-83970accb44a",
   "metadata": {},
   "source": [
    "## Copy your submited solution here:"
   ]
  },
  {
   "cell_type": "code",
   "execution_count": null,
   "id": "de8f88a1-897b-4b92-8c9f-e04d16cec21a",
   "metadata": {},
   "outputs": [],
   "source": []
  }
 ],
 "metadata": {
  "kernelspec": {
   "display_name": "Python 3 (ipykernel)",
   "language": "python",
   "name": "python3"
  },
  "language_info": {
   "codemirror_mode": {
    "name": "ipython",
    "version": 3
   },
   "file_extension": ".py",
   "mimetype": "text/x-python",
   "name": "python",
   "nbconvert_exporter": "python",
   "pygments_lexer": "ipython3",
   "version": "3.10.13"
  }
 },
 "nbformat": 4,
 "nbformat_minor": 5
}
