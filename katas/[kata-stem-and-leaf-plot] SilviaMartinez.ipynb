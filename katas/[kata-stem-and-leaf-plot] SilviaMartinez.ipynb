{
 "cells": [
  {
   "cell_type": "markdown",
   "id": "a447b8b5-f16b-451f-b45c-47746f721e1e",
   "metadata": {},
   "source": [
    "# Kata:"
   ]
  },
  {
   "cell_type": "markdown",
   "id": "c7379b61-1f04-4fa2-8865-bf3e2c83b39e",
   "metadata": {},
   "source": [
    "https://www.codewars.com/kata/5cc80fbe701f0d001136e5eb/train/python"
   ]
  },
  {
   "cell_type": "markdown",
   "id": "5e2a4659-1d95-44fb-b92c-4646b4da4e6f",
   "metadata": {},
   "source": [
    "## Your name or team members:"
   ]
  },
  {
   "cell_type": "code",
   "execution_count": null,
   "id": "29ead553-d8b4-41aa-937f-7fd045595855",
   "metadata": {},
   "outputs": [],
   "source": [
    "Silvia Martínez Valero"
   ]
  },
  {
   "cell_type": "markdown",
   "id": "f04997cc-966d-4e06-8eb0-64ab376728f8",
   "metadata": {},
   "source": [
    "## Use the following cells to test your solution:"
   ]
  },
  {
   "cell_type": "code",
   "execution_count": 5,
   "id": "4202edc5-f719-4068-96bd-55703a8a6c27",
   "metadata": {},
   "outputs": [
    {
     "data": {
      "text/plain": [
       "{'1': '', '3': '', '9': '', '2': ''}"
      ]
     },
     "execution_count": 5,
     "metadata": {},
     "output_type": "execute_result"
    }
   ],
   "source": [
    "def stem_and_leaf(l):\n",
    "    solution = {}\n",
    "    for i in l:\n",
    "        solution[str(i)[0]] = str(i)[2:]\n",
    "    return solution\n",
    "\n",
    "stem_and_leaf([11, 35, 14, 9, 39, 23, 35])"
   ]
  },
  {
   "cell_type": "code",
   "execution_count": 36,
   "id": "07755a38",
   "metadata": {},
   "outputs": [
    {
     "data": {
      "text/plain": [
       "{0: [9], 1: [1, 4], 2: [3], 3: [5, 5, 9]}"
      ]
     },
     "execution_count": 36,
     "metadata": {},
     "output_type": "execute_result"
    }
   ],
   "source": [
    "def stem_and_leaf(l):\n",
    "    solution = {}\n",
    "    for i in l:\n",
    "        if isinstance(i, (int)):\n",
    "            i_str = str(i) #Como int no es suscriptable, lo convierto a string primero.\n",
    "            if len(i_str) == 1: #Si el número sólo tiene un dígito su stem es 0.\n",
    "                stem = 0\n",
    "                leaf = int(i_str) \n",
    "            else: #Para los demás casos, el stem es el primer número y el leaf son los demás, convertidos a int de nuevo.\n",
    "                stem = int(i_str[0]) \n",
    "                leaf = int(i_str[1:])\n",
    "            solution[stem] = solution.get(stem, []) + [leaf] \n",
    "            \n",
    "    for key in solution:\n",
    "        solution[key].sort()\n",
    "        \n",
    "    sorted_solution = dict(sorted(solution.items()))\n",
    "    return sorted_solution\n",
    "\n",
    "stem_and_leaf([11, 35, 14, 9, 39, 23, 35])"
   ]
  },
  {
   "cell_type": "code",
   "execution_count": 26,
   "id": "2066a692",
   "metadata": {},
   "outputs": [
    {
     "data": {
      "text/plain": [
       "{1: [4], 3: [5], 0: [9], 2: [3]}"
      ]
     },
     "execution_count": 26,
     "metadata": {},
     "output_type": "execute_result"
    }
   ],
   "source": [
    "def stem_and_leaf(l):\n",
    "    solution = {}\n",
    "    for i in l:\n",
    "        if isinstance(i, (int)):\n",
    "            i_str = str(i) #Como int no es suscriptable, lo convierto a string primero.\n",
    "            if len(i_str) == 1: #Si el número sólo tiene un dígito su stem es 0.\n",
    "                stem = 0\n",
    "                leaf = int(i_str) \n",
    "            else: #Para los demás casos, el stem es el primer número y el leaf son los demás, convertidos a int de nuevo.\n",
    "                stem = int(i_str[0]) \n",
    "                leaf = int(i_str[1:])\n",
    "            solution[stem] = [leaf]\n",
    "    return solution\n",
    "stem_and_leaf([11, 35, 14, 9, 39, 23, 35])"
   ]
  },
  {
   "cell_type": "markdown",
   "id": "5e5948ae-bfb0-4aa7-8cc0-83970accb44a",
   "metadata": {},
   "source": [
    "## Copy your submited solution here:"
   ]
  },
  {
   "cell_type": "code",
   "execution_count": null,
   "id": "e5373f14",
   "metadata": {},
   "outputs": [],
   "source": [
    "def stem_and_leaf(l):\n",
    "    solution = {}\n",
    "    for i in l:\n",
    "        if isinstance(i, (int)):\n",
    "            i_str = str(i) #Como int no es suscriptable, lo convierto a string primero.\n",
    "            if len(i_str) == 1: #Si el número sólo tiene un dígito su stem es 0.\n",
    "                stem = 0\n",
    "                leaf = int(i_str) \n",
    "            else: #Para los demás casos, el stem es el primer número y el leaf son los demás, convertidos a int de nuevo.\n",
    "                stem = int(i_str[0]) \n",
    "                leaf = int(i_str[1:])\n",
    "            solution[stem] = solution.get(stem, []) + [leaf] \n",
    "            \n",
    "    for key in solution:\n",
    "        solution[key].sort()\n",
    "        \n",
    "    sorted_solution = dict(sorted(solution.items()))\n",
    "    return sorted_solution"
   ]
  }
 ],
 "metadata": {
  "kernelspec": {
   "display_name": "Python 3 (ipykernel)",
   "language": "python",
   "name": "python3"
  },
  "language_info": {
   "codemirror_mode": {
    "name": "ipython",
    "version": 3
   },
   "file_extension": ".py",
   "mimetype": "text/x-python",
   "name": "python",
   "nbconvert_exporter": "python",
   "pygments_lexer": "ipython3",
   "version": "3.10.13"
  }
 },
 "nbformat": 4,
 "nbformat_minor": 5
}
