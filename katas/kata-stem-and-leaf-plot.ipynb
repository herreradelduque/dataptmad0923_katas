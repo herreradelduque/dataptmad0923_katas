{
 "cells": [
  {
   "cell_type": "markdown",
   "id": "a447b8b5-f16b-451f-b45c-47746f721e1e",
   "metadata": {},
   "source": [
    "# Kata:"
   ]
  },
  {
   "cell_type": "markdown",
   "id": "c7379b61-1f04-4fa2-8865-bf3e2c83b39e",
   "metadata": {},
   "source": [
    "https://www.codewars.com/kata/5cc80fbe701f0d001136e5eb/train/python"
   ]
  },
  {
   "cell_type": "markdown",
   "id": "5e2a4659-1d95-44fb-b92c-4646b4da4e6f",
   "metadata": {},
   "source": [
    "## Your name or team members:"
   ]
  },
  {
   "cell_type": "code",
   "execution_count": null,
   "id": "29ead553-d8b4-41aa-937f-7fd045595855",
   "metadata": {},
   "outputs": [],
   "source": [
    "#Alberto"
   ]
  },
  {
   "cell_type": "markdown",
   "id": "f04997cc-966d-4e06-8eb0-64ab376728f8",
   "metadata": {},
   "source": [
    "## Use the following cells to test your solution:"
   ]
  },
  {
   "cell_type": "code",
   "execution_count": 32,
   "id": "4202edc5-f719-4068-96bd-55703a8a6c27",
   "metadata": {},
   "outputs": [],
   "source": [
    "data = [11, 35, 14, 9, 39, 23, 35]"
   ]
  },
  {
   "cell_type": "code",
   "execution_count": 34,
   "id": "1c1f6098-25a1-4805-a249-b833ca4a66a0",
   "metadata": {},
   "outputs": [
    {
     "name": "stdout",
     "output_type": "stream",
     "text": [
      "1\n",
      "3\n",
      "1\n",
      "0\n",
      "3\n",
      "2\n",
      "3\n"
     ]
    }
   ],
   "source": [
    "\n",
    "plot = {}\n",
    "\n",
    "for num in data:\n",
    "    stem = num // 10\n",
    "    print(stem)\n",
    "    leaf = num % 10\n",
    "\n",
    "    # If the stem is not in the plot, add it with an empty list\n",
    "    if stem not in plot:\n",
    "        plot[stem] = []\n",
    "\n",
    "    # Append the leaf to the corresponding stem\n",
    "    plot[stem].append(leaf)\n",
    "\n",
    "for key in plot:\n",
    "    plot[key].sort()\n",
    "    "
   ]
  },
  {
   "cell_type": "code",
   "execution_count": 31,
   "id": "ddb43f1a",
   "metadata": {},
   "outputs": [
    {
     "name": "stdout",
     "output_type": "stream",
     "text": [
      "stem: 7\n",
      "leaf: 1\n",
      "plot: {0: []}\n",
      "\n",
      "stem: 1\n",
      "leaf: 5\n",
      "plot: {0: [], 5: []}\n",
      "\n",
      "stem: 5\n",
      "leaf: 3\n",
      "plot: {0: [], 5: [], 2: []}\n",
      "\n",
      "stem: 3\n",
      "leaf: 5\n",
      "stem: 5\n",
      "leaf: 6\n",
      "plot: {0: [], 5: [], 2: [], 6: []}\n",
      "\n",
      "stem: 6\n",
      "leaf: 7\n",
      "plot: {0: [], 5: [], 2: [], 6: [], 7: []}\n",
      "\n"
     ]
    }
   ],
   "source": [
    "\n",
    "data = [1,55,23,55,66,77]\n",
    "\n",
    "plot = {}\n",
    "\n",
    "for num in data:\n",
    "    # Extract the stem and leaf\n",
    "    stem = num // 10\n",
    "    print(f'stem: {leaf}')\n",
    "    leaf = num % 10\n",
    "    print(f'leaf: {leaf}')\n",
    "    \n",
    "    if stem not in plot:\n",
    "        plot[stem] = []\n",
    "        print(f'plot: {plot}\\n')"
   ]
  },
  {
   "cell_type": "markdown",
   "id": "5e5948ae-bfb0-4aa7-8cc0-83970accb44a",
   "metadata": {},
   "source": [
    "## Copy your submited solution here:"
   ]
  },
  {
   "cell_type": "code",
   "execution_count": null,
   "id": "de8f88a1-897b-4b92-8c9f-e04d16cec21a",
   "metadata": {},
   "outputs": [],
   "source": []
  }
 ],
 "metadata": {
  "kernelspec": {
   "display_name": "Python 3 (ipykernel)",
   "language": "python",
   "name": "python3"
  },
  "language_info": {
   "codemirror_mode": {
    "name": "ipython",
    "version": 3
   },
   "file_extension": ".py",
   "mimetype": "text/x-python",
   "name": "python",
   "nbconvert_exporter": "python",
   "pygments_lexer": "ipython3",
   "version": "3.10.13"
  }
 },
 "nbformat": 4,
 "nbformat_minor": 5
}
