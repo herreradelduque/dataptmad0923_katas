{
 "cells": [
  {
   "cell_type": "markdown",
   "id": "a447b8b5-f16b-451f-b45c-47746f721e1e",
   "metadata": {},
   "source": [
    "# Kata:"
   ]
  },
  {
   "cell_type": "markdown",
   "id": "c7379b61-1f04-4fa2-8865-bf3e2c83b39e",
   "metadata": {},
   "source": [
    "https://www.codewars.com/kata/5ed056c9263d2f001738b791/train/python"
   ]
  },
  {
   "cell_type": "markdown",
   "id": "5e2a4659-1d95-44fb-b92c-4646b4da4e6f",
   "metadata": {},
   "source": [
    "## Your name or team members:"
   ]
  },
  {
   "cell_type": "code",
   "execution_count": 85,
   "id": "29ead553-d8b4-41aa-937f-7fd045595855",
   "metadata": {},
   "outputs": [
    {
     "ename": "SyntaxError",
     "evalue": "invalid syntax (2218168837.py, line 1)",
     "output_type": "error",
     "traceback": [
      "\u001b[0;36m  Input \u001b[0;32mIn [85]\u001b[0;36m\u001b[0m\n\u001b[0;31m    Rodrigo Coloma\u001b[0m\n\u001b[0m            ^\u001b[0m\n\u001b[0;31mSyntaxError\u001b[0m\u001b[0;31m:\u001b[0m invalid syntax\n"
     ]
    }
   ],
   "source": [
    "Rodrigo Coloma\n",
    "Silvia Martínez Valero"
   ]
  },
  {
   "cell_type": "markdown",
   "id": "f04997cc-966d-4e06-8eb0-64ab376728f8",
   "metadata": {},
   "source": [
    "## Use the following cells to test your solution:"
   ]
  },
  {
   "cell_type": "code",
   "execution_count": 42,
   "id": "4202edc5-f719-4068-96bd-55703a8a6c27",
   "metadata": {},
   "outputs": [
    {
     "ename": "TypeError",
     "evalue": "unsupported operand type(s) for +: 'int' and 'list'",
     "output_type": "error",
     "traceback": [
      "\u001b[0;31m---------------------------------------------------------------------------\u001b[0m",
      "\u001b[0;31mTypeError\u001b[0m                                 Traceback (most recent call last)",
      "Input \u001b[0;32mIn [42]\u001b[0m, in \u001b[0;36m<cell line: 23>\u001b[0;34m()\u001b[0m\n\u001b[1;32m     10\u001b[0m         \u001b[38;5;28;01mreturn\u001b[39;00m solution\n\u001b[1;32m     13\u001b[0m     \u001b[38;5;124;03m\"\"\"\u001b[39;00m\n\u001b[1;32m     14\u001b[0m \u001b[38;5;124;03m    for i in arr:\u001b[39;00m\n\u001b[1;32m     15\u001b[0m \u001b[38;5;124;03m        for a in indexes:\u001b[39;00m\n\u001b[0;32m   (...)\u001b[0m\n\u001b[1;32m     19\u001b[0m \u001b[38;5;124;03m    return solution\u001b[39;00m\n\u001b[1;32m     20\u001b[0m \u001b[38;5;124;03m    \"\"\"\u001b[39;00m\n\u001b[0;32m---> 23\u001b[0m \u001b[43mgroup\u001b[49m\u001b[43m(\u001b[49m\u001b[43m[\u001b[49m\u001b[43m[\u001b[49m\u001b[38;5;241;43m1\u001b[39;49m\u001b[43m,\u001b[49m\u001b[38;5;241;43m2\u001b[39;49m\u001b[43m,\u001b[49m\u001b[38;5;241;43m3\u001b[39;49m\u001b[43m]\u001b[49m\u001b[43m,\u001b[49m\u001b[43m[\u001b[49m\u001b[38;5;241;43m1\u001b[39;49m\u001b[43m,\u001b[49m\u001b[38;5;241;43m5\u001b[39;49m\u001b[43m,\u001b[49m\u001b[38;5;241;43m6\u001b[39;49m\u001b[43m]\u001b[49m\u001b[43m,\u001b[49m\u001b[43m[\u001b[49m\u001b[38;5;241;43m1\u001b[39;49m\u001b[43m,\u001b[49m\u001b[38;5;241;43m8\u001b[39;49m\u001b[43m,\u001b[49m\u001b[38;5;241;43m9\u001b[39;49m\u001b[43m]\u001b[49m\u001b[43m]\u001b[49m\u001b[43m,\u001b[49m\u001b[43m[\u001b[49m\u001b[38;5;241;43m0\u001b[39;49m\u001b[43m]\u001b[49m\u001b[43m)\u001b[49m\n",
      "Input \u001b[0;32mIn [42]\u001b[0m, in \u001b[0;36mgroup\u001b[0;34m(arr, idx)\u001b[0m\n\u001b[1;32m      7\u001b[0m     \u001b[38;5;28;01mfor\u001b[39;00m a \u001b[38;5;129;01min\u001b[39;00m idx:\n\u001b[1;32m      8\u001b[0m         sums \u001b[38;5;241m=\u001b[39m[arr[i[a]]]\n\u001b[0;32m----> 9\u001b[0m         solution[t]\u001b[38;5;241m=\u001b[39m\u001b[38;5;28;43msum\u001b[39;49m\u001b[43m(\u001b[49m\u001b[43msums\u001b[49m\u001b[43m)\u001b[49m\n\u001b[1;32m     10\u001b[0m     \u001b[38;5;28;01mreturn\u001b[39;00m solution\n\u001b[1;32m     13\u001b[0m \u001b[38;5;124;03m\"\"\"\u001b[39;00m\n\u001b[1;32m     14\u001b[0m \u001b[38;5;124;03mfor i in arr:\u001b[39;00m\n\u001b[1;32m     15\u001b[0m \u001b[38;5;124;03m    for a in indexes:\u001b[39;00m\n\u001b[0;32m   (...)\u001b[0m\n\u001b[1;32m     19\u001b[0m \u001b[38;5;124;03mreturn solution\u001b[39;00m\n\u001b[1;32m     20\u001b[0m \u001b[38;5;124;03m\"\"\"\u001b[39;00m\n",
      "\u001b[0;31mTypeError\u001b[0m: unsupported operand type(s) for +: 'int' and 'list'"
     ]
    }
   ],
   "source": [
    "def group(arr, idx):\n",
    "    solution = {}\n",
    "    sums = []\n",
    "    indexes = (2,3)\n",
    "    t = tuple(arr[0][i] for i in idx)\n",
    "    for i in arr:\n",
    "        for a in idx:\n",
    "            sums.append[arr[i[a]]]\n",
    "            solution[t]=sum(sums)\n",
    "        return solution\n",
    "    \n",
    "    \n",
    "    \"\"\"\n",
    "    for i in arr:\n",
    "        for a in indexes:\n",
    "            sums.append(arr[0][1])\n",
    "            sums.append(arr[0][2])\n",
    "            solution[t] = sum(sums)\n",
    "    return solution\n",
    "    \"\"\"\n",
    "    \n",
    "    \n",
    "group([[1,2,3],[1,5,6],[1,8,9]],[0])"
   ]
  },
  {
   "cell_type": "code",
   "execution_count": 75,
   "id": "1c1f6098-25a1-4805-a249-b833ca4a66a0",
   "metadata": {},
   "outputs": [
    {
     "name": "stdout",
     "output_type": "stream",
     "text": [
      "[1]\n"
     ]
    },
    {
     "data": {
      "text/plain": [
       "{(1, 1): [6]}"
      ]
     },
     "execution_count": 75,
     "metadata": {},
     "output_type": "execute_result"
    }
   ],
   "source": [
    "def group(arr, idx):\n",
    "    res = {}\n",
    "    sums = []\n",
    "    t = tuple(arr[0][i] for i in idx)\n",
    "    r = [i for i in range(1, len(arr[0])-1) if arr[0][i] not in idx]\n",
    "    print(r)\n",
    "    for i in r:\n",
    "        sums.append(sum(l[i] for l in arr if l[0] in t))\n",
    "    res[t] = sums\n",
    "    return res\n",
    "group([[1,1,1],[1,2,1],[1,3,1]],[0,2])"
   ]
  },
  {
   "cell_type": "code",
   "execution_count": 77,
   "id": "c5c95709",
   "metadata": {},
   "outputs": [
    {
     "name": "stdout",
     "output_type": "stream",
     "text": [
      "<class 'pandas.core.series.Series'>\n",
      "0  2\n",
      "1  1    6\n",
      "Name: 1, dtype: int64\n"
     ]
    },
    {
     "data": {
      "text/plain": [
       "{(1, 1, 1): [6]}"
      ]
     },
     "execution_count": 77,
     "metadata": {},
     "output_type": "execute_result"
    }
   ],
   "source": [
    "import pandas as pd\n",
    "def group(arr,idx):\n",
    "    arr = pd.DataFrame(arr)\n",
    "    res = {}\n",
    "    r = [i for i in range(len(arr.columns)) if i not in idx]\n",
    "    for x in r:\n",
    "        grouped = arr.groupby(idx)[x].sum()\n",
    "        print(type(grouped))\n",
    "        print(grouped)\n",
    "        result_tuple = tuple(zip(*map(arr.get, arr)))[0]\n",
    "        #result_tuple = tuple(grouped[x].iloc[0] for algo en algo)\n",
    "        result_list = [grouped[x].iloc[0]]\n",
    "        res[result_tuple] = result_list\n",
    "    return res\n",
    "    \n",
    "group([[1,1,1],[1,2,1],[1,3,1]],[0,2])"
   ]
  },
  {
   "cell_type": "code",
   "execution_count": 84,
   "id": "b5803f9e",
   "metadata": {},
   "outputs": [
    {
     "data": {
      "text/plain": [
       "{(1,): [15, 18]}"
      ]
     },
     "execution_count": 84,
     "metadata": {},
     "output_type": "execute_result"
    }
   ],
   "source": [
    "import pandas as pd\n",
    "\n",
    "def group(arr, idx):\n",
    "    arr = pd.DataFrame(arr)\n",
    "    res = {}\n",
    "    sums = []\n",
    "    df = arr.groupby(idx).sum()\n",
    "    index = list(df.index)\n",
    "    if len(idx) == 1:\n",
    "        index = [(x,) for x in index]\n",
    "    for i in index:\n",
    "        res[i] = [df.loc[i,col] for col in df.columns]\n",
    "    return res\n",
    "\n",
    "group([[1,1,1],[1,2,1],[1,3,1]],[0,2])\n",
    "group([[1,2,3],[1,5,6],[1,8,9]], [0])"
   ]
  },
  {
   "cell_type": "markdown",
   "id": "5e5948ae-bfb0-4aa7-8cc0-83970accb44a",
   "metadata": {},
   "source": [
    "## Copy your submited solution here:"
   ]
  },
  {
   "cell_type": "code",
   "execution_count": null,
   "id": "130d52ef",
   "metadata": {},
   "outputs": [],
   "source": [
    "#Solución con pandas:\n",
    "\n",
    "import pandas as pd\n",
    "\n",
    "def group(arr, idx):\n",
    "    arr = pd.DataFrame(arr) #Convertimos el array en un objeto de pandas.\n",
    "    res = {} # Vamos a guardar nuestro resultado en un diccionario.\n",
    "    sums = [] # Vamos a guardar la segunda parte del resultado como una lista que luego sumaremos.\n",
    "    df = arr.groupby(idx).sum() #Agrupamos por index y sumamos\n",
    "    index = list(df.index) #Creamos una lista con el index del dataframe.\n",
    "    if len(idx) == 1: # Si length del input idx es == 1:\n",
    "        index = [(x,) for x in index] #Index va a ser una tupla para cada elemento\n",
    "    for i in index: #Para cada elemento de la variable index que hemos creado:\n",
    "        res[i] = [df.loc[i,col] for col in df.columns] #Añadimos al diccionario una key que es el elemento de index y un value que es el index de columna para cada columna del dataframe\n",
    "    return res"
   ]
  }
 ],
 "metadata": {
  "kernelspec": {
   "display_name": "Python 3 (ipykernel)",
   "language": "python",
   "name": "python3"
  },
  "language_info": {
   "codemirror_mode": {
    "name": "ipython",
    "version": 3
   },
   "file_extension": ".py",
   "mimetype": "text/x-python",
   "name": "python",
   "nbconvert_exporter": "python",
   "pygments_lexer": "ipython3",
   "version": "3.10.13"
  }
 },
 "nbformat": 4,
 "nbformat_minor": 5
}
