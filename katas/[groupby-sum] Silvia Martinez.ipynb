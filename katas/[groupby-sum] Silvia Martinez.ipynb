{
 "cells": [
  {
   "cell_type": "markdown",
   "id": "a447b8b5-f16b-451f-b45c-47746f721e1e",
   "metadata": {},
   "source": [
    "# Kata:"
   ]
  },
  {
   "cell_type": "markdown",
   "id": "c7379b61-1f04-4fa2-8865-bf3e2c83b39e",
   "metadata": {},
   "source": [
    "https://www.codewars.com/kata/5ed056c9263d2f001738b791/train/python"
   ]
  },
  {
   "cell_type": "markdown",
   "id": "5e2a4659-1d95-44fb-b92c-4646b4da4e6f",
   "metadata": {},
   "source": [
    "## Your name or team members:"
   ]
  },
  {
   "cell_type": "code",
   "execution_count": 85,
   "id": "29ead553-d8b4-41aa-937f-7fd045595855",
   "metadata": {},
   "outputs": [
    {
     "ename": "SyntaxError",
     "evalue": "invalid syntax (2218168837.py, line 1)",
     "output_type": "error",
     "traceback": [
      "\u001b[0;36m  Input \u001b[0;32mIn [85]\u001b[0;36m\u001b[0m\n\u001b[0;31m    Rodrigo Coloma\u001b[0m\n\u001b[0m            ^\u001b[0m\n\u001b[0;31mSyntaxError\u001b[0m\u001b[0;31m:\u001b[0m invalid syntax\n"
     ]
    }
   ],
   "source": [
    "Rodrigo Coloma\n",
    "Silvia Martínez Valero"
   ]
  },
  {
   "cell_type": "markdown",
   "id": "f04997cc-966d-4e06-8eb0-64ab376728f8",
   "metadata": {},
   "source": [
    "## Use the following cells to test your solution:"
   ]
  },
  {
   "cell_type": "code",
   "execution_count": 84,
   "id": "b5803f9e",
   "metadata": {},
   "outputs": [
    {
     "data": {
      "text/plain": [
       "{(1,): [15, 18]}"
      ]
     },
     "execution_count": 84,
     "metadata": {},
     "output_type": "execute_result"
    }
   ],
   "source": [
    "#Intento de pandas\n",
    "import pandas as pd\n",
    "\n",
    "def group(arr, idx):\n",
    "    arr = pd.DataFrame(arr)\n",
    "    res = {}\n",
    "    sums = []\n",
    "    df = arr.groupby(idx).sum()\n",
    "    index = list(df.index)\n",
    "    if len(idx) == 1:\n",
    "        index = [(x,) for x in index]\n",
    "    for i in index:\n",
    "        res[i] = [df.loc[i,col] for col in df.columns]\n",
    "    return res\n",
    "\n",
    "group([[1,1,1],[1,2,1],[1,3,1]],[0,2])\n",
    "group([[1,2,3],[1,5,6],[1,8,9]], [0])"
   ]
  },
  {
   "cell_type": "code",
   "execution_count": null,
   "id": "22c37b62",
   "metadata": {},
   "outputs": [],
   "source": [
    "#Primer intento de solución con bucles. Sirve para los dos primeros ejemplos, pero no para el tercero.\n",
    "def group(arr, idx):\n",
    "    list_tuple = []\n",
    "    sum_list = []\n",
    "    for i in idx:\n",
    "        list_tuple.append(arr[0][i])\n",
    "    tup = tuple(list_tuple)\n",
    "    sum_indexes = [x for x in range(len(arr)) if x not in idx]\n",
    "    for z in sum_indexes:\n",
    "        for j in range(len(arr)):\n",
    "            sum_list.append(arr[j][z])\n",
    "    sum_list = [sum(sum_list[:(len(arr))]), sum(sum_list[(len(arr)):((len(arr))*2)])]\n",
    "    for s in sum_list:\n",
    "        if s == 0:\n",
    "            sum_list.remove(s)\n",
    "    solution = {tup:sum_list}\n",
    "    return solution"
   ]
  },
  {
   "cell_type": "markdown",
   "id": "5e5948ae-bfb0-4aa7-8cc0-83970accb44a",
   "metadata": {},
   "source": [
    "## Rodrigo y yo tenemos una solución con pandas y otra solución con bucles y list comprehension:"
   ]
  },
  {
   "cell_type": "code",
   "execution_count": null,
   "id": "130d52ef",
   "metadata": {},
   "outputs": [],
   "source": [
    "#Solución con pandas:\n",
    "\n",
    "import pandas as pd\n",
    "\n",
    "def group(arr, idx):\n",
    "    arr = pd.DataFrame(arr) #Convertimos el array en un objeto de pandas.\n",
    "    res = {} # Vamos a guardar nuestro resultado en un diccionario.\n",
    "    sums = [] # Vamos a guardar la segunda parte del resultado como una lista que luego sumaremos.\n",
    "    df = arr.groupby(idx).sum() #Agrupamos por index y sumamos\n",
    "    index = list(df.index) #Creamos una lista con el index del dataframe.\n",
    "    if len(idx) == 1: # Si length del input idx es == 1:\n",
    "        index = [(x,) for x in index] #Index va a ser una tupla para cada elemento\n",
    "    for i in index: #Para cada elemento de la variable index que hemos creado:\n",
    "        res[i] = [df.loc[i,col] for col in df.columns] #Añadimos al diccionario una key que es el elemento de index y un value que es el index de columna para cada columna del dataframe\n",
    "    return res"
   ]
  },
  {
   "cell_type": "code",
   "execution_count": 107,
   "id": "7ebc5937",
   "metadata": {},
   "outputs": [
    {
     "data": {
      "text/plain": [
       "{(4, 3): [65],\n",
       " (4, 5): [58],\n",
       " (6, 6): [32],\n",
       " (7, 7): [46],\n",
       " (5, 4): [38],\n",
       " (4, 7): [38],\n",
       " (4, 4): [53],\n",
       " (5, 6): [19],\n",
       " (3, 4): [63],\n",
       " (7, 3): [48],\n",
       " (6, 5): [35],\n",
       " (5, 5): [25],\n",
       " (7, 6): [43],\n",
       " (3, 6): [47],\n",
       " (3, 3): [26],\n",
       " (7, 5): [20],\n",
       " (3, 7): [30],\n",
       " (6, 7): [21],\n",
       " (4, 6): [30],\n",
       " (7, 4): [15],\n",
       " (5, 7): [6],\n",
       " (6, 3): [48],\n",
       " (3, 5): [13],\n",
       " (5, 3): [44],\n",
       " (6, 4): [18]}"
      ]
     },
     "execution_count": 107,
     "metadata": {},
     "output_type": "execute_result"
    }
   ],
   "source": [
    "#Solución con bucles y list comprehension\n",
    "def group(arr, idx):\n",
    "    solution = {} #El formato de solución es un diccionario.\n",
    "    sum_values = [i for i in range(len(arr[0])) if i not in idx] #Esta lista nos da los índices de los elementos de los subarrays que tienen que sumarse (es decir, los que no están en el input idx de la función)\n",
    "    for a in range(len(arr)): #Índices que hay en el input array.\n",
    "        tup = tuple(arr[a][i] for i in idx) #Para cada índice del array, se crea una tupla de el subarray en el índice indicado en idx\n",
    "        if tup not in solution.keys(): #Evita repetición de tuplas.\n",
    "            solution[tup] = [sum(arr[i][col] for i in range(len(arr)) if tuple(arr[i][j] for j in idx) == tup) for col in sum_values]#Lo hemos hecho con list comprehension porque desgranándolo en bucles conseguíamos los valores adecuados para el output, pero no el formato lista que tiene que tener la suma.\n",
    "    return solution\n",
    "group([[7, 4, 3], [3, 4, 5], [6, 6, 6], [7, 6, 6], [3, 7, 7], [7, 4, 5], [7, 5, 4], [5, 4, 7], [4, 4, 4], [6, 5, 6], [4, 3, 4], [7, 7, 3], [5, 6, 5], [3, 5, 4], [4, 4, 3], [7, 7, 3], [4, 4, 4], [5, 6, 5], [7, 4, 3], [7, 4, 5], [7, 5, 5], [6, 7, 6], [5, 4, 3], [4, 4, 7], [5, 4, 5], [4, 3, 6], [4, 7, 6], [7, 3, 4], [4, 4, 7], [6, 3, 3], [5, 4, 3], [3, 3, 3], [3, 6, 5], [3, 7, 5], [4, 7, 7], [4, 3, 7], [5, 4, 5], [3, 6, 7], [4, 4, 6], [6, 7, 7], [5, 5, 4], [7, 7, 5], [3, 3, 3], [6, 7, 4], [4, 5, 4], [7, 3, 4], [6, 5, 7], [7, 4, 6], [5, 7, 6], [4, 7, 3], [3, 5, 6], [3, 7, 6], [3, 3, 6], [5, 4, 7], [3, 6, 7], [4, 6, 3], [7, 4, 7], [4, 4, 4], [5, 7, 4], [3, 7, 7], [3, 4, 4], [4, 7, 6], [4, 7, 3], [4, 3, 5], [5, 3, 3], [7, 4, 4], [6, 7, 3], [3, 4, 4], [7, 4, 5], [7, 5, 5], [3, 3, 3], [6, 3, 4], [3, 6, 3], [6, 7, 3], [4, 7, 5], [4, 5, 4], [5, 6, 3], [4, 5, 3], [4, 5, 5], [5, 3, 5], [3, 4, 3], [6, 6, 3], [4, 4, 6], [6, 3, 4], [3, 7, 3], [4, 3, 4], [6, 7, 7], [5, 4, 3], [3, 6, 3], [6, 4, 5], [5, 6, 3], [6, 3, 7], [7, 5, 5], [5, 4, 3], [7, 6, 3], [5, 6, 3], [5, 4, 3], [3, 4, 4], [3, 3, 6], [4, 4, 7], [4, 4, 6], [7, 3, 7], [6, 4, 4], [3, 5, 3], [4, 6, 3], [4, 7, 4], [6, 5, 3], [5, 3, 4], [5, 7, 3], [5, 5, 4], [3, 3, 4], [6, 3, 3], [5, 4, 6], [4, 7, 6], [5, 3, 7], [6, 6, 4], [3, 6, 5], [7, 7, 7], [3, 6, 5], [5, 4, 5], [5, 7, 6], [4, 6, 6], [4, 4, 3], [3, 4, 7], [7, 5, 3], [6, 5, 3], [5, 6, 7], [3, 4, 5], [5, 4, 3], [5, 3, 6], [4, 5, 4], [3, 4, 7], [5, 7, 6], [3, 3, 7], [5, 3, 4], [6, 6, 5], [4, 5, 3], [3, 4, 3], [4, 3, 4], [3, 4, 3], [6, 6, 4], [3, 4, 6], [7, 3, 6], [4, 6, 5], [6, 6, 4], [6, 6, 6], [4, 4, 5], [4, 4, 3], [6, 7, 7], [6, 5, 4], [3, 3, 4], [6, 3, 4], [3, 4, 6], [3, 6, 3], [6, 7, 3], [7, 4, 4], [6, 5, 6], [3, 3, 4], [3, 6, 3], [6, 7, 5], [3, 6, 6], [6, 5, 3], [6, 6, 6], [4, 5, 6], [6, 4, 4], [4, 7, 7], [5, 3, 7], [4, 3, 5], [4, 7, 7], [3, 6, 7], [6, 4, 4], [3, 4, 7], [7, 6, 7], [7, 3, 6], [3, 5, 3], [7, 7, 6], [6, 3, 6], [6, 3, 6], [6, 3, 6], [6, 6, 5], [6, 4, 5], [5, 5, 3], [3, 7, 7]], [1, 2])"
   ]
  },
  {
   "cell_type": "code",
   "execution_count": null,
   "id": "c77b360e",
   "metadata": {},
   "outputs": [],
   "source": []
  }
 ],
 "metadata": {
  "kernelspec": {
   "display_name": "Python 3 (ipykernel)",
   "language": "python",
   "name": "python3"
  },
  "language_info": {
   "codemirror_mode": {
    "name": "ipython",
    "version": 3
   },
   "file_extension": ".py",
   "mimetype": "text/x-python",
   "name": "python",
   "nbconvert_exporter": "python",
   "pygments_lexer": "ipython3",
   "version": "3.10.13"
  }
 },
 "nbformat": 4,
 "nbformat_minor": 5
}
