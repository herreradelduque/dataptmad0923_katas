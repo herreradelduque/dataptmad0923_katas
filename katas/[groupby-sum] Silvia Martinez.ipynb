{
 "cells": [
  {
   "cell_type": "markdown",
   "id": "a447b8b5-f16b-451f-b45c-47746f721e1e",
   "metadata": {},
   "source": [
    "# Kata:"
   ]
  },
  {
   "cell_type": "markdown",
   "id": "c7379b61-1f04-4fa2-8865-bf3e2c83b39e",
   "metadata": {},
   "source": [
    "https://www.codewars.com/kata/5ed056c9263d2f001738b791/train/python"
   ]
  },
  {
   "cell_type": "markdown",
   "id": "5e2a4659-1d95-44fb-b92c-4646b4da4e6f",
   "metadata": {},
   "source": [
    "## Your name or team members:"
   ]
  },
  {
   "cell_type": "code",
   "execution_count": 85,
   "id": "29ead553-d8b4-41aa-937f-7fd045595855",
   "metadata": {},
   "outputs": [
    {
     "ename": "SyntaxError",
     "evalue": "invalid syntax (2218168837.py, line 1)",
     "output_type": "error",
     "traceback": [
      "\u001b[0;36m  Input \u001b[0;32mIn [85]\u001b[0;36m\u001b[0m\n\u001b[0;31m    Rodrigo Coloma\u001b[0m\n\u001b[0m            ^\u001b[0m\n\u001b[0;31mSyntaxError\u001b[0m\u001b[0;31m:\u001b[0m invalid syntax\n"
     ]
    }
   ],
   "source": [
    "Rodrigo Coloma\n",
    "Silvia Martínez Valero"
   ]
  },
  {
   "cell_type": "markdown",
   "id": "f04997cc-966d-4e06-8eb0-64ab376728f8",
   "metadata": {},
   "source": [
    "## Use the following cells to test your solution:"
   ]
  },
  {
   "cell_type": "code",
   "execution_count": 84,
   "id": "b5803f9e",
   "metadata": {},
   "outputs": [
    {
     "data": {
      "text/plain": [
       "{(1,): [15, 18]}"
      ]
     },
     "execution_count": 84,
     "metadata": {},
     "output_type": "execute_result"
    }
   ],
   "source": [
    "import pandas as pd\n",
    "\n",
    "def group(arr, idx):\n",
    "    arr = pd.DataFrame(arr)\n",
    "    res = {}\n",
    "    sums = []\n",
    "    df = arr.groupby(idx).sum()\n",
    "    index = list(df.index)\n",
    "    if len(idx) == 1:\n",
    "        index = [(x,) for x in index]\n",
    "    for i in index:\n",
    "        res[i] = [df.loc[i,col] for col in df.columns]\n",
    "    return res\n",
    "\n",
    "group([[1,1,1],[1,2,1],[1,3,1]],[0,2])\n",
    "group([[1,2,3],[1,5,6],[1,8,9]], [0])"
   ]
  },
  {
   "cell_type": "code",
   "execution_count": null,
   "id": "22c37b62",
   "metadata": {},
   "outputs": [],
   "source": [
    "#Primer intento de solución con bucles. Sirve para los dos primeros ejemplos, pero no para el tercero.\n",
    "def group(arr, idx):\n",
    "    list_tuple = []\n",
    "    sum_list = []\n",
    "    for i in idx:\n",
    "        list_tuple.append(arr[0][i])\n",
    "    tup = tuple(list_tuple)\n",
    "    sum_indexes = [x for x in range(len(arr)) if x not in idx]\n",
    "    for z in sum_indexes:\n",
    "        for j in range(len(arr)):\n",
    "            sum_list.append(arr[j][z])\n",
    "    sum_list = [sum(sum_list[:(len(arr))]), sum(sum_list[(len(arr)):((len(arr))*2)])]\n",
    "    for s in sum_list:\n",
    "        if s == 0:\n",
    "            sum_list.remove(s)\n",
    "    solution = {tup:sum_list}\n",
    "    return solution"
   ]
  },
  {
   "cell_type": "markdown",
   "id": "5e5948ae-bfb0-4aa7-8cc0-83970accb44a",
   "metadata": {},
   "source": [
    "## Copy your submited solution here:"
   ]
  },
  {
   "cell_type": "code",
   "execution_count": null,
   "id": "130d52ef",
   "metadata": {},
   "outputs": [],
   "source": [
    "#Solución con pandas:\n",
    "\n",
    "import pandas as pd\n",
    "\n",
    "def group(arr, idx):\n",
    "    arr = pd.DataFrame(arr) #Convertimos el array en un objeto de pandas.\n",
    "    res = {} # Vamos a guardar nuestro resultado en un diccionario.\n",
    "    sums = [] # Vamos a guardar la segunda parte del resultado como una lista que luego sumaremos.\n",
    "    df = arr.groupby(idx).sum() #Agrupamos por index y sumamos\n",
    "    index = list(df.index) #Creamos una lista con el index del dataframe.\n",
    "    if len(idx) == 1: # Si length del input idx es == 1:\n",
    "        index = [(x,) for x in index] #Index va a ser una tupla para cada elemento\n",
    "    for i in index: #Para cada elemento de la variable index que hemos creado:\n",
    "        res[i] = [df.loc[i,col] for col in df.columns] #Añadimos al diccionario una key que es el elemento de index y un value que es el index de columna para cada columna del dataframe\n",
    "    return res"
   ]
  },
  {
   "cell_type": "markdown",
   "id": "7d792022",
   "metadata": {},
   "source": [
    "He intentado resolverlo también con bucles. Este resultado lo entiendo mucho mejor (al haberlo trabajado sin la presión de clase) y resulta válido para los tres tests de codewars. "
   ]
  },
  {
   "cell_type": "code",
   "execution_count": 191,
   "id": "a2c76d4a",
   "metadata": {},
   "outputs": [
    {
     "name": "stdout",
     "output_type": "stream",
     "text": [
      "{(1,): [15, 18]}\n",
      "{(1, 1): [6]}\n",
      "{(1, 2, 3): [], (4, 5, 6): [], (6, 7, 8): []}\n"
     ]
    }
   ],
   "source": [
    "\"\"\"\n",
    "En uno de los test randoms de antes de hacer el submit\n",
    "da fallo, pero como no pone el ejemplo concreto de la prueba \n",
    "no sé dónde he fallado. Sigue siendo válido para los tres primeros \n",
    "casos.\n",
    "\n",
    "\"\"\"\n",
    "\n",
    "def group(arr, idx):\n",
    "    list_tuple = [] #Creo una lista donde voy a almacenar los valores que luego querré volver tuplas.\n",
    "    sum_list = [] #Creo una lista donde voy a almacenar los valores que luego tendré que sumar.\n",
    "    if len(arr[0]) != len(idx): #La condición que cumplen los dos primeros ejemplos.\n",
    "        for i in idx:\n",
    "            list_tuple.append(arr[0][i]) #Para cada índice, añado ese elemento de la primera sublista de array (el que marca las columnas)\n",
    "        tup = tuple(list_tuple) #Convierto en una tupla la lista en la que he guardado los elementos de la sublista a los que hace referencia el índice\n",
    "        sum_indexes = [x for x in range(len(arr)) if x not in idx] #Hago una lista de los índices en los que se almacenan los valores que tengo que sumar (los que no están en el índice)\n",
    "        for z in sum_indexes:\n",
    "            for j in range(len(arr)):\n",
    "                sum_list.append(arr[j][z]) #Añado a la lista de las sumas los valores correspondientes a los índices que no están en la tupla. \n",
    "        sum_list = [sum(sum_list[:(len(arr))]), sum(sum_list[(len(arr)):((len(arr))*2)])] #Sumo los valores separándolos por subarrays\n",
    "        for s in sum_list: #Elimino los resultados de la suma si son iguales a 0\n",
    "            if s == 0:\n",
    "                sum_list.remove(s)\n",
    "        solution = {tup:sum_list} #Creo el diccionario con el formato de solución especificado\n",
    "    else: #La condición que se da en el tercer ejemplo y que requiere un bucle a parte\n",
    "        l_t = []\n",
    "        for a in arr:\n",
    "            l_t.append(tuple(a,))\n",
    "        solution = dict.fromkeys(l_t, sum_list)\n",
    "    return solution\n",
    "\n",
    "print(group([[1,2,3],[1,5,6],[1,8,9]], [0])) #Correcto\n",
    "print(group([[1,1,1],[1,2,1],[1,3,1]],[0,2])) #Correcto\n",
    "print(group([[1,2,3],[4,5,6],[6,7,8]],[0,1,2])) #Correcto"
   ]
  },
  {
   "cell_type": "code",
   "execution_count": null,
   "id": "39abcae4",
   "metadata": {},
   "outputs": [],
   "source": []
  }
 ],
 "metadata": {
  "kernelspec": {
   "display_name": "Python 3 (ipykernel)",
   "language": "python",
   "name": "python3"
  },
  "language_info": {
   "codemirror_mode": {
    "name": "ipython",
    "version": 3
   },
   "file_extension": ".py",
   "mimetype": "text/x-python",
   "name": "python",
   "nbconvert_exporter": "python",
   "pygments_lexer": "ipython3",
   "version": "3.10.13"
  }
 },
 "nbformat": 4,
 "nbformat_minor": 5
}
