{
 "cells": [
  {
   "cell_type": "markdown",
   "id": "a447b8b5-f16b-451f-b45c-47746f721e1e",
   "metadata": {},
   "source": [
    "# Kata:"
   ]
  },
  {
   "cell_type": "markdown",
   "id": "c7379b61-1f04-4fa2-8865-bf3e2c83b39e",
   "metadata": {},
   "source": [
    "https://www.codewars.com/kata/5dac87a0abe9f1001f39e36d/train/sql"
   ]
  },
  {
   "cell_type": "markdown",
   "id": "5e2a4659-1d95-44fb-b92c-4646b4da4e6f",
   "metadata": {},
   "source": [
    "## Your name or team members:"
   ]
  },
  {
   "cell_type": "code",
   "execution_count": null,
   "id": "29ead553-d8b4-41aa-937f-7fd045595855",
   "metadata": {},
   "outputs": [],
   "source": [
    "Natalia Vargas"
   ]
  },
  {
   "cell_type": "markdown",
   "id": "f04997cc-966d-4e06-8eb0-64ab376728f8",
   "metadata": {},
   "source": [
    "## Use the following cells to test your solution:"
   ]
  },
  {
   "cell_type": "code",
   "execution_count": null,
   "id": "4202edc5-f719-4068-96bd-55703a8a6c27",
   "metadata": {},
   "outputs": [],
   "source": [
    "SELECT \n",
    "    sd.product_name,\n",
    "    YEAR(s.date) AS year,\n",
    "    MONTH(s.date) AS month,\n",
    "    DAY(s.date) AS day,\n",
    "    SUM(sd.total) AS revenue\n",
    "FROM \n",
    "    sales s\n",
    "JOIN \n",
    "    sales_details sd ON s.date = sd.date\n",
    "GROUP BY \n",
    "    sd.product_name,\n",
    "    YEAR(s.date),\n",
    "    MONTH(s.date),\n",
    "    DAY(s.date)\n",
    "ORDER BY \n",
    "    sd.product_name,\n",
    "    YEAR(s.date),\n",
    "    MONTH(s.date),\n",
    "    DAY(s.date);"
   ]
  },
  {
   "cell_type": "code",
   "execution_count": null,
   "id": "1c1f6098-25a1-4805-a249-b833ca4a66a0",
   "metadata": {},
   "outputs": [],
   "source": [
    "SELECT \n",
    "    sd.product_name,\n",
    "    YEAR(s.date) AS year,\n",
    "    MONTH(s.date) AS month,\n",
    "    DAY(s.date) AS day,\n",
    "    SUM(sd.total) AS revenue\n",
    "FROM \n",
    "    sales s\n",
    "JOIN \n",
    "    sales_details sd ON s.date = sd.date\n",
    "GROUP BY \n",
    "    sd.product_name,\n",
    "    YEAR(s.date),\n",
    "    MONTH(s.date),\n",
    "    DAY(s.date)\n",
    "ORDER BY \n",
    "    sd.product_name,\n",
    "    YEAR(s.date),\n",
    "    MONTH(s.date),\n",
    "    DAY(s.date);"
   ]
  },
  {
   "cell_type": "code",
   "execution_count": null,
   "id": "cf71e357",
   "metadata": {},
   "outputs": [],
   "source": [
    "SELECT \n",
    "    p.name AS product_name,\n",
    "    EXTRACT(YEAR FROM s.date) AS year,\n",
    "    EXTRACT(MONTH FROM s.date) AS month,\n",
    "    EXTRACT(DAY FROM s.date) AS day,\n",
    "    SUM(sd.count * p.price) AS total\n",
    "FROM \n",
    "    sales s\n",
    "JOIN \n",
    "    sales_details sd ON s.id = sd.sale_id\n",
    "JOIN \n",
    "    products p ON sd.product_id = p.id\n",
    "GROUP BY \n",
    "    ROLLUP(\n",
    "    EXTRACT(YEAR FROM s.date),\n",
    "    EXTRACT(MONTH FROM s.date),\n",
    "    EXTRACT(DAY FROM s.date)\n",
    "    );\n",
    "ORDER BY \n",
    "    p.name,\n",
    "    EXTRACT(YEAR FROM s.date),\n",
    "    EXTRACT(MONTH FROM s.date),\n",
    "    EXTRACT(DAY FROM s.date);\n",
    "    \n",
    "    \n",
    "    \n",
    "    \n",
    "    \n",
    "    \n",
    "    GROUP BY\n",
    "    ROLLUP (\n",
    "        EXTRACT (YEAR FROM rental_date),\n",
    "        EXTRACT (MONTH FROM rental_date),\n",
    "        EXTRACT (DAY FROM rental_date)\n",
    "    );"
   ]
  },
  {
   "cell_type": "code",
   "execution_count": null,
   "id": "41bc7061",
   "metadata": {},
   "outputs": [],
   "source": [
    "SELECT\n",
    "   products.name as product_name\n",
    "   EXTRACT (YEAR FROM sales.date)\n",
    "   EXTRACT\n",
    "   EXTRACT\n",
    "   SUM\n",
    "FROM sales_details;\n",
    "JOIN sales\n",
    "  ON sales.id = sales_details.sales_id\n",
    "JOIN products\n",
    "  ON products.id = sales_details.product_id\n",
    "    "
   ]
  },
  {
   "cell_type": "markdown",
   "id": "5e5948ae-bfb0-4aa7-8cc0-83970accb44a",
   "metadata": {},
   "source": [
    "## Copy your submited solution here:"
   ]
  },
  {
   "cell_type": "code",
   "execution_count": null,
   "id": "de8f88a1-897b-4b92-8c9f-e04d16cec21a",
   "metadata": {},
   "outputs": [],
   "source": [
    "SELECT\n",
    "  pr.name AS product_name,\n",
    "  CAST(DATE_PART('YEAR', sa.date) AS int) AS \"year\",\n",
    "  CAST(DATE_PART('MONTH', sa.date) AS int) AS \"month\",\n",
    "  CAST(DATE_PART('DAY', sa.date) AS int) AS \"day\",\n",
    "  SUM(sd.count * pr.price) AS total\n",
    "FROM sales_details AS sd\n",
    "\tINNER JOIN products AS pr ON sd.product_id = pr.id\n",
    "\tINNER JOIN sales AS sa ON sd.sale_id = sa.id\n",
    "GROUP BY pr.name, ROLLUP(year, month, day)\n",
    "  ORDER BY pr.name, year, month, day;\n",
    "  "
   ]
  }
 ],
 "metadata": {
  "kernelspec": {
   "display_name": "Python 3 (ipykernel)",
   "language": "python",
   "name": "python3"
  },
  "language_info": {
   "codemirror_mode": {
    "name": "ipython",
    "version": 3
   },
   "file_extension": ".py",
   "mimetype": "text/x-python",
   "name": "python",
   "nbconvert_exporter": "python",
   "pygments_lexer": "ipython3",
   "version": "3.11.5"
  }
 },
 "nbformat": 4,
 "nbformat_minor": 5
}
